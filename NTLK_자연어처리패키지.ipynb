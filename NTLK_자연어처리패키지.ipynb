{
  "nbformat": 4,
  "nbformat_minor": 0,
  "metadata": {
    "colab": {
      "provenance": [],
      "authorship_tag": "ABX9TyMgdbhk3RG1jINfdQAZwPAx",
      "include_colab_link": true
    },
    "kernelspec": {
      "name": "python3",
      "display_name": "Python 3"
    },
    "language_info": {
      "name": "python"
    }
  },
  "cells": [
    {
      "cell_type": "markdown",
      "metadata": {
        "id": "view-in-github",
        "colab_type": "text"
      },
      "source": [
        "<a href=\"https://colab.research.google.com/github/seon0415/weit/blob/main/NTLK_%EC%9E%90%EC%97%B0%EC%96%B4%EC%B2%98%EB%A6%AC%ED%8C%A8%ED%82%A4%EC%A7%80.ipynb\" target=\"_parent\"><img src=\"https://colab.research.google.com/assets/colab-badge.svg\" alt=\"Open In Colab\"/></a>"
      ]
    },
    {
      "cell_type": "markdown",
      "source": [
        "# **1. 말뭉치**"
      ],
      "metadata": {
        "id": "R_V6tyzMi21B"
      }
    },
    {
      "cell_type": "code",
      "source": [
        "import pandas as pd\n"
      ],
      "metadata": {
        "id": "02wJgYiB7raQ"
      },
      "execution_count": 4,
      "outputs": []
    },
    {
      "cell_type": "code",
      "execution_count": 61,
      "metadata": {
        "id": "YZnf2Kn9gOG9"
      },
      "outputs": [],
      "source": [
        "#말뭉치 다운\n",
        "import nltk\n",
        "nltk.download(\"book\", quiet=True)\n",
        "from nltk.book import *"
      ]
    },
    {
      "cell_type": "code",
      "source": [
        "#gutenberg 말뭉치에는 있는 샘플 작품들\n",
        "nltk.corpus.gutenberg.fileids()\n",
        "\n",
        "emma_raw = nltk.corpus.gutenberg.raw(\"austen-emma.txt\")\n",
        "print(emma_raw[:1302])"
      ],
      "metadata": {
        "colab": {
          "base_uri": "https://localhost:8080/"
        },
        "id": "-XvuBcJqnkEe",
        "outputId": "652bef8a-0639-4733-efc2-8c1a27c396d8"
      },
      "execution_count": 15,
      "outputs": [
        {
          "output_type": "stream",
          "name": "stdout",
          "text": [
            "[Emma by Jane Austen 1816]\n",
            "\n",
            "VOLUME I\n",
            "\n",
            "CHAPTER I\n",
            "\n",
            "\n",
            "Emma Woodhouse, handsome, clever, and rich, with a comfortable home\n",
            "and happy disposition, seemed to unite some of the best blessings\n",
            "of existence; and had lived nearly twenty-one years in the world\n",
            "with very little to distress or vex her.\n",
            "\n",
            "She was the youngest of the two daughters of a most affectionate,\n",
            "indulgent father; and had, in consequence of her sister's marriage,\n",
            "been mistress of his house from a very early period.  Her mother\n",
            "had died too long ago for her to have more than an indistinct\n",
            "remembrance of her caresses; and her place had been supplied\n",
            "by an excellent woman as governess, who had fallen little short\n",
            "of a mother in affection.\n",
            "\n",
            "Sixteen years had Miss Taylor been in Mr. Woodhouse's family,\n",
            "less as a governess than a friend, very fond of both daughters,\n",
            "but particularly of Emma.  Between _them_ it was more the intimacy\n",
            "of sisters.  Even before Miss Taylor had ceased to hold the nominal\n",
            "office of governess, the mildness of her temper had hardly allowed\n",
            "her to impose any restraint; and the shadow of authority being\n",
            "now long passed away, they had been living together as friend and\n",
            "friend very mutually attached, and Emma doing just what she liked;\n",
            "highly esteeming Miss Taylor's judgment, but directed chiefly by\n",
            "her own.\n",
            "\n"
          ]
        }
      ]
    },
    {
      "cell_type": "code",
      "source": [
        "seventeen=open('seventeen.txt', encoding='UTF-8').read()\n",
        "print(seventeen[:200])"
      ],
      "metadata": {
        "colab": {
          "base_uri": "https://localhost:8080/"
        },
        "id": "VPYLytfq8srU",
        "outputId": "ed4075d4-aefd-4479-e023-e2c5cbbb30d2"
      },
      "execution_count": 27,
      "outputs": [
        {
          "output_type": "stream",
          "name": "stdout",
          "text": [
            "파이팅 해야지\n",
            "파이팅\n",
            "아뿔싸 일어나야지 아침인데\n",
            "눈 감았다 뜨니 해가 중천인데\n",
            "아침밥은 Pass 10분 더 자야 돼 Oh\n",
            "Take-out coffee로 (아메 아메 아메 아메)\n",
            "Story 속에 (친구들은 다 왜)\n",
            "잘나 보여 (왜 나 나 나만 왜)\n",
            "또 또 또 또 왜 아등바등 또 왜\n",
            "이리저리 치여 왜 (I9 I9 I9 I9)\n",
            "우린 다 이어폰 꽂은 Zombie\n",
            "\n"
          ]
        }
      ]
    },
    {
      "cell_type": "markdown",
      "source": [
        "# **2. 토큰 생성**"
      ],
      "metadata": {
        "id": "EzNOz48IomtI"
      }
    },
    {
      "cell_type": "markdown",
      "source": [
        "- 토큰: 작은 문자열 단위\n",
        "- tokenizing: 문자열을 토큰으로 나누는 작업\n",
        "- sent_tokenize(), word_tokenize(), RegexpTokenizer(없앨거).tokenize(변수)"
      ],
      "metadata": {
        "id": "3ICtYdlXpajo"
      }
    },
    {
      "cell_type": "code",
      "source": [
        "from nltk.tokenize import sent_tokenize\n",
        "print(sent_tokenize(emma_raw[:1000])[3])"
      ],
      "metadata": {
        "colab": {
          "base_uri": "https://localhost:8080/"
        },
        "id": "96wyPS1tpP09",
        "outputId": "7ec1b90e-9936-4d3c-ca6d-67194dbccfc4"
      },
      "execution_count": 26,
      "outputs": [
        {
          "output_type": "stream",
          "name": "stdout",
          "text": [
            "Sixteen years had Miss Taylor been in Mr. Woodhouse's family,\n",
            "less as a governess than a friend, very fond of both daughters,\n",
            "but particularly of Emma.\n"
          ]
        }
      ]
    },
    {
      "cell_type": "code",
      "source": [
        "from nltk.tokenize import word_tokenize\n",
        "word_tokenize(emma_raw[50:100])"
      ],
      "metadata": {
        "colab": {
          "base_uri": "https://localhost:8080/"
        },
        "id": "8qLBkFq5pGpm",
        "outputId": "dd2a3b29-463b-44c7-e4df-ccc104614372"
      },
      "execution_count": 17,
      "outputs": [
        {
          "output_type": "execute_result",
          "data": {
            "text/plain": [
              "['Emma',\n",
              " 'Woodhouse',\n",
              " ',',\n",
              " 'handsome',\n",
              " ',',\n",
              " 'clever',\n",
              " ',',\n",
              " 'and',\n",
              " 'rich',\n",
              " ',',\n",
              " 'with',\n",
              " 'a']"
            ]
          },
          "metadata": {},
          "execution_count": 17
        }
      ]
    },
    {
      "cell_type": "code",
      "source": [
        "from nltk.tokenize import RegexpTokenizer\n",
        "retokenize = RegexpTokenizer(\"[\\w]+\")\n",
        "retokenize.tokenize(emma_raw[50:100])"
      ],
      "metadata": {
        "colab": {
          "base_uri": "https://localhost:8080/"
        },
        "id": "RY0XwsBk83Xi",
        "outputId": "b23d1e18-32c1-413e-d9b9-4bc7b040b32c"
      },
      "execution_count": 56,
      "outputs": [
        {
          "output_type": "execute_result",
          "data": {
            "text/plain": [
              "['Emma', 'Woodhouse', 'handsome', 'clever', 'and', 'rich', 'with', 'a']"
            ]
          },
          "metadata": {},
          "execution_count": 56
        }
      ]
    },
    {
      "cell_type": "markdown",
      "source": [
        "### **혼자연습**"
      ],
      "metadata": {
        "id": "CNn4KVeiGqHH"
      }
    },
    {
      "cell_type": "code",
      "source": [
        "seventeen[10:300]"
      ],
      "metadata": {
        "id": "jRnOMgJy9war"
      },
      "execution_count": null,
      "outputs": []
    },
    {
      "cell_type": "code",
      "source": [
        "sent_tokenize(seventeen[10:300])"
      ],
      "metadata": {
        "id": "AVWp-whP9nDc"
      },
      "execution_count": null,
      "outputs": []
    },
    {
      "cell_type": "code",
      "source": [
        "print('<0> \\n',sent_tokenize(emma_raw[:1000])[0] )\n",
        "print('<1> \\n',sent_tokenize(emma_raw[:1000])[1], '\\n')\n",
        "print('<2> \\n',sent_tokenize(emma_raw[:1000])[2], '\\n')\n",
        "print('<3> \\n',sent_tokenize(emma_raw[:1000])[3], '\\n')\n",
        "\n",
        "sent_tokenize(emma_raw[:1000])\n"
      ],
      "metadata": {
        "id": "lZpWzjN1-T-K"
      },
      "execution_count": null,
      "outputs": []
    },
    {
      "cell_type": "code",
      "source": [
        "sent_tokenize(emma_raw[:1000])[1]"
      ],
      "metadata": {
        "colab": {
          "base_uri": "https://localhost:8080/",
          "height": 54
        },
        "id": "bDA9swwq-3UC",
        "outputId": "243dffe9-494f-48ae-a250-d3c181783730"
      },
      "execution_count": 44,
      "outputs": [
        {
          "output_type": "execute_result",
          "data": {
            "text/plain": [
              "\"She was the youngest of the two daughters of a most affectionate,\\nindulgent father; and had, in consequence of her sister's marriage,\\nbeen mistress of his house from a very early period.\""
            ],
            "application/vnd.google.colaboratory.intrinsic+json": {
              "type": "string"
            }
          },
          "metadata": {},
          "execution_count": 44
        }
      ]
    },
    {
      "cell_type": "code",
      "source": [
        "sent_tokenize(seventeen[:300])"
      ],
      "metadata": {
        "colab": {
          "base_uri": "https://localhost:8080/"
        },
        "id": "_LND3JRO-Fhc",
        "outputId": "6b797b96-6975-4a94-a7a1-f989d0c35a40"
      },
      "execution_count": 55,
      "outputs": [
        {
          "output_type": "execute_result",
          "data": {
            "text/plain": [
              "[\"파이팅 해야지\\n파이팅\\n아뿔싸 일어나야지 아침인데\\n눈 감았다 뜨니 해가 중천인데\\n아침밥은 Pass 10분 더 자야 돼 Oh\\nTake-out coffee로 (아메 아메 아메 아메)\\nStory 속에 (친구들은 다 왜)\\n잘나 보여 (왜 나 나 나만 왜)\\n또 또 또 또 왜 아등바등 또 왜\\n이리저리 치여 왜 (I9 I9 I9 I9)\\n우린 다 이어폰 꽂은 Zombie\\n필요해 모두 다 텐션 Up pumpin'\\n힘을 좀 내어보자\\n우린 여러분의 부석순\\n반복되는 하루에\\n시작이 되는 이 노래\\n네 옆에서 불러주겠어\\n힘내야지 뭐 어쩌겠어\\n파이팅 해야지 파이\"]"
            ]
          },
          "metadata": {},
          "execution_count": 55
        }
      ]
    },
    {
      "cell_type": "code",
      "source": [
        "word_tokenize(seventeen[10:30])"
      ],
      "metadata": {
        "colab": {
          "base_uri": "https://localhost:8080/"
        },
        "id": "OVUCeyRt9cTc",
        "outputId": "458bb7f4-5d5a-481c-8e55-f59adba150ac"
      },
      "execution_count": 28,
      "outputs": [
        {
          "output_type": "execute_result",
          "data": {
            "text/plain": [
              "['팅', '아뿔싸', '일어나야지', '아침인데', '눈', '감']"
            ]
          },
          "metadata": {},
          "execution_count": 28
        }
      ]
    },
    {
      "cell_type": "markdown",
      "source": [
        "# **3. 형태소분석**"
      ],
      "metadata": {
        "id": "gvVJXZuhotNy"
      }
    },
    {
      "cell_type": "markdown",
      "source": [
        "어간 추출(stemming) : 변화된 단어의 접미사나 어미를 제거하여 같은 의미를 가지는 형태소의 기본형을 찾는 방법\n",
        "\n",
        "원형 복원(lemmatizing) : 같은 의미를 가지는 여러 단어를 사전형으로 통일\n",
        "\n",
        "품사 부착(Part-Of-Speech tagging)"
      ],
      "metadata": {
        "id": "0SGyNDvz-dbq"
      }
    },
    {
      "cell_type": "code",
      "source": [
        "from nltk.stem import PorterStemmer, LancasterStemmer\n",
        "\n",
        "st1 = PorterStemmer()\n",
        "st2 =  LancasterStemmer()\n",
        "\n",
        "words = [\"fly\", \"flies\", \"flying\", \"flew\", \"flown\"]\n",
        "\n",
        "print(\"Porter Stemmer   :\", [st1.stem(w) for w in words])\n",
        "print(\"Lancaster Stemmer:\", [st2.stem(w) for w in words])"
      ],
      "metadata": {
        "colab": {
          "base_uri": "https://localhost:8080/"
        },
        "id": "9hPjhZ81-gel",
        "outputId": "652493d1-3447-4928-eccf-99d806b9be6a"
      },
      "execution_count": 59,
      "outputs": [
        {
          "output_type": "stream",
          "name": "stdout",
          "text": [
            "Porter Stemmer   : ['fli', 'fli', 'fli', 'flew', 'flown']\n",
            "Lancaster Stemmer: ['fly', 'fli', 'fly', 'flew', 'flown']\n"
          ]
        }
      ]
    },
    {
      "cell_type": "code",
      "source": [
        "from nltk.stem import WordNetLemmatizer\n",
        "\n",
        "lm = WordNetLemmatizer()\n",
        "\n",
        "[lm.lemmatize(w, pos=\"v\") for w in words]"
      ],
      "metadata": {
        "id": "zWKNZewK-h5K"
      },
      "execution_count": null,
      "outputs": []
    },
    {
      "cell_type": "markdown",
      "source": [
        "# **4. 품사 부착**"
      ],
      "metadata": {
        "id": "2hPDnRmkowBF"
      }
    },
    {
      "cell_type": "markdown",
      "source": [
        "NNP: 단수 고유명사\n",
        "\n",
        "VB: 동사\n",
        "\n",
        "VBP: 동사 현재형\n",
        "\n",
        "TO: to 전치사\n",
        "\n",
        "NN: 명사(단수형 혹은 집합형)\n",
        "\n",
        "DT: 관형사"
      ],
      "metadata": {
        "id": "aJCWyD29IJYP"
      }
    },
    {
      "cell_type": "code",
      "source": [
        "nltk.help.upenn_tagset(\"VB\")"
      ],
      "metadata": {
        "id": "Oh-N2v4FINeJ"
      },
      "execution_count": null,
      "outputs": []
    },
    {
      "cell_type": "code",
      "source": [
        "from nltk.tag import pos_tag\n",
        "sentence = \"Emma refused to permit us to obtain the refuse permit\"\n",
        "tagged_list = pos_tag(word_tokenize(sentence))\n",
        "tagged_list"
      ],
      "metadata": {
        "colab": {
          "base_uri": "https://localhost:8080/"
        },
        "id": "PmsaHqH1IQWC",
        "outputId": "32d69304-a91d-4de9-ef37-31addd5ed93d"
      },
      "execution_count": 62,
      "outputs": [
        {
          "output_type": "execute_result",
          "data": {
            "text/plain": [
              "[('Emma', 'NNP'),\n",
              " ('refused', 'VBD'),\n",
              " ('to', 'TO'),\n",
              " ('permit', 'VB'),\n",
              " ('us', 'PRP'),\n",
              " ('to', 'TO'),\n",
              " ('obtain', 'VB'),\n",
              " ('the', 'DT'),\n",
              " ('refuse', 'NN'),\n",
              " ('permit', 'NN')]"
            ]
          },
          "metadata": {},
          "execution_count": 62
        }
      ]
    },
    {
      "cell_type": "code",
      "source": [
        "#명사인 토큰만 선택\n",
        "nouns_list = [t[0] for t in tagged_list if t[1] == \"NN\"]\n",
        "nouns_list"
      ],
      "metadata": {
        "colab": {
          "base_uri": "https://localhost:8080/"
        },
        "id": "ht2NyVMYIUw1",
        "outputId": "a4553348-4e4f-4e2d-9561-c70610ddf7a7"
      },
      "execution_count": 63,
      "outputs": [
        {
          "output_type": "execute_result",
          "data": {
            "text/plain": [
              "['refuse', 'permit']"
            ]
          },
          "metadata": {},
          "execution_count": 63
        }
      ]
    },
    {
      "cell_type": "code",
      "source": [
        "#태그 튜플을 제거\n",
        "from nltk.tag import untag\n",
        "untag(tagged_list)"
      ],
      "metadata": {
        "colab": {
          "base_uri": "https://localhost:8080/"
        },
        "id": "UrowFpbeIaaX",
        "outputId": "1d08400a-2c80-4c5d-b195-ed7b9ffae951"
      },
      "execution_count": 64,
      "outputs": [
        {
          "output_type": "execute_result",
          "data": {
            "text/plain": [
              "['Emma',\n",
              " 'refused',\n",
              " 'to',\n",
              " 'permit',\n",
              " 'us',\n",
              " 'to',\n",
              " 'obtain',\n",
              " 'the',\n",
              " 'refuse',\n",
              " 'permit']"
            ]
          },
          "metadata": {},
          "execution_count": 64
        }
      ]
    },
    {
      "cell_type": "markdown",
      "source": [
        "# **5. Text  클래스**"
      ],
      "metadata": {
        "id": "OoLT73X5oyjd"
      }
    },
    {
      "cell_type": "markdown",
      "source": [
        "- 시각화 dispersion_plot()\n",
        "- 문맥보기 concordance(\"단어\")\n",
        "- 비슷한단어 similar(\"Emma\")\n",
        "- 두단어의공통문맥 common_contexts([\"\",\"\"])"
      ],
      "metadata": {
        "id": "d0W6ygERPP0B"
      }
    },
    {
      "cell_type": "code",
      "source": [
        "from nltk import Text\n",
        "\n",
        "text = Text(retokenize.tokenize(emma_raw))"
      ],
      "metadata": {
        "id": "IkS-QXyjI0_b"
      },
      "execution_count": null,
      "outputs": []
    },
    {
      "cell_type": "code",
      "source": [
        "text.plot(20)\n",
        "plt.show()"
      ],
      "metadata": {
        "id": "uvj2gdS6I2_9"
      },
      "execution_count": null,
      "outputs": []
    },
    {
      "cell_type": "code",
      "source": [
        "#단어가 사용된 위치를 시각화\n",
        "text.dispersion_plot([\"Emma\", \"Knightley\", \"Frank\", \"Jane\", \"Harriet\", \"Robert\"])"
      ],
      "metadata": {
        "colab": {
          "base_uri": "https://localhost:8080/",
          "height": 295
        },
        "id": "l5Bt8m91I4gO",
        "outputId": "9ac7d7e7-76c1-4247-9d50-a9f993061554"
      },
      "execution_count": 67,
      "outputs": [
        {
          "output_type": "display_data",
          "data": {
            "text/plain": [
              "<Figure size 432x288 with 1 Axes>"
            ],
            "image/png": "[encoded data removed]"
          },
          "metadata": {
            "needs_background": "light"
          }
        }
      ]
    },
    {
      "cell_type": "code",
      "source": [
        "#단어가 사용된 위치를 직접 표시해서 문맥보기(해당 단어의 앞과 뒤에 사용된 단어를 뜻함)\n",
        "text.concordance(\"Emma\")"
      ],
      "metadata": {
        "colab": {
          "base_uri": "https://localhost:8080/"
        },
        "id": "Yq7L2szMI-Mw",
        "outputId": "b0140f3c-3249-4ab5-bbe1-92e5273e46ef"
      },
      "execution_count": 68,
      "outputs": [
        {
          "output_type": "stream",
          "name": "stdout",
          "text": [
            "Displaying 25 of 865 matches:\n",
            " Emma by Jane Austen 1816 VOLUME I CHAPTER\n",
            " Jane Austen 1816 VOLUME I CHAPTER I Emma Woodhouse handsome clever and rich w\n",
            "f both daughters but particularly of Emma Between _them_ it was more the intim\n",
            "nd friend very mutually attached and Emma doing just what she liked highly est\n",
            " by her own The real evils indeed of Emma s situation were the power of having\n",
            "ding day of this beloved friend that Emma first sat in mournful thought of any\n",
            "going only half a mile from them but Emma was aware that great must be the dif\n",
            "a day It was a melancholy change and Emma could not but sigh over it and wish \n",
            "ll the rest of her life at Hartfield Emma smiled and chatted as cheerfully as \n",
            "l be able to tell her how we all are Emma spared no exertions to maintain this\n",
            "or I have a great regard for you and Emma but when it comes to the question of\n",
            "a fanciful troublesome creature said Emma playfully That is what you have in y\n",
            "e few people who could see faults in Emma Woodhouse and the only one who ever \n",
            "is was not particularly agreeable to Emma herself she knew it would be so much\n",
            " being thought perfect by every body Emma knows I never flatter her said Mr Kn\n",
            " that she must be a gainer Well said Emma willing to let it pass you want to h\n",
            " were sure of meeting every day Dear Emma bears every thing so well said her f\n",
            "l_ miss her more than she thinks for Emma turned away her head divided between\n",
            "ars and smiles It is impossible that Emma should not miss such a companion sai\n",
            "rgotten one matter of joy to me said Emma and a very considerable one that I m\n",
            "lf than good to them by interference Emma never thinks of herself if she can d\n",
            "ch better thing Invite him to dinner Emma and help him to the best of the fish\n",
            " and could not think without pain of Emma s losing a single pleasure or suffer\n",
            "nt of her companionableness but dear Emma was of no feeble character she was m\n",
            "ent was so just and so apparent that Emma well as she knew her father was some\n"
          ]
        }
      ]
    },
    {
      "cell_type": "code",
      "source": [
        "#같은 문맥에서 주어진 단어 대신 사용된 횟수가 높은 단어들을 찾기\n",
        "text.similar(\"Emma\")"
      ],
      "metadata": {
        "colab": {
          "base_uri": "https://localhost:8080/"
        },
        "id": "S9aKcmlTJIqQ",
        "outputId": "80aa9eb6-b317-4d09-e987-e6cea5f732cb"
      },
      "execution_count": 69,
      "outputs": [
        {
          "output_type": "stream",
          "name": "stdout",
          "text": [
            "she it he i harriet you her jane him that me and all they them herself\n",
            "there but be isabella\n"
          ]
        }
      ]
    },
    {
      "cell_type": "code",
      "source": [
        "#두 단어의 공통 문맥을 보기\n",
        "text.common_contexts([\"Emma\", \"she\"])"
      ],
      "metadata": {
        "colab": {
          "base_uri": "https://localhost:8080/"
        },
        "id": "7mt26SdSJJl0",
        "outputId": "95b00ca9-4897-417d-d3e1-de48bda8a0de"
      },
      "execution_count": 70,
      "outputs": [
        {
          "output_type": "stream",
          "name": "stdout",
          "text": [
            "said_i and_could but_could said_as and_was that_could and_felt\n",
            "which_could that_began than_had but_was that_should this_could\n",
            "there_was said_in as_could think_was as_felt that_was which_had\n"
          ]
        }
      ]
    },
    {
      "cell_type": "markdown",
      "source": [
        "# **6. FreqDist**"
      ],
      "metadata": {
        "id": "8-aiaO9Do1Tw"
      }
    },
    {
      "cell_type": "markdown",
      "source": [
        "문서에 사용된 단어(토큰)의 사용빈도 정보를 담는 클래스"
      ],
      "metadata": {
        "id": "-aunyOd_JRro"
      }
    },
    {
      "cell_type": "code",
      "source": [
        "fd = text.vocab()\n",
        "type(fd)"
      ],
      "metadata": {
        "id": "CwN693J4JTOq"
      },
      "execution_count": null,
      "outputs": []
    },
    {
      "cell_type": "code",
      "source": [
        "from nltk import FreqDist\n",
        "\n",
        "#품사 태그에서 NNP(고유대명사)이면서 필요없는 단어(stop words)는 제거\n",
        "stopwords = [\"Mr.\", \"Mrs.\", \"Miss\", \"Mr\", \"Mrs\", \"Dear\"]\n",
        "emma_tokens = pos_tag(retokenize.tokenize(emma_raw))\n",
        "names_list = [t[0] for t in emma_tokens if t[1] == \"NNP\" and t[0] not in stopwords]\n",
        "fd_names = FreqDist(names_list)"
      ],
      "metadata": {
        "id": "uTd_L9SiJV3U"
      },
      "execution_count": null,
      "outputs": []
    },
    {
      "cell_type": "code",
      "source": [
        "#전체 단어의 수, “Emma”라는 단어의 출현 횟수, 확률을 각각 계산\n",
        "fd_names.N(), fd_names[\"Emma\"], fd_names.freq(\"Emma\")"
      ],
      "metadata": {
        "id": "wW3xCZ_8JYoq"
      },
      "execution_count": null,
      "outputs": []
    },
    {
      "cell_type": "code",
      "source": [
        "#가장 출현 횟수가 높은 단어\n",
        "fd_names.most_common(5)"
      ],
      "metadata": {
        "id": "oIi7kZbNJZ0y"
      },
      "execution_count": null,
      "outputs": []
    },
    {
      "cell_type": "markdown",
      "source": [
        "# **7. 워드클라우드**"
      ],
      "metadata": {
        "id": "tZy4njdno4h5"
      }
    },
    {
      "cell_type": "markdown",
      "source": [
        "단어의 사용 빈도수에 따라 워드클라우드(Word Cloud) 시각화"
      ],
      "metadata": {
        "id": "SIGLbsWTJoSl"
      }
    },
    {
      "cell_type": "code",
      "source": [
        "from wordcloud import WordCloud\n",
        "\n",
        "wc = WordCloud(width=1000, height=600, background_color=\"white\", random_state=0)\n",
        "plt.imshow(wc.generate_from_frequencies(fd_names))\n",
        "plt.axis(\"off\")\n",
        "plt.show()"
      ],
      "metadata": {
        "id": "pmkgunNZJm7Q"
      },
      "execution_count": null,
      "outputs": []
    }
  ]
}