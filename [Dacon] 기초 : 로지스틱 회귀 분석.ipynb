{
  "nbformat": 4,
  "nbformat_minor": 0,
  "metadata": {
    "colab": {
      "provenance": [],
      "authorship_tag": "ABX9TyNmaOgibqyy1crNjecMivEq",
      "include_colab_link": true
    },
    "kernelspec": {
      "name": "python3",
      "display_name": "Python 3"
    },
    "language_info": {
      "name": "python"
    }
  },
  "cells": [
    {
      "cell_type": "markdown",
      "metadata": {
        "id": "view-in-github",
        "colab_type": "text"
      },
      "source": [
        "<a href=\"https://colab.research.google.com/github/seon0415/weit/blob/main/%5BDacon%5D%20%EA%B8%B0%EC%B4%88%20%3A%20%EB%A1%9C%EC%A7%80%EC%8A%A4%ED%8B%B1%20%ED%9A%8C%EA%B7%80%20%EB%B6%84%EC%84%9D.ipynb\" target=\"_parent\"><img src=\"https://colab.research.google.com/assets/colab-badge.svg\" alt=\"Open In Colab\"/></a>"
      ]
    },
    {
      "cell_type": "markdown",
      "source": [
        "▶ 1. 필요한 라이브러리를 불러옵니다."
      ],
      "metadata": {
        "id": "MNuAvQsSbOeK"
      }
    },
    {
      "cell_type": "code",
      "execution_count": null,
      "metadata": {
        "id": "TTeXhl0hag2G"
      },
      "outputs": [],
      "source": [
        "#로지스틱 회귀분석을 사용합니다.\n",
        "import pandas as pd\n",
        "from sklearn.linear_model import LogisticRegression"
      ]
    },
    {
      "cell_type": "markdown",
      "source": [
        "▶ 2. 데이터를 불러옵니다. "
      ],
      "metadata": {
        "id": "gOMY2wPubNQr"
      }
    },
    {
      "cell_type": "code",
      "source": [
        "train = pd.read_csv('train.csv')\n",
        "test = pd.read_csv('test.csv')\n",
        "sample_submission = pd.read_csv('sample_submission.csv')"
      ],
      "metadata": {
        "id": "sqcms9uLamUk"
      },
      "execution_count": null,
      "outputs": []
    },
    {
      "cell_type": "markdown",
      "source": [
        "▶ 3. 데이터를 살펴봅니다."
      ],
      "metadata": {
        "id": "2bszWO44bMHK"
      }
    },
    {
      "cell_type": "code",
      "source": [
        "#데이터의 앞부분 살펴보기\n",
        "train.head()"
      ],
      "metadata": {
        "id": "GW76x1ptanlj"
      },
      "execution_count": null,
      "outputs": []
    },
    {
      "cell_type": "code",
      "source": [
        "test.head()"
      ],
      "metadata": {
        "id": "ubxuKiujao85"
      },
      "execution_count": null,
      "outputs": []
    },
    {
      "cell_type": "code",
      "source": [
        "#데이터의 길이 살펴보기\n",
        "print('train:'+str(len(train))+'행','test:'+str(len(test))+'행')"
      ],
      "metadata": {
        "id": "5qKP8pSNaqHG"
      },
      "execution_count": null,
      "outputs": []
    },
    {
      "cell_type": "code",
      "source": [
        "#데이터의 결측치 살펴보기\n",
        "train.isna().sum()\n",
        "#train데이터는 Age, Cabin, Embarked에 결측치가 존재합니다."
      ],
      "metadata": {
        "id": "ovrQSsFpasBr"
      },
      "execution_count": null,
      "outputs": []
    },
    {
      "cell_type": "code",
      "source": [
        "test.isna().sum()\n",
        "#test데이터는 Age, Cabin, Fare에 결측치가 존재합니다. "
      ],
      "metadata": {
        "id": "zjh5dFGLatDa"
      },
      "execution_count": null,
      "outputs": []
    },
    {
      "cell_type": "markdown",
      "source": [
        "▶ 4. 데이터 정제하기"
      ],
      "metadata": {
        "id": "zDFflWnDbI7y"
      }
    },
    {
      "cell_type": "code",
      "source": [
        "#데이터가 완성되지 않은 Age, Cabin은 변수에서 제거합니다.\n",
        "train0 = train.drop(['Age', 'Cabin'], axis = 1)\n",
        "test0 = test.drop(['Age', 'Cabin'], axis = 1)"
      ],
      "metadata": {
        "id": "7WfLF4ihauBT"
      },
      "execution_count": null,
      "outputs": []
    },
    {
      "cell_type": "code",
      "source": [
        "#train0에서 Embarked가 결측인 두 행을 제거합니다.\n",
        "train0 = train0.dropna()\n",
        "#제거 여부 확인해봅니다.\n",
        "train0.isna().sum()"
      ],
      "metadata": {
        "id": "-DUtuszEau27"
      },
      "execution_count": null,
      "outputs": []
    },
    {
      "cell_type": "code",
      "source": [
        "#test0에서 결측된 Fare값을 평균으로 대체합니다.\n",
        "test0 = test0.fillna(test0.mean())\n",
        "#처리 여부를 확인해봅니다.\n",
        "test0.isna().sum()"
      ],
      "metadata": {
        "id": "h_k00MQ9avts"
      },
      "execution_count": null,
      "outputs": []
    },
    {
      "cell_type": "code",
      "source": [
        "#train0 확인해보기\n",
        "train0"
      ],
      "metadata": {
        "id": "gHjS4YdAawvn"
      },
      "execution_count": null,
      "outputs": []
    },
    {
      "cell_type": "code",
      "source": [
        "#test0 확인해보기\n",
        "test0"
      ],
      "metadata": {
        "id": "94pkQgIdaxxS"
      },
      "execution_count": null,
      "outputs": []
    },
    {
      "cell_type": "code",
      "source": [
        "#Name변수와 Ticket 변수를 제거합니다.\n",
        "train1 = train0.drop(['Name', 'Ticket'], axis = 1)\n",
        "test1 = test0.drop(['Name', 'Ticket'], axis = 1)"
      ],
      "metadata": {
        "id": "9mh-hvP9azhK"
      },
      "execution_count": null,
      "outputs": []
    },
    {
      "cell_type": "code",
      "source": [
        "#train 확인하기\n",
        "train1"
      ],
      "metadata": {
        "id": "kc21YUgJa0ZT"
      },
      "execution_count": null,
      "outputs": []
    },
    {
      "cell_type": "code",
      "source": [
        "#test 확인하기\n",
        "test1"
      ],
      "metadata": {
        "id": "YnblZDDka1RH"
      },
      "execution_count": null,
      "outputs": []
    },
    {
      "cell_type": "code",
      "source": [
        "#Sex데이터를 숫자형으로 변환합니다.\n",
        "train1['Sex'] = train1['Sex'].map( {'female': 1, 'male': 0} ).astype(int)\n",
        "test1['Sex'] = test1['Sex'].map( {'female': 1, 'male': 0} ).astype(int)"
      ],
      "metadata": {
        "id": "McOFju7pa2Ti"
      },
      "execution_count": null,
      "outputs": []
    },
    {
      "cell_type": "code",
      "source": [
        "#Embarked 데이터를 숫자형으로 변환합니다.\n",
        "train1['Embarked'] = train1['Embarked'].map( {'C': 0, 'Q': 1, 'S':2} ).astype(int)\n",
        "test1['Embarked'] = test1['Embarked'].map( {'C': 0, 'Q': 1, 'S':2} ).astype(int)"
      ],
      "metadata": {
        "id": "IsFmRZyfa3h7"
      },
      "execution_count": null,
      "outputs": []
    },
    {
      "cell_type": "code",
      "source": [
        "#train 확인하기\n",
        "train1"
      ],
      "metadata": {
        "id": "-bYq4R_ba4UK"
      },
      "execution_count": null,
      "outputs": []
    },
    {
      "cell_type": "code",
      "source": [
        "#test 확인하기\n",
        "test1"
      ],
      "metadata": {
        "id": "lkR_VtW_a5Nz"
      },
      "execution_count": null,
      "outputs": []
    },
    {
      "cell_type": "code",
      "source": [
        "#모델의 훈련을 위하여 설명변수와 반응변수를 분리합니다.\n",
        "X_train = train1.drop([\"PassengerId\",\"Survived\"], axis=1)\n",
        "Y_train = train1[\"Survived\"]\n",
        "X_test  = test1.drop(\"PassengerId\", axis=1).copy()\n",
        "X_train.shape, Y_train.shape, X_test.shape"
      ],
      "metadata": {
        "id": "k5Hvhtqta6Hi"
      },
      "execution_count": null,
      "outputs": []
    },
    {
      "cell_type": "markdown",
      "source": [
        "▶ 5. 기본적인 로지스틱 모델을 생성/예측합니다."
      ],
      "metadata": {
        "id": "mjTt4hQ0bABK"
      }
    },
    {
      "cell_type": "code",
      "source": [
        "logreg = LogisticRegression()\n",
        "logreg.fit(X_train, Y_train)\n",
        "Y_pred = logreg.predict(X_test)"
      ],
      "metadata": {
        "id": "lJ-a-zKta7Br"
      },
      "execution_count": null,
      "outputs": []
    },
    {
      "cell_type": "code",
      "source": [
        "Y_pred"
      ],
      "metadata": {
        "id": "xHbhgU68a8JL"
      },
      "execution_count": null,
      "outputs": []
    },
    {
      "cell_type": "markdown",
      "source": [
        "▶ 6. 예측값을 제출 양식에 맞게 저장합니다"
      ],
      "metadata": {
        "id": "n4NRoiUbbByy"
      }
    },
    {
      "cell_type": "code",
      "source": [
        "sample_submission['Survived'] = Y_pred"
      ],
      "metadata": {
        "id": "fWuQlDFkbDDa"
      },
      "execution_count": null,
      "outputs": []
    },
    {
      "cell_type": "code",
      "source": [
        "sample_submission.to_csv('submission.csv', index = False)"
      ],
      "metadata": {
        "id": "bUXzSYjqbEMy"
      },
      "execution_count": null,
      "outputs": []
    }
  ]
}