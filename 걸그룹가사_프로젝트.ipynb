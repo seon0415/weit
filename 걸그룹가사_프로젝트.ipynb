{
  "nbformat": 4,
  "nbformat_minor": 0,
  "metadata": {
    "colab": {
      "provenance": [],
      "authorship_tag": "ABX9TyNfZs7JqfHLO+Stp74XVTEq",
      "include_colab_link": true
    },
    "kernelspec": {
      "name": "python3",
      "display_name": "Python 3"
    },
    "language_info": {
      "name": "python"
    }
  },
  "cells": [
    {
      "cell_type": "markdown",
      "metadata": {
        "id": "view-in-github",
        "colab_type": "text"
      },
      "source": [
        "<a href=\"https://colab.research.google.com/github/seon0415/weit/blob/main/%EA%B1%B8%EA%B7%B8%EB%A3%B9%EA%B0%80%EC%82%AC_%ED%94%84%EB%A1%9C%EC%A0%9D%ED%8A%B8.ipynb\" target=\"_parent\"><img src=\"https://colab.research.google.com/assets/colab-badge.svg\" alt=\"Open In Colab\"/></a>"
      ]
    },
    {
      "cell_type": "code",
      "execution_count": null,
      "metadata": {
        "id": "Ahmxt-oPbqww"
      },
      "outputs": [],
      "source": [
        "import nltk"
      ]
    },
    {
      "cell_type": "code",
      "source": [
        "import pandas as pd"
      ],
      "metadata": {
        "id": "RR-ejogFdQ34"
      },
      "execution_count": null,
      "outputs": []
    },
    {
      "cell_type": "code",
      "source": [
        "seventeen=open('seventeen.txt', encoding='UTF-8').read()\n",
        "print(seventeen[:200])"
      ],
      "metadata": {
        "id": "d_WbaCuzcDoO"
      },
      "execution_count": null,
      "outputs": []
    },
    {
      "cell_type": "code",
      "source": [
        "#토큰생성\n",
        "from nltk.tokenize import sent_tokenize\n",
        "print(sent_tokenize(emma_raw[:1000])[3])\\\n",
        "\n",
        "from nltk.tokenize import word_tokenize\n",
        "word_tokenize(emma_raw[50:100])\n",
        "\n",
        "from nltk.tokenize import RegexpTokenizer\n",
        "retokenize = RegexpTokenizer(\"[\\w]+\")\n",
        "retokenize.tokenize(emma_raw[50:100])"
      ],
      "metadata": {
        "id": "s84HKlsCcRYV"
      },
      "execution_count": null,
      "outputs": []
    },
    {
      "cell_type": "markdown",
      "source": [
        "명사추출은 konlpy 코리안파이썬 -> 한글만 추출"
      ],
      "metadata": {
        "id": "LIu1OfKZdDkx"
      }
    },
    {
      "cell_type": "code",
      "source": [
        "#불필요한 문자(특수문자, 한자, 공백)제거, 공백으로 바꾸기\n",
        "import re\n",
        "moon=re.sub('[^가-힣]', ' ', moon)\n"
      ],
      "metadata": {
        "id": "3UL80SDGcoYe"
      },
      "execution_count": null,
      "outputs": []
    },
    {
      "cell_type": "code",
      "source": [
        "#원형복원\n",
        "from nltk.stem import WordNetLemmatizer\n",
        "\n",
        "lm = WordNetLemmatizer()\n",
        "[lm.lemmatize(w, pos=\"v\") for w in words]"
      ],
      "metadata": {
        "id": "btHKEubDcbi0"
      },
      "execution_count": null,
      "outputs": []
    },
    {
      "cell_type": "code",
      "source": [
        "#데이터프레임으로 만들기\n",
        "df_word=pd.DataFrame({'word':nouns})"
      ],
      "metadata": {
        "id": "govxGbmVct7g"
      },
      "execution_count": null,
      "outputs": []
    },
    {
      "cell_type": "code",
      "source": [
        "#단어 길이 나타내는 표 만들기\n",
        "df_word['len']=df_word['word'].str.len()\n"
      ],
      "metadata": {
        "id": "iTcYuKsWcvc_"
      },
      "execution_count": null,
      "outputs": []
    },
    {
      "cell_type": "code",
      "source": [
        "#단어 빈도 구하기\n",
        "df_word=df_word.groupby('word', as_index=False)\\\n",
        "                .agg(count=('word','count'))\\\n",
        "                .sort_values('count', ascending=False) \n"
      ],
      "metadata": {
        "id": "-XmP3SZOcxPa"
      },
      "execution_count": null,
      "outputs": []
    },
    {
      "cell_type": "code",
      "source": [
        "#단어 빈도 막대그래프\n",
        "import seaborn as sns\n",
        "top20= df_word.head(20)\n",
        "sns.barplot(data=top20, y='word', x='count')"
      ],
      "metadata": {
        "id": "hczW8_F4dPqv"
      },
      "execution_count": null,
      "outputs": []
    }
  ]
}