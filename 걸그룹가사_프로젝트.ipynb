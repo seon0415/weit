{
  "nbformat": 4,
  "nbformat_minor": 0,
  "metadata": {
    "colab": {
      "provenance": [],
      "authorship_tag": "ABX9TyNdQceDVYPFFB3nQyP0mgdk",
      "include_colab_link": true
    },
    "kernelspec": {
      "name": "python3",
      "display_name": "Python 3"
    },
    "language_info": {
      "name": "python"
    }
  },
  "cells": [
    {
      "cell_type": "markdown",
      "metadata": {
        "id": "view-in-github",
        "colab_type": "text"
      },
      "source": [
        "<a href=\"https://colab.research.google.com/github/seon0415/weit/blob/main/%EA%B1%B8%EA%B7%B8%EB%A3%B9%EA%B0%80%EC%82%AC_%ED%94%84%EB%A1%9C%EC%A0%9D%ED%8A%B8.ipynb\" target=\"_parent\"><img src=\"https://colab.research.google.com/assets/colab-badge.svg\" alt=\"Open In Colab\"/></a>"
      ]
    },
    {
      "cell_type": "code",
      "execution_count": 1,
      "metadata": {
        "id": "Ahmxt-oPbqww"
      },
      "outputs": [],
      "source": [
        "import nltk"
      ]
    },
    {
      "cell_type": "code",
      "source": [
        "import pandas as pd"
      ],
      "metadata": {
        "id": "RR-ejogFdQ34"
      },
      "execution_count": 2,
      "outputs": []
    },
    {
      "cell_type": "code",
      "source": [
        "attention=open('attention.txt', encoding='UTF-8').read()\n",
        "attention"
      ],
      "metadata": {
        "id": "d_WbaCuzcDoO"
      },
      "execution_count": null,
      "outputs": []
    },
    {
      "cell_type": "code",
      "source": [
        "import nltk\n",
        "nltk.download(\"book\", quiet=True)\n",
        "from nltk.book import *"
      ],
      "metadata": {
        "id": "Y-wyyGHlDsX-",
        "outputId": "52f5ec29-6b67-4648-8cd3-72328414a90b",
        "colab": {
          "base_uri": "https://localhost:8080/"
        }
      },
      "execution_count": 5,
      "outputs": [
        {
          "output_type": "stream",
          "name": "stdout",
          "text": [
            "*** Introductory Examples for the NLTK Book ***\n",
            "Loading text1, ..., text9 and sent1, ..., sent9\n",
            "Type the name of the text or sentence to view it.\n",
            "Type: 'texts()' or 'sents()' to list the materials.\n",
            "text1: Moby Dick by Herman Melville 1851\n",
            "text2: Sense and Sensibility by Jane Austen 1811\n",
            "text3: The Book of Genesis\n",
            "text4: Inaugural Address Corpus\n",
            "text5: Chat Corpus\n",
            "text6: Monty Python and the Holy Grail\n",
            "text7: Wall Street Journal\n",
            "text8: Personals Corpus\n",
            "text9: The Man Who Was Thursday by G . K . Chesterton 1908\n"
          ]
        }
      ]
    },
    {
      "cell_type": "code",
      "source": [
        "from nltk.tokenize import word_tokenize\n",
        "word=word_tokenize(attention)\n",
        "word"
      ],
      "metadata": {
        "id": "iS0ELhSIDSMX"
      },
      "execution_count": null,
      "outputs": []
    },
    {
      "cell_type": "code",
      "source": [
        "from nltk.stem import WordNetLemmatizer\n",
        "\n",
        "lemmatizer = WordNetLemmatizer()\n",
        "\n",
        "words = ['policy', 'doing', 'organization', 'have', 'going', 'love', 'lives', 'fly', 'dies', 'watched', 'has', 'starting']\n",
        "\n",
        "print('표제어 추출 전 :',words)\n",
        "print('표제어 추출 후 :',[lemmatizer.lemmatize(word) for word in words])"
      ],
      "metadata": {
        "id": "HZteiPBtPzw6"
      },
      "execution_count": null,
      "outputs": []
    },
    {
      "cell_type": "markdown",
      "source": [
        "https://wikidocs.net/21707\n",
        "\n",
        "https://blog.naver.com/hwwe1000/223024679627"
      ],
      "metadata": {
        "id": "nzx77MHYfBI6"
      }
    },
    {
      "cell_type": "code",
      "source": [
        "from nltk.stem import PorterStemmer, LancasterStemmer\n",
        "\n",
        "st1 = PorterStemmer()\n",
        "[st1.stem(w) for w in word]"
      ],
      "metadata": {
        "id": "qJRpdg0qGSAX"
      },
      "execution_count": null,
      "outputs": []
    },
    {
      "cell_type": "code",
      "source": [
        "#데이터프레임으로 만들기\n",
        "df_word=pd.DataFrame({'word':word})\n",
        "df_word"
      ],
      "metadata": {
        "id": "govxGbmVct7g",
        "outputId": "4ed04157-42bc-4681-911d-468fdf6f3e92",
        "colab": {
          "base_uri": "https://localhost:8080/",
          "height": 424
        }
      },
      "execution_count": 16,
      "outputs": [
        {
          "output_type": "execute_result",
          "data": {
            "text/plain": [
              "          word\n",
              "0          You\n",
              "1          and\n",
              "2           me\n",
              "3            내\n",
              "4           맘이\n",
              "..         ...\n",
              "277        got\n",
              "278         me\n",
              "279    looking\n",
              "280        for\n",
              "281  attention\n",
              "\n",
              "[282 rows x 1 columns]"
            ],
            "text/html": [
              "\n",
              "  <div id=\"df-e4bf543d-21ea-41c7-ae8c-ee5bcb86b073\">\n",
              "    <div class=\"colab-df-container\">\n",
              "      <div>\n",
              "<style scoped>\n",
              "    .dataframe tbody tr th:only-of-type {\n",
              "        vertical-align: middle;\n",
              "    }\n",
              "\n",
              "    .dataframe tbody tr th {\n",
              "        vertical-align: top;\n",
              "    }\n",
              "\n",
              "    .dataframe thead th {\n",
              "        text-align: right;\n",
              "    }\n",
              "</style>\n",
              "<table border=\"1\" class=\"dataframe\">\n",
              "  <thead>\n",
              "    <tr style=\"text-align: right;\">\n",
              "      <th></th>\n",
              "      <th>word</th>\n",
              "    </tr>\n",
              "  </thead>\n",
              "  <tbody>\n",
              "    <tr>\n",
              "      <th>0</th>\n",
              "      <td>You</td>\n",
              "    </tr>\n",
              "    <tr>\n",
              "      <th>1</th>\n",
              "      <td>and</td>\n",
              "    </tr>\n",
              "    <tr>\n",
              "      <th>2</th>\n",
              "      <td>me</td>\n",
              "    </tr>\n",
              "    <tr>\n",
              "      <th>3</th>\n",
              "      <td>내</td>\n",
              "    </tr>\n",
              "    <tr>\n",
              "      <th>4</th>\n",
              "      <td>맘이</td>\n",
              "    </tr>\n",
              "    <tr>\n",
              "      <th>...</th>\n",
              "      <td>...</td>\n",
              "    </tr>\n",
              "    <tr>\n",
              "      <th>277</th>\n",
              "      <td>got</td>\n",
              "    </tr>\n",
              "    <tr>\n",
              "      <th>278</th>\n",
              "      <td>me</td>\n",
              "    </tr>\n",
              "    <tr>\n",
              "      <th>279</th>\n",
              "      <td>looking</td>\n",
              "    </tr>\n",
              "    <tr>\n",
              "      <th>280</th>\n",
              "      <td>for</td>\n",
              "    </tr>\n",
              "    <tr>\n",
              "      <th>281</th>\n",
              "      <td>attention</td>\n",
              "    </tr>\n",
              "  </tbody>\n",
              "</table>\n",
              "<p>282 rows × 1 columns</p>\n",
              "</div>\n",
              "      <button class=\"colab-df-convert\" onclick=\"convertToInteractive('df-e4bf543d-21ea-41c7-ae8c-ee5bcb86b073')\"\n",
              "              title=\"Convert this dataframe to an interactive table.\"\n",
              "              style=\"display:none;\">\n",
              "        \n",
              "  <svg xmlns=\"http://www.w3.org/2000/svg\" height=\"24px\"viewBox=\"0 0 24 24\"\n",
              "       width=\"24px\">\n",
              "    <path d=\"M0 0h24v24H0V0z\" fill=\"none\"/>\n",
              "    <path d=\"M18.56 5.44l.94 2.06.94-2.06 2.06-.94-2.06-.94-.94-2.06-.94 2.06-2.06.94zm-11 1L8.5 8.5l.94-2.06 2.06-.94-2.06-.94L8.5 2.5l-.94 2.06-2.06.94zm10 10l.94 2.06.94-2.06 2.06-.94-2.06-.94-.94-2.06-.94 2.06-2.06.94z\"/><path d=\"M17.41 7.96l-1.37-1.37c-.4-.4-.92-.59-1.43-.59-.52 0-1.04.2-1.43.59L10.3 9.45l-7.72 7.72c-.78.78-.78 2.05 0 2.83L4 21.41c.39.39.9.59 1.41.59.51 0 1.02-.2 1.41-.59l7.78-7.78 2.81-2.81c.8-.78.8-2.07 0-2.86zM5.41 20L4 18.59l7.72-7.72 1.47 1.35L5.41 20z\"/>\n",
              "  </svg>\n",
              "      </button>\n",
              "      \n",
              "  <style>\n",
              "    .colab-df-container {\n",
              "      display:flex;\n",
              "      flex-wrap:wrap;\n",
              "      gap: 12px;\n",
              "    }\n",
              "\n",
              "    .colab-df-convert {\n",
              "      background-color: #E8F0FE;\n",
              "      border: none;\n",
              "      border-radius: 50%;\n",
              "      cursor: pointer;\n",
              "      display: none;\n",
              "      fill: #1967D2;\n",
              "      height: 32px;\n",
              "      padding: 0 0 0 0;\n",
              "      width: 32px;\n",
              "    }\n",
              "\n",
              "    .colab-df-convert:hover {\n",
              "      background-color: #E2EBFA;\n",
              "      box-shadow: 0px 1px 2px rgba(60, 64, 67, 0.3), 0px 1px 3px 1px rgba(60, 64, 67, 0.15);\n",
              "      fill: #174EA6;\n",
              "    }\n",
              "\n",
              "    [theme=dark] .colab-df-convert {\n",
              "      background-color: #3B4455;\n",
              "      fill: #D2E3FC;\n",
              "    }\n",
              "\n",
              "    [theme=dark] .colab-df-convert:hover {\n",
              "      background-color: #434B5C;\n",
              "      box-shadow: 0px 1px 3px 1px rgba(0, 0, 0, 0.15);\n",
              "      filter: drop-shadow(0px 1px 2px rgba(0, 0, 0, 0.3));\n",
              "      fill: #FFFFFF;\n",
              "    }\n",
              "  </style>\n",
              "\n",
              "      <script>\n",
              "        const buttonEl =\n",
              "          document.querySelector('#df-e4bf543d-21ea-41c7-ae8c-ee5bcb86b073 button.colab-df-convert');\n",
              "        buttonEl.style.display =\n",
              "          google.colab.kernel.accessAllowed ? 'block' : 'none';\n",
              "\n",
              "        async function convertToInteractive(key) {\n",
              "          const element = document.querySelector('#df-e4bf543d-21ea-41c7-ae8c-ee5bcb86b073');\n",
              "          const dataTable =\n",
              "            await google.colab.kernel.invokeFunction('convertToInteractive',\n",
              "                                                     [key], {});\n",
              "          if (!dataTable) return;\n",
              "\n",
              "          const docLinkHtml = 'Like what you see? Visit the ' +\n",
              "            '<a target=\"_blank\" href=https://colab.research.google.com/notebooks/data_table.ipynb>data table notebook</a>'\n",
              "            + ' to learn more about interactive tables.';\n",
              "          element.innerHTML = '';\n",
              "          dataTable['output_type'] = 'display_data';\n",
              "          await google.colab.output.renderOutput(dataTable, element);\n",
              "          const docLink = document.createElement('div');\n",
              "          docLink.innerHTML = docLinkHtml;\n",
              "          element.appendChild(docLink);\n",
              "        }\n",
              "      </script>\n",
              "    </div>\n",
              "  </div>\n",
              "  "
            ]
          },
          "metadata": {},
          "execution_count": 16
        }
      ]
    },
    {
      "cell_type": "code",
      "source": [
        "#단어 빈도 구하기\n",
        "df_word=df_word.groupby('word', as_index=False)\\\n",
        "                .agg(count=('word','count'))\\\n",
        "                .sort_values('count', ascending=False) \n",
        "\n",
        "df_word"
      ],
      "metadata": {
        "id": "-XmP3SZOcxPa"
      },
      "execution_count": null,
      "outputs": []
    },
    {
      "cell_type": "code",
      "source": [
        "#원형복원?? 글쎄..\n",
        "from nltk.stem import PorterStemmer, LancasterStemmer\n",
        "\n",
        "st1 = PorterStemmer()\n",
        "st2 =  LancasterStemmer()\n",
        "\n",
        "print(\"Porter Stemmer   :\", [st1.stem(w) for w in word])\n",
        "print(\"Lancaster Stemmer:\", [st2.stem(w) for w in word])"
      ],
      "metadata": {
        "id": "btHKEubDcbi0",
        "outputId": "7db90103-feca-496f-be2c-4221df8f9dab",
        "colab": {
          "base_uri": "https://localhost:8080/"
        }
      },
      "execution_count": 14,
      "outputs": [
        {
          "output_type": "stream",
          "name": "stdout",
          "text": [
            "Porter Stemmer   : ['you', 'and', 'me', '내', '맘이', '보이지', '한참을', '쳐다봐', '가까이', '다가가', 'you', 'see', 'you', 'see', ',', 'ey', 'ey', 'ey', 'ey', 'one', ',', 'two', ',', 'three', '용기가', '생겼지', '이미', '아는', '네', '눈치', '고개를', '돌려', '천천히', '여기', 'you', 'see', '여기', '보이니', 'look', 'for', 'attent', '너야겠어', '확실하게', '나로', '만들겠어', 'stop', ',', 'eyyy', 'drop', 'the', 'question', 'drop', 'the', ',', 'drop', 'the', 'question', 'want', 'attent', 'wan', 'na', 'want', 'attent', 'you', 'give', 'me', 'butterfli', 'you', 'know', '내', '맘은', '온통', 'paradis', '꿈에서', '깨워주지', '마', 'you', 'got', 'me', 'look', 'for', 'attent', 'you', 'got', 'me', 'look', 'for', 'attent', '가끔은', '정말', '헷갈리지만', '분명한', '건', 'got', 'me', 'look', 'for', 'attent', '널', '우연히', '마주친', '척할래', '못', '본', '척', '지나갈래', 'you', \"'re\", 'so', 'fine', 'got', 'ta', 'got', 'ta', 'get', 'to', 'know', 'ya', '나와', '나와', '걸어가', '줘', '지금', '돌아서면', 'i', 'need', 'ya', ',', 'need', 'ya', ',', 'need', 'ya', 'to', 'look', 'at', 'me', 'back', 'hey', '다', '들켰었나', '널', '보면', '하트가', '튀어나와', '난', '사탕을', '찾는', 'babi', '(', 'babi', ')', '내', '맘은', '설레이지', 'eyyy', ',', 'drop', 'the', 'question', 'drop', 'the', ',', 'drop', 'the', 'question', 'want', 'attent', 'wan', 'na', 'want', 'attent', 'you', 'give', 'me', 'butterfli', 'you', 'know', '내', '맘은', '온통', 'paradis', '꿈에서', '깨워주지', '마', 'you', 'got', 'me', 'look', 'for', 'attent', 'you', 'got', 'me', 'look', 'for', 'attent', '가끔은', '정말', '헷갈리지만', '분명한', '건', 'got', 'me', 'look', 'for', 'attent', 'you', 'got', 'me', 'look', 'for', 'attent', 'you', 'got', 'me', 'look', 'for', 'attent', '가끔은', '정말', '헷갈리지만', '분명한', '건', 'got', 'me', 'look', 'for', 'attent', 'a', 't', 't', 'e', 'n', 't', 'i', 'on', 'attent', 'is', 'what', 'i', 'want', 'a', 't', 't', 'e', 'n', 't', 'i', 'on', 'attent', 'is', 'what', 'i', 'want', 'a', 't', 't', 'e', 'n', 't', 'i', 'on', 'attent', 'is', 'what', 'i', 'want', 'a', 't', 't', 'e', 'n', 't', 'i', 'on', 'you', 'got', 'me', 'look', 'for', 'attent']\n",
            "Lancaster Stemmer: ['you', 'and', 'me', '내', '맘이', '보이지', '한참을', '쳐다봐', '가까이', '다가가', 'you', 'see', 'you', 'see', ',', 'ey', 'ey', 'ey', 'ey', 'on', ',', 'two', ',', 'three', '용기가', '생겼지', '이미', '아는', '네', '눈치', '고개를', '돌려', '천천히', '여기', 'you', 'see', '여기', '보이니', 'look', 'for', 'at', '너야겠어', '확실하게', '나로', '만들겠어', 'stop', ',', 'eyyy', 'drop', 'the', 'quest', 'drop', 'the', ',', 'drop', 'the', 'quest', 'want', 'at', 'wan', 'na', 'want', 'at', 'you', 'giv', 'me', 'butterf', 'you', 'know', '내', '맘은', '온통', 'parad', '꿈에서', '깨워주지', '마', 'you', 'got', 'me', 'look', 'for', 'at', 'you', 'got', 'me', 'look', 'for', 'at', '가끔은', '정말', '헷갈리지만', '분명한', '건', 'got', 'me', 'look', 'for', 'at', '널', '우연히', '마주친', '척할래', '못', '본', '척', '지나갈래', 'you', \"'re\", 'so', 'fin', 'got', 'ta', 'got', 'ta', 'get', 'to', 'know', 'ya', '나와', '나와', '걸어가', '줘', '지금', '돌아서면', 'i', 'nee', 'ya', ',', 'nee', 'ya', ',', 'nee', 'ya', 'to', 'look', 'at', 'me', 'back', 'hey', '다', '들켰었나', '널', '보면', '하트가', '튀어나와', '난', '사탕을', '찾는', 'baby', '(', 'baby', ')', '내', '맘은', '설레이지', 'eyyy', ',', 'drop', 'the', 'quest', 'drop', 'the', ',', 'drop', 'the', 'quest', 'want', 'at', 'wan', 'na', 'want', 'at', 'you', 'giv', 'me', 'butterf', 'you', 'know', '내', '맘은', '온통', 'parad', '꿈에서', '깨워주지', '마', 'you', 'got', 'me', 'look', 'for', 'at', 'you', 'got', 'me', 'look', 'for', 'at', '가끔은', '정말', '헷갈리지만', '분명한', '건', 'got', 'me', 'look', 'for', 'at', 'you', 'got', 'me', 'look', 'for', 'at', 'you', 'got', 'me', 'look', 'for', 'at', '가끔은', '정말', '헷갈리지만', '분명한', '건', 'got', 'me', 'look', 'for', 'at', 'a', 't', 't', 'e', 'n', 't', 'i', 'on', 'at', 'is', 'what', 'i', 'want', 'a', 't', 't', 'e', 'n', 't', 'i', 'on', 'at', 'is', 'what', 'i', 'want', 'a', 't', 't', 'e', 'n', 't', 'i', 'on', 'at', 'is', 'what', 'i', 'want', 'a', 't', 't', 'e', 'n', 't', 'i', 'on', 'you', 'got', 'me', 'look', 'for', 'at']\n"
          ]
        }
      ]
    },
    {
      "cell_type": "code",
      "source": [
        "ditto=ditto.replace('\\n',' ')\n",
        "import re\n",
        "ditto=re.sub('[^가-힣]', ' ', ditto)"
      ],
      "metadata": {
        "id": "u2QK8DAWDJy8"
      },
      "execution_count": null,
      "outputs": []
    },
    {
      "cell_type": "code",
      "source": [
        "#토큰생성\n",
        "from nltk.tokenize import sent_tokenize\n",
        "#print(sent_tokenize(ditto[:1000]))\n",
        "\n",
        "from nltk.tokenize import RegexpTokenizer\n",
        "retokenize = RegexpTokenizer(\"[\\w]+\")\n",
        "retokenize.tokenize(ditto[50:100])"
      ],
      "metadata": {
        "id": "s84HKlsCcRYV"
      },
      "execution_count": null,
      "outputs": []
    },
    {
      "cell_type": "markdown",
      "source": [
        "명사추출은 konlpy 코리안파이썬 -> 한글만 추출"
      ],
      "metadata": {
        "id": "LIu1OfKZdDkx"
      }
    },
    {
      "cell_type": "code",
      "source": [
        "#단어 길이 나타내는 표 만들기\n",
        "df_word['len']=df_word['word'].str.len()\n"
      ],
      "metadata": {
        "id": "iTcYuKsWcvc_"
      },
      "execution_count": null,
      "outputs": []
    },
    {
      "cell_type": "code",
      "source": [
        "#단어 빈도 막대그래프\n",
        "import seaborn as sns\n",
        "top20= df_word.head(20)\n",
        "sns.barplot(data=top20, y='word', x='count')"
      ],
      "metadata": {
        "id": "hczW8_F4dPqv"
      },
      "execution_count": null,
      "outputs": []
    }
  ]
}