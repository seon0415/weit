{
  "nbformat": 4,
  "nbformat_minor": 0,
  "metadata": {
    "colab": {
      "provenance": [],
      "authorship_tag": "ABX9TyMPVpWyyU1VL+SZtIZdVWW3",
      "include_colab_link": true
    },
    "kernelspec": {
      "name": "python3",
      "display_name": "Python 3"
    },
    "language_info": {
      "name": "python"
    }
  },
  "cells": [
    {
      "cell_type": "markdown",
      "metadata": {
        "id": "view-in-github",
        "colab_type": "text"
      },
      "source": [
        "<a href=\"https://colab.research.google.com/github/seon0415/weit/blob/main/%EA%B5%90%EC%9C%A1%EC%88%98%EC%A4%80.ipynb\" target=\"_parent\"><img src=\"https://colab.research.google.com/assets/colab-badge.svg\" alt=\"Open In Colab\"/></a>"
      ]
    },
    {
      "cell_type": "code",
      "execution_count": null,
      "metadata": {
        "id": "m4LcWdheMncN"
      },
      "outputs": [],
      "source": [
        "import pandas as pd\n",
        "import matplotlib.pyplot as plt\n",
        "import seaborn as sns\n",
        "\n",
        "\n",
        "car=pd.read_csv(\"경찰청 서울특별시경찰청_경찰서별 112 순찰차 현황_20211231.csv\", encoding='CP949')\n",
        "police=pd.read_csv(\"경찰청 서울특별시경찰청_경찰서별 지역경찰 현황_20211231.csv\", encoding='CP949')\n",
        "office=pd.read_csv(\"시내주요기관(경찰·소방관서)_20230317212437.csv\", encoding='CP949')"
      ]
    },
    {
      "cell_type": "code",
      "source": [],
      "metadata": {
        "id": "u12SL4rJTNVi"
      },
      "execution_count": null,
      "outputs": []
    }
  ]
}