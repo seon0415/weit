{
  "nbformat": 4,
  "nbformat_minor": 0,
  "metadata": {
    "colab": {
      "provenance": [],
      "authorship_tag": "ABX9TyMMCLNkDEeCRdCE/PItqZeQ",
      "include_colab_link": true
    },
    "kernelspec": {
      "name": "python3",
      "display_name": "Python 3"
    },
    "language_info": {
      "name": "python"
    }
  },
  "cells": [
    {
      "cell_type": "markdown",
      "metadata": {
        "id": "view-in-github",
        "colab_type": "text"
      },
      "source": [
        "<a href=\"https://colab.research.google.com/github/seon0415/weit/blob/main/%EC%97%AC%EC%84%B1%EC%95%88%EC%8B%AC%EA%B7%80%EA%B0%80_%ED%94%84%EB%A1%9C%EC%A0%9D%ED%8A%B8.ipynb\" target=\"_parent\"><img src=\"https://colab.research.google.com/assets/colab-badge.svg\" alt=\"Open In Colab\"/></a>"
      ]
    },
    {
      "cell_type": "markdown",
      "source": [
        "### **- 분석에만 그치지 않고, 분석 및 솔루션 제시까지 하는 걸 목표**\n",
        "\n",
        "\n",
        "### **- 가설: 여성 인구가 많고 여성 범죄율이 높은 지역일 수록 → 안심 귀가 서비스의 필요성이 높아진다**"
      ],
      "metadata": {
        "id": "vS1AuGrxsO49"
      }
    },
    {
      "cell_type": "markdown",
      "source": [
        "1. 관련 데이터 수집 및 EDA\n",
        "    1. 서비스가 어떤 식으로 제공되는지 알아보기 (홈페이지 방문, 앱 사용, 실제 서비스 이용해보기 등의 방법)\n",
        "    2. 데이터랑 데이터를 엮어서 새로운 데이터 만들어내기(EDA)\n",
        "    - **최대한 많은 데이터가 수집되면 좋음 (여기 안 적혀 있는 데이터여도 필요하다 싶으면 가지고 오기)**\n",
        "    - 여성안심귀가스카우트 자치구 별 이용률\n",
        "    - 서울시 여성 가구 밀집도 / 가구수 / etc.\n",
        "    - 서울시 여성 범죄 현황\n",
        "    - 서울시 치안만족도 현황 (경찰청_수사분야 치안고객만족도 결과(관서별))\n",
        "    - 밤 시간대 대중교통 이용 정보(유동 인구가 많은 역)"
      ],
      "metadata": {
        "id": "kG2lcGoNsBRB"
      }
    },
    {
      "cell_type": "markdown",
      "source": [
        "### **여성안심귀가스카우트 자치구 별 이용률**\n"
      ],
      "metadata": {
        "id": "BrsB27Sfsu8y"
      }
    },
    {
      "cell_type": "code",
      "execution_count": null,
      "metadata": {
        "id": "1ooTh2qVsAYm"
      },
      "outputs": [],
      "source": []
    },
    {
      "cell_type": "markdown",
      "source": [
        "### **서울시 여성 가구 밀집도 / 가구수 / etc.**"
      ],
      "metadata": {
        "id": "jJG4fs9rs5pf"
      }
    },
    {
      "cell_type": "markdown",
      "source": [
        "### **서울시 여성 범죄 현황**"
      ],
      "metadata": {
        "id": "Ar6zBesTs897"
      }
    },
    {
      "cell_type": "markdown",
      "source": [
        "### **서울시 치안만족도 현황 (경찰청_수사분야 치안고객만족도 결과(관서별))**\n",
        "- 시각화: 원형그래프"
      ],
      "metadata": {
        "id": "sGsrbxFrtA9-"
      }
    },
    {
      "cell_type": "markdown",
      "source": [
        "### **밤 시간대 대중교통 이용 정보(유동 인구가 많은 역)**"
      ],
      "metadata": {
        "id": "A2YA4pHSsr2d"
      }
    },
    {
      "cell_type": "code",
      "source": [],
      "metadata": {
        "id": "BTG_hRl1sbWQ"
      },
      "execution_count": null,
      "outputs": []
    },
    {
      "cell_type": "code",
      "source": [],
      "metadata": {
        "id": "iiDn7BRxsLhH"
      },
      "execution_count": null,
      "outputs": []
    }
  ]
}