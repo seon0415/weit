{
  "nbformat": 4,
  "nbformat_minor": 0,
  "metadata": {
    "colab": {
      "provenance": [],
      "collapsed_sections": [
        "toF4afW3zEgm",
        "6k3FPwSjzL2Y",
        "_HgzPwkY4Pr6",
        "zUZ57upeB5Zw",
        "KU3oF0OzWDZc"
      ],
      "include_colab_link": true
    },
    "kernelspec": {
      "name": "python3",
      "display_name": "Python 3"
    },
    "language_info": {
      "name": "python"
    }
  },
  "cells": [
    {
      "cell_type": "markdown",
      "metadata": {
        "id": "view-in-github",
        "colab_type": "text"
      },
      "source": [
        "<a href=\"https://colab.research.google.com/github/seon0415/weit/blob/main/%EC%9C%84%EC%95%84%EC%9D%B4%ED%8B%B00213.ipynb\" target=\"_parent\"><img src=\"https://colab.research.google.com/assets/colab-badge.svg\" alt=\"Open In Colab\"/></a>"
      ]
    },
    {
      "cell_type": "markdown",
      "source": [
        "# **seaborn 패키지**\n",
        "\n",
        "- countplot"
      ],
      "metadata": {
        "id": "toF4afW3zEgm"
      }
    },
    {
      "cell_type": "code",
      "execution_count": null,
      "metadata": {
        "colab": {
          "base_uri": "https://localhost:8080/"
        },
        "id": "UvcocEqOwb-D",
        "outputId": "817fd2aa-af56-4d98-9854-2f73ccc39b65"
      },
      "outputs": [
        {
          "output_type": "stream",
          "name": "stdout",
          "text": [
            "330 55 11\n",
            "['hi', 'i', 'am', 'a', 'human']\n"
          ]
        }
      ],
      "source": [
        "var=[11,22,33,11,22,11,11,11,11,11,33,44,44,55]\n",
        "va=['hi','i','am','a','human']\n",
        "print(sum(var),max(var),min(var))\n",
        "print(va)"
      ]
    },
    {
      "cell_type": "code",
      "source": [
        "import seaborn as sns\n",
        "\n",
        "#빈도막대그래프 countplot\n",
        "#x는 파라미터(매개변수)\n",
        "\n",
        "sns.countplot(x=var)"
      ],
      "metadata": {
        "colab": {
          "base_uri": "https://localhost:8080/",
          "height": 283
        },
        "id": "DCjoSyVCxB9T",
        "outputId": "30d7af27-976c-4d7c-f93b-d3ae101d1878"
      },
      "execution_count": null,
      "outputs": [
        {
          "output_type": "execute_result",
          "data": {
            "text/plain": [
              "<matplotlib.axes._subplots.AxesSubplot at 0x7f87ab21c310>"
            ]
          },
          "metadata": {},
          "execution_count": 32
        },
        {
          "output_type": "display_data",
          "data": {
            "text/plain": [
              "<Figure size 432x288 with 1 Axes>"
            ],
            "image/png": "[encoded data removed]"
          },
          "metadata": {
            "needs_background": "light"
          }
        }
      ]
    },
    {
      "cell_type": "code",
      "source": [
        "#데이터불러오기 dataload_dataset\n",
        "df=sns.load_dataset('titanic')\n",
        "df"
      ],
      "metadata": {
        "colab": {
          "base_uri": "https://localhost:8080/",
          "height": 487
        },
        "id": "t3RwAdFexRzI",
        "outputId": "bfd51c7e-e2c7-403c-9f4c-21e7591c718a"
      },
      "execution_count": null,
      "outputs": [
        {
          "output_type": "execute_result",
          "data": {
            "text/plain": [
              "     survived  pclass     sex   age  sibsp  parch     fare embarked   class  \\\n",
              "0           0       3    male  22.0      1      0   7.2500        S   Third   \n",
              "1           1       1  female  38.0      1      0  71.2833        C   First   \n",
              "2           1       3  female  26.0      0      0   7.9250        S   Third   \n",
              "3           1       1  female  35.0      1      0  53.1000        S   First   \n",
              "4           0       3    male  35.0      0      0   8.0500        S   Third   \n",
              "..        ...     ...     ...   ...    ...    ...      ...      ...     ...   \n",
              "886         0       2    male  27.0      0      0  13.0000        S  Second   \n",
              "887         1       1  female  19.0      0      0  30.0000        S   First   \n",
              "888         0       3  female   NaN      1      2  23.4500        S   Third   \n",
              "889         1       1    male  26.0      0      0  30.0000        C   First   \n",
              "890         0       3    male  32.0      0      0   7.7500        Q   Third   \n",
              "\n",
              "       who  adult_male deck  embark_town alive  alone  \n",
              "0      man        True  NaN  Southampton    no  False  \n",
              "1    woman       False    C    Cherbourg   yes  False  \n",
              "2    woman       False  NaN  Southampton   yes   True  \n",
              "3    woman       False    C  Southampton   yes  False  \n",
              "4      man        True  NaN  Southampton    no   True  \n",
              "..     ...         ...  ...          ...   ...    ...  \n",
              "886    man        True  NaN  Southampton    no   True  \n",
              "887  woman       False    B  Southampton   yes   True  \n",
              "888  woman       False  NaN  Southampton    no  False  \n",
              "889    man        True    C    Cherbourg   yes   True  \n",
              "890    man        True  NaN   Queenstown    no   True  \n",
              "\n",
              "[891 rows x 15 columns]"
            ],
            "text/html": [
              "\n",
              "  <div id=\"df-788edacb-5e48-4837-af71-fc8c0af1f810\">\n",
              "    <div class=\"colab-df-container\">\n",
              "      <div>\n",
              "<style scoped>\n",
              "    .dataframe tbody tr th:only-of-type {\n",
              "        vertical-align: middle;\n",
              "    }\n",
              "\n",
              "    .dataframe tbody tr th {\n",
              "        vertical-align: top;\n",
              "    }\n",
              "\n",
              "    .dataframe thead th {\n",
              "        text-align: right;\n",
              "    }\n",
              "</style>\n",
              "<table border=\"1\" class=\"dataframe\">\n",
              "  <thead>\n",
              "    <tr style=\"text-align: right;\">\n",
              "      <th></th>\n",
              "      <th>survived</th>\n",
              "      <th>pclass</th>\n",
              "      <th>sex</th>\n",
              "      <th>age</th>\n",
              "      <th>sibsp</th>\n",
              "      <th>parch</th>\n",
              "      <th>fare</th>\n",
              "      <th>embarked</th>\n",
              "      <th>class</th>\n",
              "      <th>who</th>\n",
              "      <th>adult_male</th>\n",
              "      <th>deck</th>\n",
              "      <th>embark_town</th>\n",
              "      <th>alive</th>\n",
              "      <th>alone</th>\n",
              "    </tr>\n",
              "  </thead>\n",
              "  <tbody>\n",
              "    <tr>\n",
              "      <th>0</th>\n",
              "      <td>0</td>\n",
              "      <td>3</td>\n",
              "      <td>male</td>\n",
              "      <td>22.0</td>\n",
              "      <td>1</td>\n",
              "      <td>0</td>\n",
              "      <td>7.2500</td>\n",
              "      <td>S</td>\n",
              "      <td>Third</td>\n",
              "      <td>man</td>\n",
              "      <td>True</td>\n",
              "      <td>NaN</td>\n",
              "      <td>Southampton</td>\n",
              "      <td>no</td>\n",
              "      <td>False</td>\n",
              "    </tr>\n",
              "    <tr>\n",
              "      <th>1</th>\n",
              "      <td>1</td>\n",
              "      <td>1</td>\n",
              "      <td>female</td>\n",
              "      <td>38.0</td>\n",
              "      <td>1</td>\n",
              "      <td>0</td>\n",
              "      <td>71.2833</td>\n",
              "      <td>C</td>\n",
              "      <td>First</td>\n",
              "      <td>woman</td>\n",
              "      <td>False</td>\n",
              "      <td>C</td>\n",
              "      <td>Cherbourg</td>\n",
              "      <td>yes</td>\n",
              "      <td>False</td>\n",
              "    </tr>\n",
              "    <tr>\n",
              "      <th>2</th>\n",
              "      <td>1</td>\n",
              "      <td>3</td>\n",
              "      <td>female</td>\n",
              "      <td>26.0</td>\n",
              "      <td>0</td>\n",
              "      <td>0</td>\n",
              "      <td>7.9250</td>\n",
              "      <td>S</td>\n",
              "      <td>Third</td>\n",
              "      <td>woman</td>\n",
              "      <td>False</td>\n",
              "      <td>NaN</td>\n",
              "      <td>Southampton</td>\n",
              "      <td>yes</td>\n",
              "      <td>True</td>\n",
              "    </tr>\n",
              "    <tr>\n",
              "      <th>3</th>\n",
              "      <td>1</td>\n",
              "      <td>1</td>\n",
              "      <td>female</td>\n",
              "      <td>35.0</td>\n",
              "      <td>1</td>\n",
              "      <td>0</td>\n",
              "      <td>53.1000</td>\n",
              "      <td>S</td>\n",
              "      <td>First</td>\n",
              "      <td>woman</td>\n",
              "      <td>False</td>\n",
              "      <td>C</td>\n",
              "      <td>Southampton</td>\n",
              "      <td>yes</td>\n",
              "      <td>False</td>\n",
              "    </tr>\n",
              "    <tr>\n",
              "      <th>4</th>\n",
              "      <td>0</td>\n",
              "      <td>3</td>\n",
              "      <td>male</td>\n",
              "      <td>35.0</td>\n",
              "      <td>0</td>\n",
              "      <td>0</td>\n",
              "      <td>8.0500</td>\n",
              "      <td>S</td>\n",
              "      <td>Third</td>\n",
              "      <td>man</td>\n",
              "      <td>True</td>\n",
              "      <td>NaN</td>\n",
              "      <td>Southampton</td>\n",
              "      <td>no</td>\n",
              "      <td>True</td>\n",
              "    </tr>\n",
              "    <tr>\n",
              "      <th>...</th>\n",
              "      <td>...</td>\n",
              "      <td>...</td>\n",
              "      <td>...</td>\n",
              "      <td>...</td>\n",
              "      <td>...</td>\n",
              "      <td>...</td>\n",
              "      <td>...</td>\n",
              "      <td>...</td>\n",
              "      <td>...</td>\n",
              "      <td>...</td>\n",
              "      <td>...</td>\n",
              "      <td>...</td>\n",
              "      <td>...</td>\n",
              "      <td>...</td>\n",
              "      <td>...</td>\n",
              "    </tr>\n",
              "    <tr>\n",
              "      <th>886</th>\n",
              "      <td>0</td>\n",
              "      <td>2</td>\n",
              "      <td>male</td>\n",
              "      <td>27.0</td>\n",
              "      <td>0</td>\n",
              "      <td>0</td>\n",
              "      <td>13.0000</td>\n",
              "      <td>S</td>\n",
              "      <td>Second</td>\n",
              "      <td>man</td>\n",
              "      <td>True</td>\n",
              "      <td>NaN</td>\n",
              "      <td>Southampton</td>\n",
              "      <td>no</td>\n",
              "      <td>True</td>\n",
              "    </tr>\n",
              "    <tr>\n",
              "      <th>887</th>\n",
              "      <td>1</td>\n",
              "      <td>1</td>\n",
              "      <td>female</td>\n",
              "      <td>19.0</td>\n",
              "      <td>0</td>\n",
              "      <td>0</td>\n",
              "      <td>30.0000</td>\n",
              "      <td>S</td>\n",
              "      <td>First</td>\n",
              "      <td>woman</td>\n",
              "      <td>False</td>\n",
              "      <td>B</td>\n",
              "      <td>Southampton</td>\n",
              "      <td>yes</td>\n",
              "      <td>True</td>\n",
              "    </tr>\n",
              "    <tr>\n",
              "      <th>888</th>\n",
              "      <td>0</td>\n",
              "      <td>3</td>\n",
              "      <td>female</td>\n",
              "      <td>NaN</td>\n",
              "      <td>1</td>\n",
              "      <td>2</td>\n",
              "      <td>23.4500</td>\n",
              "      <td>S</td>\n",
              "      <td>Third</td>\n",
              "      <td>woman</td>\n",
              "      <td>False</td>\n",
              "      <td>NaN</td>\n",
              "      <td>Southampton</td>\n",
              "      <td>no</td>\n",
              "      <td>False</td>\n",
              "    </tr>\n",
              "    <tr>\n",
              "      <th>889</th>\n",
              "      <td>1</td>\n",
              "      <td>1</td>\n",
              "      <td>male</td>\n",
              "      <td>26.0</td>\n",
              "      <td>0</td>\n",
              "      <td>0</td>\n",
              "      <td>30.0000</td>\n",
              "      <td>C</td>\n",
              "      <td>First</td>\n",
              "      <td>man</td>\n",
              "      <td>True</td>\n",
              "      <td>C</td>\n",
              "      <td>Cherbourg</td>\n",
              "      <td>yes</td>\n",
              "      <td>True</td>\n",
              "    </tr>\n",
              "    <tr>\n",
              "      <th>890</th>\n",
              "      <td>0</td>\n",
              "      <td>3</td>\n",
              "      <td>male</td>\n",
              "      <td>32.0</td>\n",
              "      <td>0</td>\n",
              "      <td>0</td>\n",
              "      <td>7.7500</td>\n",
              "      <td>Q</td>\n",
              "      <td>Third</td>\n",
              "      <td>man</td>\n",
              "      <td>True</td>\n",
              "      <td>NaN</td>\n",
              "      <td>Queenstown</td>\n",
              "      <td>no</td>\n",
              "      <td>True</td>\n",
              "    </tr>\n",
              "  </tbody>\n",
              "</table>\n",
              "<p>891 rows × 15 columns</p>\n",
              "</div>\n",
              "      <button class=\"colab-df-convert\" onclick=\"convertToInteractive('df-788edacb-5e48-4837-af71-fc8c0af1f810')\"\n",
              "              title=\"Convert this dataframe to an interactive table.\"\n",
              "              style=\"display:none;\">\n",
              "        \n",
              "  <svg xmlns=\"http://www.w3.org/2000/svg\" height=\"24px\"viewBox=\"0 0 24 24\"\n",
              "       width=\"24px\">\n",
              "    <path d=\"M0 0h24v24H0V0z\" fill=\"none\"/>\n",
              "    <path d=\"M18.56 5.44l.94 2.06.94-2.06 2.06-.94-2.06-.94-.94-2.06-.94 2.06-2.06.94zm-11 1L8.5 8.5l.94-2.06 2.06-.94-2.06-.94L8.5 2.5l-.94 2.06-2.06.94zm10 10l.94 2.06.94-2.06 2.06-.94-2.06-.94-.94-2.06-.94 2.06-2.06.94z\"/><path d=\"M17.41 7.96l-1.37-1.37c-.4-.4-.92-.59-1.43-.59-.52 0-1.04.2-1.43.59L10.3 9.45l-7.72 7.72c-.78.78-.78 2.05 0 2.83L4 21.41c.39.39.9.59 1.41.59.51 0 1.02-.2 1.41-.59l7.78-7.78 2.81-2.81c.8-.78.8-2.07 0-2.86zM5.41 20L4 18.59l7.72-7.72 1.47 1.35L5.41 20z\"/>\n",
              "  </svg>\n",
              "      </button>\n",
              "      \n",
              "  <style>\n",
              "    .colab-df-container {\n",
              "      display:flex;\n",
              "      flex-wrap:wrap;\n",
              "      gap: 12px;\n",
              "    }\n",
              "\n",
              "    .colab-df-convert {\n",
              "      background-color: #E8F0FE;\n",
              "      border: none;\n",
              "      border-radius: 50%;\n",
              "      cursor: pointer;\n",
              "      display: none;\n",
              "      fill: #1967D2;\n",
              "      height: 32px;\n",
              "      padding: 0 0 0 0;\n",
              "      width: 32px;\n",
              "    }\n",
              "\n",
              "    .colab-df-convert:hover {\n",
              "      background-color: #E2EBFA;\n",
              "      box-shadow: 0px 1px 2px rgba(60, 64, 67, 0.3), 0px 1px 3px 1px rgba(60, 64, 67, 0.15);\n",
              "      fill: #174EA6;\n",
              "    }\n",
              "\n",
              "    [theme=dark] .colab-df-convert {\n",
              "      background-color: #3B4455;\n",
              "      fill: #D2E3FC;\n",
              "    }\n",
              "\n",
              "    [theme=dark] .colab-df-convert:hover {\n",
              "      background-color: #434B5C;\n",
              "      box-shadow: 0px 1px 3px 1px rgba(0, 0, 0, 0.15);\n",
              "      filter: drop-shadow(0px 1px 2px rgba(0, 0, 0, 0.3));\n",
              "      fill: #FFFFFF;\n",
              "    }\n",
              "  </style>\n",
              "\n",
              "      <script>\n",
              "        const buttonEl =\n",
              "          document.querySelector('#df-788edacb-5e48-4837-af71-fc8c0af1f810 button.colab-df-convert');\n",
              "        buttonEl.style.display =\n",
              "          google.colab.kernel.accessAllowed ? 'block' : 'none';\n",
              "\n",
              "        async function convertToInteractive(key) {\n",
              "          const element = document.querySelector('#df-788edacb-5e48-4837-af71-fc8c0af1f810');\n",
              "          const dataTable =\n",
              "            await google.colab.kernel.invokeFunction('convertToInteractive',\n",
              "                                                     [key], {});\n",
              "          if (!dataTable) return;\n",
              "\n",
              "          const docLinkHtml = 'Like what you see? Visit the ' +\n",
              "            '<a target=\"_blank\" href=https://colab.research.google.com/notebooks/data_table.ipynb>data table notebook</a>'\n",
              "            + ' to learn more about interactive tables.';\n",
              "          element.innerHTML = '';\n",
              "          dataTable['output_type'] = 'display_data';\n",
              "          await google.colab.output.renderOutput(dataTable, element);\n",
              "          const docLink = document.createElement('div');\n",
              "          docLink.innerHTML = docLinkHtml;\n",
              "          element.appendChild(docLink);\n",
              "        }\n",
              "      </script>\n",
              "    </div>\n",
              "  </div>\n",
              "  "
            ]
          },
          "metadata": {},
          "execution_count": 9
        }
      ]
    },
    {
      "cell_type": "code",
      "source": [
        "#countplot의 파라미터 바꿔보기\n",
        "sns.countplot(data=df, x='sex')\n",
        "sns.countplot(data=df, x='sex', hue='alive')\n",
        "sns.countplot(data=df, y='class', hue='alive')\n",
        "\n",
        "#sns.countplot?"
      ],
      "metadata": {
        "colab": {
          "base_uri": "https://localhost:8080/",
          "height": 297
        },
        "id": "ewgTtDoix6aV",
        "outputId": "92583f29-60e2-438d-a95b-d9829c1f2614"
      },
      "execution_count": null,
      "outputs": [
        {
          "output_type": "execute_result",
          "data": {
            "text/plain": [
              "<matplotlib.axes._subplots.AxesSubplot at 0x7f37944a3040>"
            ]
          },
          "metadata": {},
          "execution_count": 14
        },
        {
          "output_type": "display_data",
          "data": {
            "text/plain": [
              "<Figure size 432x288 with 1 Axes>"
            ],
            "image/png": "[encoded data removed]"
          },
          "metadata": {
            "needs_background": "light"
          }
        }
      ]
    },
    {
      "cell_type": "markdown",
      "source": [
        "# **모듈**\n",
        "- sklearn"
      ],
      "metadata": {
        "id": "6k3FPwSjzL2Y"
      }
    },
    {
      "cell_type": "markdown",
      "source": [
        "sklearn 패키지: metrics, tree, model_selection\n",
        "\n",
        "\n",
        "*   metrics-> accuracy_score(): 머신러닝 모델 예측이 얼마나 정확한지 성능 평가\n"
      ],
      "metadata": {
        "id": "vJ_Zn94y1lAe"
      }
    },
    {
      "cell_type": "code",
      "source": [
        "import sklearn.metrics\n",
        "sklearn.metrics.accuracy_score()\n",
        "#함수에 입력안해서 에러 나옴\n",
        "\n",
        "from sklearn import metrics\n",
        "metrics.accuracy_score()\n",
        "\n",
        "from sklearn.metrics import accuracy_score\n",
        "accuracy_score()"
      ],
      "metadata": {
        "id": "IroC8HlB3Lvo"
      },
      "execution_count": null,
      "outputs": []
    },
    {
      "cell_type": "markdown",
      "source": [
        "# **PyDataset**"
      ],
      "metadata": {
        "id": "_HgzPwkY4Pr6"
      }
    },
    {
      "cell_type": "code",
      "source": [
        "pip install pydataset"
      ],
      "metadata": {
        "id": "-Z4VuYCO4XKt"
      },
      "execution_count": null,
      "outputs": []
    },
    {
      "cell_type": "code",
      "source": [
        "import pydataset\n",
        "\n",
        "pydataset.data()"
      ],
      "metadata": {
        "colab": {
          "base_uri": "https://localhost:8080/",
          "height": 423
        },
        "id": "nXY8-1YlzQ4n",
        "outputId": "37268a13-f99e-4eab-bb8b-a6244bddb410"
      },
      "execution_count": null,
      "outputs": [
        {
          "output_type": "execute_result",
          "data": {
            "text/plain": [
              "        dataset_id                                             title\n",
              "0    AirPassengers       Monthly Airline Passenger Numbers 1949-1960\n",
              "1          BJsales                 Sales Data with Leading Indicator\n",
              "2              BOD                         Biochemical Oxygen Demand\n",
              "3     Formaldehyde                     Determination of Formaldehyde\n",
              "4     HairEyeColor         Hair and Eye Color of Statistics Students\n",
              "..             ...                                               ...\n",
              "752        VerbAgg                  Verbal Aggression item responses\n",
              "753           cake                 Breakage Angle of Chocolate Cakes\n",
              "754           cbpp                 Contagious bovine pleuropneumonia\n",
              "755    grouseticks  Data on red grouse ticks from Elston et al. 2001\n",
              "756     sleepstudy       Reaction times in a sleep deprivation study\n",
              "\n",
              "[757 rows x 2 columns]"
            ],
            "text/html": [
              "\n",
              "  <div id=\"df-5c208003-062b-4ff1-8a2d-5d8c05f92852\">\n",
              "    <div class=\"colab-df-container\">\n",
              "      <div>\n",
              "<style scoped>\n",
              "    .dataframe tbody tr th:only-of-type {\n",
              "        vertical-align: middle;\n",
              "    }\n",
              "\n",
              "    .dataframe tbody tr th {\n",
              "        vertical-align: top;\n",
              "    }\n",
              "\n",
              "    .dataframe thead th {\n",
              "        text-align: right;\n",
              "    }\n",
              "</style>\n",
              "<table border=\"1\" class=\"dataframe\">\n",
              "  <thead>\n",
              "    <tr style=\"text-align: right;\">\n",
              "      <th></th>\n",
              "      <th>dataset_id</th>\n",
              "      <th>title</th>\n",
              "    </tr>\n",
              "  </thead>\n",
              "  <tbody>\n",
              "    <tr>\n",
              "      <th>0</th>\n",
              "      <td>AirPassengers</td>\n",
              "      <td>Monthly Airline Passenger Numbers 1949-1960</td>\n",
              "    </tr>\n",
              "    <tr>\n",
              "      <th>1</th>\n",
              "      <td>BJsales</td>\n",
              "      <td>Sales Data with Leading Indicator</td>\n",
              "    </tr>\n",
              "    <tr>\n",
              "      <th>2</th>\n",
              "      <td>BOD</td>\n",
              "      <td>Biochemical Oxygen Demand</td>\n",
              "    </tr>\n",
              "    <tr>\n",
              "      <th>3</th>\n",
              "      <td>Formaldehyde</td>\n",
              "      <td>Determination of Formaldehyde</td>\n",
              "    </tr>\n",
              "    <tr>\n",
              "      <th>4</th>\n",
              "      <td>HairEyeColor</td>\n",
              "      <td>Hair and Eye Color of Statistics Students</td>\n",
              "    </tr>\n",
              "    <tr>\n",
              "      <th>...</th>\n",
              "      <td>...</td>\n",
              "      <td>...</td>\n",
              "    </tr>\n",
              "    <tr>\n",
              "      <th>752</th>\n",
              "      <td>VerbAgg</td>\n",
              "      <td>Verbal Aggression item responses</td>\n",
              "    </tr>\n",
              "    <tr>\n",
              "      <th>753</th>\n",
              "      <td>cake</td>\n",
              "      <td>Breakage Angle of Chocolate Cakes</td>\n",
              "    </tr>\n",
              "    <tr>\n",
              "      <th>754</th>\n",
              "      <td>cbpp</td>\n",
              "      <td>Contagious bovine pleuropneumonia</td>\n",
              "    </tr>\n",
              "    <tr>\n",
              "      <th>755</th>\n",
              "      <td>grouseticks</td>\n",
              "      <td>Data on red grouse ticks from Elston et al. 2001</td>\n",
              "    </tr>\n",
              "    <tr>\n",
              "      <th>756</th>\n",
              "      <td>sleepstudy</td>\n",
              "      <td>Reaction times in a sleep deprivation study</td>\n",
              "    </tr>\n",
              "  </tbody>\n",
              "</table>\n",
              "<p>757 rows × 2 columns</p>\n",
              "</div>\n",
              "      <button class=\"colab-df-convert\" onclick=\"convertToInteractive('df-5c208003-062b-4ff1-8a2d-5d8c05f92852')\"\n",
              "              title=\"Convert this dataframe to an interactive table.\"\n",
              "              style=\"display:none;\">\n",
              "        \n",
              "  <svg xmlns=\"http://www.w3.org/2000/svg\" height=\"24px\"viewBox=\"0 0 24 24\"\n",
              "       width=\"24px\">\n",
              "    <path d=\"M0 0h24v24H0V0z\" fill=\"none\"/>\n",
              "    <path d=\"M18.56 5.44l.94 2.06.94-2.06 2.06-.94-2.06-.94-.94-2.06-.94 2.06-2.06.94zm-11 1L8.5 8.5l.94-2.06 2.06-.94-2.06-.94L8.5 2.5l-.94 2.06-2.06.94zm10 10l.94 2.06.94-2.06 2.06-.94-2.06-.94-.94-2.06-.94 2.06-2.06.94z\"/><path d=\"M17.41 7.96l-1.37-1.37c-.4-.4-.92-.59-1.43-.59-.52 0-1.04.2-1.43.59L10.3 9.45l-7.72 7.72c-.78.78-.78 2.05 0 2.83L4 21.41c.39.39.9.59 1.41.59.51 0 1.02-.2 1.41-.59l7.78-7.78 2.81-2.81c.8-.78.8-2.07 0-2.86zM5.41 20L4 18.59l7.72-7.72 1.47 1.35L5.41 20z\"/>\n",
              "  </svg>\n",
              "      </button>\n",
              "      \n",
              "  <style>\n",
              "    .colab-df-container {\n",
              "      display:flex;\n",
              "      flex-wrap:wrap;\n",
              "      gap: 12px;\n",
              "    }\n",
              "\n",
              "    .colab-df-convert {\n",
              "      background-color: #E8F0FE;\n",
              "      border: none;\n",
              "      border-radius: 50%;\n",
              "      cursor: pointer;\n",
              "      display: none;\n",
              "      fill: #1967D2;\n",
              "      height: 32px;\n",
              "      padding: 0 0 0 0;\n",
              "      width: 32px;\n",
              "    }\n",
              "\n",
              "    .colab-df-convert:hover {\n",
              "      background-color: #E2EBFA;\n",
              "      box-shadow: 0px 1px 2px rgba(60, 64, 67, 0.3), 0px 1px 3px 1px rgba(60, 64, 67, 0.15);\n",
              "      fill: #174EA6;\n",
              "    }\n",
              "\n",
              "    [theme=dark] .colab-df-convert {\n",
              "      background-color: #3B4455;\n",
              "      fill: #D2E3FC;\n",
              "    }\n",
              "\n",
              "    [theme=dark] .colab-df-convert:hover {\n",
              "      background-color: #434B5C;\n",
              "      box-shadow: 0px 1px 3px 1px rgba(0, 0, 0, 0.15);\n",
              "      filter: drop-shadow(0px 1px 2px rgba(0, 0, 0, 0.3));\n",
              "      fill: #FFFFFF;\n",
              "    }\n",
              "  </style>\n",
              "\n",
              "      <script>\n",
              "        const buttonEl =\n",
              "          document.querySelector('#df-5c208003-062b-4ff1-8a2d-5d8c05f92852 button.colab-df-convert');\n",
              "        buttonEl.style.display =\n",
              "          google.colab.kernel.accessAllowed ? 'block' : 'none';\n",
              "\n",
              "        async function convertToInteractive(key) {\n",
              "          const element = document.querySelector('#df-5c208003-062b-4ff1-8a2d-5d8c05f92852');\n",
              "          const dataTable =\n",
              "            await google.colab.kernel.invokeFunction('convertToInteractive',\n",
              "                                                     [key], {});\n",
              "          if (!dataTable) return;\n",
              "\n",
              "          const docLinkHtml = 'Like what you see? Visit the ' +\n",
              "            '<a target=\"_blank\" href=https://colab.research.google.com/notebooks/data_table.ipynb>data table notebook</a>'\n",
              "            + ' to learn more about interactive tables.';\n",
              "          element.innerHTML = '';\n",
              "          dataTable['output_type'] = 'display_data';\n",
              "          await google.colab.output.renderOutput(dataTable, element);\n",
              "          const docLink = document.createElement('div');\n",
              "          docLink.innerHTML = docLinkHtml;\n",
              "          element.appendChild(docLink);\n",
              "        }\n",
              "      </script>\n",
              "    </div>\n",
              "  </div>\n",
              "  "
            ]
          },
          "metadata": {},
          "execution_count": 19
        }
      ]
    },
    {
      "cell_type": "code",
      "source": [
        "df=pydataset.data('mtcars')\n",
        "df"
      ],
      "metadata": {
        "id": "lpawaigR4jFB"
      },
      "execution_count": null,
      "outputs": []
    },
    {
      "cell_type": "markdown",
      "source": [
        "# **데이터 프레임**"
      ],
      "metadata": {
        "id": "RdsHaT1Y5GBJ"
      }
    },
    {
      "cell_type": "markdown",
      "source": [
        "열: column(위아래), 행: row(옆으로)\n",
        "- 데이터 분석의 가치는 어떤 현상이 조건에 따라 달라진다는 사리을 발견할 때 생겨난다. 그래서 많은 양보다 다양한 데이터가 중요하다"
      ],
      "metadata": {
        "id": "dNbvnNdB6__X"
      }
    },
    {
      "cell_type": "markdown",
      "source": [
        "# **데이터 만들기, 불러오기(read), 저장하기(to)**"
      ],
      "metadata": {
        "id": "zUZ57upeB5Zw"
      }
    },
    {
      "cell_type": "code",
      "source": [
        "# 데이터프레임 만들기\n",
        "import pandas as pd\n",
        "\n",
        "df=pd.DataFrame(\n",
        "    {'name': ['김지훈', '이유진', '박동현', '김민지'],\n",
        "     'english': [90, 80, 60, 70],\n",
        "     'math': [50,60,100,20]}\n",
        ")\n",
        "print(df)\n",
        "print(df['english'])\n",
        "print(sum(df['english']), float(sum(df['math']/4)))"
      ],
      "metadata": {
        "id": "eZqzH_Xb6_r1"
      },
      "execution_count": null,
      "outputs": []
    },
    {
      "cell_type": "code",
      "source": [
        "# 엑셀 파일 불러오기\n",
        "df_exam=pd.read_excel('excel_exam.xlsx')\n",
        "print(df_exam)\n",
        "print(sum(df_exam['english'])/len(df_exam))\n",
        "\n",
        "# https://github.com/youngwoos/Doit_Python/blob/main/Data/excel_exam.xlsx"
      ],
      "metadata": {
        "id": "HbyWjr8d5FI8"
      },
      "execution_count": null,
      "outputs": []
    },
    {
      "cell_type": "code",
      "source": [
        "df_exam_novar=pd.read_excel('excel_exam_novar.xlsx', header=None)\n",
        "df_exam_novar\n",
        "\n",
        "# 첫번째 행을 변수명이 아닌 데이터로 인식\n",
        "# https://github.com/youngwoos/Doit_Python/blob/main/Data/excel_exam_novar.xlsx"
      ],
      "metadata": {
        "id": "2fT4Ni_5-x-g"
      },
      "execution_count": null,
      "outputs": []
    },
    {
      "cell_type": "code",
      "source": [
        "# csv 파일 불러오기\n",
        "df_csv_exam=pd.read_csv('exam.csv')\n",
        "df_csv_exam"
      ],
      "metadata": {
        "id": "dwNoR2_uATzA"
      },
      "execution_count": null,
      "outputs": []
    },
    {
      "cell_type": "code",
      "source": [
        "# csv 파일로 저장하기\n",
        "df_midterm=pd.DataFrame(\n",
        "    {'name': ['김지훈', '이유진', '박동현', '김민지'],\n",
        "     'english': [90, 80, 60, 70],\n",
        "     'math': [50,60,100,20]}\n",
        ")\n",
        "\n",
        "df_midterm.to_csv(\"output_newdata.csv\", index= False)\n",
        "#인덱스 번호 제외하고 저장"
      ],
      "metadata": {
        "id": "spNMNpX6Aw0I"
      },
      "execution_count": null,
      "outputs": []
    },
    {
      "cell_type": "markdown",
      "source": [
        "# **데이터 파악하기**\n",
        "- head, tail, count, max 등등"
      ],
      "metadata": {
        "id": "FX5X8zTe85TL"
      }
    },
    {
      "cell_type": "markdown",
      "source": [
        "- head(): 앞부분 출력\n",
        "- tail(): 뒷부분 출력\n",
        "- shape: 행, 열 개수 출력\n",
        "- info(): 변수 속성 출력\n",
        "- describe(): 요약 통계량 출력"
      ],
      "metadata": {
        "id": "-swIdm5KCHe4"
      }
    },
    {
      "cell_type": "code",
      "source": [
        "import pandas as pd\n",
        "\n",
        "exam=pd.read_csv('exam.csv')\n",
        "print(exam.head(10))\n",
        "print(exam.shape)\n",
        "print(exam.info)\n",
        "print(exam.describe())"
      ],
      "metadata": {
        "id": "itmrcMJWCB9Q"
      },
      "execution_count": null,
      "outputs": []
    },
    {
      "cell_type": "code",
      "source": [
        "import pandas as pd\n",
        "\n",
        "exam=pd.read_excel('excel_exam.xlsx')\n",
        "print(exam.head(10))\n",
        "print(\"exam.shape: \",exam.shape)\n",
        "print(\"exam.info \\n\",exam.info())\n",
        "print(\"exam.describe() \\n\",exam.describe())"
      ],
      "metadata": {
        "id": "Rv2-6ahVCzfL",
        "colab": {
          "base_uri": "https://localhost:8080/"
        },
        "outputId": "04eeca76-3874-46dc-add2-2c65e6f8d2da"
      },
      "execution_count": null,
      "outputs": [
        {
          "output_type": "stream",
          "name": "stdout",
          "text": [
            "   id  nclass  math  english  science\n",
            "0   1       1    50       98       50\n",
            "1   2       1    60       97       60\n",
            "2   3       1    45       86       78\n",
            "3   4       1    30       98       58\n",
            "4   5       2    25       80       65\n",
            "5   6       2    50       89       98\n",
            "6   7       2    80       90       45\n",
            "7   8       2    90       78       25\n",
            "8   9       3    20       98       15\n",
            "9  10       3    50       98       45\n",
            "exam.shape:  (20, 5)\n",
            "<class 'pandas.core.frame.DataFrame'>\n",
            "RangeIndex: 20 entries, 0 to 19\n",
            "Data columns (total 5 columns):\n",
            " #   Column   Non-Null Count  Dtype\n",
            "---  ------   --------------  -----\n",
            " 0   id       20 non-null     int64\n",
            " 1   nclass   20 non-null     int64\n",
            " 2   math     20 non-null     int64\n",
            " 3   english  20 non-null     int64\n",
            " 4   science  20 non-null     int64\n",
            "dtypes: int64(5)\n",
            "memory usage: 928.0 bytes\n",
            "exam.info \n",
            " None\n",
            "exam.describe() \n",
            "              id     nclass       math    english    science\n",
            "count  20.00000  20.000000  20.000000  20.000000  20.000000\n",
            "mean   10.50000   3.000000  57.450000  84.900000  59.450000\n",
            "std     5.91608   1.450953  20.299015  12.875517  25.292968\n",
            "min     1.00000   1.000000  20.000000  56.000000  12.000000\n",
            "25%     5.75000   2.000000  45.750000  78.000000  45.000000\n",
            "50%    10.50000   3.000000  54.000000  86.500000  62.500000\n",
            "75%    15.25000   4.000000  75.750000  98.000000  78.000000\n",
            "max    20.00000   5.000000  90.000000  98.000000  98.000000\n"
          ]
        }
      ]
    },
    {
      "cell_type": "code",
      "source": [
        "exam"
      ],
      "metadata": {
        "id": "0J0FjkXskU9J"
      },
      "execution_count": null,
      "outputs": []
    },
    {
      "cell_type": "markdown",
      "source": [
        "- count: 값의 개수\n",
        "- top: 최빈값\n",
        "- freq: 최빈값 빈도\n",
        "\n",
        "- mean: 평균\n",
        "- std: 표준편차, 평균에서 떨어진 정도\n",
        "- min: 최소값\n",
        "- max: 최대값\n",
        "- 25%: 1사분위수, 하위 25% 지점에 위치한 값\n",
        "- 50%: 중앙값"
      ],
      "metadata": {
        "id": "9gvV5gm3C1QS"
      }
    },
    {
      "cell_type": "code",
      "source": [
        "print(exam.math.count(), exam.math.max())"
      ],
      "metadata": {
        "colab": {
          "base_uri": "https://localhost:8080/"
        },
        "id": "skBF9bT_kIGS",
        "outputId": "10e6679c-8013-4bc4-ec54-4d7f41b8f62d"
      },
      "execution_count": null,
      "outputs": [
        {
          "output_type": "stream",
          "name": "stdout",
          "text": [
            "20 90\n"
          ]
        }
      ]
    },
    {
      "cell_type": "code",
      "source": [
        "exam.top() \n",
        "#...??"
      ],
      "metadata": {
        "id": "M6gGXs9Ok_v1"
      },
      "execution_count": null,
      "outputs": []
    },
    {
      "cell_type": "markdown",
      "source": [
        "# **함수와 메서드 차이**"
      ],
      "metadata": {
        "id": "NcF4tbkjmH3t"
      }
    },
    {
      "cell_type": "markdown",
      "source": [
        "- 내장함수: sum(), 별도로 패키지 부를 필요 없음\n",
        "- 패키지함수: 패키지를 불러야 쓸 수 있는 함수(pd.DataFrame, pd.read_csv)\n",
        "- 메서드: 변수가 지니고 있는 함수(변수,head, 변수.info)\n",
        "- 어트리뷰트: 변수가 지니고 있는 값\n",
        "\n",
        "---\n",
        "\n",
        ">  변수의 자료 구조에 따라 사용할 수 있는 메서드가 다르다!\n",
        "\n",
        "> 데이터프레임에서 head를 사용할 수 있지만(위에만 5개 출력), 리스트에서는 head를 쓸 수 없다\n",
        "\n",
        "\n",
        "> 변수의 자료구조는 type(변수)를 통해 알 수 있다\n",
        "\n",
        "---\n",
        "\n",
        "> 메서드는 괄호를 쓰고, 어트리뷰트는 괄호를 쓰지 않는다\n",
        "\n",
        "\n",
        "> 메서드: df.head(), df.info()\n",
        "\n",
        "> 어트리뷰트: df.shape\n",
        "\n",
        "\n",
        "\n",
        "\n",
        "\n",
        "\n",
        "\n",
        "\n"
      ],
      "metadata": {
        "id": "EBPR2o6DmPy3"
      }
    },
    {
      "cell_type": "markdown",
      "source": [],
      "metadata": {
        "id": "tyAGx0tQn8VA"
      }
    },
    {
      "cell_type": "markdown",
      "source": [],
      "metadata": {
        "id": "Pa2CxmSBpH8y"
      }
    },
    {
      "cell_type": "markdown",
      "source": [
        "# **데이터 변수명 바꾸기**\n",
        "- copy, rename"
      ],
      "metadata": {
        "id": "9sypkYbdpI-y"
      }
    },
    {
      "cell_type": "code",
      "source": [
        "df_raw=pd.DataFrame({\n",
        "    'var1':[1,2,1],\n",
        "    'var2':[2,3,2] \n",
        "})\n",
        "df_new=df_raw.copy()\n",
        "df_new=df_new.rename(columns={'var1':'v1','var2':'v2'})  #var1를 v1로, var2를 v2로 바꿈\n",
        "df_new"
      ],
      "metadata": {
        "colab": {
          "base_uri": "https://localhost:8080/",
          "height": 143
        },
        "id": "b_l7mGCppOE2",
        "outputId": "f54828f7-4ee0-4fe4-c62a-607b9d610a82"
      },
      "execution_count": null,
      "outputs": [
        {
          "output_type": "execute_result",
          "data": {
            "text/plain": [
              "   v1  v2\n",
              "0   1   2\n",
              "1   2   3\n",
              "2   1   2"
            ],
            "text/html": [
              "\n",
              "  <div id=\"df-66b88e2b-f8b1-4ae8-9502-4e1c0e004124\">\n",
              "    <div class=\"colab-df-container\">\n",
              "      <div>\n",
              "<style scoped>\n",
              "    .dataframe tbody tr th:only-of-type {\n",
              "        vertical-align: middle;\n",
              "    }\n",
              "\n",
              "    .dataframe tbody tr th {\n",
              "        vertical-align: top;\n",
              "    }\n",
              "\n",
              "    .dataframe thead th {\n",
              "        text-align: right;\n",
              "    }\n",
              "</style>\n",
              "<table border=\"1\" class=\"dataframe\">\n",
              "  <thead>\n",
              "    <tr style=\"text-align: right;\">\n",
              "      <th></th>\n",
              "      <th>v1</th>\n",
              "      <th>v2</th>\n",
              "    </tr>\n",
              "  </thead>\n",
              "  <tbody>\n",
              "    <tr>\n",
              "      <th>0</th>\n",
              "      <td>1</td>\n",
              "      <td>2</td>\n",
              "    </tr>\n",
              "    <tr>\n",
              "      <th>1</th>\n",
              "      <td>2</td>\n",
              "      <td>3</td>\n",
              "    </tr>\n",
              "    <tr>\n",
              "      <th>2</th>\n",
              "      <td>1</td>\n",
              "      <td>2</td>\n",
              "    </tr>\n",
              "  </tbody>\n",
              "</table>\n",
              "</div>\n",
              "      <button class=\"colab-df-convert\" onclick=\"convertToInteractive('df-66b88e2b-f8b1-4ae8-9502-4e1c0e004124')\"\n",
              "              title=\"Convert this dataframe to an interactive table.\"\n",
              "              style=\"display:none;\">\n",
              "        \n",
              "  <svg xmlns=\"http://www.w3.org/2000/svg\" height=\"24px\"viewBox=\"0 0 24 24\"\n",
              "       width=\"24px\">\n",
              "    <path d=\"M0 0h24v24H0V0z\" fill=\"none\"/>\n",
              "    <path d=\"M18.56 5.44l.94 2.06.94-2.06 2.06-.94-2.06-.94-.94-2.06-.94 2.06-2.06.94zm-11 1L8.5 8.5l.94-2.06 2.06-.94-2.06-.94L8.5 2.5l-.94 2.06-2.06.94zm10 10l.94 2.06.94-2.06 2.06-.94-2.06-.94-.94-2.06-.94 2.06-2.06.94z\"/><path d=\"M17.41 7.96l-1.37-1.37c-.4-.4-.92-.59-1.43-.59-.52 0-1.04.2-1.43.59L10.3 9.45l-7.72 7.72c-.78.78-.78 2.05 0 2.83L4 21.41c.39.39.9.59 1.41.59.51 0 1.02-.2 1.41-.59l7.78-7.78 2.81-2.81c.8-.78.8-2.07 0-2.86zM5.41 20L4 18.59l7.72-7.72 1.47 1.35L5.41 20z\"/>\n",
              "  </svg>\n",
              "      </button>\n",
              "      \n",
              "  <style>\n",
              "    .colab-df-container {\n",
              "      display:flex;\n",
              "      flex-wrap:wrap;\n",
              "      gap: 12px;\n",
              "    }\n",
              "\n",
              "    .colab-df-convert {\n",
              "      background-color: #E8F0FE;\n",
              "      border: none;\n",
              "      border-radius: 50%;\n",
              "      cursor: pointer;\n",
              "      display: none;\n",
              "      fill: #1967D2;\n",
              "      height: 32px;\n",
              "      padding: 0 0 0 0;\n",
              "      width: 32px;\n",
              "    }\n",
              "\n",
              "    .colab-df-convert:hover {\n",
              "      background-color: #E2EBFA;\n",
              "      box-shadow: 0px 1px 2px rgba(60, 64, 67, 0.3), 0px 1px 3px 1px rgba(60, 64, 67, 0.15);\n",
              "      fill: #174EA6;\n",
              "    }\n",
              "\n",
              "    [theme=dark] .colab-df-convert {\n",
              "      background-color: #3B4455;\n",
              "      fill: #D2E3FC;\n",
              "    }\n",
              "\n",
              "    [theme=dark] .colab-df-convert:hover {\n",
              "      background-color: #434B5C;\n",
              "      box-shadow: 0px 1px 3px 1px rgba(0, 0, 0, 0.15);\n",
              "      filter: drop-shadow(0px 1px 2px rgba(0, 0, 0, 0.3));\n",
              "      fill: #FFFFFF;\n",
              "    }\n",
              "  </style>\n",
              "\n",
              "      <script>\n",
              "        const buttonEl =\n",
              "          document.querySelector('#df-66b88e2b-f8b1-4ae8-9502-4e1c0e004124 button.colab-df-convert');\n",
              "        buttonEl.style.display =\n",
              "          google.colab.kernel.accessAllowed ? 'block' : 'none';\n",
              "\n",
              "        async function convertToInteractive(key) {\n",
              "          const element = document.querySelector('#df-66b88e2b-f8b1-4ae8-9502-4e1c0e004124');\n",
              "          const dataTable =\n",
              "            await google.colab.kernel.invokeFunction('convertToInteractive',\n",
              "                                                     [key], {});\n",
              "          if (!dataTable) return;\n",
              "\n",
              "          const docLinkHtml = 'Like what you see? Visit the ' +\n",
              "            '<a target=\"_blank\" href=https://colab.research.google.com/notebooks/data_table.ipynb>data table notebook</a>'\n",
              "            + ' to learn more about interactive tables.';\n",
              "          element.innerHTML = '';\n",
              "          dataTable['output_type'] = 'display_data';\n",
              "          await google.colab.output.renderOutput(dataTable, element);\n",
              "          const docLink = document.createElement('div');\n",
              "          docLink.innerHTML = docLinkHtml;\n",
              "          element.appendChild(docLink);\n",
              "        }\n",
              "      </script>\n",
              "    </div>\n",
              "  </div>\n",
              "  "
            ]
          },
          "metadata": {},
          "execution_count": 36
        }
      ]
    },
    {
      "cell_type": "code",
      "source": [
        "df_raw"
      ],
      "metadata": {
        "colab": {
          "base_uri": "https://localhost:8080/",
          "height": 143
        },
        "id": "Jd1988aVpwn7",
        "outputId": "c38b3b9e-5bfe-430f-f124-245ce43a457f"
      },
      "execution_count": null,
      "outputs": [
        {
          "output_type": "execute_result",
          "data": {
            "text/plain": [
              "   var1  var2\n",
              "0     1     2\n",
              "1     2     3\n",
              "2     1     2"
            ],
            "text/html": [
              "\n",
              "  <div id=\"df-7e3cc195-cf04-4954-9c1d-b4e185cf9edb\">\n",
              "    <div class=\"colab-df-container\">\n",
              "      <div>\n",
              "<style scoped>\n",
              "    .dataframe tbody tr th:only-of-type {\n",
              "        vertical-align: middle;\n",
              "    }\n",
              "\n",
              "    .dataframe tbody tr th {\n",
              "        vertical-align: top;\n",
              "    }\n",
              "\n",
              "    .dataframe thead th {\n",
              "        text-align: right;\n",
              "    }\n",
              "</style>\n",
              "<table border=\"1\" class=\"dataframe\">\n",
              "  <thead>\n",
              "    <tr style=\"text-align: right;\">\n",
              "      <th></th>\n",
              "      <th>var1</th>\n",
              "      <th>var2</th>\n",
              "    </tr>\n",
              "  </thead>\n",
              "  <tbody>\n",
              "    <tr>\n",
              "      <th>0</th>\n",
              "      <td>1</td>\n",
              "      <td>2</td>\n",
              "    </tr>\n",
              "    <tr>\n",
              "      <th>1</th>\n",
              "      <td>2</td>\n",
              "      <td>3</td>\n",
              "    </tr>\n",
              "    <tr>\n",
              "      <th>2</th>\n",
              "      <td>1</td>\n",
              "      <td>2</td>\n",
              "    </tr>\n",
              "  </tbody>\n",
              "</table>\n",
              "</div>\n",
              "      <button class=\"colab-df-convert\" onclick=\"convertToInteractive('df-7e3cc195-cf04-4954-9c1d-b4e185cf9edb')\"\n",
              "              title=\"Convert this dataframe to an interactive table.\"\n",
              "              style=\"display:none;\">\n",
              "        \n",
              "  <svg xmlns=\"http://www.w3.org/2000/svg\" height=\"24px\"viewBox=\"0 0 24 24\"\n",
              "       width=\"24px\">\n",
              "    <path d=\"M0 0h24v24H0V0z\" fill=\"none\"/>\n",
              "    <path d=\"M18.56 5.44l.94 2.06.94-2.06 2.06-.94-2.06-.94-.94-2.06-.94 2.06-2.06.94zm-11 1L8.5 8.5l.94-2.06 2.06-.94-2.06-.94L8.5 2.5l-.94 2.06-2.06.94zm10 10l.94 2.06.94-2.06 2.06-.94-2.06-.94-.94-2.06-.94 2.06-2.06.94z\"/><path d=\"M17.41 7.96l-1.37-1.37c-.4-.4-.92-.59-1.43-.59-.52 0-1.04.2-1.43.59L10.3 9.45l-7.72 7.72c-.78.78-.78 2.05 0 2.83L4 21.41c.39.39.9.59 1.41.59.51 0 1.02-.2 1.41-.59l7.78-7.78 2.81-2.81c.8-.78.8-2.07 0-2.86zM5.41 20L4 18.59l7.72-7.72 1.47 1.35L5.41 20z\"/>\n",
              "  </svg>\n",
              "      </button>\n",
              "      \n",
              "  <style>\n",
              "    .colab-df-container {\n",
              "      display:flex;\n",
              "      flex-wrap:wrap;\n",
              "      gap: 12px;\n",
              "    }\n",
              "\n",
              "    .colab-df-convert {\n",
              "      background-color: #E8F0FE;\n",
              "      border: none;\n",
              "      border-radius: 50%;\n",
              "      cursor: pointer;\n",
              "      display: none;\n",
              "      fill: #1967D2;\n",
              "      height: 32px;\n",
              "      padding: 0 0 0 0;\n",
              "      width: 32px;\n",
              "    }\n",
              "\n",
              "    .colab-df-convert:hover {\n",
              "      background-color: #E2EBFA;\n",
              "      box-shadow: 0px 1px 2px rgba(60, 64, 67, 0.3), 0px 1px 3px 1px rgba(60, 64, 67, 0.15);\n",
              "      fill: #174EA6;\n",
              "    }\n",
              "\n",
              "    [theme=dark] .colab-df-convert {\n",
              "      background-color: #3B4455;\n",
              "      fill: #D2E3FC;\n",
              "    }\n",
              "\n",
              "    [theme=dark] .colab-df-convert:hover {\n",
              "      background-color: #434B5C;\n",
              "      box-shadow: 0px 1px 3px 1px rgba(0, 0, 0, 0.15);\n",
              "      filter: drop-shadow(0px 1px 2px rgba(0, 0, 0, 0.3));\n",
              "      fill: #FFFFFF;\n",
              "    }\n",
              "  </style>\n",
              "\n",
              "      <script>\n",
              "        const buttonEl =\n",
              "          document.querySelector('#df-7e3cc195-cf04-4954-9c1d-b4e185cf9edb button.colab-df-convert');\n",
              "        buttonEl.style.display =\n",
              "          google.colab.kernel.accessAllowed ? 'block' : 'none';\n",
              "\n",
              "        async function convertToInteractive(key) {\n",
              "          const element = document.querySelector('#df-7e3cc195-cf04-4954-9c1d-b4e185cf9edb');\n",
              "          const dataTable =\n",
              "            await google.colab.kernel.invokeFunction('convertToInteractive',\n",
              "                                                     [key], {});\n",
              "          if (!dataTable) return;\n",
              "\n",
              "          const docLinkHtml = 'Like what you see? Visit the ' +\n",
              "            '<a target=\"_blank\" href=https://colab.research.google.com/notebooks/data_table.ipynb>data table notebook</a>'\n",
              "            + ' to learn more about interactive tables.';\n",
              "          element.innerHTML = '';\n",
              "          dataTable['output_type'] = 'display_data';\n",
              "          await google.colab.output.renderOutput(dataTable, element);\n",
              "          const docLink = document.createElement('div');\n",
              "          docLink.innerHTML = docLinkHtml;\n",
              "          element.appendChild(docLink);\n",
              "        }\n",
              "      </script>\n",
              "    </div>\n",
              "  </div>\n",
              "  "
            ]
          },
          "metadata": {},
          "execution_count": 37
        }
      ]
    },
    {
      "cell_type": "code",
      "source": [
        "dt = pd.read_csv('mpg.csv')\n",
        "dt_new=dt.copy()\n",
        "dt_new=dt_new.rename(columns={'cty':'city', 'hwy':'highway'})\n",
        "dt_new"
      ],
      "metadata": {
        "colab": {
          "base_uri": "https://localhost:8080/",
          "height": 424
        },
        "id": "kYHoBS1wqkcv",
        "outputId": "53f2673e-0a4d-41f1-ccf1-cce8871cf3aa"
      },
      "execution_count": null,
      "outputs": [
        {
          "output_type": "execute_result",
          "data": {
            "text/plain": [
              "    manufacturer   model  displ  year  cyl       trans drv  city  highway fl  \\\n",
              "0           audi      a4    1.8  1999    4    auto(l5)   f    18       29  p   \n",
              "1           audi      a4    1.8  1999    4  manual(m5)   f    21       29  p   \n",
              "2           audi      a4    2.0  2008    4  manual(m6)   f    20       31  p   \n",
              "3           audi      a4    2.0  2008    4    auto(av)   f    21       30  p   \n",
              "4           audi      a4    2.8  1999    6    auto(l5)   f    16       26  p   \n",
              "..           ...     ...    ...   ...  ...         ...  ..   ...      ... ..   \n",
              "229   volkswagen  passat    2.0  2008    4    auto(s6)   f    19       28  p   \n",
              "230   volkswagen  passat    2.0  2008    4  manual(m6)   f    21       29  p   \n",
              "231   volkswagen  passat    2.8  1999    6    auto(l5)   f    16       26  p   \n",
              "232   volkswagen  passat    2.8  1999    6  manual(m5)   f    18       26  p   \n",
              "233   volkswagen  passat    3.6  2008    6    auto(s6)   f    17       26  p   \n",
              "\n",
              "    category  \n",
              "0    compact  \n",
              "1    compact  \n",
              "2    compact  \n",
              "3    compact  \n",
              "4    compact  \n",
              "..       ...  \n",
              "229  midsize  \n",
              "230  midsize  \n",
              "231  midsize  \n",
              "232  midsize  \n",
              "233  midsize  \n",
              "\n",
              "[234 rows x 11 columns]"
            ],
            "text/html": [
              "\n",
              "  <div id=\"df-9ef819f7-c4ed-4165-a8f9-6525e37f8dec\">\n",
              "    <div class=\"colab-df-container\">\n",
              "      <div>\n",
              "<style scoped>\n",
              "    .dataframe tbody tr th:only-of-type {\n",
              "        vertical-align: middle;\n",
              "    }\n",
              "\n",
              "    .dataframe tbody tr th {\n",
              "        vertical-align: top;\n",
              "    }\n",
              "\n",
              "    .dataframe thead th {\n",
              "        text-align: right;\n",
              "    }\n",
              "</style>\n",
              "<table border=\"1\" class=\"dataframe\">\n",
              "  <thead>\n",
              "    <tr style=\"text-align: right;\">\n",
              "      <th></th>\n",
              "      <th>manufacturer</th>\n",
              "      <th>model</th>\n",
              "      <th>displ</th>\n",
              "      <th>year</th>\n",
              "      <th>cyl</th>\n",
              "      <th>trans</th>\n",
              "      <th>drv</th>\n",
              "      <th>city</th>\n",
              "      <th>highway</th>\n",
              "      <th>fl</th>\n",
              "      <th>category</th>\n",
              "    </tr>\n",
              "  </thead>\n",
              "  <tbody>\n",
              "    <tr>\n",
              "      <th>0</th>\n",
              "      <td>audi</td>\n",
              "      <td>a4</td>\n",
              "      <td>1.8</td>\n",
              "      <td>1999</td>\n",
              "      <td>4</td>\n",
              "      <td>auto(l5)</td>\n",
              "      <td>f</td>\n",
              "      <td>18</td>\n",
              "      <td>29</td>\n",
              "      <td>p</td>\n",
              "      <td>compact</td>\n",
              "    </tr>\n",
              "    <tr>\n",
              "      <th>1</th>\n",
              "      <td>audi</td>\n",
              "      <td>a4</td>\n",
              "      <td>1.8</td>\n",
              "      <td>1999</td>\n",
              "      <td>4</td>\n",
              "      <td>manual(m5)</td>\n",
              "      <td>f</td>\n",
              "      <td>21</td>\n",
              "      <td>29</td>\n",
              "      <td>p</td>\n",
              "      <td>compact</td>\n",
              "    </tr>\n",
              "    <tr>\n",
              "      <th>2</th>\n",
              "      <td>audi</td>\n",
              "      <td>a4</td>\n",
              "      <td>2.0</td>\n",
              "      <td>2008</td>\n",
              "      <td>4</td>\n",
              "      <td>manual(m6)</td>\n",
              "      <td>f</td>\n",
              "      <td>20</td>\n",
              "      <td>31</td>\n",
              "      <td>p</td>\n",
              "      <td>compact</td>\n",
              "    </tr>\n",
              "    <tr>\n",
              "      <th>3</th>\n",
              "      <td>audi</td>\n",
              "      <td>a4</td>\n",
              "      <td>2.0</td>\n",
              "      <td>2008</td>\n",
              "      <td>4</td>\n",
              "      <td>auto(av)</td>\n",
              "      <td>f</td>\n",
              "      <td>21</td>\n",
              "      <td>30</td>\n",
              "      <td>p</td>\n",
              "      <td>compact</td>\n",
              "    </tr>\n",
              "    <tr>\n",
              "      <th>4</th>\n",
              "      <td>audi</td>\n",
              "      <td>a4</td>\n",
              "      <td>2.8</td>\n",
              "      <td>1999</td>\n",
              "      <td>6</td>\n",
              "      <td>auto(l5)</td>\n",
              "      <td>f</td>\n",
              "      <td>16</td>\n",
              "      <td>26</td>\n",
              "      <td>p</td>\n",
              "      <td>compact</td>\n",
              "    </tr>\n",
              "    <tr>\n",
              "      <th>...</th>\n",
              "      <td>...</td>\n",
              "      <td>...</td>\n",
              "      <td>...</td>\n",
              "      <td>...</td>\n",
              "      <td>...</td>\n",
              "      <td>...</td>\n",
              "      <td>...</td>\n",
              "      <td>...</td>\n",
              "      <td>...</td>\n",
              "      <td>...</td>\n",
              "      <td>...</td>\n",
              "    </tr>\n",
              "    <tr>\n",
              "      <th>229</th>\n",
              "      <td>volkswagen</td>\n",
              "      <td>passat</td>\n",
              "      <td>2.0</td>\n",
              "      <td>2008</td>\n",
              "      <td>4</td>\n",
              "      <td>auto(s6)</td>\n",
              "      <td>f</td>\n",
              "      <td>19</td>\n",
              "      <td>28</td>\n",
              "      <td>p</td>\n",
              "      <td>midsize</td>\n",
              "    </tr>\n",
              "    <tr>\n",
              "      <th>230</th>\n",
              "      <td>volkswagen</td>\n",
              "      <td>passat</td>\n",
              "      <td>2.0</td>\n",
              "      <td>2008</td>\n",
              "      <td>4</td>\n",
              "      <td>manual(m6)</td>\n",
              "      <td>f</td>\n",
              "      <td>21</td>\n",
              "      <td>29</td>\n",
              "      <td>p</td>\n",
              "      <td>midsize</td>\n",
              "    </tr>\n",
              "    <tr>\n",
              "      <th>231</th>\n",
              "      <td>volkswagen</td>\n",
              "      <td>passat</td>\n",
              "      <td>2.8</td>\n",
              "      <td>1999</td>\n",
              "      <td>6</td>\n",
              "      <td>auto(l5)</td>\n",
              "      <td>f</td>\n",
              "      <td>16</td>\n",
              "      <td>26</td>\n",
              "      <td>p</td>\n",
              "      <td>midsize</td>\n",
              "    </tr>\n",
              "    <tr>\n",
              "      <th>232</th>\n",
              "      <td>volkswagen</td>\n",
              "      <td>passat</td>\n",
              "      <td>2.8</td>\n",
              "      <td>1999</td>\n",
              "      <td>6</td>\n",
              "      <td>manual(m5)</td>\n",
              "      <td>f</td>\n",
              "      <td>18</td>\n",
              "      <td>26</td>\n",
              "      <td>p</td>\n",
              "      <td>midsize</td>\n",
              "    </tr>\n",
              "    <tr>\n",
              "      <th>233</th>\n",
              "      <td>volkswagen</td>\n",
              "      <td>passat</td>\n",
              "      <td>3.6</td>\n",
              "      <td>2008</td>\n",
              "      <td>6</td>\n",
              "      <td>auto(s6)</td>\n",
              "      <td>f</td>\n",
              "      <td>17</td>\n",
              "      <td>26</td>\n",
              "      <td>p</td>\n",
              "      <td>midsize</td>\n",
              "    </tr>\n",
              "  </tbody>\n",
              "</table>\n",
              "<p>234 rows × 11 columns</p>\n",
              "</div>\n",
              "      <button class=\"colab-df-convert\" onclick=\"convertToInteractive('df-9ef819f7-c4ed-4165-a8f9-6525e37f8dec')\"\n",
              "              title=\"Convert this dataframe to an interactive table.\"\n",
              "              style=\"display:none;\">\n",
              "        \n",
              "  <svg xmlns=\"http://www.w3.org/2000/svg\" height=\"24px\"viewBox=\"0 0 24 24\"\n",
              "       width=\"24px\">\n",
              "    <path d=\"M0 0h24v24H0V0z\" fill=\"none\"/>\n",
              "    <path d=\"M18.56 5.44l.94 2.06.94-2.06 2.06-.94-2.06-.94-.94-2.06-.94 2.06-2.06.94zm-11 1L8.5 8.5l.94-2.06 2.06-.94-2.06-.94L8.5 2.5l-.94 2.06-2.06.94zm10 10l.94 2.06.94-2.06 2.06-.94-2.06-.94-.94-2.06-.94 2.06-2.06.94z\"/><path d=\"M17.41 7.96l-1.37-1.37c-.4-.4-.92-.59-1.43-.59-.52 0-1.04.2-1.43.59L10.3 9.45l-7.72 7.72c-.78.78-.78 2.05 0 2.83L4 21.41c.39.39.9.59 1.41.59.51 0 1.02-.2 1.41-.59l7.78-7.78 2.81-2.81c.8-.78.8-2.07 0-2.86zM5.41 20L4 18.59l7.72-7.72 1.47 1.35L5.41 20z\"/>\n",
              "  </svg>\n",
              "      </button>\n",
              "      \n",
              "  <style>\n",
              "    .colab-df-container {\n",
              "      display:flex;\n",
              "      flex-wrap:wrap;\n",
              "      gap: 12px;\n",
              "    }\n",
              "\n",
              "    .colab-df-convert {\n",
              "      background-color: #E8F0FE;\n",
              "      border: none;\n",
              "      border-radius: 50%;\n",
              "      cursor: pointer;\n",
              "      display: none;\n",
              "      fill: #1967D2;\n",
              "      height: 32px;\n",
              "      padding: 0 0 0 0;\n",
              "      width: 32px;\n",
              "    }\n",
              "\n",
              "    .colab-df-convert:hover {\n",
              "      background-color: #E2EBFA;\n",
              "      box-shadow: 0px 1px 2px rgba(60, 64, 67, 0.3), 0px 1px 3px 1px rgba(60, 64, 67, 0.15);\n",
              "      fill: #174EA6;\n",
              "    }\n",
              "\n",
              "    [theme=dark] .colab-df-convert {\n",
              "      background-color: #3B4455;\n",
              "      fill: #D2E3FC;\n",
              "    }\n",
              "\n",
              "    [theme=dark] .colab-df-convert:hover {\n",
              "      background-color: #434B5C;\n",
              "      box-shadow: 0px 1px 3px 1px rgba(0, 0, 0, 0.15);\n",
              "      filter: drop-shadow(0px 1px 2px rgba(0, 0, 0, 0.3));\n",
              "      fill: #FFFFFF;\n",
              "    }\n",
              "  </style>\n",
              "\n",
              "      <script>\n",
              "        const buttonEl =\n",
              "          document.querySelector('#df-9ef819f7-c4ed-4165-a8f9-6525e37f8dec button.colab-df-convert');\n",
              "        buttonEl.style.display =\n",
              "          google.colab.kernel.accessAllowed ? 'block' : 'none';\n",
              "\n",
              "        async function convertToInteractive(key) {\n",
              "          const element = document.querySelector('#df-9ef819f7-c4ed-4165-a8f9-6525e37f8dec');\n",
              "          const dataTable =\n",
              "            await google.colab.kernel.invokeFunction('convertToInteractive',\n",
              "                                                     [key], {});\n",
              "          if (!dataTable) return;\n",
              "\n",
              "          const docLinkHtml = 'Like what you see? Visit the ' +\n",
              "            '<a target=\"_blank\" href=https://colab.research.google.com/notebooks/data_table.ipynb>data table notebook</a>'\n",
              "            + ' to learn more about interactive tables.';\n",
              "          element.innerHTML = '';\n",
              "          dataTable['output_type'] = 'display_data';\n",
              "          await google.colab.output.renderOutput(dataTable, element);\n",
              "          const docLink = document.createElement('div');\n",
              "          docLink.innerHTML = docLinkHtml;\n",
              "          element.appendChild(docLink);\n",
              "        }\n",
              "      </script>\n",
              "    </div>\n",
              "  </div>\n",
              "  "
            ]
          },
          "metadata": {},
          "execution_count": 43
        }
      ]
    },
    {
      "cell_type": "markdown",
      "source": [
        "# **파생변수**\n",
        "- 변수추가\n"
      ],
      "metadata": {
        "id": "UKGv_2gYr8f3"
      }
    },
    {
      "cell_type": "code",
      "source": [
        "df=pd.DataFrame({\n",
        "    'var1':[4,3,8],\n",
        "    'var2':[2,6,1] \n",
        "})\n",
        "df['var_sum']=df['var1']+df['var2']\n",
        "df['var_mean']=df['var_sum']/2\n",
        "df"
      ],
      "metadata": {
        "colab": {
          "base_uri": "https://localhost:8080/",
          "height": 143
        },
        "id": "bHJFGG7Fr_4x",
        "outputId": "a0872e13-9a26-4de1-c2b8-d8611ac2f16c"
      },
      "execution_count": null,
      "outputs": [
        {
          "output_type": "execute_result",
          "data": {
            "text/plain": [
              "   var1  var2  var_sum  var_mean\n",
              "0     4     2        6       2.0\n",
              "1     3     6        9       3.0\n",
              "2     8     1        9       3.0"
            ],
            "text/html": [
              "\n",
              "  <div id=\"df-5147abf5-7569-45a3-8fe8-418c7e20ce2f\">\n",
              "    <div class=\"colab-df-container\">\n",
              "      <div>\n",
              "<style scoped>\n",
              "    .dataframe tbody tr th:only-of-type {\n",
              "        vertical-align: middle;\n",
              "    }\n",
              "\n",
              "    .dataframe tbody tr th {\n",
              "        vertical-align: top;\n",
              "    }\n",
              "\n",
              "    .dataframe thead th {\n",
              "        text-align: right;\n",
              "    }\n",
              "</style>\n",
              "<table border=\"1\" class=\"dataframe\">\n",
              "  <thead>\n",
              "    <tr style=\"text-align: right;\">\n",
              "      <th></th>\n",
              "      <th>var1</th>\n",
              "      <th>var2</th>\n",
              "      <th>var_sum</th>\n",
              "      <th>var_mean</th>\n",
              "    </tr>\n",
              "  </thead>\n",
              "  <tbody>\n",
              "    <tr>\n",
              "      <th>0</th>\n",
              "      <td>4</td>\n",
              "      <td>2</td>\n",
              "      <td>6</td>\n",
              "      <td>2.0</td>\n",
              "    </tr>\n",
              "    <tr>\n",
              "      <th>1</th>\n",
              "      <td>3</td>\n",
              "      <td>6</td>\n",
              "      <td>9</td>\n",
              "      <td>3.0</td>\n",
              "    </tr>\n",
              "    <tr>\n",
              "      <th>2</th>\n",
              "      <td>8</td>\n",
              "      <td>1</td>\n",
              "      <td>9</td>\n",
              "      <td>3.0</td>\n",
              "    </tr>\n",
              "  </tbody>\n",
              "</table>\n",
              "</div>\n",
              "      <button class=\"colab-df-convert\" onclick=\"convertToInteractive('df-5147abf5-7569-45a3-8fe8-418c7e20ce2f')\"\n",
              "              title=\"Convert this dataframe to an interactive table.\"\n",
              "              style=\"display:none;\">\n",
              "        \n",
              "  <svg xmlns=\"http://www.w3.org/2000/svg\" height=\"24px\"viewBox=\"0 0 24 24\"\n",
              "       width=\"24px\">\n",
              "    <path d=\"M0 0h24v24H0V0z\" fill=\"none\"/>\n",
              "    <path d=\"M18.56 5.44l.94 2.06.94-2.06 2.06-.94-2.06-.94-.94-2.06-.94 2.06-2.06.94zm-11 1L8.5 8.5l.94-2.06 2.06-.94-2.06-.94L8.5 2.5l-.94 2.06-2.06.94zm10 10l.94 2.06.94-2.06 2.06-.94-2.06-.94-.94-2.06-.94 2.06-2.06.94z\"/><path d=\"M17.41 7.96l-1.37-1.37c-.4-.4-.92-.59-1.43-.59-.52 0-1.04.2-1.43.59L10.3 9.45l-7.72 7.72c-.78.78-.78 2.05 0 2.83L4 21.41c.39.39.9.59 1.41.59.51 0 1.02-.2 1.41-.59l7.78-7.78 2.81-2.81c.8-.78.8-2.07 0-2.86zM5.41 20L4 18.59l7.72-7.72 1.47 1.35L5.41 20z\"/>\n",
              "  </svg>\n",
              "      </button>\n",
              "      \n",
              "  <style>\n",
              "    .colab-df-container {\n",
              "      display:flex;\n",
              "      flex-wrap:wrap;\n",
              "      gap: 12px;\n",
              "    }\n",
              "\n",
              "    .colab-df-convert {\n",
              "      background-color: #E8F0FE;\n",
              "      border: none;\n",
              "      border-radius: 50%;\n",
              "      cursor: pointer;\n",
              "      display: none;\n",
              "      fill: #1967D2;\n",
              "      height: 32px;\n",
              "      padding: 0 0 0 0;\n",
              "      width: 32px;\n",
              "    }\n",
              "\n",
              "    .colab-df-convert:hover {\n",
              "      background-color: #E2EBFA;\n",
              "      box-shadow: 0px 1px 2px rgba(60, 64, 67, 0.3), 0px 1px 3px 1px rgba(60, 64, 67, 0.15);\n",
              "      fill: #174EA6;\n",
              "    }\n",
              "\n",
              "    [theme=dark] .colab-df-convert {\n",
              "      background-color: #3B4455;\n",
              "      fill: #D2E3FC;\n",
              "    }\n",
              "\n",
              "    [theme=dark] .colab-df-convert:hover {\n",
              "      background-color: #434B5C;\n",
              "      box-shadow: 0px 1px 3px 1px rgba(0, 0, 0, 0.15);\n",
              "      filter: drop-shadow(0px 1px 2px rgba(0, 0, 0, 0.3));\n",
              "      fill: #FFFFFF;\n",
              "    }\n",
              "  </style>\n",
              "\n",
              "      <script>\n",
              "        const buttonEl =\n",
              "          document.querySelector('#df-5147abf5-7569-45a3-8fe8-418c7e20ce2f button.colab-df-convert');\n",
              "        buttonEl.style.display =\n",
              "          google.colab.kernel.accessAllowed ? 'block' : 'none';\n",
              "\n",
              "        async function convertToInteractive(key) {\n",
              "          const element = document.querySelector('#df-5147abf5-7569-45a3-8fe8-418c7e20ce2f');\n",
              "          const dataTable =\n",
              "            await google.colab.kernel.invokeFunction('convertToInteractive',\n",
              "                                                     [key], {});\n",
              "          if (!dataTable) return;\n",
              "\n",
              "          const docLinkHtml = 'Like what you see? Visit the ' +\n",
              "            '<a target=\"_blank\" href=https://colab.research.google.com/notebooks/data_table.ipynb>data table notebook</a>'\n",
              "            + ' to learn more about interactive tables.';\n",
              "          element.innerHTML = '';\n",
              "          dataTable['output_type'] = 'display_data';\n",
              "          await google.colab.output.renderOutput(dataTable, element);\n",
              "          const docLink = document.createElement('div');\n",
              "          docLink.innerHTML = docLinkHtml;\n",
              "          element.appendChild(docLink);\n",
              "        }\n",
              "      </script>\n",
              "    </div>\n",
              "  </div>\n",
              "  "
            ]
          },
          "metadata": {},
          "execution_count": 50
        }
      ]
    },
    {
      "cell_type": "code",
      "source": [
        "mpg=pd.read_csv('mpg.csv')\n",
        "mpg=mpg.rename(columns={'cty':'city'})\n",
        "mpg['total']=(mpg['city']+mpg['hwy'])/2\n",
        "mpg"
      ],
      "metadata": {
        "id": "7847NTbfxeCH"
      },
      "execution_count": null,
      "outputs": []
    },
    {
      "cell_type": "code",
      "source": [
        "print(sum(mpg['total'])/len(mpg),'\\n\\n', mpg['total'].mean(), '\\n\\n')\n",
        "print(mpg.mean())"
      ],
      "metadata": {
        "id": "61C2n8RQ0ERY"
      },
      "execution_count": null,
      "outputs": []
    },
    {
      "cell_type": "markdown",
      "source": [
        "# **데이터를 활용한 합격판정변수**\n",
        "- 히스토그램 (plot.hist), 막대(plot.bar)\n",
        "- 조건문 (numpy.where), 빈도표 (value_counts)\n",
        "- 메서드 체이닝: 메서드를 계속 이어서 작성\n",
        "- 순서대로 정렬: sort_index()"
      ],
      "metadata": {
        "id": "9TMeBMTw724l"
      }
    },
    {
      "cell_type": "code",
      "source": [
        "#히스토그램 만들기\n",
        "\n",
        "print(mpg['total'].describe())\n",
        "print(mpg.total.plot.hist())"
      ],
      "metadata": {
        "id": "8otlGE0P0g1p"
      },
      "execution_count": null,
      "outputs": []
    },
    {
      "cell_type": "code",
      "source": [
        "#조건문 활용한 합격판정변수 만들기 \n",
        "import numpy as np\n",
        "\n",
        "mpg['test']=np.where(mpg['total']>=20, 'pass', 'fail')\n",
        "mpg.tail(15)"
      ],
      "metadata": {
        "id": "xN-YuUJR18TC"
      },
      "execution_count": null,
      "outputs": []
    },
    {
      "cell_type": "code",
      "source": [
        "#빈도표 활용한 합격판정 살표보기\n",
        "\n",
        "count_test=mpg['test'].value_counts()\n",
        "count_test.plot.bar(rot=0)"
      ],
      "metadata": {
        "id": "mY2UI5cy2gFE"
      },
      "execution_count": null,
      "outputs": []
    },
    {
      "cell_type": "code",
      "source": [
        "#중첩조건문\n",
        "\n",
        "mpg['grade']=np.where(mpg['total']>=30, 'A', \n",
        "                      np.where(mpg['total']>=20, 'B', \n",
        "                               np.where(mpg['total']>=10, 'C', 'D')))\n",
        "\n",
        "count_grade=mpg['grade'].value_counts()\n",
        "count_grade.plot.bar(rot=0)"
      ],
      "metadata": {
        "id": "N_GrZtKY72HV"
      },
      "execution_count": null,
      "outputs": []
    },
    {
      "cell_type": "code",
      "source": [
        "#알파벳순으로 막대정렬\n",
        "\n",
        "count_grade=mpg['grade'].value_counts().sort_index()\n",
        "count_grade.plot.bar(rot=0)"
      ],
      "metadata": {
        "id": "MrN-sUEH8xuL"
      },
      "execution_count": null,
      "outputs": []
    },
    {
      "cell_type": "code",
      "source": [
        "mpg['category']"
      ],
      "metadata": {
        "colab": {
          "base_uri": "https://localhost:8080/"
        },
        "id": "vc9MQQXiCyRL",
        "outputId": "1fea63a7-90b3-4cef-9233-8ed9a1d9daef"
      },
      "execution_count": null,
      "outputs": [
        {
          "output_type": "execute_result",
          "data": {
            "text/plain": [
              "0      compact\n",
              "1      compact\n",
              "2      compact\n",
              "3      compact\n",
              "4      compact\n",
              "        ...   \n",
              "229    midsize\n",
              "230    midsize\n",
              "231    midsize\n",
              "232    midsize\n",
              "233    midsize\n",
              "Name: category, Length: 234, dtype: object"
            ]
          },
          "metadata": {},
          "execution_count": 81
        }
      ]
    },
    {
      "cell_type": "code",
      "source": [
        "#조건문 or : | 아니면 isin\n",
        "mpg['size']=np.where((mpg['category']=='compact')|(mpg['category']=='subcompact')|(mpg['category']=='2seater'), \n",
        "                     'small', 'large')\n",
        "mpg['size']=np.where(mpg['category'].isin(['compact','subcompact','2seater']), \n",
        "                     'small', 'large')\n",
        "\n",
        "mpg['size'].value_counts()"
      ],
      "metadata": {
        "colab": {
          "base_uri": "https://localhost:8080/"
        },
        "id": "B-IsAXjhC3S7",
        "outputId": "1ef9fe18-d102-4522-88f7-6f0b2d9c2257"
      },
      "execution_count": null,
      "outputs": [
        {
          "output_type": "execute_result",
          "data": {
            "text/plain": [
              "large    147\n",
              "small     87\n",
              "Name: size, dtype: int64"
            ]
          },
          "metadata": {},
          "execution_count": 86
        }
      ]
    },
    {
      "cell_type": "markdown",
      "source": [
        "# **도전문제**"
      ],
      "metadata": {
        "id": "aj8AnciTER6B"
      }
    },
    {
      "cell_type": "code",
      "source": [
        "mid=pd.read_csv('midwest.csv')\n",
        "mid.describe()"
      ],
      "metadata": {
        "colab": {
          "base_uri": "https://localhost:8080/",
          "height": 394
        },
        "id": "LYfqEa4ADxlC",
        "outputId": "7c8dac16-91f2-46a8-9347-2e6fdbc865eb"
      },
      "execution_count": null,
      "outputs": [
        {
          "output_type": "execute_result",
          "data": {
            "text/plain": [
              "               PID        area      poptotal    popdensity      popwhite  \\\n",
              "count   437.000000  437.000000  4.370000e+02    437.000000  4.370000e+02   \n",
              "mean   1437.338673    0.033169  9.613030e+04   3097.742985  8.183992e+04   \n",
              "std     876.390266    0.014679  2.981705e+05   7664.751786  2.001966e+05   \n",
              "min     561.000000    0.005000  1.701000e+03     85.050000  4.160000e+02   \n",
              "25%     670.000000    0.024000  1.884000e+04    622.407407  1.863000e+04   \n",
              "50%    1221.000000    0.030000  3.532400e+04   1156.208330  3.447100e+04   \n",
              "75%    2059.000000    0.038000  7.565100e+04   2330.000000  7.296800e+04   \n",
              "max    3052.000000    0.110000  5.105067e+06  88018.396600  3.204947e+06   \n",
              "\n",
              "           popblack  popamerindian       popasian       popother   percwhite  \\\n",
              "count  4.370000e+02     437.000000     437.000000     437.000000  437.000000   \n",
              "mean   1.102388e+04     343.109840    1310.464531    1612.931350   95.558441   \n",
              "std    7.895827e+04     868.926751    9518.394189   18526.540699    7.087358   \n",
              "min    0.000000e+00       4.000000       0.000000       0.000000   10.694087   \n",
              "25%    2.900000e+01      44.000000      35.000000      20.000000   94.886032   \n",
              "50%    2.010000e+02      94.000000     102.000000      66.000000   98.032742   \n",
              "75%    1.291000e+03     288.000000     401.000000     345.000000   99.074935   \n",
              "max    1.317147e+06   10289.000000  188565.000000  384119.000000   99.822821   \n",
              "\n",
              "       ...     perchsd  percollege    percprof  poppovertyknown  \\\n",
              "count  ...  437.000000  437.000000  437.000000     4.370000e+02   \n",
              "mean   ...   73.965546   18.272736    4.447259     9.364228e+04   \n",
              "std    ...    5.843177    6.261908    2.408427     2.932351e+05   \n",
              "min    ...   46.912261    7.336108    0.520291     1.696000e+03   \n",
              "25%    ...   71.325329   14.113725    2.997957     1.836400e+04   \n",
              "50%    ...   74.246891   16.797562    3.814239     3.378800e+04   \n",
              "75%    ...   77.195345   20.549893    4.949324     7.284000e+04   \n",
              "max    ...   88.898674   48.078510   20.791321     5.023523e+06   \n",
              "\n",
              "       percpovertyknown  percbelowpoverty  percchildbelowpovert  \\\n",
              "count        437.000000        437.000000            437.000000   \n",
              "mean          97.110267         12.510505             16.447464   \n",
              "std            2.749863          5.150155              7.228634   \n",
              "min           80.902441          2.180168              1.918955   \n",
              "25%           96.894572          9.198715             11.624088   \n",
              "50%           98.169562         11.822313             15.270164   \n",
              "75%           98.598636         15.133226             20.351878   \n",
              "max           99.860384         48.691099             64.308477   \n",
              "\n",
              "       percadultpoverty  percelderlypoverty     inmetro  \n",
              "count        437.000000          437.000000  437.000000  \n",
              "mean          10.918798           11.389043    0.343249  \n",
              "std            5.109166            3.661259    0.475338  \n",
              "min            1.938504            3.547067    0.000000  \n",
              "25%            7.668009            8.911763    0.000000  \n",
              "50%           10.007610           10.869119    0.000000  \n",
              "75%           13.182182           13.412162    1.000000  \n",
              "max           43.312464           31.161972    1.000000  \n",
              "\n",
              "[8 rows x 25 columns]"
            ],
            "text/html": [
              "\n",
              "  <div id=\"df-0d7871ac-9889-40cc-8726-5890d34dd9d6\">\n",
              "    <div class=\"colab-df-container\">\n",
              "      <div>\n",
              "<style scoped>\n",
              "    .dataframe tbody tr th:only-of-type {\n",
              "        vertical-align: middle;\n",
              "    }\n",
              "\n",
              "    .dataframe tbody tr th {\n",
              "        vertical-align: top;\n",
              "    }\n",
              "\n",
              "    .dataframe thead th {\n",
              "        text-align: right;\n",
              "    }\n",
              "</style>\n",
              "<table border=\"1\" class=\"dataframe\">\n",
              "  <thead>\n",
              "    <tr style=\"text-align: right;\">\n",
              "      <th></th>\n",
              "      <th>PID</th>\n",
              "      <th>area</th>\n",
              "      <th>poptotal</th>\n",
              "      <th>popdensity</th>\n",
              "      <th>popwhite</th>\n",
              "      <th>popblack</th>\n",
              "      <th>popamerindian</th>\n",
              "      <th>popasian</th>\n",
              "      <th>popother</th>\n",
              "      <th>percwhite</th>\n",
              "      <th>...</th>\n",
              "      <th>perchsd</th>\n",
              "      <th>percollege</th>\n",
              "      <th>percprof</th>\n",
              "      <th>poppovertyknown</th>\n",
              "      <th>percpovertyknown</th>\n",
              "      <th>percbelowpoverty</th>\n",
              "      <th>percchildbelowpovert</th>\n",
              "      <th>percadultpoverty</th>\n",
              "      <th>percelderlypoverty</th>\n",
              "      <th>inmetro</th>\n",
              "    </tr>\n",
              "  </thead>\n",
              "  <tbody>\n",
              "    <tr>\n",
              "      <th>count</th>\n",
              "      <td>437.000000</td>\n",
              "      <td>437.000000</td>\n",
              "      <td>4.370000e+02</td>\n",
              "      <td>437.000000</td>\n",
              "      <td>4.370000e+02</td>\n",
              "      <td>4.370000e+02</td>\n",
              "      <td>437.000000</td>\n",
              "      <td>437.000000</td>\n",
              "      <td>437.000000</td>\n",
              "      <td>437.000000</td>\n",
              "      <td>...</td>\n",
              "      <td>437.000000</td>\n",
              "      <td>437.000000</td>\n",
              "      <td>437.000000</td>\n",
              "      <td>4.370000e+02</td>\n",
              "      <td>437.000000</td>\n",
              "      <td>437.000000</td>\n",
              "      <td>437.000000</td>\n",
              "      <td>437.000000</td>\n",
              "      <td>437.000000</td>\n",
              "      <td>437.000000</td>\n",
              "    </tr>\n",
              "    <tr>\n",
              "      <th>mean</th>\n",
              "      <td>1437.338673</td>\n",
              "      <td>0.033169</td>\n",
              "      <td>9.613030e+04</td>\n",
              "      <td>3097.742985</td>\n",
              "      <td>8.183992e+04</td>\n",
              "      <td>1.102388e+04</td>\n",
              "      <td>343.109840</td>\n",
              "      <td>1310.464531</td>\n",
              "      <td>1612.931350</td>\n",
              "      <td>95.558441</td>\n",
              "      <td>...</td>\n",
              "      <td>73.965546</td>\n",
              "      <td>18.272736</td>\n",
              "      <td>4.447259</td>\n",
              "      <td>9.364228e+04</td>\n",
              "      <td>97.110267</td>\n",
              "      <td>12.510505</td>\n",
              "      <td>16.447464</td>\n",
              "      <td>10.918798</td>\n",
              "      <td>11.389043</td>\n",
              "      <td>0.343249</td>\n",
              "    </tr>\n",
              "    <tr>\n",
              "      <th>std</th>\n",
              "      <td>876.390266</td>\n",
              "      <td>0.014679</td>\n",
              "      <td>2.981705e+05</td>\n",
              "      <td>7664.751786</td>\n",
              "      <td>2.001966e+05</td>\n",
              "      <td>7.895827e+04</td>\n",
              "      <td>868.926751</td>\n",
              "      <td>9518.394189</td>\n",
              "      <td>18526.540699</td>\n",
              "      <td>7.087358</td>\n",
              "      <td>...</td>\n",
              "      <td>5.843177</td>\n",
              "      <td>6.261908</td>\n",
              "      <td>2.408427</td>\n",
              "      <td>2.932351e+05</td>\n",
              "      <td>2.749863</td>\n",
              "      <td>5.150155</td>\n",
              "      <td>7.228634</td>\n",
              "      <td>5.109166</td>\n",
              "      <td>3.661259</td>\n",
              "      <td>0.475338</td>\n",
              "    </tr>\n",
              "    <tr>\n",
              "      <th>min</th>\n",
              "      <td>561.000000</td>\n",
              "      <td>0.005000</td>\n",
              "      <td>1.701000e+03</td>\n",
              "      <td>85.050000</td>\n",
              "      <td>4.160000e+02</td>\n",
              "      <td>0.000000e+00</td>\n",
              "      <td>4.000000</td>\n",
              "      <td>0.000000</td>\n",
              "      <td>0.000000</td>\n",
              "      <td>10.694087</td>\n",
              "      <td>...</td>\n",
              "      <td>46.912261</td>\n",
              "      <td>7.336108</td>\n",
              "      <td>0.520291</td>\n",
              "      <td>1.696000e+03</td>\n",
              "      <td>80.902441</td>\n",
              "      <td>2.180168</td>\n",
              "      <td>1.918955</td>\n",
              "      <td>1.938504</td>\n",
              "      <td>3.547067</td>\n",
              "      <td>0.000000</td>\n",
              "    </tr>\n",
              "    <tr>\n",
              "      <th>25%</th>\n",
              "      <td>670.000000</td>\n",
              "      <td>0.024000</td>\n",
              "      <td>1.884000e+04</td>\n",
              "      <td>622.407407</td>\n",
              "      <td>1.863000e+04</td>\n",
              "      <td>2.900000e+01</td>\n",
              "      <td>44.000000</td>\n",
              "      <td>35.000000</td>\n",
              "      <td>20.000000</td>\n",
              "      <td>94.886032</td>\n",
              "      <td>...</td>\n",
              "      <td>71.325329</td>\n",
              "      <td>14.113725</td>\n",
              "      <td>2.997957</td>\n",
              "      <td>1.836400e+04</td>\n",
              "      <td>96.894572</td>\n",
              "      <td>9.198715</td>\n",
              "      <td>11.624088</td>\n",
              "      <td>7.668009</td>\n",
              "      <td>8.911763</td>\n",
              "      <td>0.000000</td>\n",
              "    </tr>\n",
              "    <tr>\n",
              "      <th>50%</th>\n",
              "      <td>1221.000000</td>\n",
              "      <td>0.030000</td>\n",
              "      <td>3.532400e+04</td>\n",
              "      <td>1156.208330</td>\n",
              "      <td>3.447100e+04</td>\n",
              "      <td>2.010000e+02</td>\n",
              "      <td>94.000000</td>\n",
              "      <td>102.000000</td>\n",
              "      <td>66.000000</td>\n",
              "      <td>98.032742</td>\n",
              "      <td>...</td>\n",
              "      <td>74.246891</td>\n",
              "      <td>16.797562</td>\n",
              "      <td>3.814239</td>\n",
              "      <td>3.378800e+04</td>\n",
              "      <td>98.169562</td>\n",
              "      <td>11.822313</td>\n",
              "      <td>15.270164</td>\n",
              "      <td>10.007610</td>\n",
              "      <td>10.869119</td>\n",
              "      <td>0.000000</td>\n",
              "    </tr>\n",
              "    <tr>\n",
              "      <th>75%</th>\n",
              "      <td>2059.000000</td>\n",
              "      <td>0.038000</td>\n",
              "      <td>7.565100e+04</td>\n",
              "      <td>2330.000000</td>\n",
              "      <td>7.296800e+04</td>\n",
              "      <td>1.291000e+03</td>\n",
              "      <td>288.000000</td>\n",
              "      <td>401.000000</td>\n",
              "      <td>345.000000</td>\n",
              "      <td>99.074935</td>\n",
              "      <td>...</td>\n",
              "      <td>77.195345</td>\n",
              "      <td>20.549893</td>\n",
              "      <td>4.949324</td>\n",
              "      <td>7.284000e+04</td>\n",
              "      <td>98.598636</td>\n",
              "      <td>15.133226</td>\n",
              "      <td>20.351878</td>\n",
              "      <td>13.182182</td>\n",
              "      <td>13.412162</td>\n",
              "      <td>1.000000</td>\n",
              "    </tr>\n",
              "    <tr>\n",
              "      <th>max</th>\n",
              "      <td>3052.000000</td>\n",
              "      <td>0.110000</td>\n",
              "      <td>5.105067e+06</td>\n",
              "      <td>88018.396600</td>\n",
              "      <td>3.204947e+06</td>\n",
              "      <td>1.317147e+06</td>\n",
              "      <td>10289.000000</td>\n",
              "      <td>188565.000000</td>\n",
              "      <td>384119.000000</td>\n",
              "      <td>99.822821</td>\n",
              "      <td>...</td>\n",
              "      <td>88.898674</td>\n",
              "      <td>48.078510</td>\n",
              "      <td>20.791321</td>\n",
              "      <td>5.023523e+06</td>\n",
              "      <td>99.860384</td>\n",
              "      <td>48.691099</td>\n",
              "      <td>64.308477</td>\n",
              "      <td>43.312464</td>\n",
              "      <td>31.161972</td>\n",
              "      <td>1.000000</td>\n",
              "    </tr>\n",
              "  </tbody>\n",
              "</table>\n",
              "<p>8 rows × 25 columns</p>\n",
              "</div>\n",
              "      <button class=\"colab-df-convert\" onclick=\"convertToInteractive('df-0d7871ac-9889-40cc-8726-5890d34dd9d6')\"\n",
              "              title=\"Convert this dataframe to an interactive table.\"\n",
              "              style=\"display:none;\">\n",
              "        \n",
              "  <svg xmlns=\"http://www.w3.org/2000/svg\" height=\"24px\"viewBox=\"0 0 24 24\"\n",
              "       width=\"24px\">\n",
              "    <path d=\"M0 0h24v24H0V0z\" fill=\"none\"/>\n",
              "    <path d=\"M18.56 5.44l.94 2.06.94-2.06 2.06-.94-2.06-.94-.94-2.06-.94 2.06-2.06.94zm-11 1L8.5 8.5l.94-2.06 2.06-.94-2.06-.94L8.5 2.5l-.94 2.06-2.06.94zm10 10l.94 2.06.94-2.06 2.06-.94-2.06-.94-.94-2.06-.94 2.06-2.06.94z\"/><path d=\"M17.41 7.96l-1.37-1.37c-.4-.4-.92-.59-1.43-.59-.52 0-1.04.2-1.43.59L10.3 9.45l-7.72 7.72c-.78.78-.78 2.05 0 2.83L4 21.41c.39.39.9.59 1.41.59.51 0 1.02-.2 1.41-.59l7.78-7.78 2.81-2.81c.8-.78.8-2.07 0-2.86zM5.41 20L4 18.59l7.72-7.72 1.47 1.35L5.41 20z\"/>\n",
              "  </svg>\n",
              "      </button>\n",
              "      \n",
              "  <style>\n",
              "    .colab-df-container {\n",
              "      display:flex;\n",
              "      flex-wrap:wrap;\n",
              "      gap: 12px;\n",
              "    }\n",
              "\n",
              "    .colab-df-convert {\n",
              "      background-color: #E8F0FE;\n",
              "      border: none;\n",
              "      border-radius: 50%;\n",
              "      cursor: pointer;\n",
              "      display: none;\n",
              "      fill: #1967D2;\n",
              "      height: 32px;\n",
              "      padding: 0 0 0 0;\n",
              "      width: 32px;\n",
              "    }\n",
              "\n",
              "    .colab-df-convert:hover {\n",
              "      background-color: #E2EBFA;\n",
              "      box-shadow: 0px 1px 2px rgba(60, 64, 67, 0.3), 0px 1px 3px 1px rgba(60, 64, 67, 0.15);\n",
              "      fill: #174EA6;\n",
              "    }\n",
              "\n",
              "    [theme=dark] .colab-df-convert {\n",
              "      background-color: #3B4455;\n",
              "      fill: #D2E3FC;\n",
              "    }\n",
              "\n",
              "    [theme=dark] .colab-df-convert:hover {\n",
              "      background-color: #434B5C;\n",
              "      box-shadow: 0px 1px 3px 1px rgba(0, 0, 0, 0.15);\n",
              "      filter: drop-shadow(0px 1px 2px rgba(0, 0, 0, 0.3));\n",
              "      fill: #FFFFFF;\n",
              "    }\n",
              "  </style>\n",
              "\n",
              "      <script>\n",
              "        const buttonEl =\n",
              "          document.querySelector('#df-0d7871ac-9889-40cc-8726-5890d34dd9d6 button.colab-df-convert');\n",
              "        buttonEl.style.display =\n",
              "          google.colab.kernel.accessAllowed ? 'block' : 'none';\n",
              "\n",
              "        async function convertToInteractive(key) {\n",
              "          const element = document.querySelector('#df-0d7871ac-9889-40cc-8726-5890d34dd9d6');\n",
              "          const dataTable =\n",
              "            await google.colab.kernel.invokeFunction('convertToInteractive',\n",
              "                                                     [key], {});\n",
              "          if (!dataTable) return;\n",
              "\n",
              "          const docLinkHtml = 'Like what you see? Visit the ' +\n",
              "            '<a target=\"_blank\" href=https://colab.research.google.com/notebooks/data_table.ipynb>data table notebook</a>'\n",
              "            + ' to learn more about interactive tables.';\n",
              "          element.innerHTML = '';\n",
              "          dataTable['output_type'] = 'display_data';\n",
              "          await google.colab.output.renderOutput(dataTable, element);\n",
              "          const docLink = document.createElement('div');\n",
              "          docLink.innerHTML = docLinkHtml;\n",
              "          element.appendChild(docLink);\n",
              "        }\n",
              "      </script>\n",
              "    </div>\n",
              "  </div>\n",
              "  "
            ]
          },
          "metadata": {},
          "execution_count": 90
        }
      ]
    },
    {
      "cell_type": "code",
      "source": [
        "mid=mid.rename(columns={'poptotal':'total','popasian':'asian'})\n",
        "mid['rate']=mid['asian']/mid['total']*100\n",
        "print(mid['rate'].plot.hist())\n",
        "mid.rate"
      ],
      "metadata": {
        "colab": {
          "base_uri": "https://localhost:8080/",
          "height": 504
        },
        "id": "bnVzTCiHEQ_A",
        "outputId": "73dc2b11-da40-49fd-ead0-d15f2887d2ed"
      },
      "execution_count": null,
      "outputs": [
        {
          "output_type": "stream",
          "name": "stdout",
          "text": [
            "AxesSubplot(0.125,0.125;0.775x0.755)\n"
          ]
        },
        {
          "output_type": "execute_result",
          "data": {
            "text/plain": [
              "0      0.376759\n",
              "1      0.451722\n",
              "2      0.106731\n",
              "3      0.486918\n",
              "4      0.085675\n",
              "         ...   \n",
              "432    0.885746\n",
              "433    0.199549\n",
              "434    0.221821\n",
              "435    1.231471\n",
              "436    0.980912\n",
              "Name: rate, Length: 437, dtype: float64"
            ]
          },
          "metadata": {},
          "execution_count": 113
        },
        {
          "output_type": "display_data",
          "data": {
            "text/plain": [
              "<Figure size 432x288 with 1 Axes>"
            ],
            "image/png": "[encoded data removed]"
          },
          "metadata": {
            "needs_background": "light"
          }
        }
      ]
    },
    {
      "cell_type": "code",
      "source": [
        "mid['size']=np.where(mid['rate']>mid['rate'].mean(),'large','small')\n",
        "print(mid.loc[:,['total','asian','rate','size']])\n",
        "\n",
        "count_mid=mid['size'].value_counts()\n",
        "print(count_mid.plot.bar(rot=0))"
      ],
      "metadata": {
        "colab": {
          "base_uri": "https://localhost:8080/",
          "height": 540
        },
        "id": "kv3wWqyFIYvq",
        "outputId": "18fd87fe-1b7f-4a69-fd73-7c4697601a80"
      },
      "execution_count": null,
      "outputs": [
        {
          "output_type": "stream",
          "name": "stdout",
          "text": [
            "      total  asian      rate   size\n",
            "0     66090    249  0.376759  small\n",
            "1     10626     48  0.451722  small\n",
            "2     14991     16  0.106731  small\n",
            "3     30806    150  0.486918  small\n",
            "4      5836      5  0.085675  small\n",
            "..      ...    ...       ...    ...\n",
            "432  304715   2699  0.885746  large\n",
            "433   46104     92  0.199549  small\n",
            "434   19385     43  0.221821  small\n",
            "435  140320   1728  1.231471  large\n",
            "436   73605    722  0.980912  large\n",
            "\n",
            "[437 rows x 4 columns]\n",
            "AxesSubplot(0.125,0.125;0.775x0.755)\n"
          ]
        },
        {
          "output_type": "display_data",
          "data": {
            "text/plain": [
              "<Figure size 432x288 with 1 Axes>"
            ],
            "image/png": "[encoded data removed]"
          },
          "metadata": {
            "needs_background": "light"
          }
        }
      ]
    },
    {
      "cell_type": "markdown",
      "source": [
        "# **데이터 전처리(추출)**"
      ],
      "metadata": {
        "id": "aBPOP9E5IuUC"
      }
    },
    {
      "cell_type": "markdown",
      "source": [
        "- query('조건하에'): 행추출\n",
        "- df[]: 열(변수)추출\n",
        "- sort_values(): 정렬\n",
        "- groupby(): 집단별로 나누기\n",
        "- assign(): 변수추가\n",
        "- agg(): 통계치 구하기\n",
        "- merge(): 데이터 합치기(열)\n",
        "- concat(): 데이터 합치기(행)"
      ],
      "metadata": {
        "id": "gAA9SetSWQVb"
      }
    },
    {
      "cell_type": "code",
      "source": [
        "import pandas as pd\n",
        "exam=pd.read_csv('exam.csv')\n",
        "exam"
      ],
      "metadata": {
        "id": "qX5DwbvvWm0L"
      },
      "execution_count": null,
      "outputs": []
    },
    {
      "cell_type": "code",
      "source": [
        "print(exam.query('(nclass!=1 & english>80 )| science>60'))\n",
        "print(exam.query('nclass in [1,3,5]'))"
      ],
      "metadata": {
        "id": "rRFmoDx5YJHX"
      },
      "execution_count": null,
      "outputs": []
    },
    {
      "cell_type": "code",
      "source": [
        "nclass1=exam.query('nclass==1')\n",
        "nclass2=exam.query('nclass==2')\n",
        "nclass1.mean()"
      ],
      "metadata": {
        "id": "NI01v63FYPFk"
      },
      "execution_count": null,
      "outputs": []
    },
    {
      "cell_type": "code",
      "source": [
        "df=pd.DataFrame({\n",
        "    'sex':['F','M','F','M'], \n",
        "    'country':['korea', 'china', 'japan', 'USA']\n",
        "})\n",
        "\n",
        "print(df.query('sex==\"F\" & country==\"korea\"'))\n",
        "#전체 조건에 작은따옴표, 추출할 문자에 큰따옴표\n",
        "\n",
        "var=[1,2]\n",
        "print(exam.query('nclass==@var'))\n",
        "#별도의 변수를 이용해서 행을 추출하려면 변수명 앞에 @ 붙여서 조건입력"
      ],
      "metadata": {
        "id": "EgBQsBWFYhWH"
      },
      "execution_count": null,
      "outputs": []
    },
    {
      "cell_type": "code",
      "source": [
        "#pg.144 문제\n",
        "mpg=pd.read_csv('mpg.csv')\n",
        "print(mpg.query('displ<=4').hwy.mean())\n",
        "print(mpg.query('displ>=5').hwy.mean())\n",
        "\n",
        "three=mpg.query('manufacturer in [\"chevrolet\",\"ford\",\"honda\"]')\n",
        "three['hwy'].mean()"
      ],
      "metadata": {
        "id": "X2gQ96f7Z1HU",
        "colab": {
          "base_uri": "https://localhost:8080/"
        },
        "outputId": "12714267-25bd-451f-a482-4e0dfdfdd1ce"
      },
      "execution_count": null,
      "outputs": [
        {
          "output_type": "stream",
          "name": "stdout",
          "text": [
            "25.96319018404908\n",
            "18.07894736842105\n"
          ]
        }
      ]
    },
    {
      "cell_type": "markdown",
      "source": [
        "exam['math']는 시리즈, exam[['math]]는 데이터프레임\n"
      ],
      "metadata": {
        "id": "eVg1_-8O6-Br"
      }
    },
    {
      "cell_type": "code",
      "source": [
        "#변수 제거하기\n",
        "exam.drop(columns='math')"
      ],
      "metadata": {
        "id": "36ZX9yZQ66hV"
      },
      "execution_count": null,
      "outputs": []
    },
    {
      "cell_type": "code",
      "source": [
        "exam.query('nclass==1')[['english', 'math']]\n",
        "exam.query('math>=50')\\\n",
        "  [['id','math']]\\\n",
        "  .head()"
      ],
      "metadata": {
        "colab": {
          "base_uri": "https://localhost:8080/",
          "height": 206
        },
        "id": "5v3_TO2G8A12",
        "outputId": "21a2a34a-c253-441d-86a9-d63c0192376a"
      },
      "execution_count": null,
      "outputs": [
        {
          "output_type": "execute_result",
          "data": {
            "text/plain": [
              "   id  math\n",
              "0   1    50\n",
              "1   2    60\n",
              "5   6    50\n",
              "6   7    80\n",
              "7   8    90"
            ],
            "text/html": [
              "\n",
              "  <div id=\"df-2a9fcd31-e38d-4af0-8e95-9a77de85967e\">\n",
              "    <div class=\"colab-df-container\">\n",
              "      <div>\n",
              "<style scoped>\n",
              "    .dataframe tbody tr th:only-of-type {\n",
              "        vertical-align: middle;\n",
              "    }\n",
              "\n",
              "    .dataframe tbody tr th {\n",
              "        vertical-align: top;\n",
              "    }\n",
              "\n",
              "    .dataframe thead th {\n",
              "        text-align: right;\n",
              "    }\n",
              "</style>\n",
              "<table border=\"1\" class=\"dataframe\">\n",
              "  <thead>\n",
              "    <tr style=\"text-align: right;\">\n",
              "      <th></th>\n",
              "      <th>id</th>\n",
              "      <th>math</th>\n",
              "    </tr>\n",
              "  </thead>\n",
              "  <tbody>\n",
              "    <tr>\n",
              "      <th>0</th>\n",
              "      <td>1</td>\n",
              "      <td>50</td>\n",
              "    </tr>\n",
              "    <tr>\n",
              "      <th>1</th>\n",
              "      <td>2</td>\n",
              "      <td>60</td>\n",
              "    </tr>\n",
              "    <tr>\n",
              "      <th>5</th>\n",
              "      <td>6</td>\n",
              "      <td>50</td>\n",
              "    </tr>\n",
              "    <tr>\n",
              "      <th>6</th>\n",
              "      <td>7</td>\n",
              "      <td>80</td>\n",
              "    </tr>\n",
              "    <tr>\n",
              "      <th>7</th>\n",
              "      <td>8</td>\n",
              "      <td>90</td>\n",
              "    </tr>\n",
              "  </tbody>\n",
              "</table>\n",
              "</div>\n",
              "      <button class=\"colab-df-convert\" onclick=\"convertToInteractive('df-2a9fcd31-e38d-4af0-8e95-9a77de85967e')\"\n",
              "              title=\"Convert this dataframe to an interactive table.\"\n",
              "              style=\"display:none;\">\n",
              "        \n",
              "  <svg xmlns=\"http://www.w3.org/2000/svg\" height=\"24px\"viewBox=\"0 0 24 24\"\n",
              "       width=\"24px\">\n",
              "    <path d=\"M0 0h24v24H0V0z\" fill=\"none\"/>\n",
              "    <path d=\"M18.56 5.44l.94 2.06.94-2.06 2.06-.94-2.06-.94-.94-2.06-.94 2.06-2.06.94zm-11 1L8.5 8.5l.94-2.06 2.06-.94-2.06-.94L8.5 2.5l-.94 2.06-2.06.94zm10 10l.94 2.06.94-2.06 2.06-.94-2.06-.94-.94-2.06-.94 2.06-2.06.94z\"/><path d=\"M17.41 7.96l-1.37-1.37c-.4-.4-.92-.59-1.43-.59-.52 0-1.04.2-1.43.59L10.3 9.45l-7.72 7.72c-.78.78-.78 2.05 0 2.83L4 21.41c.39.39.9.59 1.41.59.51 0 1.02-.2 1.41-.59l7.78-7.78 2.81-2.81c.8-.78.8-2.07 0-2.86zM5.41 20L4 18.59l7.72-7.72 1.47 1.35L5.41 20z\"/>\n",
              "  </svg>\n",
              "      </button>\n",
              "      \n",
              "  <style>\n",
              "    .colab-df-container {\n",
              "      display:flex;\n",
              "      flex-wrap:wrap;\n",
              "      gap: 12px;\n",
              "    }\n",
              "\n",
              "    .colab-df-convert {\n",
              "      background-color: #E8F0FE;\n",
              "      border: none;\n",
              "      border-radius: 50%;\n",
              "      cursor: pointer;\n",
              "      display: none;\n",
              "      fill: #1967D2;\n",
              "      height: 32px;\n",
              "      padding: 0 0 0 0;\n",
              "      width: 32px;\n",
              "    }\n",
              "\n",
              "    .colab-df-convert:hover {\n",
              "      background-color: #E2EBFA;\n",
              "      box-shadow: 0px 1px 2px rgba(60, 64, 67, 0.3), 0px 1px 3px 1px rgba(60, 64, 67, 0.15);\n",
              "      fill: #174EA6;\n",
              "    }\n",
              "\n",
              "    [theme=dark] .colab-df-convert {\n",
              "      background-color: #3B4455;\n",
              "      fill: #D2E3FC;\n",
              "    }\n",
              "\n",
              "    [theme=dark] .colab-df-convert:hover {\n",
              "      background-color: #434B5C;\n",
              "      box-shadow: 0px 1px 3px 1px rgba(0, 0, 0, 0.15);\n",
              "      filter: drop-shadow(0px 1px 2px rgba(0, 0, 0, 0.3));\n",
              "      fill: #FFFFFF;\n",
              "    }\n",
              "  </style>\n",
              "\n",
              "      <script>\n",
              "        const buttonEl =\n",
              "          document.querySelector('#df-2a9fcd31-e38d-4af0-8e95-9a77de85967e button.colab-df-convert');\n",
              "        buttonEl.style.display =\n",
              "          google.colab.kernel.accessAllowed ? 'block' : 'none';\n",
              "\n",
              "        async function convertToInteractive(key) {\n",
              "          const element = document.querySelector('#df-2a9fcd31-e38d-4af0-8e95-9a77de85967e');\n",
              "          const dataTable =\n",
              "            await google.colab.kernel.invokeFunction('convertToInteractive',\n",
              "                                                     [key], {});\n",
              "          if (!dataTable) return;\n",
              "\n",
              "          const docLinkHtml = 'Like what you see? Visit the ' +\n",
              "            '<a target=\"_blank\" href=https://colab.research.google.com/notebooks/data_table.ipynb>data table notebook</a>'\n",
              "            + ' to learn more about interactive tables.';\n",
              "          element.innerHTML = '';\n",
              "          dataTable['output_type'] = 'display_data';\n",
              "          await google.colab.output.renderOutput(dataTable, element);\n",
              "          const docLink = document.createElement('div');\n",
              "          docLink.innerHTML = docLinkHtml;\n",
              "          element.appendChild(docLink);\n",
              "        }\n",
              "      </script>\n",
              "    </div>\n",
              "  </div>\n",
              "  "
            ]
          },
          "metadata": {},
          "execution_count": 28
        }
      ]
    },
    {
      "cell_type": "code",
      "source": [
        "mpg_new=mpg[['category','cty']]\n",
        "mpg_new.query('category==\"suv\"')['cty'].mean()\n",
        "max(mpg_new.query('category==\"suv\"')['cty'].mean()\\\n",
        "    ,mpg_new.query('category==\"compact\"')['cty'].mean())\n"
      ],
      "metadata": {
        "colab": {
          "base_uri": "https://localhost:8080/"
        },
        "id": "r7XMJJ7b85ek",
        "outputId": "78abcc57-71f9-4465-dda7-1c7468b08777"
      },
      "execution_count": null,
      "outputs": [
        {
          "output_type": "execute_result",
          "data": {
            "text/plain": [
              "20.127659574468087"
            ]
          },
          "metadata": {},
          "execution_count": 41
        }
      ]
    },
    {
      "cell_type": "markdown",
      "source": [
        "# **데이터 순서대로 정렬**\n",
        "- sort_values()"
      ],
      "metadata": {
        "id": "KU3oF0OzWDZc"
      }
    },
    {
      "cell_type": "code",
      "source": [
        "exam.sort_values('math', ascending=False)\n",
        "exam.sort_values(['nclass', 'english'], ascending=[False, True]).head(20)\n",
        "#반을 기준으로 내림차순 정렬한 다음, 각반에서 영어점수를 기준으로 오름차순 정렬\n"
      ],
      "metadata": {
        "id": "DPes_tmP60Tp"
      },
      "execution_count": null,
      "outputs": []
    },
    {
      "cell_type": "code",
      "source": [
        "#153 문제\n",
        "mpg.query('manufacturer==\"audi\"').sort_values('hwy', ascending=False).head(5)"
      ],
      "metadata": {
        "id": "TylRr47mACMX"
      },
      "execution_count": null,
      "outputs": []
    },
    {
      "cell_type": "markdown",
      "source": [
        "# **파생변수 추가**\n",
        "- assign(새변수명=변수를만드는공식)\n",
        "- np.where, lambda 사용"
      ],
      "metadata": {
        "id": "Gf5oj3-9WIpl"
      }
    },
    {
      "cell_type": "code",
      "source": [
        "exam.assign(\n",
        "    total=exam['math']+exam['english']+exam['science'],\n",
        "    mean=(exam['math']+exam['english']+exam['science'])/3)\\\n",
        "    .sort_values('total')"
      ],
      "metadata": {
        "id": "rbMGF0fcA72k"
      },
      "execution_count": null,
      "outputs": []
    },
    {
      "cell_type": "code",
      "source": [
        "import numpy as np\n",
        "\n",
        "exam.assign(test= np.where(exam['science']>=60, 'pass', 'fail'))"
      ],
      "metadata": {
        "id": "b-tJY3PDBlDr"
      },
      "execution_count": null,
      "outputs": []
    },
    {
      "cell_type": "code",
      "source": [
        "#lambda 사용하기\n",
        "long_name=pd.read_csv('exam.csv')\n",
        "long_name.assign(total= lambda x: x['math'+exam['english']+exam['science'],\n",
        "                 mean= lambda x: x['total']/3)"
      ],
      "metadata": {
        "id": "_9IUwFslCUu9"
      },
      "execution_count": null,
      "outputs": []
    },
    {
      "cell_type": "code",
      "source": [
        "#158 문제"
      ],
      "metadata": {
        "id": "voP0rybuPo2x"
      },
      "execution_count": null,
      "outputs": []
    },
    {
      "cell_type": "markdown",
      "source": [
        "# **집단별로 요약**\n",
        "- groupby, agg, value_counts, query 같이쓰기"
      ],
      "metadata": {
        "id": "ODvdpfVrWAt4"
      }
    },
    {
      "cell_type": "code",
      "source": [
        "import pandas as pd\n",
        "exam=pd.read_csv('exam.csv')\n",
        "mpg=pd.read_csv('mpg.csv')"
      ],
      "metadata": {
        "id": "dom8cTNmSYMi"
      },
      "execution_count": null,
      "outputs": []
    },
    {
      "cell_type": "code",
      "source": [
        "# agg 요약 통계량, groupby\n",
        "\n",
        "exam.groupby('nclass').agg(mean_math=('math','mean'))\n",
        "#nclass별로 분리하고, math 평균 구하기"
      ],
      "metadata": {
        "id": "YvrS9ipbRUbx"
      },
      "execution_count": null,
      "outputs": []
    },
    {
      "cell_type": "code",
      "source": [
        "exam"
      ],
      "metadata": {
        "id": "JLk7J6S1S1BI"
      },
      "execution_count": null,
      "outputs": []
    },
    {
      "cell_type": "code",
      "source": [
        "exam.query('id>4').groupby(['nclass','math'])\\\n",
        "                          .agg(mean_math=('math','mean'),\n",
        "                           sum_math=('math','sum'),\n",
        "                           median_math=('math', 'median'),\n",
        "                           n=('nclass','count'))\n",
        "                          \n",
        "#groupby 2번 하면 집단 안에서 집단별로 나눔\n"
      ],
      "metadata": {
        "id": "34h94gIbR6IX"
      },
      "execution_count": null,
      "outputs": []
    },
    {
      "cell_type": "code",
      "source": [
        "mpg.groupby('manufacturer').value_counts()\n",
        "#얘는 에러남, value_counts는 groupby에서 지원안함\n",
        "#query는 데이터프레임에서만 사용할 수 있음\n",
        "\n",
        "mpg.groupby('manufacturer').mean()"
      ],
      "metadata": {
        "id": "Ql8QoFevU5Nv"
      },
      "execution_count": null,
      "outputs": []
    },
    {
      "cell_type": "code",
      "source": [
        "#에러 \n",
        "mpg['drv'].value_counts().query('n>100')"
      ],
      "metadata": {
        "id": "qMtDy_uWUN4b"
      },
      "execution_count": null,
      "outputs": []
    },
    {
      "cell_type": "code",
      "source": [
        "print(mpg.groupby(['manufacturer','drv'])\\\n",
        "      .agg(mean_cty=('cty','mean')),'\\n')\n",
        "\n",
        "print(mpg.query('manufacturer==\"audi\"')\\\n",
        "      .groupby(['drv']).agg(n=('drv','count')),'\\n')\n",
        "\n",
        "print(mpg.query('manufacturer==\"chevrolet\"')\\\n",
        "      .groupby(['drv']).agg(n=('drv','count')),'\\n')"
      ],
      "metadata": {
        "id": "OwKcWLlOTiwY"
      },
      "execution_count": null,
      "outputs": []
    },
    {
      "cell_type": "code",
      "source": [
        "#165 이거 뭐지...\n",
        "mpg['drv'].value_counts().to_frame('n')\\\n",
        "                        .rename_axis('drv')\\\n",
        "                        .query('n>100')"
      ],
      "metadata": {
        "colab": {
          "base_uri": "https://localhost:8080/",
          "height": 143
        },
        "id": "ER8KPdNhWolc",
        "outputId": "574bd366-4f3c-474a-f1ea-646037d648d6"
      },
      "execution_count": null,
      "outputs": [
        {
          "output_type": "execute_result",
          "data": {
            "text/plain": [
              "       n\n",
              "drv     \n",
              "f    106\n",
              "4    103"
            ],
            "text/html": [
              "\n",
              "  <div id=\"df-aaafd602-b86a-4c0a-b619-f85bd0ac91d3\">\n",
              "    <div class=\"colab-df-container\">\n",
              "      <div>\n",
              "<style scoped>\n",
              "    .dataframe tbody tr th:only-of-type {\n",
              "        vertical-align: middle;\n",
              "    }\n",
              "\n",
              "    .dataframe tbody tr th {\n",
              "        vertical-align: top;\n",
              "    }\n",
              "\n",
              "    .dataframe thead th {\n",
              "        text-align: right;\n",
              "    }\n",
              "</style>\n",
              "<table border=\"1\" class=\"dataframe\">\n",
              "  <thead>\n",
              "    <tr style=\"text-align: right;\">\n",
              "      <th></th>\n",
              "      <th>n</th>\n",
              "    </tr>\n",
              "    <tr>\n",
              "      <th>drv</th>\n",
              "      <th></th>\n",
              "    </tr>\n",
              "  </thead>\n",
              "  <tbody>\n",
              "    <tr>\n",
              "      <th>f</th>\n",
              "      <td>106</td>\n",
              "    </tr>\n",
              "    <tr>\n",
              "      <th>4</th>\n",
              "      <td>103</td>\n",
              "    </tr>\n",
              "  </tbody>\n",
              "</table>\n",
              "</div>\n",
              "      <button class=\"colab-df-convert\" onclick=\"convertToInteractive('df-aaafd602-b86a-4c0a-b619-f85bd0ac91d3')\"\n",
              "              title=\"Convert this dataframe to an interactive table.\"\n",
              "              style=\"display:none;\">\n",
              "        \n",
              "  <svg xmlns=\"http://www.w3.org/2000/svg\" height=\"24px\"viewBox=\"0 0 24 24\"\n",
              "       width=\"24px\">\n",
              "    <path d=\"M0 0h24v24H0V0z\" fill=\"none\"/>\n",
              "    <path d=\"M18.56 5.44l.94 2.06.94-2.06 2.06-.94-2.06-.94-.94-2.06-.94 2.06-2.06.94zm-11 1L8.5 8.5l.94-2.06 2.06-.94-2.06-.94L8.5 2.5l-.94 2.06-2.06.94zm10 10l.94 2.06.94-2.06 2.06-.94-2.06-.94-.94-2.06-.94 2.06-2.06.94z\"/><path d=\"M17.41 7.96l-1.37-1.37c-.4-.4-.92-.59-1.43-.59-.52 0-1.04.2-1.43.59L10.3 9.45l-7.72 7.72c-.78.78-.78 2.05 0 2.83L4 21.41c.39.39.9.59 1.41.59.51 0 1.02-.2 1.41-.59l7.78-7.78 2.81-2.81c.8-.78.8-2.07 0-2.86zM5.41 20L4 18.59l7.72-7.72 1.47 1.35L5.41 20z\"/>\n",
              "  </svg>\n",
              "      </button>\n",
              "      \n",
              "  <style>\n",
              "    .colab-df-container {\n",
              "      display:flex;\n",
              "      flex-wrap:wrap;\n",
              "      gap: 12px;\n",
              "    }\n",
              "\n",
              "    .colab-df-convert {\n",
              "      background-color: #E8F0FE;\n",
              "      border: none;\n",
              "      border-radius: 50%;\n",
              "      cursor: pointer;\n",
              "      display: none;\n",
              "      fill: #1967D2;\n",
              "      height: 32px;\n",
              "      padding: 0 0 0 0;\n",
              "      width: 32px;\n",
              "    }\n",
              "\n",
              "    .colab-df-convert:hover {\n",
              "      background-color: #E2EBFA;\n",
              "      box-shadow: 0px 1px 2px rgba(60, 64, 67, 0.3), 0px 1px 3px 1px rgba(60, 64, 67, 0.15);\n",
              "      fill: #174EA6;\n",
              "    }\n",
              "\n",
              "    [theme=dark] .colab-df-convert {\n",
              "      background-color: #3B4455;\n",
              "      fill: #D2E3FC;\n",
              "    }\n",
              "\n",
              "    [theme=dark] .colab-df-convert:hover {\n",
              "      background-color: #434B5C;\n",
              "      box-shadow: 0px 1px 3px 1px rgba(0, 0, 0, 0.15);\n",
              "      filter: drop-shadow(0px 1px 2px rgba(0, 0, 0, 0.3));\n",
              "      fill: #FFFFFF;\n",
              "    }\n",
              "  </style>\n",
              "\n",
              "      <script>\n",
              "        const buttonEl =\n",
              "          document.querySelector('#df-aaafd602-b86a-4c0a-b619-f85bd0ac91d3 button.colab-df-convert');\n",
              "        buttonEl.style.display =\n",
              "          google.colab.kernel.accessAllowed ? 'block' : 'none';\n",
              "\n",
              "        async function convertToInteractive(key) {\n",
              "          const element = document.querySelector('#df-aaafd602-b86a-4c0a-b619-f85bd0ac91d3');\n",
              "          const dataTable =\n",
              "            await google.colab.kernel.invokeFunction('convertToInteractive',\n",
              "                                                     [key], {});\n",
              "          if (!dataTable) return;\n",
              "\n",
              "          const docLinkHtml = 'Like what you see? Visit the ' +\n",
              "            '<a target=\"_blank\" href=https://colab.research.google.com/notebooks/data_table.ipynb>data table notebook</a>'\n",
              "            + ' to learn more about interactive tables.';\n",
              "          element.innerHTML = '';\n",
              "          dataTable['output_type'] = 'display_data';\n",
              "          await google.colab.output.renderOutput(dataTable, element);\n",
              "          const docLink = document.createElement('div');\n",
              "          docLink.innerHTML = docLinkHtml;\n",
              "          element.appendChild(docLink);\n",
              "        }\n",
              "      </script>\n",
              "    </div>\n",
              "  </div>\n",
              "  "
            ]
          },
          "metadata": {},
          "execution_count": 37
        }
      ]
    },
    {
      "cell_type": "code",
      "source": [
        "mpg.query('category==\"suv\"')\\\n",
        "    .assign(total=(mpg['hwy']+mpg['cty'])/2)\\\n",
        "    .groupby('manufacturer')\\\n",
        "    .agg(mean_not=('total','mean'))\\\n",
        "    .sort_values('mean_not',ascending=False)\\\n",
        "    .head()"
      ],
      "metadata": {
        "id": "_1FDlr-1XBhJ"
      },
      "execution_count": null,
      "outputs": []
    },
    {
      "cell_type": "code",
      "source": [
        "mpg"
      ],
      "metadata": {
        "id": "z9hvsenXGFRT"
      },
      "execution_count": null,
      "outputs": []
    },
    {
      "cell_type": "code",
      "source": [
        "#166문제\n",
        "\n",
        "#2\n",
        "mpg.groupby('category').agg(cty_mean=('cty','mean'))\\\n",
        "                      .sort_values('cty_mean',ascending=False)\n",
        "#3\n",
        "mpg.groupby('manufacturer').agg(hwy_mean=('hwy','mean'))\\\n",
        "                            .sort_values('hwy_mean',ascending=False).head(3)\n",
        "\n",
        "#4\n",
        "mpg.query('category==\"compact\"')\\\n",
        "    .groupby('manufacturer')\\\n",
        "    .count()['category'].sort_values(ascending=False)\n",
        "\n",
        "mpg.query('category==\"compact\"')\\\n",
        "    .value_counts('manufacturer').sort_values(ascending=False)\n",
        "\n",
        "mpg.query('category==\"compact\"').groupby('manufacturer')\\\n",
        "    .agg(category_count=('manufacturer','count'))\\\n",
        "    .sort_values('category_count',ascending=False)"
      ],
      "metadata": {
        "id": "0eHEc6FgW_v5",
        "colab": {
          "base_uri": "https://localhost:8080/",
          "height": 237
        },
        "outputId": "6e02d22a-7830-4b7b-ccf7-5e3326f27790"
      },
      "execution_count": null,
      "outputs": [
        {
          "output_type": "execute_result",
          "data": {
            "text/plain": [
              "              category_count\n",
              "manufacturer                \n",
              "audi                      15\n",
              "volkswagen                14\n",
              "toyota                    12\n",
              "subaru                     4\n",
              "nissan                     2"
            ],
            "text/html": [
              "\n",
              "  <div id=\"df-89df9172-e9bb-46e6-8d36-209e4e7ab69d\">\n",
              "    <div class=\"colab-df-container\">\n",
              "      <div>\n",
              "<style scoped>\n",
              "    .dataframe tbody tr th:only-of-type {\n",
              "        vertical-align: middle;\n",
              "    }\n",
              "\n",
              "    .dataframe tbody tr th {\n",
              "        vertical-align: top;\n",
              "    }\n",
              "\n",
              "    .dataframe thead th {\n",
              "        text-align: right;\n",
              "    }\n",
              "</style>\n",
              "<table border=\"1\" class=\"dataframe\">\n",
              "  <thead>\n",
              "    <tr style=\"text-align: right;\">\n",
              "      <th></th>\n",
              "      <th>category_count</th>\n",
              "    </tr>\n",
              "    <tr>\n",
              "      <th>manufacturer</th>\n",
              "      <th></th>\n",
              "    </tr>\n",
              "  </thead>\n",
              "  <tbody>\n",
              "    <tr>\n",
              "      <th>audi</th>\n",
              "      <td>15</td>\n",
              "    </tr>\n",
              "    <tr>\n",
              "      <th>volkswagen</th>\n",
              "      <td>14</td>\n",
              "    </tr>\n",
              "    <tr>\n",
              "      <th>toyota</th>\n",
              "      <td>12</td>\n",
              "    </tr>\n",
              "    <tr>\n",
              "      <th>subaru</th>\n",
              "      <td>4</td>\n",
              "    </tr>\n",
              "    <tr>\n",
              "      <th>nissan</th>\n",
              "      <td>2</td>\n",
              "    </tr>\n",
              "  </tbody>\n",
              "</table>\n",
              "</div>\n",
              "      <button class=\"colab-df-convert\" onclick=\"convertToInteractive('df-89df9172-e9bb-46e6-8d36-209e4e7ab69d')\"\n",
              "              title=\"Convert this dataframe to an interactive table.\"\n",
              "              style=\"display:none;\">\n",
              "        \n",
              "  <svg xmlns=\"http://www.w3.org/2000/svg\" height=\"24px\"viewBox=\"0 0 24 24\"\n",
              "       width=\"24px\">\n",
              "    <path d=\"M0 0h24v24H0V0z\" fill=\"none\"/>\n",
              "    <path d=\"M18.56 5.44l.94 2.06.94-2.06 2.06-.94-2.06-.94-.94-2.06-.94 2.06-2.06.94zm-11 1L8.5 8.5l.94-2.06 2.06-.94-2.06-.94L8.5 2.5l-.94 2.06-2.06.94zm10 10l.94 2.06.94-2.06 2.06-.94-2.06-.94-.94-2.06-.94 2.06-2.06.94z\"/><path d=\"M17.41 7.96l-1.37-1.37c-.4-.4-.92-.59-1.43-.59-.52 0-1.04.2-1.43.59L10.3 9.45l-7.72 7.72c-.78.78-.78 2.05 0 2.83L4 21.41c.39.39.9.59 1.41.59.51 0 1.02-.2 1.41-.59l7.78-7.78 2.81-2.81c.8-.78.8-2.07 0-2.86zM5.41 20L4 18.59l7.72-7.72 1.47 1.35L5.41 20z\"/>\n",
              "  </svg>\n",
              "      </button>\n",
              "      \n",
              "  <style>\n",
              "    .colab-df-container {\n",
              "      display:flex;\n",
              "      flex-wrap:wrap;\n",
              "      gap: 12px;\n",
              "    }\n",
              "\n",
              "    .colab-df-convert {\n",
              "      background-color: #E8F0FE;\n",
              "      border: none;\n",
              "      border-radius: 50%;\n",
              "      cursor: pointer;\n",
              "      display: none;\n",
              "      fill: #1967D2;\n",
              "      height: 32px;\n",
              "      padding: 0 0 0 0;\n",
              "      width: 32px;\n",
              "    }\n",
              "\n",
              "    .colab-df-convert:hover {\n",
              "      background-color: #E2EBFA;\n",
              "      box-shadow: 0px 1px 2px rgba(60, 64, 67, 0.3), 0px 1px 3px 1px rgba(60, 64, 67, 0.15);\n",
              "      fill: #174EA6;\n",
              "    }\n",
              "\n",
              "    [theme=dark] .colab-df-convert {\n",
              "      background-color: #3B4455;\n",
              "      fill: #D2E3FC;\n",
              "    }\n",
              "\n",
              "    [theme=dark] .colab-df-convert:hover {\n",
              "      background-color: #434B5C;\n",
              "      box-shadow: 0px 1px 3px 1px rgba(0, 0, 0, 0.15);\n",
              "      filter: drop-shadow(0px 1px 2px rgba(0, 0, 0, 0.3));\n",
              "      fill: #FFFFFF;\n",
              "    }\n",
              "  </style>\n",
              "\n",
              "      <script>\n",
              "        const buttonEl =\n",
              "          document.querySelector('#df-89df9172-e9bb-46e6-8d36-209e4e7ab69d button.colab-df-convert');\n",
              "        buttonEl.style.display =\n",
              "          google.colab.kernel.accessAllowed ? 'block' : 'none';\n",
              "\n",
              "        async function convertToInteractive(key) {\n",
              "          const element = document.querySelector('#df-89df9172-e9bb-46e6-8d36-209e4e7ab69d');\n",
              "          const dataTable =\n",
              "            await google.colab.kernel.invokeFunction('convertToInteractive',\n",
              "                                                     [key], {});\n",
              "          if (!dataTable) return;\n",
              "\n",
              "          const docLinkHtml = 'Like what you see? Visit the ' +\n",
              "            '<a target=\"_blank\" href=https://colab.research.google.com/notebooks/data_table.ipynb>data table notebook</a>'\n",
              "            + ' to learn more about interactive tables.';\n",
              "          element.innerHTML = '';\n",
              "          dataTable['output_type'] = 'display_data';\n",
              "          await google.colab.output.renderOutput(dataTable, element);\n",
              "          const docLink = document.createElement('div');\n",
              "          docLink.innerHTML = docLinkHtml;\n",
              "          element.appendChild(docLink);\n",
              "        }\n",
              "      </script>\n",
              "    </div>\n",
              "  </div>\n",
              "  "
            ]
          },
          "metadata": {},
          "execution_count": 6
        }
      ]
    },
    {
      "cell_type": "markdown",
      "source": [
        "# **데이터 합치기**\n",
        "- merge, concat"
      ],
      "metadata": {
        "id": "GBT2J_PrV-6C"
      }
    },
    {
      "cell_type": "code",
      "source": [
        "test1=pd.DataFrame({'id':[1,2,3,4,5],\n",
        "                    'midterm':[60,80,70,90,85]})\n",
        "\n",
        "test2=pd.DataFrame({'id':[1,2,3,4,5],\n",
        "                    'midterm':[70,83,65,95,80]})"
      ],
      "metadata": {
        "id": "zS6kI0s3I1B0"
      },
      "execution_count": null,
      "outputs": []
    },
    {
      "cell_type": "code",
      "source": [
        "#가로로 합치기: merge\n",
        "total=pd.merge(test1,test2,how='left',on='id')\n",
        "total"
      ],
      "metadata": {
        "id": "onjJqGmNVgJe"
      },
      "execution_count": null,
      "outputs": []
    },
    {
      "cell_type": "code",
      "source": [
        "#세로로 합치기: concat\n",
        "group_all=pd.concat([test1,test2])\n",
        "group_all"
      ],
      "metadata": {
        "id": "WQuKqNgYVidM"
      },
      "execution_count": null,
      "outputs": []
    },
    {
      "cell_type": "code",
      "source": [
        "#173 문제\n",
        "fuel=pd.DataFrame({'fl': ['c','d','e','p','r'],\n",
        "                   'price_fl':[2.35, 2.38, 2.11, 2.76, 2.22]})\n",
        "\n",
        "#1\n",
        "mpg=pd.merge(mpg,fuel,on='fl')\n",
        "\n",
        "#2\n",
        "mpg[['model','fl','price_fl']].head(5)"
      ],
      "metadata": {
        "id": "0vewT0rqVtV4",
        "colab": {
          "base_uri": "https://localhost:8080/",
          "height": 206
        },
        "outputId": "34a3797f-f2e2-40c5-bd74-8ccc564e38d2"
      },
      "execution_count": null,
      "outputs": [
        {
          "output_type": "execute_result",
          "data": {
            "text/plain": [
              "  model fl  price_fl\n",
              "0    a4  p      2.76\n",
              "1    a4  p      2.76\n",
              "2    a4  p      2.76\n",
              "3    a4  p      2.76\n",
              "4    a4  p      2.76"
            ],
            "text/html": [
              "\n",
              "  <div id=\"df-ab5c29e9-75a6-4591-acc5-61d421e159a2\">\n",
              "    <div class=\"colab-df-container\">\n",
              "      <div>\n",
              "<style scoped>\n",
              "    .dataframe tbody tr th:only-of-type {\n",
              "        vertical-align: middle;\n",
              "    }\n",
              "\n",
              "    .dataframe tbody tr th {\n",
              "        vertical-align: top;\n",
              "    }\n",
              "\n",
              "    .dataframe thead th {\n",
              "        text-align: right;\n",
              "    }\n",
              "</style>\n",
              "<table border=\"1\" class=\"dataframe\">\n",
              "  <thead>\n",
              "    <tr style=\"text-align: right;\">\n",
              "      <th></th>\n",
              "      <th>model</th>\n",
              "      <th>fl</th>\n",
              "      <th>price_fl</th>\n",
              "    </tr>\n",
              "  </thead>\n",
              "  <tbody>\n",
              "    <tr>\n",
              "      <th>0</th>\n",
              "      <td>a4</td>\n",
              "      <td>p</td>\n",
              "      <td>2.76</td>\n",
              "    </tr>\n",
              "    <tr>\n",
              "      <th>1</th>\n",
              "      <td>a4</td>\n",
              "      <td>p</td>\n",
              "      <td>2.76</td>\n",
              "    </tr>\n",
              "    <tr>\n",
              "      <th>2</th>\n",
              "      <td>a4</td>\n",
              "      <td>p</td>\n",
              "      <td>2.76</td>\n",
              "    </tr>\n",
              "    <tr>\n",
              "      <th>3</th>\n",
              "      <td>a4</td>\n",
              "      <td>p</td>\n",
              "      <td>2.76</td>\n",
              "    </tr>\n",
              "    <tr>\n",
              "      <th>4</th>\n",
              "      <td>a4</td>\n",
              "      <td>p</td>\n",
              "      <td>2.76</td>\n",
              "    </tr>\n",
              "  </tbody>\n",
              "</table>\n",
              "</div>\n",
              "      <button class=\"colab-df-convert\" onclick=\"convertToInteractive('df-ab5c29e9-75a6-4591-acc5-61d421e159a2')\"\n",
              "              title=\"Convert this dataframe to an interactive table.\"\n",
              "              style=\"display:none;\">\n",
              "        \n",
              "  <svg xmlns=\"http://www.w3.org/2000/svg\" height=\"24px\"viewBox=\"0 0 24 24\"\n",
              "       width=\"24px\">\n",
              "    <path d=\"M0 0h24v24H0V0z\" fill=\"none\"/>\n",
              "    <path d=\"M18.56 5.44l.94 2.06.94-2.06 2.06-.94-2.06-.94-.94-2.06-.94 2.06-2.06.94zm-11 1L8.5 8.5l.94-2.06 2.06-.94-2.06-.94L8.5 2.5l-.94 2.06-2.06.94zm10 10l.94 2.06.94-2.06 2.06-.94-2.06-.94-.94-2.06-.94 2.06-2.06.94z\"/><path d=\"M17.41 7.96l-1.37-1.37c-.4-.4-.92-.59-1.43-.59-.52 0-1.04.2-1.43.59L10.3 9.45l-7.72 7.72c-.78.78-.78 2.05 0 2.83L4 21.41c.39.39.9.59 1.41.59.51 0 1.02-.2 1.41-.59l7.78-7.78 2.81-2.81c.8-.78.8-2.07 0-2.86zM5.41 20L4 18.59l7.72-7.72 1.47 1.35L5.41 20z\"/>\n",
              "  </svg>\n",
              "      </button>\n",
              "      \n",
              "  <style>\n",
              "    .colab-df-container {\n",
              "      display:flex;\n",
              "      flex-wrap:wrap;\n",
              "      gap: 12px;\n",
              "    }\n",
              "\n",
              "    .colab-df-convert {\n",
              "      background-color: #E8F0FE;\n",
              "      border: none;\n",
              "      border-radius: 50%;\n",
              "      cursor: pointer;\n",
              "      display: none;\n",
              "      fill: #1967D2;\n",
              "      height: 32px;\n",
              "      padding: 0 0 0 0;\n",
              "      width: 32px;\n",
              "    }\n",
              "\n",
              "    .colab-df-convert:hover {\n",
              "      background-color: #E2EBFA;\n",
              "      box-shadow: 0px 1px 2px rgba(60, 64, 67, 0.3), 0px 1px 3px 1px rgba(60, 64, 67, 0.15);\n",
              "      fill: #174EA6;\n",
              "    }\n",
              "\n",
              "    [theme=dark] .colab-df-convert {\n",
              "      background-color: #3B4455;\n",
              "      fill: #D2E3FC;\n",
              "    }\n",
              "\n",
              "    [theme=dark] .colab-df-convert:hover {\n",
              "      background-color: #434B5C;\n",
              "      box-shadow: 0px 1px 3px 1px rgba(0, 0, 0, 0.15);\n",
              "      filter: drop-shadow(0px 1px 2px rgba(0, 0, 0, 0.3));\n",
              "      fill: #FFFFFF;\n",
              "    }\n",
              "  </style>\n",
              "\n",
              "      <script>\n",
              "        const buttonEl =\n",
              "          document.querySelector('#df-ab5c29e9-75a6-4591-acc5-61d421e159a2 button.colab-df-convert');\n",
              "        buttonEl.style.display =\n",
              "          google.colab.kernel.accessAllowed ? 'block' : 'none';\n",
              "\n",
              "        async function convertToInteractive(key) {\n",
              "          const element = document.querySelector('#df-ab5c29e9-75a6-4591-acc5-61d421e159a2');\n",
              "          const dataTable =\n",
              "            await google.colab.kernel.invokeFunction('convertToInteractive',\n",
              "                                                     [key], {});\n",
              "          if (!dataTable) return;\n",
              "\n",
              "          const docLinkHtml = 'Like what you see? Visit the ' +\n",
              "            '<a target=\"_blank\" href=https://colab.research.google.com/notebooks/data_table.ipynb>data table notebook</a>'\n",
              "            + ' to learn more about interactive tables.';\n",
              "          element.innerHTML = '';\n",
              "          dataTable['output_type'] = 'display_data';\n",
              "          await google.colab.output.renderOutput(dataTable, element);\n",
              "          const docLink = document.createElement('div');\n",
              "          docLink.innerHTML = docLinkHtml;\n",
              "          element.appendChild(docLink);\n",
              "        }\n",
              "      </script>\n",
              "    </div>\n",
              "  </div>\n",
              "  "
            ]
          },
          "metadata": {},
          "execution_count": 38
        }
      ]
    },
    {
      "cell_type": "code",
      "source": [
        "mpg"
      ],
      "metadata": {
        "id": "QJ9yY2kViQWF"
      },
      "execution_count": null,
      "outputs": []
    },
    {
      "cell_type": "code",
      "source": [
        "#174,175 정리"
      ],
      "metadata": {
        "id": "l6k6H5zSWFx7"
      },
      "execution_count": null,
      "outputs": []
    },
    {
      "cell_type": "code",
      "source": [
        "#176 문제\n",
        "midwest=pd.read_csv('midwest.csv')\n",
        "\n",
        "#1\n",
        "midwest=midwest.assign(percentage=midwest['popadults']/midwest['poptotal']*100)\n",
        "\n",
        "#2\n",
        "midwest.sort_values('percentage',ascending=False)[['county','percentage']].head(5)\n",
        "\n",
        "#3\n",
        "midwest.assign(range=np.where(midwest['percentage']>=40, 'large',\\\n",
        "                              (np.where(midwest['percentage']>=30, 'middle', 'small'))))\n",
        "#4\n",
        "midwest.assign(percentage_asian=midwest['popasian']/midwest['poptotal']*100)\\\n",
        "        .sort_values('percentage_asian')[['state','county','percentage_asian']].head(5)"
      ],
      "metadata": {
        "id": "KB5iIxqZWKDt",
        "colab": {
          "base_uri": "https://localhost:8080/",
          "height": 206
        },
        "outputId": "e72427f1-2945-4307-ff32-f6c79aae28c2"
      },
      "execution_count": null,
      "outputs": [
        {
          "output_type": "execute_result",
          "data": {
            "text/plain": [
              "    state     county  percentage_asian\n",
              "404    WI  MENOMINEE          0.000000\n",
              "105    IN     BENTON          0.010592\n",
              "109    IN    CARROLL          0.015950\n",
              "358    OH     VINTON          0.027032\n",
              "390    WI       IRON          0.032504"
            ],
            "text/html": [
              "\n",
              "  <div id=\"df-13979f94-6403-43dc-9003-3ead274b4b70\">\n",
              "    <div class=\"colab-df-container\">\n",
              "      <div>\n",
              "<style scoped>\n",
              "    .dataframe tbody tr th:only-of-type {\n",
              "        vertical-align: middle;\n",
              "    }\n",
              "\n",
              "    .dataframe tbody tr th {\n",
              "        vertical-align: top;\n",
              "    }\n",
              "\n",
              "    .dataframe thead th {\n",
              "        text-align: right;\n",
              "    }\n",
              "</style>\n",
              "<table border=\"1\" class=\"dataframe\">\n",
              "  <thead>\n",
              "    <tr style=\"text-align: right;\">\n",
              "      <th></th>\n",
              "      <th>state</th>\n",
              "      <th>county</th>\n",
              "      <th>percentage_asian</th>\n",
              "    </tr>\n",
              "  </thead>\n",
              "  <tbody>\n",
              "    <tr>\n",
              "      <th>404</th>\n",
              "      <td>WI</td>\n",
              "      <td>MENOMINEE</td>\n",
              "      <td>0.000000</td>\n",
              "    </tr>\n",
              "    <tr>\n",
              "      <th>105</th>\n",
              "      <td>IN</td>\n",
              "      <td>BENTON</td>\n",
              "      <td>0.010592</td>\n",
              "    </tr>\n",
              "    <tr>\n",
              "      <th>109</th>\n",
              "      <td>IN</td>\n",
              "      <td>CARROLL</td>\n",
              "      <td>0.015950</td>\n",
              "    </tr>\n",
              "    <tr>\n",
              "      <th>358</th>\n",
              "      <td>OH</td>\n",
              "      <td>VINTON</td>\n",
              "      <td>0.027032</td>\n",
              "    </tr>\n",
              "    <tr>\n",
              "      <th>390</th>\n",
              "      <td>WI</td>\n",
              "      <td>IRON</td>\n",
              "      <td>0.032504</td>\n",
              "    </tr>\n",
              "  </tbody>\n",
              "</table>\n",
              "</div>\n",
              "      <button class=\"colab-df-convert\" onclick=\"convertToInteractive('df-13979f94-6403-43dc-9003-3ead274b4b70')\"\n",
              "              title=\"Convert this dataframe to an interactive table.\"\n",
              "              style=\"display:none;\">\n",
              "        \n",
              "  <svg xmlns=\"http://www.w3.org/2000/svg\" height=\"24px\"viewBox=\"0 0 24 24\"\n",
              "       width=\"24px\">\n",
              "    <path d=\"M0 0h24v24H0V0z\" fill=\"none\"/>\n",
              "    <path d=\"M18.56 5.44l.94 2.06.94-2.06 2.06-.94-2.06-.94-.94-2.06-.94 2.06-2.06.94zm-11 1L8.5 8.5l.94-2.06 2.06-.94-2.06-.94L8.5 2.5l-.94 2.06-2.06.94zm10 10l.94 2.06.94-2.06 2.06-.94-2.06-.94-.94-2.06-.94 2.06-2.06.94z\"/><path d=\"M17.41 7.96l-1.37-1.37c-.4-.4-.92-.59-1.43-.59-.52 0-1.04.2-1.43.59L10.3 9.45l-7.72 7.72c-.78.78-.78 2.05 0 2.83L4 21.41c.39.39.9.59 1.41.59.51 0 1.02-.2 1.41-.59l7.78-7.78 2.81-2.81c.8-.78.8-2.07 0-2.86zM5.41 20L4 18.59l7.72-7.72 1.47 1.35L5.41 20z\"/>\n",
              "  </svg>\n",
              "      </button>\n",
              "      \n",
              "  <style>\n",
              "    .colab-df-container {\n",
              "      display:flex;\n",
              "      flex-wrap:wrap;\n",
              "      gap: 12px;\n",
              "    }\n",
              "\n",
              "    .colab-df-convert {\n",
              "      background-color: #E8F0FE;\n",
              "      border: none;\n",
              "      border-radius: 50%;\n",
              "      cursor: pointer;\n",
              "      display: none;\n",
              "      fill: #1967D2;\n",
              "      height: 32px;\n",
              "      padding: 0 0 0 0;\n",
              "      width: 32px;\n",
              "    }\n",
              "\n",
              "    .colab-df-convert:hover {\n",
              "      background-color: #E2EBFA;\n",
              "      box-shadow: 0px 1px 2px rgba(60, 64, 67, 0.3), 0px 1px 3px 1px rgba(60, 64, 67, 0.15);\n",
              "      fill: #174EA6;\n",
              "    }\n",
              "\n",
              "    [theme=dark] .colab-df-convert {\n",
              "      background-color: #3B4455;\n",
              "      fill: #D2E3FC;\n",
              "    }\n",
              "\n",
              "    [theme=dark] .colab-df-convert:hover {\n",
              "      background-color: #434B5C;\n",
              "      box-shadow: 0px 1px 3px 1px rgba(0, 0, 0, 0.15);\n",
              "      filter: drop-shadow(0px 1px 2px rgba(0, 0, 0, 0.3));\n",
              "      fill: #FFFFFF;\n",
              "    }\n",
              "  </style>\n",
              "\n",
              "      <script>\n",
              "        const buttonEl =\n",
              "          document.querySelector('#df-13979f94-6403-43dc-9003-3ead274b4b70 button.colab-df-convert');\n",
              "        buttonEl.style.display =\n",
              "          google.colab.kernel.accessAllowed ? 'block' : 'none';\n",
              "\n",
              "        async function convertToInteractive(key) {\n",
              "          const element = document.querySelector('#df-13979f94-6403-43dc-9003-3ead274b4b70');\n",
              "          const dataTable =\n",
              "            await google.colab.kernel.invokeFunction('convertToInteractive',\n",
              "                                                     [key], {});\n",
              "          if (!dataTable) return;\n",
              "\n",
              "          const docLinkHtml = 'Like what you see? Visit the ' +\n",
              "            '<a target=\"_blank\" href=https://colab.research.google.com/notebooks/data_table.ipynb>data table notebook</a>'\n",
              "            + ' to learn more about interactive tables.';\n",
              "          element.innerHTML = '';\n",
              "          dataTable['output_type'] = 'display_data';\n",
              "          await google.colab.output.renderOutput(dataTable, element);\n",
              "          const docLink = document.createElement('div');\n",
              "          docLink.innerHTML = docLinkHtml;\n",
              "          element.appendChild(docLink);\n",
              "        }\n",
              "      </script>\n",
              "    </div>\n",
              "  </div>\n",
              "  "
            ]
          },
          "metadata": {},
          "execution_count": 56
        }
      ]
    },
    {
      "cell_type": "markdown",
      "source": [
        "# **결측치**\n",
        "- isna(), dropna(subset=), fillna "
      ],
      "metadata": {
        "id": "eLIo35GwYQvE"
      }
    },
    {
      "cell_type": "code",
      "source": [
        "import pandas as pd\n",
        "import numpy as np\n",
        "\n",
        "df=pd.DataFrame({'sex':['M','F', np.nan, 'M', 'F'],\n",
        "                 'score':[5,4,3,4,np.nan]})\n",
        "\n",
        "pd.isna(df).sum()"
      ],
      "metadata": {
        "id": "Iwhtj0s8YUWc",
        "colab": {
          "base_uri": "https://localhost:8080/"
        },
        "outputId": "5f6adee3-d349-4c64-a1c6-f36ec176b366"
      },
      "execution_count": null,
      "outputs": [
        {
          "output_type": "execute_result",
          "data": {
            "text/plain": [
              "sex      1\n",
              "score    1\n",
              "dtype: int64"
            ]
          },
          "metadata": {},
          "execution_count": 60
        }
      ]
    },
    {
      "cell_type": "code",
      "source": [
        "#결측치 있는 행 제거 dropna\n",
        "\n",
        "df_nomiss=df.dropna(subset=['score'])\n",
        "#df.dropna(subset=['score','sex'])\n",
        "#df.dropna()하면 nan 다 삭제\n",
        "\n",
        "df_nomiss['score']+1"
      ],
      "metadata": {
        "id": "ccmapG3NYXLf",
        "colab": {
          "base_uri": "https://localhost:8080/"
        },
        "outputId": "5509f464-3aeb-4a06-ba71-896157dfa0ae"
      },
      "execution_count": null,
      "outputs": [
        {
          "output_type": "execute_result",
          "data": {
            "text/plain": [
              "0    6.0\n",
              "1    5.0\n",
              "2    4.0\n",
              "3    5.0\n",
              "Name: score, dtype: float64"
            ]
          },
          "metadata": {},
          "execution_count": 61
        }
      ]
    },
    {
      "cell_type": "code",
      "source": [
        "df.groupby('sex')\\\n",
        "  .agg(mean_score=('score','mean'),\n",
        "       sum_score=('score','sum'))"
      ],
      "metadata": {
        "colab": {
          "base_uri": "https://localhost:8080/",
          "height": 143
        },
        "id": "1twDsxjwqilQ",
        "outputId": "16839dfc-7b2d-4353-ea78-3ec26ce9e4c4"
      },
      "execution_count": null,
      "outputs": [
        {
          "output_type": "execute_result",
          "data": {
            "text/plain": [
              "     mean_score  sum_score\n",
              "sex                       \n",
              "F           4.0        4.0\n",
              "M           4.5        9.0"
            ],
            "text/html": [
              "\n",
              "  <div id=\"df-70f0a79f-c37f-46e0-b781-255d9c4982c9\">\n",
              "    <div class=\"colab-df-container\">\n",
              "      <div>\n",
              "<style scoped>\n",
              "    .dataframe tbody tr th:only-of-type {\n",
              "        vertical-align: middle;\n",
              "    }\n",
              "\n",
              "    .dataframe tbody tr th {\n",
              "        vertical-align: top;\n",
              "    }\n",
              "\n",
              "    .dataframe thead th {\n",
              "        text-align: right;\n",
              "    }\n",
              "</style>\n",
              "<table border=\"1\" class=\"dataframe\">\n",
              "  <thead>\n",
              "    <tr style=\"text-align: right;\">\n",
              "      <th></th>\n",
              "      <th>mean_score</th>\n",
              "      <th>sum_score</th>\n",
              "    </tr>\n",
              "    <tr>\n",
              "      <th>sex</th>\n",
              "      <th></th>\n",
              "      <th></th>\n",
              "    </tr>\n",
              "  </thead>\n",
              "  <tbody>\n",
              "    <tr>\n",
              "      <th>F</th>\n",
              "      <td>4.0</td>\n",
              "      <td>4.0</td>\n",
              "    </tr>\n",
              "    <tr>\n",
              "      <th>M</th>\n",
              "      <td>4.5</td>\n",
              "      <td>9.0</td>\n",
              "    </tr>\n",
              "  </tbody>\n",
              "</table>\n",
              "</div>\n",
              "      <button class=\"colab-df-convert\" onclick=\"convertToInteractive('df-70f0a79f-c37f-46e0-b781-255d9c4982c9')\"\n",
              "              title=\"Convert this dataframe to an interactive table.\"\n",
              "              style=\"display:none;\">\n",
              "        \n",
              "  <svg xmlns=\"http://www.w3.org/2000/svg\" height=\"24px\"viewBox=\"0 0 24 24\"\n",
              "       width=\"24px\">\n",
              "    <path d=\"M0 0h24v24H0V0z\" fill=\"none\"/>\n",
              "    <path d=\"M18.56 5.44l.94 2.06.94-2.06 2.06-.94-2.06-.94-.94-2.06-.94 2.06-2.06.94zm-11 1L8.5 8.5l.94-2.06 2.06-.94-2.06-.94L8.5 2.5l-.94 2.06-2.06.94zm10 10l.94 2.06.94-2.06 2.06-.94-2.06-.94-.94-2.06-.94 2.06-2.06.94z\"/><path d=\"M17.41 7.96l-1.37-1.37c-.4-.4-.92-.59-1.43-.59-.52 0-1.04.2-1.43.59L10.3 9.45l-7.72 7.72c-.78.78-.78 2.05 0 2.83L4 21.41c.39.39.9.59 1.41.59.51 0 1.02-.2 1.41-.59l7.78-7.78 2.81-2.81c.8-.78.8-2.07 0-2.86zM5.41 20L4 18.59l7.72-7.72 1.47 1.35L5.41 20z\"/>\n",
              "  </svg>\n",
              "      </button>\n",
              "      \n",
              "  <style>\n",
              "    .colab-df-container {\n",
              "      display:flex;\n",
              "      flex-wrap:wrap;\n",
              "      gap: 12px;\n",
              "    }\n",
              "\n",
              "    .colab-df-convert {\n",
              "      background-color: #E8F0FE;\n",
              "      border: none;\n",
              "      border-radius: 50%;\n",
              "      cursor: pointer;\n",
              "      display: none;\n",
              "      fill: #1967D2;\n",
              "      height: 32px;\n",
              "      padding: 0 0 0 0;\n",
              "      width: 32px;\n",
              "    }\n",
              "\n",
              "    .colab-df-convert:hover {\n",
              "      background-color: #E2EBFA;\n",
              "      box-shadow: 0px 1px 2px rgba(60, 64, 67, 0.3), 0px 1px 3px 1px rgba(60, 64, 67, 0.15);\n",
              "      fill: #174EA6;\n",
              "    }\n",
              "\n",
              "    [theme=dark] .colab-df-convert {\n",
              "      background-color: #3B4455;\n",
              "      fill: #D2E3FC;\n",
              "    }\n",
              "\n",
              "    [theme=dark] .colab-df-convert:hover {\n",
              "      background-color: #434B5C;\n",
              "      box-shadow: 0px 1px 3px 1px rgba(0, 0, 0, 0.15);\n",
              "      filter: drop-shadow(0px 1px 2px rgba(0, 0, 0, 0.3));\n",
              "      fill: #FFFFFF;\n",
              "    }\n",
              "  </style>\n",
              "\n",
              "      <script>\n",
              "        const buttonEl =\n",
              "          document.querySelector('#df-70f0a79f-c37f-46e0-b781-255d9c4982c9 button.colab-df-convert');\n",
              "        buttonEl.style.display =\n",
              "          google.colab.kernel.accessAllowed ? 'block' : 'none';\n",
              "\n",
              "        async function convertToInteractive(key) {\n",
              "          const element = document.querySelector('#df-70f0a79f-c37f-46e0-b781-255d9c4982c9');\n",
              "          const dataTable =\n",
              "            await google.colab.kernel.invokeFunction('convertToInteractive',\n",
              "                                                     [key], {});\n",
              "          if (!dataTable) return;\n",
              "\n",
              "          const docLinkHtml = 'Like what you see? Visit the ' +\n",
              "            '<a target=\"_blank\" href=https://colab.research.google.com/notebooks/data_table.ipynb>data table notebook</a>'\n",
              "            + ' to learn more about interactive tables.';\n",
              "          element.innerHTML = '';\n",
              "          dataTable['output_type'] = 'display_data';\n",
              "          await google.colab.output.renderOutput(dataTable, element);\n",
              "          const docLink = document.createElement('div');\n",
              "          docLink.innerHTML = docLinkHtml;\n",
              "          element.appendChild(docLink);\n",
              "        }\n",
              "      </script>\n",
              "    </div>\n",
              "  </div>\n",
              "  "
            ]
          },
          "metadata": {},
          "execution_count": 66
        }
      ]
    },
    {
      "cell_type": "code",
      "source": [
        "#결측치 대체하기 fillna\n",
        "\n",
        "exam=pd.read_csv('exam.csv')\n",
        "\n",
        "exam.loc[[2,7,14],['math']]=np.nan\n",
        "exam['math']=exam['math'].fillna(exam['math'].mean())\n",
        "\n",
        "exam['math'].isna().sum()\n",
        "exam"
      ],
      "metadata": {
        "id": "qgHphG3PYltc"
      },
      "execution_count": null,
      "outputs": []
    },
    {
      "cell_type": "code",
      "source": [
        "#185 문제\n",
        "mpg.loc[[64,123,130,152,211],\"hwy\"]=np.nan\n",
        "\n",
        "#1\n",
        "mpg[['drv','hwy']].isna().sum()\n",
        "\n",
        "#2\n",
        "mpg.dropna(subset='hwy')\\\n",
        "   .groupby('drv')['hwy'].mean()\n",
        "#mpg.dropna(subset='hwy'.groupby('drv').agg(mean_hwy=('hwy','mean'))"
      ],
      "metadata": {
        "id": "c3H8fnStY0eU"
      },
      "execution_count": null,
      "outputs": []
    },
    {
      "cell_type": "code",
      "source": [
        "#이상치(?)를 결측치(NaN)로 바꾸기\n",
        "\n",
        "df=pd.DataFrame({'sex':[1,2,1,3,2,1],\n",
        "                 'score':[5,4,3,4,2,6]})\n",
        "\n",
        "df['sex']=np.where(df['sex']>2, np.nan, df['sex'])\n",
        "df['score']=np.where(df['score']>5, np.nan, df['score'])\n",
        "\n",
        "df.dropna(subset=['sex','score']).groupby('sex')\\\n",
        "                                 .agg(mean_score=('score','mean'))   "
      ],
      "metadata": {
        "id": "1EYiW8ydZCxF",
        "colab": {
          "base_uri": "https://localhost:8080/",
          "height": 143
        },
        "outputId": "8a585144-b5dc-4b08-ac82-dee489449f3f"
      },
      "execution_count": null,
      "outputs": [
        {
          "output_type": "execute_result",
          "data": {
            "text/plain": [
              "     mean_score\n",
              "sex            \n",
              "1.0         4.0\n",
              "2.0         3.0"
            ],
            "text/html": [
              "\n",
              "  <div id=\"df-77db4030-378f-418b-8a81-dc3e5b7ffa3d\">\n",
              "    <div class=\"colab-df-container\">\n",
              "      <div>\n",
              "<style scoped>\n",
              "    .dataframe tbody tr th:only-of-type {\n",
              "        vertical-align: middle;\n",
              "    }\n",
              "\n",
              "    .dataframe tbody tr th {\n",
              "        vertical-align: top;\n",
              "    }\n",
              "\n",
              "    .dataframe thead th {\n",
              "        text-align: right;\n",
              "    }\n",
              "</style>\n",
              "<table border=\"1\" class=\"dataframe\">\n",
              "  <thead>\n",
              "    <tr style=\"text-align: right;\">\n",
              "      <th></th>\n",
              "      <th>mean_score</th>\n",
              "    </tr>\n",
              "    <tr>\n",
              "      <th>sex</th>\n",
              "      <th></th>\n",
              "    </tr>\n",
              "  </thead>\n",
              "  <tbody>\n",
              "    <tr>\n",
              "      <th>1.0</th>\n",
              "      <td>4.0</td>\n",
              "    </tr>\n",
              "    <tr>\n",
              "      <th>2.0</th>\n",
              "      <td>3.0</td>\n",
              "    </tr>\n",
              "  </tbody>\n",
              "</table>\n",
              "</div>\n",
              "      <button class=\"colab-df-convert\" onclick=\"convertToInteractive('df-77db4030-378f-418b-8a81-dc3e5b7ffa3d')\"\n",
              "              title=\"Convert this dataframe to an interactive table.\"\n",
              "              style=\"display:none;\">\n",
              "        \n",
              "  <svg xmlns=\"http://www.w3.org/2000/svg\" height=\"24px\"viewBox=\"0 0 24 24\"\n",
              "       width=\"24px\">\n",
              "    <path d=\"M0 0h24v24H0V0z\" fill=\"none\"/>\n",
              "    <path d=\"M18.56 5.44l.94 2.06.94-2.06 2.06-.94-2.06-.94-.94-2.06-.94 2.06-2.06.94zm-11 1L8.5 8.5l.94-2.06 2.06-.94-2.06-.94L8.5 2.5l-.94 2.06-2.06.94zm10 10l.94 2.06.94-2.06 2.06-.94-2.06-.94-.94-2.06-.94 2.06-2.06.94z\"/><path d=\"M17.41 7.96l-1.37-1.37c-.4-.4-.92-.59-1.43-.59-.52 0-1.04.2-1.43.59L10.3 9.45l-7.72 7.72c-.78.78-.78 2.05 0 2.83L4 21.41c.39.39.9.59 1.41.59.51 0 1.02-.2 1.41-.59l7.78-7.78 2.81-2.81c.8-.78.8-2.07 0-2.86zM5.41 20L4 18.59l7.72-7.72 1.47 1.35L5.41 20z\"/>\n",
              "  </svg>\n",
              "      </button>\n",
              "      \n",
              "  <style>\n",
              "    .colab-df-container {\n",
              "      display:flex;\n",
              "      flex-wrap:wrap;\n",
              "      gap: 12px;\n",
              "    }\n",
              "\n",
              "    .colab-df-convert {\n",
              "      background-color: #E8F0FE;\n",
              "      border: none;\n",
              "      border-radius: 50%;\n",
              "      cursor: pointer;\n",
              "      display: none;\n",
              "      fill: #1967D2;\n",
              "      height: 32px;\n",
              "      padding: 0 0 0 0;\n",
              "      width: 32px;\n",
              "    }\n",
              "\n",
              "    .colab-df-convert:hover {\n",
              "      background-color: #E2EBFA;\n",
              "      box-shadow: 0px 1px 2px rgba(60, 64, 67, 0.3), 0px 1px 3px 1px rgba(60, 64, 67, 0.15);\n",
              "      fill: #174EA6;\n",
              "    }\n",
              "\n",
              "    [theme=dark] .colab-df-convert {\n",
              "      background-color: #3B4455;\n",
              "      fill: #D2E3FC;\n",
              "    }\n",
              "\n",
              "    [theme=dark] .colab-df-convert:hover {\n",
              "      background-color: #434B5C;\n",
              "      box-shadow: 0px 1px 3px 1px rgba(0, 0, 0, 0.15);\n",
              "      filter: drop-shadow(0px 1px 2px rgba(0, 0, 0, 0.3));\n",
              "      fill: #FFFFFF;\n",
              "    }\n",
              "  </style>\n",
              "\n",
              "      <script>\n",
              "        const buttonEl =\n",
              "          document.querySelector('#df-77db4030-378f-418b-8a81-dc3e5b7ffa3d button.colab-df-convert');\n",
              "        buttonEl.style.display =\n",
              "          google.colab.kernel.accessAllowed ? 'block' : 'none';\n",
              "\n",
              "        async function convertToInteractive(key) {\n",
              "          const element = document.querySelector('#df-77db4030-378f-418b-8a81-dc3e5b7ffa3d');\n",
              "          const dataTable =\n",
              "            await google.colab.kernel.invokeFunction('convertToInteractive',\n",
              "                                                     [key], {});\n",
              "          if (!dataTable) return;\n",
              "\n",
              "          const docLinkHtml = 'Like what you see? Visit the ' +\n",
              "            '<a target=\"_blank\" href=https://colab.research.google.com/notebooks/data_table.ipynb>data table notebook</a>'\n",
              "            + ' to learn more about interactive tables.';\n",
              "          element.innerHTML = '';\n",
              "          dataTable['output_type'] = 'display_data';\n",
              "          await google.colab.output.renderOutput(dataTable, element);\n",
              "          const docLink = document.createElement('div');\n",
              "          docLink.innerHTML = docLinkHtml;\n",
              "          element.appendChild(docLink);\n",
              "        }\n",
              "      </script>\n",
              "    </div>\n",
              "  </div>\n",
              "  "
            ]
          },
          "metadata": {},
          "execution_count": 87
        }
      ]
    },
    {
      "cell_type": "code",
      "source": [
        "df=pd.DataFrame({'x1':[1,1,2,3]})\n",
        "df['x2']=np.where(df['x1']==2, 'etc', 'a')\n",
        "df['x2']=df['x2'].replace('etc',np.nan)\n",
        "df"
      ],
      "metadata": {
        "colab": {
          "base_uri": "https://localhost:8080/",
          "height": 175
        },
        "id": "ph9Gv8xVvYDg",
        "outputId": "08758b5d-9336-49ce-e608-93436fa84801"
      },
      "execution_count": null,
      "outputs": [
        {
          "output_type": "execute_result",
          "data": {
            "text/plain": [
              "   x1   x2\n",
              "0   1    a\n",
              "1   1    a\n",
              "2   2  NaN\n",
              "3   3    a"
            ],
            "text/html": [
              "\n",
              "  <div id=\"df-a1ece224-3156-4d8a-8a86-9a70631ce3e6\">\n",
              "    <div class=\"colab-df-container\">\n",
              "      <div>\n",
              "<style scoped>\n",
              "    .dataframe tbody tr th:only-of-type {\n",
              "        vertical-align: middle;\n",
              "    }\n",
              "\n",
              "    .dataframe tbody tr th {\n",
              "        vertical-align: top;\n",
              "    }\n",
              "\n",
              "    .dataframe thead th {\n",
              "        text-align: right;\n",
              "    }\n",
              "</style>\n",
              "<table border=\"1\" class=\"dataframe\">\n",
              "  <thead>\n",
              "    <tr style=\"text-align: right;\">\n",
              "      <th></th>\n",
              "      <th>x1</th>\n",
              "      <th>x2</th>\n",
              "    </tr>\n",
              "  </thead>\n",
              "  <tbody>\n",
              "    <tr>\n",
              "      <th>0</th>\n",
              "      <td>1</td>\n",
              "      <td>a</td>\n",
              "    </tr>\n",
              "    <tr>\n",
              "      <th>1</th>\n",
              "      <td>1</td>\n",
              "      <td>a</td>\n",
              "    </tr>\n",
              "    <tr>\n",
              "      <th>2</th>\n",
              "      <td>2</td>\n",
              "      <td>NaN</td>\n",
              "    </tr>\n",
              "    <tr>\n",
              "      <th>3</th>\n",
              "      <td>3</td>\n",
              "      <td>a</td>\n",
              "    </tr>\n",
              "  </tbody>\n",
              "</table>\n",
              "</div>\n",
              "      <button class=\"colab-df-convert\" onclick=\"convertToInteractive('df-a1ece224-3156-4d8a-8a86-9a70631ce3e6')\"\n",
              "              title=\"Convert this dataframe to an interactive table.\"\n",
              "              style=\"display:none;\">\n",
              "        \n",
              "  <svg xmlns=\"http://www.w3.org/2000/svg\" height=\"24px\"viewBox=\"0 0 24 24\"\n",
              "       width=\"24px\">\n",
              "    <path d=\"M0 0h24v24H0V0z\" fill=\"none\"/>\n",
              "    <path d=\"M18.56 5.44l.94 2.06.94-2.06 2.06-.94-2.06-.94-.94-2.06-.94 2.06-2.06.94zm-11 1L8.5 8.5l.94-2.06 2.06-.94-2.06-.94L8.5 2.5l-.94 2.06-2.06.94zm10 10l.94 2.06.94-2.06 2.06-.94-2.06-.94-.94-2.06-.94 2.06-2.06.94z\"/><path d=\"M17.41 7.96l-1.37-1.37c-.4-.4-.92-.59-1.43-.59-.52 0-1.04.2-1.43.59L10.3 9.45l-7.72 7.72c-.78.78-.78 2.05 0 2.83L4 21.41c.39.39.9.59 1.41.59.51 0 1.02-.2 1.41-.59l7.78-7.78 2.81-2.81c.8-.78.8-2.07 0-2.86zM5.41 20L4 18.59l7.72-7.72 1.47 1.35L5.41 20z\"/>\n",
              "  </svg>\n",
              "      </button>\n",
              "      \n",
              "  <style>\n",
              "    .colab-df-container {\n",
              "      display:flex;\n",
              "      flex-wrap:wrap;\n",
              "      gap: 12px;\n",
              "    }\n",
              "\n",
              "    .colab-df-convert {\n",
              "      background-color: #E8F0FE;\n",
              "      border: none;\n",
              "      border-radius: 50%;\n",
              "      cursor: pointer;\n",
              "      display: none;\n",
              "      fill: #1967D2;\n",
              "      height: 32px;\n",
              "      padding: 0 0 0 0;\n",
              "      width: 32px;\n",
              "    }\n",
              "\n",
              "    .colab-df-convert:hover {\n",
              "      background-color: #E2EBFA;\n",
              "      box-shadow: 0px 1px 2px rgba(60, 64, 67, 0.3), 0px 1px 3px 1px rgba(60, 64, 67, 0.15);\n",
              "      fill: #174EA6;\n",
              "    }\n",
              "\n",
              "    [theme=dark] .colab-df-convert {\n",
              "      background-color: #3B4455;\n",
              "      fill: #D2E3FC;\n",
              "    }\n",
              "\n",
              "    [theme=dark] .colab-df-convert:hover {\n",
              "      background-color: #434B5C;\n",
              "      box-shadow: 0px 1px 3px 1px rgba(0, 0, 0, 0.15);\n",
              "      filter: drop-shadow(0px 1px 2px rgba(0, 0, 0, 0.3));\n",
              "      fill: #FFFFFF;\n",
              "    }\n",
              "  </style>\n",
              "\n",
              "      <script>\n",
              "        const buttonEl =\n",
              "          document.querySelector('#df-a1ece224-3156-4d8a-8a86-9a70631ce3e6 button.colab-df-convert');\n",
              "        buttonEl.style.display =\n",
              "          google.colab.kernel.accessAllowed ? 'block' : 'none';\n",
              "\n",
              "        async function convertToInteractive(key) {\n",
              "          const element = document.querySelector('#df-a1ece224-3156-4d8a-8a86-9a70631ce3e6');\n",
              "          const dataTable =\n",
              "            await google.colab.kernel.invokeFunction('convertToInteractive',\n",
              "                                                     [key], {});\n",
              "          if (!dataTable) return;\n",
              "\n",
              "          const docLinkHtml = 'Like what you see? Visit the ' +\n",
              "            '<a target=\"_blank\" href=https://colab.research.google.com/notebooks/data_table.ipynb>data table notebook</a>'\n",
              "            + ' to learn more about interactive tables.';\n",
              "          element.innerHTML = '';\n",
              "          dataTable['output_type'] = 'display_data';\n",
              "          await google.colab.output.renderOutput(dataTable, element);\n",
              "          const docLink = document.createElement('div');\n",
              "          docLink.innerHTML = docLinkHtml;\n",
              "          element.appendChild(docLink);\n",
              "        }\n",
              "      </script>\n",
              "    </div>\n",
              "  </div>\n",
              "  "
            ]
          },
          "metadata": {},
          "execution_count": 95
        }
      ]
    },
    {
      "cell_type": "markdown",
      "source": [
        "## **이상치 제거하기**"
      ],
      "metadata": {
        "id": "o8ChK7vjcnpe"
      }
    },
    {
      "cell_type": "code",
      "source": [
        "#1. 상자그림, 사분위수, IQR(1사분위수와 3사분위수 거리), 하한과 상한으로 극단치 기준값 정하기\n",
        "import seaborn as sns\n",
        "mpg=pd.read_csv('mpg.csv')\n",
        "\n",
        "sns.boxplot(data=mpg, y='hwy')\n",
        "\n",
        "pct25=mpg['hwy'].quantile(.25)\n",
        "pct75=mpg['hwy'].quantile(.75)\n",
        "iqr=pct75-pct25\n",
        "\n",
        "print(pct25-1.5*iqr #하한\n",
        ",pct75+1.5*iqr) #상한"
      ],
      "metadata": {
        "id": "Le5VRKtlZpYH"
      },
      "execution_count": null,
      "outputs": []
    },
    {
      "cell_type": "code",
      "source": [
        "#2. 극단치를 결측처리하기\n",
        "mpg['hwy']=np.where((mpg['hwy']<4.5)|(mpg['hwy']>40.5),\n",
        "                    np.nan, mpg['hwy'])\n",
        "mpg['hwy'].isna().sum()"
      ],
      "metadata": {
        "id": "heSLWpBRcxtE",
        "colab": {
          "base_uri": "https://localhost:8080/"
        },
        "outputId": "c2acda83-034c-4f88-dadb-6b63a455f769"
      },
      "execution_count": null,
      "outputs": [
        {
          "output_type": "execute_result",
          "data": {
            "text/plain": [
              "3"
            ]
          },
          "metadata": {},
          "execution_count": 99
        }
      ]
    },
    {
      "cell_type": "code",
      "source": [
        "#3. 결측치를 제거하고 분석하기\n",
        "mpg.dropna(subset=['hwy'])\\\n",
        "    .groupby('drv')\\\n",
        "    .agg(mean_hwy=('hwy','mean'))"
      ],
      "metadata": {
        "id": "606dz1kicy2M",
        "colab": {
          "base_uri": "https://localhost:8080/",
          "height": 175
        },
        "outputId": "a924aa74-0078-4788-c129-b808927051b7"
      },
      "execution_count": null,
      "outputs": [
        {
          "output_type": "execute_result",
          "data": {
            "text/plain": [
              "      mean_hwy\n",
              "drv           \n",
              "4    19.174757\n",
              "f    27.728155\n",
              "r    21.000000"
            ],
            "text/html": [
              "\n",
              "  <div id=\"df-29f37cd1-6bb2-4e0b-93d5-07e403f1dfe2\">\n",
              "    <div class=\"colab-df-container\">\n",
              "      <div>\n",
              "<style scoped>\n",
              "    .dataframe tbody tr th:only-of-type {\n",
              "        vertical-align: middle;\n",
              "    }\n",
              "\n",
              "    .dataframe tbody tr th {\n",
              "        vertical-align: top;\n",
              "    }\n",
              "\n",
              "    .dataframe thead th {\n",
              "        text-align: right;\n",
              "    }\n",
              "</style>\n",
              "<table border=\"1\" class=\"dataframe\">\n",
              "  <thead>\n",
              "    <tr style=\"text-align: right;\">\n",
              "      <th></th>\n",
              "      <th>mean_hwy</th>\n",
              "    </tr>\n",
              "    <tr>\n",
              "      <th>drv</th>\n",
              "      <th></th>\n",
              "    </tr>\n",
              "  </thead>\n",
              "  <tbody>\n",
              "    <tr>\n",
              "      <th>4</th>\n",
              "      <td>19.174757</td>\n",
              "    </tr>\n",
              "    <tr>\n",
              "      <th>f</th>\n",
              "      <td>27.728155</td>\n",
              "    </tr>\n",
              "    <tr>\n",
              "      <th>r</th>\n",
              "      <td>21.000000</td>\n",
              "    </tr>\n",
              "  </tbody>\n",
              "</table>\n",
              "</div>\n",
              "      <button class=\"colab-df-convert\" onclick=\"convertToInteractive('df-29f37cd1-6bb2-4e0b-93d5-07e403f1dfe2')\"\n",
              "              title=\"Convert this dataframe to an interactive table.\"\n",
              "              style=\"display:none;\">\n",
              "        \n",
              "  <svg xmlns=\"http://www.w3.org/2000/svg\" height=\"24px\"viewBox=\"0 0 24 24\"\n",
              "       width=\"24px\">\n",
              "    <path d=\"M0 0h24v24H0V0z\" fill=\"none\"/>\n",
              "    <path d=\"M18.56 5.44l.94 2.06.94-2.06 2.06-.94-2.06-.94-.94-2.06-.94 2.06-2.06.94zm-11 1L8.5 8.5l.94-2.06 2.06-.94-2.06-.94L8.5 2.5l-.94 2.06-2.06.94zm10 10l.94 2.06.94-2.06 2.06-.94-2.06-.94-.94-2.06-.94 2.06-2.06.94z\"/><path d=\"M17.41 7.96l-1.37-1.37c-.4-.4-.92-.59-1.43-.59-.52 0-1.04.2-1.43.59L10.3 9.45l-7.72 7.72c-.78.78-.78 2.05 0 2.83L4 21.41c.39.39.9.59 1.41.59.51 0 1.02-.2 1.41-.59l7.78-7.78 2.81-2.81c.8-.78.8-2.07 0-2.86zM5.41 20L4 18.59l7.72-7.72 1.47 1.35L5.41 20z\"/>\n",
              "  </svg>\n",
              "      </button>\n",
              "      \n",
              "  <style>\n",
              "    .colab-df-container {\n",
              "      display:flex;\n",
              "      flex-wrap:wrap;\n",
              "      gap: 12px;\n",
              "    }\n",
              "\n",
              "    .colab-df-convert {\n",
              "      background-color: #E8F0FE;\n",
              "      border: none;\n",
              "      border-radius: 50%;\n",
              "      cursor: pointer;\n",
              "      display: none;\n",
              "      fill: #1967D2;\n",
              "      height: 32px;\n",
              "      padding: 0 0 0 0;\n",
              "      width: 32px;\n",
              "    }\n",
              "\n",
              "    .colab-df-convert:hover {\n",
              "      background-color: #E2EBFA;\n",
              "      box-shadow: 0px 1px 2px rgba(60, 64, 67, 0.3), 0px 1px 3px 1px rgba(60, 64, 67, 0.15);\n",
              "      fill: #174EA6;\n",
              "    }\n",
              "\n",
              "    [theme=dark] .colab-df-convert {\n",
              "      background-color: #3B4455;\n",
              "      fill: #D2E3FC;\n",
              "    }\n",
              "\n",
              "    [theme=dark] .colab-df-convert:hover {\n",
              "      background-color: #434B5C;\n",
              "      box-shadow: 0px 1px 3px 1px rgba(0, 0, 0, 0.15);\n",
              "      filter: drop-shadow(0px 1px 2px rgba(0, 0, 0, 0.3));\n",
              "      fill: #FFFFFF;\n",
              "    }\n",
              "  </style>\n",
              "\n",
              "      <script>\n",
              "        const buttonEl =\n",
              "          document.querySelector('#df-29f37cd1-6bb2-4e0b-93d5-07e403f1dfe2 button.colab-df-convert');\n",
              "        buttonEl.style.display =\n",
              "          google.colab.kernel.accessAllowed ? 'block' : 'none';\n",
              "\n",
              "        async function convertToInteractive(key) {\n",
              "          const element = document.querySelector('#df-29f37cd1-6bb2-4e0b-93d5-07e403f1dfe2');\n",
              "          const dataTable =\n",
              "            await google.colab.kernel.invokeFunction('convertToInteractive',\n",
              "                                                     [key], {});\n",
              "          if (!dataTable) return;\n",
              "\n",
              "          const docLinkHtml = 'Like what you see? Visit the ' +\n",
              "            '<a target=\"_blank\" href=https://colab.research.google.com/notebooks/data_table.ipynb>data table notebook</a>'\n",
              "            + ' to learn more about interactive tables.';\n",
              "          element.innerHTML = '';\n",
              "          dataTable['output_type'] = 'display_data';\n",
              "          await google.colab.output.renderOutput(dataTable, element);\n",
              "          const docLink = document.createElement('div');\n",
              "          docLink.innerHTML = docLinkHtml;\n",
              "          element.appendChild(docLink);\n",
              "        }\n",
              "      </script>\n",
              "    </div>\n",
              "  </div>\n",
              "  "
            ]
          },
          "metadata": {},
          "execution_count": 101
        }
      ]
    },
    {
      "cell_type": "code",
      "source": [
        "#194 문제\n",
        "mpg=pd.read_csv('mpg.csv')\n",
        "mpg.loc[[9,13,57,92], 'drv']='k'\n",
        "mpg.loc[[28,42,128,202],'cty']=[3,4,39,42]\n",
        "\n",
        "#1: 이상치 확인하고, 결측치가 됐는지도 확인\n",
        "mpg['drv'].value_counts()\n",
        "mpg['drv']=np.where(mpg['drv'].isin(['4','f','r']),mpg['drv'],np.nan)\n",
        "mpg['drv'].isna().sum()\n",
        "\n",
        "#2: 정상범위 벗어난값을 결측처리하고, 이상치 사라졌는지 확인\n",
        "sns.boxplot(data=mpg, y='cty')\n",
        "pct25=mpg['cty'].quantile(.25)\n",
        "pct75=mpg['cty'].quantile(.75)\n",
        "iqr=pct75-pct25\n",
        "pct25-1.5*iqr #하한\n",
        "pct75+1.5*iqr #상한\n",
        "\n",
        "mpg['cty']=np.where((mpg['cty']<6.5)|(mpg['cty']>26.5), \n",
        "                    mpg['cty'], np.nan)\n",
        "sns.boxplot(data=mpg, y='cty')\n",
        "\n",
        "#3: 결측처리된걸 분석, drv별로  cty평균\n",
        "mpg.dropna(subset=['drv','cty'])\\\n",
        "  .groupby('drv').agg(mean_cty=('cty','mean'))"
      ],
      "metadata": {
        "id": "09GO-IrP2txq"
      },
      "execution_count": null,
      "outputs": []
    },
    {
      "cell_type": "code",
      "source": [
        "#195 정리\n"
      ],
      "metadata": {
        "id": "O2g6k1rTc_He"
      },
      "execution_count": null,
      "outputs": []
    },
    {
      "cell_type": "markdown",
      "source": [
        "# **그래프만들기**\n",
        "- sns.scatterplot(data=, x=), sns.barplot, sns.countplot, sns.lineplot 시계열그래프\n",
        "- set(xlim=(), ylim()): 범위제한\n",
        "- order: 내마음대로 정렬\n",
        "- value_counts().index: 빈도수 정렬한 인덱스"
      ],
      "metadata": {
        "id": "uJt0ebCmdHpX"
      }
    },
    {
      "cell_type": "code",
      "source": [
        "#산점도 (sns.scatterplot)\n",
        "import pandas as pd\n",
        "import seaborn as sns\n",
        "\n",
        "mpg=pd.read_csv('mpg.csv')\n",
        "midwest=pd.read_csv('midwest.csv')\n",
        "\n",
        "#색깔바꾸기\n",
        "sns.scatterplot(data=mpg, x='displ', y='hwy', hue='drv')\n",
        "\n",
        "#축범위 제한하기\n",
        "sns.scatterplot(data=mpg, x='displ', y='hwy').set(xlim=(3,6),ylim=(10,30))\n"
      ],
      "metadata": {
        "id": "SlERmS_1dQ0c"
      },
      "execution_count": null,
      "outputs": []
    },
    {
      "cell_type": "code",
      "source": [
        "#204 문제 -1\n",
        "sns.scatterplot(data=mpg, x='cty', y='hwy')"
      ],
      "metadata": {
        "id": "b6RIwSRidjMu"
      },
      "execution_count": null,
      "outputs": []
    },
    {
      "cell_type": "code",
      "source": [
        "#204 문제 -2\n",
        "sns.scatterplot(data=midwest, x='poptotal', y='popasian').set(xlim=(0,500000), ylim=(0,10000))"
      ],
      "metadata": {
        "id": "0UqxsoTloc8Y"
      },
      "execution_count": null,
      "outputs": []
    },
    {
      "cell_type": "code",
      "source": [
        "#평균막대그래프 (sns.barplot)\n",
        "\n",
        "df_mpg=mpg.groupby('drv', as_index=False)\\\n",
        "          .agg(mean_hwy=('hwy','mean')).sort_values('mean_hwy',ascending=False)\n",
        "#seaborn으로 그래프 만들려면 값이 변수에 담겨있어야 하므로 \n",
        "#as_index=False 이용해서 변수를 인덱스로 바꾸지 않고 원래대로 유지하기!\n",
        "\n",
        "df_mpg\n",
        "sns.barplot(data=df_mpg, x='drv', y='mean_hwy')"
      ],
      "metadata": {
        "id": "iVrSgmBYdlQO"
      },
      "execution_count": null,
      "outputs": []
    },
    {
      "cell_type": "code",
      "source": [
        "#빈도막대그래프 (sns.countplot)\n",
        "\n",
        "sns.countplot(data=mpg, x='drv')\n",
        "\n",
        "#df_mpg=mpg.groupby('drv', as_index=False)\\\n",
        "#          .agg(n=('drv','count')).sort_values('n',ascending=False)\n",
        "#\n",
        "#sns.barplot(data=df_mpg, x='drv',y='n')"
      ],
      "metadata": {
        "id": "lS96TDkQeDK1"
      },
      "execution_count": null,
      "outputs": []
    },
    {
      "cell_type": "code",
      "source": [
        "mpg['drv'].unique()"
      ],
      "metadata": {
        "id": "tCAbNjy3salf"
      },
      "execution_count": null,
      "outputs": []
    },
    {
      "cell_type": "code",
      "source": [
        "sns.countplot(data=df_mpg, x='drv',order=['4','f','r'])\n",
        "#order 이용해서 내마음대로 막대정렬"
      ],
      "metadata": {
        "id": "McVeR5Y6sNJt"
      },
      "execution_count": null,
      "outputs": []
    },
    {
      "cell_type": "code",
      "source": [
        "mpg['drv'].value_counts().index\n",
        "#value_counts().index는 빈도 높은순으로 정렬"
      ],
      "metadata": {
        "colab": {
          "base_uri": "https://localhost:8080/"
        },
        "id": "DiHdDby0utsO",
        "outputId": "0241a440-da1e-4562-e3d9-8db3851264c8"
      },
      "execution_count": null,
      "outputs": [
        {
          "output_type": "execute_result",
          "data": {
            "text/plain": [
              "Index(['f', '4', 'r'], dtype='object')"
            ]
          },
          "metadata": {},
          "execution_count": 41
        }
      ]
    },
    {
      "cell_type": "code",
      "source": [
        "sns.countplot(data=mpg, x='drv',\n",
        "              order=mpg['drv'].value_counts().index)"
      ],
      "metadata": {
        "id": "g2A18_jtuYbu"
      },
      "execution_count": null,
      "outputs": []
    },
    {
      "cell_type": "code",
      "source": [
        "#211 문제\n",
        "\n",
        "#1\n",
        "df=mpg.query('category==\"suv\"')\\\n",
        "      .groupby('manufacturer',as_index=False)\\\n",
        "      .agg(mean_cty=('cty','mean'))\\\n",
        "      .sort_values('mean_cty', ascending=False).head(5)\n",
        "\n",
        "sns.barplot(data=df, x='manufacturer', y='mean_cty')\n",
        "\n",
        "#2\n",
        "df=mpg['category'].value_counts().index\n",
        "sns.countplot(data=mpg, x='category',order=mpg['category'].value_counts().index)"
      ],
      "metadata": {
        "id": "OoJfuaOCp3hu"
      },
      "execution_count": null,
      "outputs": []
    },
    {
      "cell_type": "code",
      "source": [
        "#시계열그래프 (sns.lineplot)\n",
        "economics=pd.read_csv('economics.csv')\n",
        "\n",
        "sns.lineplot(data=economics, x='date', y='unemploy')"
      ],
      "metadata": {
        "colab": {
          "base_uri": "https://localhost:8080/",
          "height": 297
        },
        "id": "fVgXeD4npY0x",
        "outputId": "829e5dfa-4777-4714-cf44-62ff4c147ac6"
      },
      "execution_count": null,
      "outputs": [
        {
          "output_type": "execute_result",
          "data": {
            "text/plain": [
              "<matplotlib.axes._subplots.AxesSubplot at 0x7fbc64a90700>"
            ]
          },
          "metadata": {},
          "execution_count": 117
        },
        {
          "output_type": "display_data",
          "data": {
            "text/plain": [
              "<Figure size 432x288 with 1 Axes>"
            ],
            "image/png": "[encoded data removed]"
          },
          "metadata": {
            "needs_background": "light"
          }
        }
      ]
    },
    {
      "cell_type": "code",
      "source": [
        "economics['date2']=pd.to_datetime(economics['date'])\n",
        "\n",
        "economics['year']=economics['date2'].dt.year\n",
        "economics['month']=economics['date2'].dt.month\n",
        "economics['day']=economics['date2'].dt.day\n",
        "\n",
        "sns.lineplot(data=economics, x='year', y='unemploy', ci=None)\n",
        "#신뢰구간 표시안함"
      ],
      "metadata": {
        "colab": {
          "base_uri": "https://localhost:8080/",
          "height": 297
        },
        "id": "GD9avvk34aIW",
        "outputId": "7efd3f59-168c-4e7e-8a95-6e341deb85ef"
      },
      "execution_count": null,
      "outputs": [
        {
          "output_type": "execute_result",
          "data": {
            "text/plain": [
              "<matplotlib.axes._subplots.AxesSubplot at 0x7fbc64af4280>"
            ]
          },
          "metadata": {},
          "execution_count": 118
        },
        {
          "output_type": "display_data",
          "data": {
            "text/plain": [
              "<Figure size 432x288 with 1 Axes>"
            ],
            "image/png": "[encoded data removed]"
          },
          "metadata": {
            "needs_background": "light"
          }
        }
      ]
    },
    {
      "cell_type": "code",
      "source": [
        "#217 문제\n",
        "\n",
        "#1\n",
        "economics['date2']=pd.to_datetime(economics['date'])\n",
        "economics['year']=economics['date2'].dt.year\n",
        "\n",
        "sns.lineplot(data=economics, x='year', y='psavert')\n",
        "\n",
        "#2\n",
        "economics_2014=economics.query('year==2014')\n",
        "economics['month']=economics['date2'].dt.month\n",
        "\n",
        "sns.lineplot(data=economics, x='month', y='psavert',ci=None)"
      ],
      "metadata": {
        "id": "AsTaj0CCpoMJ"
      },
      "execution_count": null,
      "outputs": []
    },
    {
      "cell_type": "code",
      "source": [
        "#상자그림 boxplot으로 집단간 분포차이 표현하기\n",
        "sns.boxplot(data=mpg, x='drv', y='hwy')"
      ],
      "metadata": {
        "id": "jhJHGIXvpewL"
      },
      "execution_count": null,
      "outputs": []
    },
    {
      "cell_type": "code",
      "source": [
        "#220 문제\n",
        "df_mpg=mpg.query('category==\"compact\"|category==\"subcompact\"|category==\"suv\"')\n",
        "sns.boxplot(data=df_mpg, x='category', y='cty')"
      ],
      "metadata": {
        "id": "VqgO4Tk8piZY"
      },
      "execution_count": null,
      "outputs": []
    },
    {
      "cell_type": "code",
      "source": [
        "#221분석"
      ],
      "metadata": {
        "id": "j9fcp5gXpkLr"
      },
      "execution_count": null,
      "outputs": []
    },
    {
      "cell_type": "markdown",
      "source": [
        "# **프로젝트**"
      ],
      "metadata": {
        "id": "_H4vuZzO9oAg"
      }
    },
    {
      "cell_type": "markdown",
      "source": [
        "## **1. 한국복지패널 데이터 준비**"
      ],
      "metadata": {
        "id": "tSjDJJL19vjH"
      }
    },
    {
      "cell_type": "code",
      "source": [
        "pip install pyreadstat"
      ],
      "metadata": {
        "id": "4ddhSQ4p-oBL",
        "outputId": "60f66386-0d30-4e1b-ba4b-d486aed31ead",
        "colab": {
          "base_uri": "https://localhost:8080/"
        }
      },
      "execution_count": null,
      "outputs": [
        {
          "output_type": "stream",
          "name": "stdout",
          "text": [
            "Looking in indexes: https://pypi.org/simple, https://us-python.pkg.dev/colab-wheels/public/simple/\n",
            "Collecting pyreadstat\n",
            "  Downloading pyreadstat-1.2.0-cp38-cp38-manylinux_2_17_x86_64.manylinux2014_x86_64.whl (2.7 MB)\n",
            "\u001b[2K     \u001b[90m━━━━━━━━━━━━━━━━━━━━━━━━━━━━━━━━━━━━━━━━\u001b[0m \u001b[32m2.7/2.7 MB\u001b[0m \u001b[31m28.4 MB/s\u001b[0m eta \u001b[36m0:00:00\u001b[0m\n",
            "\u001b[?25hRequirement already satisfied: pandas>=1.2.0 in /usr/local/lib/python3.8/dist-packages (from pyreadstat) (1.3.5)\n",
            "Requirement already satisfied: pytz>=2017.3 in /usr/local/lib/python3.8/dist-packages (from pandas>=1.2.0->pyreadstat) (2022.7.1)\n",
            "Requirement already satisfied: numpy>=1.17.3 in /usr/local/lib/python3.8/dist-packages (from pandas>=1.2.0->pyreadstat) (1.21.6)\n",
            "Requirement already satisfied: python-dateutil>=2.7.3 in /usr/local/lib/python3.8/dist-packages (from pandas>=1.2.0->pyreadstat) (2.8.2)\n",
            "Requirement already satisfied: six>=1.5 in /usr/local/lib/python3.8/dist-packages (from python-dateutil>=2.7.3->pandas>=1.2.0->pyreadstat) (1.15.0)\n",
            "Installing collected packages: pyreadstat\n",
            "Successfully installed pyreadstat-1.2.0\n"
          ]
        }
      ]
    },
    {
      "cell_type": "code",
      "source": [
        "import pandas as pd\n",
        "import numpy as np\n",
        "import seaborn as sns\n",
        "import pyreadstat"
      ],
      "metadata": {
        "id": "Vjz6jYXB_quu"
      },
      "execution_count": null,
      "outputs": []
    },
    {
      "cell_type": "code",
      "source": [
        "pd.read_spss('Koweps_hpwc14_2019_beta2.sav')"
      ],
      "metadata": {
        "id": "s_MLFFHKRQBl"
      },
      "execution_count": null,
      "outputs": []
    },
    {
      "cell_type": "code",
      "source": [
        "raw_welfare=pd.read_spss('Koweps_hpwc14_2019_beta2.sav')\n",
        "welfare=raw_welfare.copy\n",
        "\n",
        "welfare\n",
        "welfare.shape\n",
        "welfare.info()\n",
        "welfare.describe()\n",
        "\n",
        "welfare=welfare.rename(columns={\n",
        "    'h14_g3':'sex', 'h14_g4':'birth', 'h14_g10':'marriage_type', \n",
        "    'h14_g11':'religion', 'p1402_8aq1':'income',\n",
        "    'h14_eco9':'coe_job', 'h14_reg7':'code_region', \n",
        "})"
      ],
      "metadata": {
        "id": "QHrqe3BY-wkI"
      },
      "execution_count": null,
      "outputs": []
    },
    {
      "cell_type": "markdown",
      "source": [
        "## **2. 성별에 따른 월급 차이**\n",
        "- pg.229"
      ],
      "metadata": {
        "id": "LXLFIlC594m0"
      }
    },
    {
      "cell_type": "markdown",
      "source": [
        "## **3. 나이와 월급의 관계**\n",
        "- pg.235"
      ],
      "metadata": {
        "id": "l4EiJm7I9-l8"
      }
    },
    {
      "cell_type": "markdown",
      "source": [
        "## **4. 연령대에 따른 월급 차이**\n",
        "- pg.240"
      ],
      "metadata": {
        "id": "YXrbi0PK-C30"
      }
    },
    {
      "cell_type": "markdown",
      "source": [
        "## **5. 연령대 및 성별 월급 차이**\n",
        "- pg.244"
      ],
      "metadata": {
        "id": "GaYgVwrn-He2"
      }
    },
    {
      "cell_type": "markdown",
      "source": [
        "## **6. 직업별 월급 차이**\n",
        "- pg.248"
      ],
      "metadata": {
        "id": "wKvE95Xj-JqK"
      }
    },
    {
      "cell_type": "markdown",
      "source": [
        "## **7. 성별 직업 빈도**\n",
        "- pg.255"
      ],
      "metadata": {
        "id": "L3rrxmND-MMG"
      }
    },
    {
      "cell_type": "markdown",
      "source": [
        "## **8. 종교 유무에 따른 이혼율**\n",
        "- pg.259"
      ],
      "metadata": {
        "id": "BRWCFTtR-OOu"
      }
    },
    {
      "cell_type": "markdown",
      "source": [
        "## **9. 지역별 연령대 비율**\n",
        "- pg.269"
      ],
      "metadata": {
        "id": "ofX8PlwP-RpZ"
      }
    },
    {
      "cell_type": "markdown",
      "source": [
        "# **텍스트 마이닝 278**\n",
        "\n",
        "- 데이터 불러오기\n",
        "- 텍스트 전처리: re.sub('불필요문자', '바꿀문자', 변수)\n",
        "- 명사추출: konlpy.tag.Haananum().nouns(\"~~\"), hannanum.nouns()\n",
        "- 막대그래프 시각화\n",
        "- 워드클라우드 만들기\n",
        "-- 새로운 딕셔너리 추출: wc.generate_from_frequencies\n",
        "-- 딕셔너리로 바꾸기: 변수.set_index('word').to_dict()['count']\n",
        "- 워드클라우드 시각화, 모양바꾸기: wc=WordCloud(설정), plt.imshow(사진)\n",
        "\n",
        "\n",
        "- 질문!!\n"
      ],
      "metadata": {
        "id": "810OupKjBl6z"
      }
    },
    {
      "cell_type": "code",
      "source": [
        "pip install jpype1"
      ],
      "metadata": {
        "id": "thiqcgFMTyAy",
        "colab": {
          "base_uri": "https://localhost:8080/"
        },
        "outputId": "d0944fa7-86f1-4f62-a997-6a325242b506"
      },
      "execution_count": null,
      "outputs": [
        {
          "output_type": "stream",
          "name": "stdout",
          "text": [
            "Looking in indexes: https://pypi.org/simple, https://us-python.pkg.dev/colab-wheels/public/simple/\n",
            "Collecting jpype1\n",
            "  Downloading JPype1-1.4.1-cp38-cp38-manylinux_2_12_x86_64.manylinux2010_x86_64.whl (465 kB)\n",
            "\u001b[2K     \u001b[90m━━━━━━━━━━━━━━━━━━━━━━━━━━━━━━━━━━━━━━\u001b[0m \u001b[32m465.6/465.6 KB\u001b[0m \u001b[31m23.2 MB/s\u001b[0m eta \u001b[36m0:00:00\u001b[0m\n",
            "\u001b[?25hRequirement already satisfied: packaging in /usr/local/lib/python3.8/dist-packages (from jpype1) (23.0)\n",
            "Installing collected packages: jpype1\n",
            "Successfully installed jpype1-1.4.1\n"
          ]
        }
      ]
    },
    {
      "cell_type": "code",
      "source": [
        "pip install konlpy"
      ],
      "metadata": {
        "id": "AJoTP8h_T0aR"
      },
      "execution_count": null,
      "outputs": []
    },
    {
      "cell_type": "markdown",
      "source": [
        "knolpy: 파이썬 한국어"
      ],
      "metadata": {
        "id": "SuRrI1txtWpq"
      }
    },
    {
      "cell_type": "code",
      "source": [
        "moon=open('speech_moon.txt', encoding='UTF-8').read()\n",
        "moon"
      ],
      "metadata": {
        "id": "oMdu3IFpCGkB"
      },
      "execution_count": null,
      "outputs": []
    },
    {
      "cell_type": "code",
      "source": [
        "#불필요한 문자(특수문자, 한자, 공백)제거, 공백으로 바꾸기\n",
        "import re\n",
        "\n",
        "moon=re.sub('[^가-힣]', ' ', moon)\n",
        "\n",
        "#명사 추출하기\n",
        "import konlpy\n",
        "\n",
        "hannanum=konlpy.tag.Hannanum()\n",
        "hannanum.nouns(\"대한민국의 영토는 한반도와 그 부속도서로 한다\")"
      ],
      "metadata": {
        "id": "a14tA3zeUZvJ",
        "colab": {
          "base_uri": "https://localhost:8080/"
        },
        "outputId": "521e5bae-b9f6-42e5-dfaf-336bf7a05e90"
      },
      "execution_count": null,
      "outputs": [
        {
          "output_type": "execute_result",
          "data": {
            "text/plain": [
              "['대한민국', '영토', '한반도', '부속도서']"
            ]
          },
          "metadata": {},
          "execution_count": 7
        }
      ]
    },
    {
      "cell_type": "code",
      "source": [
        "konlpy.tag.Hannanum().nouns(\"대한민국의 영토는 한반도와\")"
      ],
      "metadata": {
        "id": "LHXp-YgTcEK7"
      },
      "execution_count": null,
      "outputs": []
    },
    {
      "cell_type": "code",
      "source": [
        "hannanum.nouns(moon)"
      ],
      "metadata": {
        "id": "u6nPS4hRZOFx"
      },
      "execution_count": null,
      "outputs": []
    },
    {
      "cell_type": "code",
      "source": [
        "import pandas as pd\n",
        "\n",
        "nouns=hannanum.nouns(moon)\n",
        "df_word=pd.DataFrame({'word':nouns})\n",
        "\n",
        "#단어 길이 나타내는 표 만들기\n",
        "df_word['len']=df_word['word'].str.len()\n",
        "\n",
        "#두글자 이상 단어만 남기기\n",
        "df_word=df_word.query('len >=2')\n",
        "\n",
        "#단어 빈도 구하기\n",
        "df_word=df_word.groupby('word', as_index=False)\\\n",
        "                .agg(count=('word','count'))\\\n",
        "                .sort_values('count', ascending=False)\n",
        "#???여기서 왜 len 행 사라져??\n",
        "\n",
        "df_word\n"
      ],
      "metadata": {
        "id": "OcHMaDDsZR4o"
      },
      "execution_count": null,
      "outputs": []
    },
    {
      "cell_type": "code",
      "source": [
        "#단어 빈도 막대그래프\n",
        "\n",
        "import seaborn as sns\n",
        "top20= df_word.head(20)\n",
        "sns.barplot(data=top20, y='word', x='count')\n"
      ],
      "metadata": {
        "id": "-msuEhBCbAY3"
      },
      "execution_count": null,
      "outputs": []
    },
    {
      "cell_type": "markdown",
      "source": [
        "## **워드클라우드**\n",
        "워드 클라우드는 단어의 빈도를 구름 모양으로 표현한 그래프이다. 워드 클라우드를 만들면 어떤 단어가 얼마나 많이 사용됐는지 한눈에 파악할 수 있다.\n",
        "\n",
        "\n",
        "---\n",
        "\n",
        "워드클라우드는 딕셔너리 자료구조를 이용해 만든다\n"
      ],
      "metadata": {
        "id": "k2-8jR-2LtOv"
      }
    },
    {
      "cell_type": "code",
      "source": [
        "pip install wordcloud"
      ],
      "metadata": {
        "id": "4R3-A7gMgz5C",
        "colab": {
          "base_uri": "https://localhost:8080/"
        },
        "outputId": "8ed8d867-387e-4fad-d7af-6bce9881c0ad"
      },
      "execution_count": null,
      "outputs": [
        {
          "metadata": {
            "tags": null
          },
          "name": "stdout",
          "output_type": "stream",
          "text": [
            "Looking in indexes: https://pypi.org/simple, https://us-python.pkg.dev/colab-wheels/public/simple/\n",
            "Requirement already satisfied: wordcloud in /usr/local/lib/python3.8/dist-packages (1.8.2.2)\n",
            "Requirement already satisfied: pillow in /usr/local/lib/python3.8/dist-packages (from wordcloud) (7.1.2)\n",
            "Requirement already satisfied: matplotlib in /usr/local/lib/python3.8/dist-packages (from wordcloud) (3.2.2)\n",
            "Requirement already satisfied: numpy>=1.6.1 in /usr/local/lib/python3.8/dist-packages (from wordcloud) (1.21.6)\n",
            "Requirement already satisfied: python-dateutil>=2.1 in /usr/local/lib/python3.8/dist-packages (from matplotlib->wordcloud) (2.8.2)\n",
            "Requirement already satisfied: kiwisolver>=1.0.1 in /usr/local/lib/python3.8/dist-packages (from matplotlib->wordcloud) (1.4.4)\n",
            "Requirement already satisfied: pyparsing!=2.0.4,!=2.1.2,!=2.1.6,>=2.0.1 in /usr/local/lib/python3.8/dist-packages (from matplotlib->wordcloud) (3.0.9)\n",
            "Requirement already satisfied: cycler>=0.10 in /usr/local/lib/python3.8/dist-packages (from matplotlib->wordcloud) (0.11.0)\n",
            "Requirement already satisfied: six>=1.5 in /usr/local/lib/python3.8/dist-packages (from python-dateutil>=2.1->matplotlib->wordcloud) (1.15.0)\n"
          ]
        }
      ]
    },
    {
      "cell_type": "code",
      "source": [
        "#워드 클라우드 설정\n",
        " \n",
        "font='DoHyeon-Regular.ttf'\n",
        "\n",
        "from wordcloud import WordCloud\n",
        "wc=WordCloud(random_state=1234,    #난수 고정\n",
        "             font_path=font,       #폰트 설정  \n",
        "             width=400,            #가로크기\n",
        "             height=400,           #세로크기 \n",
        "             background_color='white')   #배경색\n",
        "\n",
        "\n",
        "import matplotlib.pyplot as plt\n",
        "plt.rcParams.update({'font.family': 'Malgun Gothic',   #한글 폰트\n",
        "                     'figure.dpi': '120',              #해상도\n",
        "                     'figure.figsize': [6.5, 6]})      #가로 세로 크기             "
      ],
      "metadata": {
        "id": "BqoNDnTahJCT"
      },
      "execution_count": null,
      "outputs": []
    },
    {
      "cell_type": "code",
      "source": [
        "#워드 클라우드 만들기, 출력하기\n",
        "\n",
        "dic_word=df_word.set_index('word').to_dict()['count']\n",
        "\n",
        "img_wordcloud=wc.generate_from_frequencies(dic_word)   #워드클라우드 만들기\n",
        "\n",
        "plt.figure(figsize=(10,10))  #사진크기정하고\n",
        "plt.axis('off')             #축없애고\n",
        "plt.imshow(img_wordcloud)   #워드클라우드 출력하기"
      ],
      "metadata": {
        "id": "Q_05xu3JiJ30"
      },
      "execution_count": null,
      "outputs": []
    },
    {
      "cell_type": "markdown",
      "source": [
        "###위드 클라우드 모양 바꾸기\n"
      ],
      "metadata": {
        "id": "CP7CR8ZMjxD0"
      }
    },
    {
      "cell_type": "code",
      "source": [
        "#mask 만들기\n",
        "import PIL            #python image library\n",
        "import numpy as np\n",
        "\n",
        "icon=PIL.Image.open('cloud.png')\n",
        "img=PIL.Image.new('RGB', icon.size, (255,255,255))\n",
        "img.paste(icon, icon)\n",
        "img=np.array(img)"
      ],
      "metadata": {
        "id": "-2DVGQr6jojt"
      },
      "execution_count": null,
      "outputs": []
    },
    {
      "cell_type": "code",
      "source": [
        "from pyparsing.helpers import itemgetter\n",
        "#워드 클라우드 만들기\n",
        "wc= WordCloud(random_state=1234,\n",
        "              font_path=font,\n",
        "              width=400,\n",
        "              height=400,\n",
        "              background_color='white',\n",
        "              mask=img)\n",
        "\n",
        "img_wordcloud=wc.generate_from_frequencies(dic_word)\n",
        "\n",
        "plt.figure(figsize=(10,10))\n",
        "plt.asxis('off')\n",
        "plt.imshow(img_wordcloud)"
      ],
      "metadata": {
        "id": "D2TX_ANwjpC-"
      },
      "execution_count": null,
      "outputs": []
    },
    {
      "cell_type": "code",
      "source": [
        "#색깔 바꾸기\n",
        "wc= WordCloud(random_state=1234,\n",
        "              font_path=font,\n",
        "              width=400,\n",
        "              height=400,\n",
        "              background_color='white',\n",
        "              mask=img,\n",
        "              colormap='inferno')\n",
        "\n",
        "img_wordcloud=wc.generate_from_frequencies(dic_word)\n",
        "\n",
        "plt.figure(figsize=(10,10))\n",
        "plt.asxis('off')\n",
        "plt.imshow(img_wordcloud)"
      ],
      "metadata": {
        "id": "GczSAoN2knKY"
      },
      "execution_count": null,
      "outputs": []
    },
    {
      "cell_type": "markdown",
      "source": [
        "##**기사 댓글 텍스트 마이닝 293**"
      ],
      "metadata": {
        "id": "NblK1hSPk3pW"
      }
    },
    {
      "cell_type": "code",
      "source": [
        "import pandas as pd\n",
        "\n",
        "df=pd.read_csv('news_comment_BTS.csv', encoding='UTF-8')\n",
        "df.info()"
      ],
      "metadata": {
        "id": "BVK0kYyVGsqW"
      },
      "execution_count": null,
      "outputs": []
    },
    {
      "cell_type": "code",
      "source": [
        "#불필요한 문자 제거하기\n",
        "df['reply']=df['reply'].str.replace('[^가-힣]',' ', regex=True)\n",
        "    #replace 이용해서 문자열을 치환하는 경우, 검색 문자열과 완전히 일치하는 문자만 치환됨\n",
        "    #문자열 일부만 치환하고 싶으면 regex=True 설정\n",
        "\n",
        "#명사 추출하기\n",
        "import konlpy\n",
        "kkma=konlpy.tag.Kkma()\n",
        "    # kkma 꼬꼬마: 띄어쓰기 오류에 덜 민감해서 댓글분석에 많이 이용됨\n",
        "\n",
        "nouns=df['reply'].apply(kkma.nouns)\n",
        "    #moon은 문자타입으로 된 하나의 변수라서 konlpy.tag.Kkma().nouns() 바로 적용됨\n",
        "    #reply는 데이터프레임에 들어있는 변수라서 konlpy.tag.Kkma().nouns() 바로 적용안됨\n",
        "    #->apply()사용해서 함수가 각행의 값을 따로 처리하도록 해야함\n",
        "\n",
        "#단어 빈도표 만들기\n",
        "nouns=nouns.explode()\n",
        "    #explode(): 리스트 형태의 값을 여러 행으로 전개하는 방법"
      ],
      "metadata": {
        "id": "YrtLSUo0G1t6"
      },
      "execution_count": null,
      "outputs": []
    },
    {
      "cell_type": "code",
      "source": [
        "#데이터 프레임 만들기\n",
        "df_word=pd.DataFrame({'word':nouns})\n",
        "\n",
        "#글자수 추가\n",
        "df_word['count']=df_word['word'].str.len()\n",
        "\n",
        "#두글자 이상 단어만 남기기\n",
        "df_word=df_word.query('count>=2')\n",
        "\n",
        "#빈도표 만들기\n",
        "df_word=df_word.groupby('word', as_index=False)\\\n",
        "                .agg(n=('word','count'))\\\n",
        "                .sort_values('n',ascending=False)\n",
        "\n",
        "#빈도그래프 만들기\n",
        "top20=df_word.head(20)\n",
        "plt.rcParams.update({'figure.figsize'=[6.5,6]})\n",
        "sns.barplot(data=top20, y='word', x='n')"
      ],
      "metadata": {
        "id": "Roran3LFHn-M"
      },
      "execution_count": null,
      "outputs": []
    },
    {
      "cell_type": "code",
      "source": [
        "dic_word=df_word.set_index('word').to_dict()['n']\n",
        "\n",
        "wc=WordCloud(random_state=1234,\n",
        "             font_path=font,\n",
        "             width=400,\n",
        "             height=400,\n",
        "             background_color='white',\n",
        "             mask=img)\n",
        "\n",
        "#워드클라우드 만들기\n",
        "img_wordcloud=wc.generate_from_frequencies(dic_word)\n",
        "\n",
        "#워드클라우드 출력하기\n",
        "plt.figure(figsize=(10,10))\n",
        "plt.axis('off')\n",
        "plt.imshow(img_wordcloud)"
      ],
      "metadata": {
        "id": "UeGu1XgxIxuH"
      },
      "execution_count": null,
      "outputs": []
    },
    {
      "cell_type": "markdown",
      "source": [
        "# **지도 시각화 300**\n",
        "- json\n",
        "- folium: 데이터시각화의 마지막 과정으로 지도를 그릴때 유용한 라이브러리, 인터랙티브한 지도를 생성하고 마커를 추가해 여러 데이터의 위치를 한눈에 볼 수 있게 시각화하거나 원으로 표시\n",
        "- choropleth map 단계구분도 \n",
        "---\n",
        "- 배경지도: folium.map(location 지도중심좌표 , zoom_start 확대단계, tiles 지도종류)\n",
        "- 단계구분도: folium.Choropleth()\n",
        "-- 구라인추가: folium.Choropleth().add_to\n",
        "- 계급구간: bins=list(변수.quantile())\n",
        "\n"
      ],
      "metadata": {
        "id": "z0itNB_lBpni"
      }
    },
    {
      "cell_type": "markdown",
      "source": [
        "단계구분도: 지역별 통계치를 색깔 차이로 표현한 지도"
      ],
      "metadata": {
        "id": "mlX2d_EqJjIc"
      }
    },
    {
      "cell_type": "markdown",
      "source": [
        "### 시군구별 인구 단계 구분도 만들기 301"
      ],
      "metadata": {
        "id": "hPJj_lnrWkoH"
      }
    },
    {
      "cell_type": "code",
      "source": [
        "import json\n",
        "geo=json.load(open('SIG.geojseon', encoding='UTF-8'))\n",
        "\n",
        "#행정구역 코드 출력\n",
        "geo['features'][0]['properties']\n",
        "\n",
        "#위도, 경도 좌표 출력\n",
        "geo['features'][0]['geometry']"
      ],
      "metadata": {
        "id": "SwYTVDxwWys5"
      },
      "execution_count": null,
      "outputs": []
    },
    {
      "cell_type": "code",
      "source": [
        "import pandas as pd\n",
        "df_pop=pd.read_csv('Population_SIG.csv')\n",
        "df_pop.head()\n",
        "df_pop.info()\n",
        "\n",
        "df_pop['code']=df_pop['code'].astype(str)"
      ],
      "metadata": {
        "id": "C-o57I0AJ0Ix"
      },
      "execution_count": null,
      "outputs": []
    },
    {
      "cell_type": "code",
      "source": [
        "pip install folium"
      ],
      "metadata": {
        "id": "yLYxoBTGKC_M"
      },
      "execution_count": null,
      "outputs": []
    },
    {
      "cell_type": "code",
      "source": [
        "#배경지도 만들기\n",
        "import folium\n",
        "folium.Map(location=[35.95, 127.7],   #지도중심좌표\n",
        "           zoom_start=8 )             #확대단계\n",
        "\n",
        "map_sig=folium.Map(location=[35.95, 127.7],\n",
        "                   zoom_start=8,\n",
        "                   tiles='cartobdpositron')  #지도종류"
      ],
      "metadata": {
        "id": "lp675mqMKGcY"
      },
      "execution_count": null,
      "outputs": []
    },
    {
      "cell_type": "code",
      "source": [
        "#단계구분도 만들기\n",
        "folium.Choropleth(\n",
        "    geo_data=geo,  #지도데이터\n",
        "    data=df_pop,   #통계데이터\n",
        "    columns=('code','pop'),     #df_pop 행정구역코드, 인구\n",
        "    key_on='feature.properties.SIG_CD')\\\n",
        "    .add_to(map_sig)   #geo 행정구역코드\n",
        "\n"
      ],
      "metadata": {
        "id": "2_SM77aFKj5k"
      },
      "execution_count": null,
      "outputs": []
    },
    {
      "cell_type": "code",
      "source": [
        "#계급구간 정하기\n",
        "bins=list(df_pop['pop'].quantile([0,0.2,0.4,0.6,0.8,1]))\n",
        "bins"
      ],
      "metadata": {
        "id": "naJnHbP4L446"
      },
      "execution_count": null,
      "outputs": []
    },
    {
      "cell_type": "code",
      "source": [
        "#배경지도 만들기\n",
        "map_sig=folium.Map(location=[35.95, 127.7],   #지도중심좌표\n",
        "                   zoom_start=8,              #확대단계\n",
        "                   tiles='cartodbpositron')   #지도종류"
      ],
      "metadata": {
        "id": "Ld4Qumi0MEfo"
      },
      "execution_count": null,
      "outputs": []
    },
    {
      "cell_type": "code",
      "source": [
        "#단계구분도 만들기\n",
        "folim.Choropleth(\n",
        "    geo_data=geo,\n",
        "    data=df_pop,\n",
        "    columns=('code','pop'),\n",
        "    key_on='feature.properties.SIG_CD',\n",
        "    fill_color='Y1GnBu',\n",
        "    fill_opacity=1,\n",
        "    line_opacity=0.5,\n",
        "    bins=bins)\\\n",
        "    .add_to(map_sig)\n",
        ")"
      ],
      "metadata": {
        "id": "3dV-ClFfMXX_"
      },
      "execution_count": null,
      "outputs": []
    },
    {
      "cell_type": "markdown",
      "source": [
        "### 서울시 동별 외국인 인구 단계 구분도 만들기 308"
      ],
      "metadata": {
        "id": "Ca8x1rLPWpV4"
      }
    },
    {
      "cell_type": "code",
      "source": [
        "import json\n",
        "geo_seoul=json.load(open('EMD_Seoul.geojson',encoding='UTF-8'))\n",
        "\n",
        "#행정구역코드 출력\n",
        "geo_seoul['features'][0]['properties']\n",
        "\n",
        "#위도,경도 좌표 출력\n",
        "geo_seoul['features'][0]['geometry']"
      ],
      "metadata": {
        "id": "GZ935LVpWzMW"
      },
      "execution_count": null,
      "outputs": []
    },
    {
      "cell_type": "code",
      "source": [
        "foreigner=pd.read_csv('Foreigner_EMD_seoul.csv')\n",
        "foreigner.head()\n",
        "foreigner.info()\n",
        "\n",
        "foreigner['code']=foreigner['code'].astype(str)"
      ],
      "metadata": {
        "id": "q5hV_q5WNq7q"
      },
      "execution_count": null,
      "outputs": []
    },
    {
      "cell_type": "code",
      "source": [
        "#계급구간 만들기\n",
        "bins=list(foreigner[\"pop\"].quantile([0,0.2,0.4,0.5,0.6,0.7,0.8,0.9,1]))\n",
        "\n",
        "#배경지도 만들기\n",
        "map_seoul=folium.Map(location=[37.56, 127],\n",
        "                     zoom_start=12,\n",
        "                     tiles='coartodbpositron')\n",
        "\n",
        "#단계구분도 만들기\n",
        "folim.Choropleth(\n",
        "    geo_data=geo_seoul,\n",
        "    data=foreigner,\n",
        "    columns=('code','pop'),\n",
        "    key_on='feature.properties.ADM_DR_CD',\n",
        "    fill_color='Blues',\n",
        "    nan_fill_color='White'\n",
        "    fill_opacity=1,\n",
        "    line_opacity=0.5,\n",
        "    bins=bins)\\\n",
        "    .add_to(map_seoul)\n",
        ")\n",
        "\n",
        "#구경계선 추가하기\n",
        "geo_seoul_sig=json.load(open('SIG_Seoul.geojson', encoding='UTF-8'))\n",
        "\n",
        "#서울 구라인 추가\n",
        "folium.Choropleth(geo_data=geo_seoul_sig,\n",
        "                  fill_opacity=0,\n",
        "                  line_weight=4)\\\n",
        "      .add_to(map_seoul)\n",
        "\n",
        "map_seoul"
      ],
      "metadata": {
        "id": "3YeJSqd-N-Ju"
      },
      "execution_count": null,
      "outputs": []
    },
    {
      "cell_type": "markdown",
      "source": [
        "# **인터랙티브 그래프 314**\n",
        "- 산점도: plotly.express.scatter()\n",
        "- 막대그래프: plotly.express.bar()\n",
        "- 선그래프: plotly.express.line()\n",
        "- boxplot: plotly.express.box()"
      ],
      "metadata": {
        "id": "dPhxfVCABrp0"
      }
    },
    {
      "cell_type": "markdown",
      "source": [
        "인터랙티브 그래프: 마우스 움직임에 반응하며 실시간으로 모양이 변하는 그래:프\n",
        "\n",
        "\n",
        "---\n",
        "- pltly 그래프: 마우스의 움직임에 반응하는 그래프다\n",
        "-- html 파일을 열어보면 확인할 수 있다:\n",
        "-- 마우스를 드래그하면 x,y축의 범위를 조절할 수 있다\n",
        "-- 범례를 클릭하면 특정 범주의 표식을 켜거나 끌 수 있다\n"
      ],
      "metadata": {
        "id": "aMDE3Up7PAMc"
      }
    },
    {
      "cell_type": "code",
      "source": [
        "pip install plotly\n",
        "pip install jupyter-dash"
      ],
      "metadata": {
        "id": "ftS2YkqGbAHH"
      },
      "execution_count": null,
      "outputs": []
    },
    {
      "cell_type": "code",
      "source": [
        "import plotly.express as px\n",
        "\n",
        "#산점도\n",
        "px.scatter(data_frame=mpg, x='cty', y='hwy', color='drv')\n",
        "\n",
        "#자동차 종류별 빈도 구하기\n",
        "df=mpg.groupby('category',as_index=False)\\\n",
        "      .agg(n=('category', 'count'))\n",
        "\n",
        "#막대그래프\n",
        "px.bar(data_frame=df, x='category', y='n', color='category')\n",
        "\n",
        "#선그래프\n",
        "economics=pd.read_Csv('economics.csv')\n",
        "px.line(data_frame=economics, x='date', y='psavert')\n",
        "\n",
        "#상자그림\n",
        "px.box(data_frame=mpg, x='drv', y='hwy', color='drv')"
      ],
      "metadata": {
        "id": "PMLlg068bF6Y"
      },
      "execution_count": null,
      "outputs": []
    },
    {
      "cell_type": "code",
      "source": [
        "fig=px.scatter(data_frame=mpv, x='cty', y='hwy')\n",
        "fig.write_html('scatter_plot.html')"
      ],
      "metadata": {
        "id": "cGPYSn4ycFAb"
      },
      "execution_count": null,
      "outputs": []
    },
    {
      "cell_type": "code",
      "source": [
        "#321 plotly 활용하기"
      ],
      "metadata": {
        "id": "I8m22_SscUod"
      },
      "execution_count": null,
      "outputs": []
    },
    {
      "cell_type": "markdown",
      "source": [
        "# **마크다운으로 데이터 분석 보고서 만들기 322**"
      ],
      "metadata": {
        "id": "TH2xgqt4BuhB"
      }
    },
    {
      "cell_type": "markdown",
      "source": [
        "### 신뢰할 수 있는 데이터 분석 보고서 만들기 323"
      ],
      "metadata": {
        "id": "BRHgmB9lXGx6"
      }
    },
    {
      "cell_type": "code",
      "source": [
        "import pandas as pd\n",
        "df=pd.read_Csv('mpg.csv')\n",
        "df['drv'].value_counts()\n",
        "\n",
        "import seaborn as sns\n",
        "sns.countplot(data=df, x='drv')"
      ],
      "metadata": {
        "id": "rBWlhZpjdGBI"
      },
      "execution_count": null,
      "outputs": []
    },
    {
      "cell_type": "markdown",
      "source": [
        "### 마크다운 문서 만들기"
      ],
      "metadata": {
        "id": "Kt4L6RQmXKpu"
      }
    },
    {
      "cell_type": "code",
      "source": [],
      "metadata": {
        "id": "HzhHuPTtdRYq"
      },
      "execution_count": null,
      "outputs": []
    },
    {
      "cell_type": "markdown",
      "source": [
        "# **5. 데이터 과학 330** "
      ],
      "metadata": {
        "id": "Hplw-FCEXU-5"
      }
    },
    {
      "cell_type": "markdown",
      "source": [
        "## **통계분석 기법을 이용한 가설설정 332**\n",
        "\n",
        "- t검정: stats.ttes_ind(변수,변수, equal_var=집단간분산)\n",
        "- 유의확률: stats.pearsonr(변수['항목'].변수['항목']) -> 상관계수와 유의확률 출력\n",
        "- 상관행렬: 변수[['항목','항목']].corr() -> 상관계수들 출력\n",
        "- 상관행렬 히트맵: sns.heatmap(상관행렬,          annot=True 상관계수 표시, cmap= 'RdBu' 컬러맵)\n",
        "\n",
        "\n",
        "---\n",
        "\n",
        "*   ※ 우연확률 클수록, 우연이고, 유의하지않다=연관성 없다\n",
        "\n",
        "*  ※ 상관계수는 0~1사이의 값을 지니고, 1에 가까울수록 관련성이 큼(양수면 정비례, 음수면 반비례)\n",
        "\n",
        "\n"
      ],
      "metadata": {
        "id": "Br6tVThbXZ7k"
      }
    },
    {
      "cell_type": "markdown",
      "source": [
        "### **가설검정이란?**"
      ],
      "metadata": {
        "id": "XyFMVtNXXhcX"
      }
    },
    {
      "cell_type": "markdown",
      "source": [
        "- **기술통계**: 데이터를 요약해 설명하는 통계분석 \n",
        "-- 사람들이 받는 월급 평균\n",
        "- **추론통계**: 단순히 요약을 넘어서 어떤 값이 발생할 확률을 계산하는 통계분석 \n",
        "-- 성별에 따라 월급 차이가 있을 때, 이런 차이가 우연히 발생할 확률 -> 차이가 우연히 나타날 확률이 작으면 통계적으로 유의하다)\n",
        "- **통계분석을 수행했다**: 추론통계를 이용해 가설 검정을 했다. \n",
        "\n",
        "---\n",
        "- **통계적 가설검정**: 유의확률을 이용해 가설을 검정한다, \n",
        "-- 유의확률: 실제로는 집단간차이가 없는데 우연히 차이가 있는 데이터가 나타날 확률\n",
        "-- 유의확률이 크게 나타나면 '집단 간 차이가 통계적으로 유의하지 않다' 즉 우연으로 관찰될 가능성이 크다\n",
        "-- ※ 우연확률 클수록, 우연이고, 유의하지않다=연관성 없다"
      ],
      "metadata": {
        "id": "AxDBznJY51Jq"
      }
    },
    {
      "cell_type": "markdown",
      "source": [
        "### **t검정- 두 집단의 평균 비교**"
      ],
      "metadata": {
        "id": "DwvLL6w1Xjgp"
      }
    },
    {
      "cell_type": "markdown",
      "source": [
        "compact자동차와 suv자동차의 도시연비 t검정\n"
      ],
      "metadata": {
        "id": "6Itn9XtK-WXK"
      }
    },
    {
      "cell_type": "code",
      "source": [
        "import pandas as pd\n",
        "mpg=pd.read_csv('mpg.csv')\n",
        "\n",
        "mpg.query('category in [\"compact\", \"suv\"]')\\\n",
        "    .groupby('category', as_index=False)\\\n",
        "    .agg(n=('category','count'),\n",
        "        mean=('cty','mean'))\n",
        "    \n",
        "compact=mpg.query('category == \"compact\"')['cty']\n",
        "suv=mpg.query('category == \"suv\"')['cty']"
      ],
      "metadata": {
        "id": "kx5asv0O69jN"
      },
      "execution_count": 1,
      "outputs": []
    },
    {
      "cell_type": "code",
      "source": [
        "# t검정\n",
        "from scipy import stats\n",
        "stats.ttest_ind(compact, suv, equal_var=True)\n",
        "    # 집단간분산이 같다고 가정\n",
        "    # t검젇은 비교하는 집단의 분산이 같은지 여부에 다라 적용하는 공식이 다름\n",
        "    # pvalue는 유의확률이고 일반적으로 5%를 판단기준으로 삼음\n",
        "    \n",
        "    # 결과: 10의 -21승, 유의확률이 0.05보다 작으므로 통계적으로 유의하다"
      ],
      "metadata": {
        "id": "VEvGzA71-Fjd",
        "outputId": "263bd538-61d0-4ae5-f5c1-a0dd067138d4",
        "colab": {
          "base_uri": "https://localhost:8080/"
        }
      },
      "execution_count": 2,
      "outputs": [
        {
          "output_type": "execute_result",
          "data": {
            "text/plain": [
              "Ttest_indResult(statistic=11.917282584324107, pvalue=2.3909550904711282e-21)"
            ]
          },
          "metadata": {},
          "execution_count": 2
        }
      ]
    },
    {
      "cell_type": "markdown",
      "source": [
        "일반휘발유와 고급휘발유의 도시연비 t검정"
      ],
      "metadata": {
        "id": "U81f3Y38-Z_q"
      }
    },
    {
      "cell_type": "code",
      "source": [
        "mpg.query('fl in [\"r\", \"p\"]')\\\n",
        "    .groupby('fl', as_index=False)\\\n",
        "    .agg(n=('fl','count'),\n",
        "         mean=('cty','mean'))"
      ],
      "metadata": {
        "id": "t7DnVq1HAM_O"
      },
      "execution_count": null,
      "outputs": []
    },
    {
      "cell_type": "code",
      "source": [
        "regular=mpg.query('fl==\"r\"')['cty']\n",
        "premium=mpg.query('fl==\"p\"')['cty']\n",
        "\n",
        "stats.ttest_ind(regular, premium, equal_var=True)\n",
        "    # 결과: 10의 -21승, 유의확률이 0.05보다 크므로 통계적으로 우연이다"
      ],
      "metadata": {
        "id": "OxqfW8xZCwaK",
        "outputId": "3fae7537-43a4-466c-984b-04c2223229cc",
        "colab": {
          "base_uri": "https://localhost:8080/"
        }
      },
      "execution_count": 4,
      "outputs": [
        {
          "output_type": "execute_result",
          "data": {
            "text/plain": [
              "Ttest_indResult(statistic=-1.066182514588919, pvalue=0.28752051088667036)"
            ]
          },
          "metadata": {},
          "execution_count": 4
        }
      ]
    },
    {
      "cell_type": "markdown",
      "source": [
        "### **상관분석- 두 변수의 관계 분석**"
      ],
      "metadata": {
        "id": "le0Cwi-2Xn4A"
      }
    },
    {
      "cell_type": "markdown",
      "source": [
        "- 상관계수는 0~1사이의 값을 지니고, 1에 가까울수록 관련성이 큼\n",
        "- 양수면 정비례, 음수면 반비례"
      ],
      "metadata": {
        "id": "LvA_A9NF_ebQ"
      }
    },
    {
      "cell_type": "code",
      "source": [
        "economics=pd.read_csv('economics.csv')\n",
        "economics"
      ],
      "metadata": {
        "id": "ei5-dl8X-2OY"
      },
      "execution_count": null,
      "outputs": []
    },
    {
      "cell_type": "code",
      "source": [
        "#상관행렬\n",
        "economics[['unemploy','pce']].corr()"
      ],
      "metadata": {
        "id": "4bJBvXfi_SsI"
      },
      "execution_count": null,
      "outputs": []
    },
    {
      "cell_type": "code",
      "source": [
        "#유의확률\n",
        "stats.pearsonr(economics['unemploy'], economics['pce'])"
      ],
      "metadata": {
        "id": "FlIzBWugA9cp",
        "outputId": "d2852b41-917f-47cf-be5e-e15318c54c2d",
        "colab": {
          "base_uri": "https://localhost:8080/"
        }
      },
      "execution_count": null,
      "outputs": [
        {
          "output_type": "execute_result",
          "data": {
            "text/plain": [
              "(0.614517614193208, 6.773527303291701e-61)"
            ]
          },
          "metadata": {},
          "execution_count": 20
        }
      ]
    },
    {
      "cell_type": "code",
      "source": [
        "mtcars=pd.read_csv('mtcars.csv')\n",
        "\n",
        "car_cor=mtcars.corr()        #상관행렬 만들기\n",
        "car_cor=round(car_cor, 2)    #반올림\n",
        "car_cor\n",
        "\n",
        "#결과해석: mbl(연비)&cyl(실린더수)에서 상관계수가 -0.85이므로, 연비가 높을수록 실린더 수가 적은 경향이 있다\n",
        "        # cyl(실린더수)&wt(무게)에서 상관계수가 0.78이므로, 실린더수가 많을수록 자동차가 무거운 경향이 있다\n",
        "# 관련성: mbl(연비)&cyl(실린더수) > cyl(실린더수)&wt(무게)"
      ],
      "metadata": {
        "id": "aOWWqL3z_S1n"
      },
      "execution_count": null,
      "outputs": []
    },
    {
      "cell_type": "code",
      "source": [
        "#상관행렬 히트맵: 여러 변수의 관련성을 한꺼번에 알아보고 싶을때, 모든 변수의 상관관계를 나타냄\n",
        "\n",
        "import matplotlib.pyplot as plt\n",
        "import seaborn as sns\n",
        "\n",
        "\n",
        "plt.rcParams.update({'figure.dpi':'120',            #해상도 설정\n",
        "                     'figure.figsize':[7.5, 5.5]})   #가로 세로 크기 설정\n",
        "\n",
        "sns.heatmap(car_cor, \n",
        "            annot=True,     #상관계수 표시\n",
        "            cmap= 'RdBu')   #컬러맵"
      ],
      "metadata": {
        "id": "v1Ga1fl4G2OC",
        "outputId": "5d464f59-3b40-41a2-bde7-e8702fc8b37a",
        "colab": {
          "base_uri": "https://localhost:8080/",
          "height": 593
        }
      },
      "execution_count": 8,
      "outputs": [
        {
          "output_type": "execute_result",
          "data": {
            "text/plain": [
              "<matplotlib.axes._subplots.AxesSubplot at 0x7ff6d4604370>"
            ]
          },
          "metadata": {},
          "execution_count": 8
        },
        {
          "output_type": "display_data",
          "data": {
            "text/plain": [
              "<Figure size 900x660 with 2 Axes>"
            ],
            "image/png": "[encoded data removed]"
          },
          "metadata": {
            "needs_background": "light"
          }
        }
      ]
    },
    {
      "cell_type": "code",
      "source": [
        "#대각행렬 제거하기: 상관행렬은 행과 열에 같은 변수가 나열되므로 중복된 부분을 제거함\n",
        "\n",
        "#mask 만들기\n",
        "import numpy as np\n",
        "mask=np.zeros_like(car_cor)\n",
        "\n",
        "#오른쪽 위 대각행렬을 1로 바꾸기\n",
        "mask[np.triu_indices_from(mask)]=1\n",
        "\n",
        "#히트맵에 mask 적용하기\n",
        "sns.heatmap(data=car_cor,\n",
        "            annot=True,\n",
        "            cmap='RdBu',\n",
        "            mask=mask)\n",
        "\n",
        "#빈 행과 열 제거하기\n",
        "mask_new=mask[1:, :-1]          #mask 첫번째 행, 마지막 열 제거\n",
        "cor_new=car_cor.iloc[1:, :-1]   #상관행렬 첫번째 행, 마지막 열 제거\n",
        "\n",
        "sns.heatmap(data=cor_new,\n",
        "            annot=True,\n",
        "            cmap='RdBu',\n",
        "            mask=mask_new)"
      ],
      "metadata": {
        "id": "8BnQBA_mKAAr"
      },
      "execution_count": null,
      "outputs": []
    },
    {
      "cell_type": "code",
      "source": [
        "#히트맵 보기좋게 수정\n",
        "sns.heatmap(data=cor_new,\n",
        "            annot=True,\n",
        "            cmap='RdBu',\n",
        "            mask=mask_new,\n",
        "            linewidths=.5,            #경계 구분선 추가\n",
        "            vmax=1,                   #가장 진한 파란색으로 표현할 최대값\n",
        "            vmin=-1,                  #가장 진한 빨간색으로 표현할 최소값\n",
        "            cbar_kws={\"shrink: .5\"})  #범례 크기 줄이기"
      ],
      "metadata": {
        "id": "pRv-rSwoLUa6"
      },
      "execution_count": null,
      "outputs": []
    },
    {
      "cell_type": "markdown",
      "source": [
        "## **머신러닝을 이용한 예측 분석 345**"
      ],
      "metadata": {
        "id": "4qN6UB0jXdrT"
      }
    },
    {
      "cell_type": "markdown",
      "source": [
        "### **머신러닝 모델 알아보기(= 함수만들기)**"
      ],
      "metadata": {
        "id": "AHkXWngXYDF6"
      }
    },
    {
      "cell_type": "markdown",
      "source": [
        "- 예측변수: 예측하는데 활용하는 변수 또는 모델에 입력하는 값\n",
        "- 타겟변수: 예측하고자 하는 변수 또는 모델이 출력하는 값"
      ],
      "metadata": {
        "id": "-EJ2R6z5y7IY"
      }
    },
    {
      "cell_type": "markdown",
      "source": [
        "1. 머신러닝 모델을 이용해 미래 예측하기: 과거의 값을 예측변수로, 미래의 값을 타겟변수로 사용\n",
        "2. 의사결정나무 모델(알고리즘): 순서대로 주어진 질문에 yes/no로 답하면 마지막에 결론을 얻는 구조\n",
        "---\n",
        "1. 예측변수: 흡연여부, 음주여부, 성별, 나이 / 타겟변수: 당뇨병 발병여부\n",
        "2. 첫번째 질문의 답변에 따라 데이터를 두 노드(양갈래)로 분할하기\n",
        "3. 각 노드에서 타겟변수를 가장 잘 분리하는 예측변수 선택하기(85:15(v), 40:60, 50:50)\n",
        "4. 노드가 완벽하게 분리될 때까지 반복하기 (노드에 발병, 정상 중 한쪽만 100% 남으면 분할 종료)\n",
        "\n"
      ],
      "metadata": {
        "id": "2dkrzbIazO1M"
      }
    },
    {
      "cell_type": "markdown",
      "source": [
        "### **소득 예측 모델 만들기**\n",
        "- 전처리-> 모델 만들기-> 예측 및 성능 평가\n",
        "- 활용: 고가상품 구매 프로모션(상품을 구매할 가능성이 높은 사람을 예측해서 구매하도록 독려), 저소득층 지원대상"
      ],
      "metadata": {
        "id": "09U_R71cYGOr"
      }
    },
    {
      "cell_type": "code",
      "source": [
        "import pandas as pd\n",
        "df=pd.read_csv('adult.csv')\n",
        "df.info()"
      ],
      "metadata": {
        "id": "HnF79yVn70dR"
      },
      "execution_count": null,
      "outputs": []
    },
    {
      "cell_type": "markdown",
      "source": [
        "![캡처.PNG](data:image/png;base64,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)"
      ],
      "metadata": {
        "id": "45wQh0PH891A"
      }
    },
    {
      "cell_type": "markdown",
      "source": [
        "<1. 전처리>"
      ],
      "metadata": {
        "id": "mUWyHtIW9Eim"
      }
    },
    {
      "cell_type": "code",
      "source": [
        "#1. 타겟변수 전처리\n",
        "df['income']=np.where(df['income']=='>50K', 'high', 'low')\n",
        "df['income'].value_counts(normalize=True)\n",
        "    #normalize=True는 범주의 비율\n",
        "\n",
        "#2. 불필요한 변수 제거 (이름, 아이디, 주소: 고유값이어서 반복되는 패턴x, 타겟변수와도 관련성x)\n",
        "#df=df.drop(columns='fnlwgt')\n",
        "    #인종, 성별, 나이 등 인구통계속성이 같으면 fnlwgt가 같다\n",
        "\n",
        "#3. 문자타입변수를 숫자타입으로 바꾸기 (원핫 인코딩: 변수범주가 특정값이면 1, 아니면 0으로 바꿈)\n",
        "\n",
        "  # 예시\n",
        "df_tmp=df[['sex']]\n",
        "df_tmp['sex'].value_counts()\n",
        "df_tmp=pd.get_dummies(df_tmp)\n",
        "df_tmp[['sex_Female', 'sex_Male']].head()\n",
        "df_tme.info()\n",
        "\n",
        "  # (타겟변수인 income만 원래대로를 유지하고, 나머지를 원핫인코딩)\n",
        "target=df['income']           #income 추출\n",
        "df=df.drop(columns='income')   #income 제거\n",
        "df=pd.get_dummies(df)          #문자타입변수 원핫 인코딩\n",
        "df['income']=target            #df에 target 삽입\n",
        "\n",
        "import numpy as np\n",
        "df.info(max_cols=np.inf)\n",
        "    #변수가 100개 이하일때만 df.info()나오므로\n",
        "    #max_cols=np.inf를 입력하여 변수의 수와 관계없이 모든 변수의 정보를 출력하도록 함\n",
        "\n",
        "#4. 데이터 분할하기: 일부 데이터만 무작위로 추출\n",
        "from sklearn.model_selection import train_test_split\n",
        "df_train, df_test= train_test_split(df,\n",
        "                                    test_size=0.3,\n",
        "                                    stratify=df['income'],\n",
        "                                    random_state=1234\n",
        "                                    )\n",
        "    #train_test_split(): 트레이닝과 테스트 세트로 분할 \n",
        "    #test_size: 테스트 세트의 비율 (데이터가 많을수록 트레이닝↑, 적을수록 테스트↑)\n",
        "    #stratify: 범주별 비율을 통일할 변수\n",
        "                  #타겟변수를 입력해서 트레이닝세트와 테스트세트에 타겟변수의 범주별 비율을 비슷하게 맞춰줌\n",
        "    #random_state: 난수 초깃값(난수 고정해서 항상 같은 데이터 추출), \n",
        "                  #train_test_split가 데이터를 무작위로 추출하므로 함수를 실행할 때마다 데이터가 달라짐"
      ],
      "metadata": {
        "id": "szhg-nEz9GGL",
        "outputId": "ed4725e5-6d0b-49fa-a5a2-580cf4ca4bab",
        "colab": {
          "base_uri": "https://localhost:8080/",
          "height": 400
        }
      },
      "execution_count": 43,
      "outputs": [
        {
          "output_type": "error",
          "ename": "KeyError",
          "evalue": "ignored",
          "traceback": [
            "\u001b[0;31m---------------------------------------------------------------------------\u001b[0m",
            "\u001b[0;31mKeyError\u001b[0m                                  Traceback (most recent call last)",
            "\u001b[0;32m<ipython-input-43-7cf625ba5578>\u001b[0m in \u001b[0;36m<module>\u001b[0;34m\u001b[0m\n\u001b[1;32m     11\u001b[0m \u001b[0;34m\u001b[0m\u001b[0m\n\u001b[1;32m     12\u001b[0m   \u001b[0;31m# 예시\u001b[0m\u001b[0;34m\u001b[0m\u001b[0;34m\u001b[0m\u001b[0;34m\u001b[0m\u001b[0m\n\u001b[0;32m---> 13\u001b[0;31m \u001b[0mdf_tmp\u001b[0m\u001b[0;34m=\u001b[0m\u001b[0mdf\u001b[0m\u001b[0;34m[\u001b[0m\u001b[0;34m[\u001b[0m\u001b[0;34m'sex'\u001b[0m\u001b[0;34m]\u001b[0m\u001b[0;34m]\u001b[0m\u001b[0;34m\u001b[0m\u001b[0;34m\u001b[0m\u001b[0m\n\u001b[0m\u001b[1;32m     14\u001b[0m \u001b[0mdf_tmp\u001b[0m\u001b[0;34m[\u001b[0m\u001b[0;34m'sex'\u001b[0m\u001b[0;34m]\u001b[0m\u001b[0;34m.\u001b[0m\u001b[0mvalue_counts\u001b[0m\u001b[0;34m(\u001b[0m\u001b[0;34m)\u001b[0m\u001b[0;34m\u001b[0m\u001b[0;34m\u001b[0m\u001b[0m\n\u001b[1;32m     15\u001b[0m \u001b[0mdf_tmp\u001b[0m\u001b[0;34m=\u001b[0m\u001b[0mpd\u001b[0m\u001b[0;34m.\u001b[0m\u001b[0mget_dummies\u001b[0m\u001b[0;34m(\u001b[0m\u001b[0mdf_tmp\u001b[0m\u001b[0;34m)\u001b[0m\u001b[0;34m\u001b[0m\u001b[0;34m\u001b[0m\u001b[0m\n",
            "\u001b[0;32m/usr/local/lib/python3.8/dist-packages/pandas/core/frame.py\u001b[0m in \u001b[0;36m__getitem__\u001b[0;34m(self, key)\u001b[0m\n\u001b[1;32m   3462\u001b[0m             \u001b[0;32mif\u001b[0m \u001b[0mis_iterator\u001b[0m\u001b[0;34m(\u001b[0m\u001b[0mkey\u001b[0m\u001b[0;34m)\u001b[0m\u001b[0;34m:\u001b[0m\u001b[0;34m\u001b[0m\u001b[0;34m\u001b[0m\u001b[0m\n\u001b[1;32m   3463\u001b[0m                 \u001b[0mkey\u001b[0m \u001b[0;34m=\u001b[0m \u001b[0mlist\u001b[0m\u001b[0;34m(\u001b[0m\u001b[0mkey\u001b[0m\u001b[0;34m)\u001b[0m\u001b[0;34m\u001b[0m\u001b[0;34m\u001b[0m\u001b[0m\n\u001b[0;32m-> 3464\u001b[0;31m             \u001b[0mindexer\u001b[0m \u001b[0;34m=\u001b[0m \u001b[0mself\u001b[0m\u001b[0;34m.\u001b[0m\u001b[0mloc\u001b[0m\u001b[0;34m.\u001b[0m\u001b[0m_get_listlike_indexer\u001b[0m\u001b[0;34m(\u001b[0m\u001b[0mkey\u001b[0m\u001b[0;34m,\u001b[0m \u001b[0maxis\u001b[0m\u001b[0;34m=\u001b[0m\u001b[0;36m1\u001b[0m\u001b[0;34m)\u001b[0m\u001b[0;34m[\u001b[0m\u001b[0;36m1\u001b[0m\u001b[0;34m]\u001b[0m\u001b[0;34m\u001b[0m\u001b[0;34m\u001b[0m\u001b[0m\n\u001b[0m\u001b[1;32m   3465\u001b[0m \u001b[0;34m\u001b[0m\u001b[0m\n\u001b[1;32m   3466\u001b[0m         \u001b[0;31m# take() does not accept boolean indexers\u001b[0m\u001b[0;34m\u001b[0m\u001b[0;34m\u001b[0m\u001b[0;34m\u001b[0m\u001b[0m\n",
            "\u001b[0;32m/usr/local/lib/python3.8/dist-packages/pandas/core/indexing.py\u001b[0m in \u001b[0;36m_get_listlike_indexer\u001b[0;34m(self, key, axis)\u001b[0m\n\u001b[1;32m   1312\u001b[0m             \u001b[0mkeyarr\u001b[0m\u001b[0;34m,\u001b[0m \u001b[0mindexer\u001b[0m\u001b[0;34m,\u001b[0m \u001b[0mnew_indexer\u001b[0m \u001b[0;34m=\u001b[0m \u001b[0max\u001b[0m\u001b[0;34m.\u001b[0m\u001b[0m_reindex_non_unique\u001b[0m\u001b[0;34m(\u001b[0m\u001b[0mkeyarr\u001b[0m\u001b[0;34m)\u001b[0m\u001b[0;34m\u001b[0m\u001b[0;34m\u001b[0m\u001b[0m\n\u001b[1;32m   1313\u001b[0m \u001b[0;34m\u001b[0m\u001b[0m\n\u001b[0;32m-> 1314\u001b[0;31m         \u001b[0mself\u001b[0m\u001b[0;34m.\u001b[0m\u001b[0m_validate_read_indexer\u001b[0m\u001b[0;34m(\u001b[0m\u001b[0mkeyarr\u001b[0m\u001b[0;34m,\u001b[0m \u001b[0mindexer\u001b[0m\u001b[0;34m,\u001b[0m \u001b[0maxis\u001b[0m\u001b[0;34m)\u001b[0m\u001b[0;34m\u001b[0m\u001b[0;34m\u001b[0m\u001b[0m\n\u001b[0m\u001b[1;32m   1315\u001b[0m \u001b[0;34m\u001b[0m\u001b[0m\n\u001b[1;32m   1316\u001b[0m         if needs_i8_conversion(ax.dtype) or isinstance(\n",
            "\u001b[0;32m/usr/local/lib/python3.8/dist-packages/pandas/core/indexing.py\u001b[0m in \u001b[0;36m_validate_read_indexer\u001b[0;34m(self, key, indexer, axis)\u001b[0m\n\u001b[1;32m   1372\u001b[0m                 \u001b[0;32mif\u001b[0m \u001b[0muse_interval_msg\u001b[0m\u001b[0;34m:\u001b[0m\u001b[0;34m\u001b[0m\u001b[0;34m\u001b[0m\u001b[0m\n\u001b[1;32m   1373\u001b[0m                     \u001b[0mkey\u001b[0m \u001b[0;34m=\u001b[0m \u001b[0mlist\u001b[0m\u001b[0;34m(\u001b[0m\u001b[0mkey\u001b[0m\u001b[0;34m)\u001b[0m\u001b[0;34m\u001b[0m\u001b[0;34m\u001b[0m\u001b[0m\n\u001b[0;32m-> 1374\u001b[0;31m                 \u001b[0;32mraise\u001b[0m \u001b[0mKeyError\u001b[0m\u001b[0;34m(\u001b[0m\u001b[0;34mf\"None of [{key}] are in the [{axis_name}]\"\u001b[0m\u001b[0;34m)\u001b[0m\u001b[0;34m\u001b[0m\u001b[0;34m\u001b[0m\u001b[0m\n\u001b[0m\u001b[1;32m   1375\u001b[0m \u001b[0;34m\u001b[0m\u001b[0m\n\u001b[1;32m   1376\u001b[0m             \u001b[0mnot_found\u001b[0m \u001b[0;34m=\u001b[0m \u001b[0mlist\u001b[0m\u001b[0;34m(\u001b[0m\u001b[0mensure_index\u001b[0m\u001b[0;34m(\u001b[0m\u001b[0mkey\u001b[0m\u001b[0;34m)\u001b[0m\u001b[0;34m[\u001b[0m\u001b[0mmissing_mask\u001b[0m\u001b[0;34m.\u001b[0m\u001b[0mnonzero\u001b[0m\u001b[0;34m(\u001b[0m\u001b[0;34m)\u001b[0m\u001b[0;34m[\u001b[0m\u001b[0;36m0\u001b[0m\u001b[0;34m]\u001b[0m\u001b[0;34m]\u001b[0m\u001b[0;34m.\u001b[0m\u001b[0munique\u001b[0m\u001b[0;34m(\u001b[0m\u001b[0;34m)\u001b[0m\u001b[0;34m)\u001b[0m\u001b[0;34m\u001b[0m\u001b[0;34m\u001b[0m\u001b[0m\n",
            "\u001b[0;31mKeyError\u001b[0m: \"None of [Index(['sex'], dtype='object')] are in the [columns]\""
          ]
        }
      ]
    },
    {
      "cell_type": "markdown",
      "source": [
        "크로스 밸리데이션: 신뢰할 수 있는 성능평가점수를 얻는 방법, 데이터에서 일부만 추출해 모델을 만들거나 평가할 때 사용\n",
        "- 트레이닝 세트(훈련용): 분할한 데이터 중에서 모델을 만들 때 사용하는 데이터\n",
        "- 테스트 세트(평가용): 성능을 평가할 때 사용하는 데이터\n"
      ],
      "metadata": {
        "id": "rNOurcybL1HN"
      }
    },
    {
      "cell_type": "markdown",
      "source": [
        "# **6. 데이터 다루기 380**"
      ],
      "metadata": {
        "id": "72jX-a-mVubZ"
      }
    },
    {
      "cell_type": "markdown",
      "source": [
        "## **데이터 추출 382**"
      ],
      "metadata": {
        "id": "ofcp-jTCV5XM"
      }
    },
    {
      "cell_type": "markdown",
      "source": [
        "### **[ ] 이용하기**"
      ],
      "metadata": {
        "id": "VChDPhUdWOw2"
      }
    },
    {
      "cell_type": "markdown",
      "source": [
        "### **df.loc[ ] 이용하기**"
      ],
      "metadata": {
        "id": "ZOjU-WB3WUWX"
      }
    },
    {
      "cell_type": "markdown",
      "source": [
        "### **df.iloc[ ] 이용하기**"
      ],
      "metadata": {
        "id": "kkoSHvuxWYug"
      }
    },
    {
      "cell_type": "markdown",
      "source": [
        "## **자료구조 다루기 406**"
      ],
      "metadata": {
        "id": "p931xuIdV8Cl"
      }
    },
    {
      "cell_type": "markdown",
      "source": [
        "### **자료구조란**"
      ],
      "metadata": {
        "id": "DSD9D7MLWp0R"
      }
    },
    {
      "cell_type": "markdown",
      "source": [
        "### **스칼라**"
      ],
      "metadata": {
        "id": "pq4Iza7MWur1"
      }
    },
    {
      "cell_type": "markdown",
      "source": [
        "### **리스트**"
      ],
      "metadata": {
        "id": "pK8dfLxTWweE"
      }
    },
    {
      "cell_type": "markdown",
      "source": [
        "### **튜플**"
      ],
      "metadata": {
        "id": "or0o4ennWzOD"
      }
    },
    {
      "cell_type": "markdown",
      "source": [
        "### **딕셔너리**"
      ],
      "metadata": {
        "id": "MSuyLiWZW32W"
      }
    },
    {
      "cell_type": "markdown",
      "source": [
        "### **시리즈**"
      ],
      "metadata": {
        "id": "We1X56crW5RW"
      }
    },
    {
      "cell_type": "markdown",
      "source": [
        "### **데이터 프레임**"
      ],
      "metadata": {
        "id": "zaEw-LqdW6n_"
      }
    },
    {
      "cell_type": "markdown",
      "source": [
        "## **데이터 분석 기술 효율적으로 익히기 434**"
      ],
      "metadata": {
        "id": "LUPltp6yV9Nz"
      }
    },
    {
      "cell_type": "markdown",
      "source": [
        "### **집중할 방향 정하기**"
      ],
      "metadata": {
        "id": "iESWpi-BXIdp"
      }
    },
    {
      "cell_type": "markdown",
      "source": [
        "### **데이터 분석기술을 효율적으로 익히는 방법**"
      ],
      "metadata": {
        "id": "9khcPtwpXL5L"
      }
    },
    {
      "cell_type": "markdown",
      "source": [
        "### **오픈 소스 생태계에서 어울리기**"
      ],
      "metadata": {
        "id": "-mMQHM-gXJgm"
      }
    }
  ]
}