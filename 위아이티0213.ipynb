{
  "nbformat": 4,
  "nbformat_minor": 0,
  "metadata": {
    "colab": {
      "provenance": [],
      "collapsed_sections": [
        "toF4afW3zEgm",
        "6k3FPwSjzL2Y",
        "_HgzPwkY4Pr6",
        "zUZ57upeB5Zw",
        "KU3oF0OzWDZc"
      ],
      "include_colab_link": true
    },
    "kernelspec": {
      "name": "python3",
      "display_name": "Python 3"
    },
    "language_info": {
      "name": "python"
    }
  },
  "cells": [
    {
      "cell_type": "markdown",
      "metadata": {
        "id": "view-in-github",
        "colab_type": "text"
      },
      "source": [
        "<a href=\"https://colab.research.google.com/github/seon0415/weit/blob/main/%EC%9C%84%EC%95%84%EC%9D%B4%ED%8B%B00213.ipynb\" target=\"_parent\"><img src=\"https://colab.research.google.com/assets/colab-badge.svg\" alt=\"Open In Colab\"/></a>"
      ]
    },
    {
      "cell_type": "markdown",
      "source": [
        "# **seaborn 패키지**\n",
        "\n",
        "- countplot"
      ],
      "metadata": {
        "id": "toF4afW3zEgm"
      }
    },
    {
      "cell_type": "code",
      "execution_count": null,
      "metadata": {
        "colab": {
          "base_uri": "https://localhost:8080/"
        },
        "id": "UvcocEqOwb-D",
        "outputId": "817fd2aa-af56-4d98-9854-2f73ccc39b65"
      },
      "outputs": [
        {
          "output_type": "stream",
          "name": "stdout",
          "text": [
            "330 55 11\n",
            "['hi', 'i', 'am', 'a', 'human']\n"
          ]
        }
      ],
      "source": [
        "var=[11,22,33,11,22,11,11,11,11,11,33,44,44,55]\n",
        "va=['hi','i','am','a','human']\n",
        "print(sum(var),max(var),min(var))\n",
        "print(va)"
      ]
    },
    {
      "cell_type": "code",
      "source": [
        "import seaborn as sns\n",
        "\n",
        "#빈도막대그래프 countplot\n",
        "#x는 파라미터(매개변수)\n",
        "\n",
        "sns.countplot(x=var)"
      ],
      "metadata": {
        "colab": {
          "base_uri": "https://localhost:8080/",
          "height": 283
        },
        "id": "DCjoSyVCxB9T",
        "outputId": "30d7af27-976c-4d7c-f93b-d3ae101d1878"
      },
      "execution_count": null,
      "outputs": [
        {
          "output_type": "execute_result",
          "data": {
            "text/plain": [
              "<matplotlib.axes._subplots.AxesSubplot at 0x7f87ab21c310>"
            ]
          },
          "metadata": {},
          "execution_count": 32
        },
        {
          "output_type": "display_data",
          "data": {
            "text/plain": [
              "<Figure size 432x288 with 1 Axes>"
            ],
            "image/png": "[encoded data removed]"
          },
          "metadata": {
            "needs_background": "light"
          }
        }
      ]
    },
    {
      "cell_type": "code",
      "source": [
        "#데이터불러오기 dataload_dataset\n",
        "df=sns.load_dataset('titanic')\n",
        "df"
      ],
      "metadata": {
        "colab": {
          "base_uri": "https://localhost:8080/",
          "height": 487
        },
        "id": "t3RwAdFexRzI",
        "outputId": "bfd51c7e-e2c7-403c-9f4c-21e7591c718a"
      },
      "execution_count": null,
      "outputs": [
        {
          "output_type": "execute_result",
          "data": {
            "text/plain": [
              "     survived  pclass     sex   age  sibsp  parch     fare embarked   class  \\\n",
              "0           0       3    male  22.0      1      0   7.2500        S   Third   \n",
              "1           1       1  female  38.0      1      0  71.2833        C   First   \n",
              "2           1       3  female  26.0      0      0   7.9250        S   Third   \n",
              "3           1       1  female  35.0      1      0  53.1000        S   First   \n",
              "4           0       3    male  35.0      0      0   8.0500        S   Third   \n",
              "..        ...     ...     ...   ...    ...    ...      ...      ...     ...   \n",
              "886         0       2    male  27.0      0      0  13.0000        S  Second   \n",
              "887         1       1  female  19.0      0      0  30.0000        S   First   \n",
              "888         0       3  female   NaN      1      2  23.4500        S   Third   \n",
              "889         1       1    male  26.0      0      0  30.0000        C   First   \n",
              "890         0       3    male  32.0      0      0   7.7500        Q   Third   \n",
              "\n",
              "       who  adult_male deck  embark_town alive  alone  \n",
              "0      man        True  NaN  Southampton    no  False  \n",
              "1    woman       False    C    Cherbourg   yes  False  \n",
              "2    woman       False  NaN  Southampton   yes   True  \n",
              "3    woman       False    C  Southampton   yes  False  \n",
              "4      man        True  NaN  Southampton    no   True  \n",
              "..     ...         ...  ...          ...   ...    ...  \n",
              "886    man        True  NaN  Southampton    no   True  \n",
              "887  woman       False    B  Southampton   yes   True  \n",
              "888  woman       False  NaN  Southampton    no  False  \n",
              "889    man        True    C    Cherbourg   yes   True  \n",
              "890    man        True  NaN   Queenstown    no   True  \n",
              "\n",
              "[891 rows x 15 columns]"
            ],
            "text/html": [
              "\n",
              "  <div id=\"df-788edacb-5e48-4837-af71-fc8c0af1f810\">\n",
              "    <div class=\"colab-df-container\">\n",
              "      <div>\n",
              "<style scoped>\n",
              "    .dataframe tbody tr th:only-of-type {\n",
              "        vertical-align: middle;\n",
              "    }\n",
              "\n",
              "    .dataframe tbody tr th {\n",
              "        vertical-align: top;\n",
              "    }\n",
              "\n",
              "    .dataframe thead th {\n",
              "        text-align: right;\n",
              "    }\n",
              "</style>\n",
              "<table border=\"1\" class=\"dataframe\">\n",
              "  <thead>\n",
              "    <tr style=\"text-align: right;\">\n",
              "      <th></th>\n",
              "      <th>survived</th>\n",
              "      <th>pclass</th>\n",
              "      <th>sex</th>\n",
              "      <th>age</th>\n",
              "      <th>sibsp</th>\n",
              "      <th>parch</th>\n",
              "      <th>fare</th>\n",
              "      <th>embarked</th>\n",
              "      <th>class</th>\n",
              "      <th>who</th>\n",
              "      <th>adult_male</th>\n",
              "      <th>deck</th>\n",
              "      <th>embark_town</th>\n",
              "      <th>alive</th>\n",
              "      <th>alone</th>\n",
              "    </tr>\n",
              "  </thead>\n",
              "  <tbody>\n",
              "    <tr>\n",
              "      <th>0</th>\n",
              "      <td>0</td>\n",
              "      <td>3</td>\n",
              "      <td>male</td>\n",
              "      <td>22.0</td>\n",
              "      <td>1</td>\n",
              "      <td>0</td>\n",
              "      <td>7.2500</td>\n",
              "      <td>S</td>\n",
              "      <td>Third</td>\n",
              "      <td>man</td>\n",
              "      <td>True</td>\n",
              "      <td>NaN</td>\n",
              "      <td>Southampton</td>\n",
              "      <td>no</td>\n",
              "      <td>False</td>\n",
              "    </tr>\n",
              "    <tr>\n",
              "      <th>1</th>\n",
              "      <td>1</td>\n",
              "      <td>1</td>\n",
              "      <td>female</td>\n",
              "      <td>38.0</td>\n",
              "      <td>1</td>\n",
              "      <td>0</td>\n",
              "      <td>71.2833</td>\n",
              "      <td>C</td>\n",
              "      <td>First</td>\n",
              "      <td>woman</td>\n",
              "      <td>False</td>\n",
              "      <td>C</td>\n",
              "      <td>Cherbourg</td>\n",
              "      <td>yes</td>\n",
              "      <td>False</td>\n",
              "    </tr>\n",
              "    <tr>\n",
              "      <th>2</th>\n",
              "      <td>1</td>\n",
              "      <td>3</td>\n",
              "      <td>female</td>\n",
              "      <td>26.0</td>\n",
              "      <td>0</td>\n",
              "      <td>0</td>\n",
              "      <td>7.9250</td>\n",
              "      <td>S</td>\n",
              "      <td>Third</td>\n",
              "      <td>woman</td>\n",
              "      <td>False</td>\n",
              "      <td>NaN</td>\n",
              "      <td>Southampton</td>\n",
              "      <td>yes</td>\n",
              "      <td>True</td>\n",
              "    </tr>\n",
              "    <tr>\n",
              "      <th>3</th>\n",
              "      <td>1</td>\n",
              "      <td>1</td>\n",
              "      <td>female</td>\n",
              "      <td>35.0</td>\n",
              "      <td>1</td>\n",
              "      <td>0</td>\n",
              "      <td>53.1000</td>\n",
              "      <td>S</td>\n",
              "      <td>First</td>\n",
              "      <td>woman</td>\n",
              "      <td>False</td>\n",
              "      <td>C</td>\n",
              "      <td>Southampton</td>\n",
              "      <td>yes</td>\n",
              "      <td>False</td>\n",
              "    </tr>\n",
              "    <tr>\n",
              "      <th>4</th>\n",
              "      <td>0</td>\n",
              "      <td>3</td>\n",
              "      <td>male</td>\n",
              "      <td>35.0</td>\n",
              "      <td>0</td>\n",
              "      <td>0</td>\n",
              "      <td>8.0500</td>\n",
              "      <td>S</td>\n",
              "      <td>Third</td>\n",
              "      <td>man</td>\n",
              "      <td>True</td>\n",
              "      <td>NaN</td>\n",
              "      <td>Southampton</td>\n",
              "      <td>no</td>\n",
              "      <td>True</td>\n",
              "    </tr>\n",
              "    <tr>\n",
              "      <th>...</th>\n",
              "      <td>...</td>\n",
              "      <td>...</td>\n",
              "      <td>...</td>\n",
              "      <td>...</td>\n",
              "      <td>...</td>\n",
              "      <td>...</td>\n",
              "      <td>...</td>\n",
              "      <td>...</td>\n",
              "      <td>...</td>\n",
              "      <td>...</td>\n",
              "      <td>...</td>\n",
              "      <td>...</td>\n",
              "      <td>...</td>\n",
              "      <td>...</td>\n",
              "      <td>...</td>\n",
              "    </tr>\n",
              "    <tr>\n",
              "      <th>886</th>\n",
              "      <td>0</td>\n",
              "      <td>2</td>\n",
              "      <td>male</td>\n",
              "      <td>27.0</td>\n",
              "      <td>0</td>\n",
              "      <td>0</td>\n",
              "      <td>13.0000</td>\n",
              "      <td>S</td>\n",
              "      <td>Second</td>\n",
              "      <td>man</td>\n",
              "      <td>True</td>\n",
              "      <td>NaN</td>\n",
              "      <td>Southampton</td>\n",
              "      <td>no</td>\n",
              "      <td>True</td>\n",
              "    </tr>\n",
              "    <tr>\n",
              "      <th>887</th>\n",
              "      <td>1</td>\n",
              "      <td>1</td>\n",
              "      <td>female</td>\n",
              "      <td>19.0</td>\n",
              "      <td>0</td>\n",
              "      <td>0</td>\n",
              "      <td>30.0000</td>\n",
              "      <td>S</td>\n",
              "      <td>First</td>\n",
              "      <td>woman</td>\n",
              "      <td>False</td>\n",
              "      <td>B</td>\n",
              "      <td>Southampton</td>\n",
              "      <td>yes</td>\n",
              "      <td>True</td>\n",
              "    </tr>\n",
              "    <tr>\n",
              "      <th>888</th>\n",
              "      <td>0</td>\n",
              "      <td>3</td>\n",
              "      <td>female</td>\n",
              "      <td>NaN</td>\n",
              "      <td>1</td>\n",
              "      <td>2</td>\n",
              "      <td>23.4500</td>\n",
              "      <td>S</td>\n",
              "      <td>Third</td>\n",
              "      <td>woman</td>\n",
              "      <td>False</td>\n",
              "      <td>NaN</td>\n",
              "      <td>Southampton</td>\n",
              "      <td>no</td>\n",
              "      <td>False</td>\n",
              "    </tr>\n",
              "    <tr>\n",
              "      <th>889</th>\n",
              "      <td>1</td>\n",
              "      <td>1</td>\n",
              "      <td>male</td>\n",
              "      <td>26.0</td>\n",
              "      <td>0</td>\n",
              "      <td>0</td>\n",
              "      <td>30.0000</td>\n",
              "      <td>C</td>\n",
              "      <td>First</td>\n",
              "      <td>man</td>\n",
              "      <td>True</td>\n",
              "      <td>C</td>\n",
              "      <td>Cherbourg</td>\n",
              "      <td>yes</td>\n",
              "      <td>True</td>\n",
              "    </tr>\n",
              "    <tr>\n",
              "      <th>890</th>\n",
              "      <td>0</td>\n",
              "      <td>3</td>\n",
              "      <td>male</td>\n",
              "      <td>32.0</td>\n",
              "      <td>0</td>\n",
              "      <td>0</td>\n",
              "      <td>7.7500</td>\n",
              "      <td>Q</td>\n",
              "      <td>Third</td>\n",
              "      <td>man</td>\n",
              "      <td>True</td>\n",
              "      <td>NaN</td>\n",
              "      <td>Queenstown</td>\n",
              "      <td>no</td>\n",
              "      <td>True</td>\n",
              "    </tr>\n",
              "  </tbody>\n",
              "</table>\n",
              "<p>891 rows × 15 columns</p>\n",
              "</div>\n",
              "      <button class=\"colab-df-convert\" onclick=\"convertToInteractive('df-788edacb-5e48-4837-af71-fc8c0af1f810')\"\n",
              "              title=\"Convert this dataframe to an interactive table.\"\n",
              "              style=\"display:none;\">\n",
              "        \n",
              "  <svg xmlns=\"http://www.w3.org/2000/svg\" height=\"24px\"viewBox=\"0 0 24 24\"\n",
              "       width=\"24px\">\n",
              "    <path d=\"M0 0h24v24H0V0z\" fill=\"none\"/>\n",
              "    <path d=\"M18.56 5.44l.94 2.06.94-2.06 2.06-.94-2.06-.94-.94-2.06-.94 2.06-2.06.94zm-11 1L8.5 8.5l.94-2.06 2.06-.94-2.06-.94L8.5 2.5l-.94 2.06-2.06.94zm10 10l.94 2.06.94-2.06 2.06-.94-2.06-.94-.94-2.06-.94 2.06-2.06.94z\"/><path d=\"M17.41 7.96l-1.37-1.37c-.4-.4-.92-.59-1.43-.59-.52 0-1.04.2-1.43.59L10.3 9.45l-7.72 7.72c-.78.78-.78 2.05 0 2.83L4 21.41c.39.39.9.59 1.41.59.51 0 1.02-.2 1.41-.59l7.78-7.78 2.81-2.81c.8-.78.8-2.07 0-2.86zM5.41 20L4 18.59l7.72-7.72 1.47 1.35L5.41 20z\"/>\n",
              "  </svg>\n",
              "      </button>\n",
              "      \n",
              "  <style>\n",
              "    .colab-df-container {\n",
              "      display:flex;\n",
              "      flex-wrap:wrap;\n",
              "      gap: 12px;\n",
              "    }\n",
              "\n",
              "    .colab-df-convert {\n",
              "      background-color: #E8F0FE;\n",
              "      border: none;\n",
              "      border-radius: 50%;\n",
              "      cursor: pointer;\n",
              "      display: none;\n",
              "      fill: #1967D2;\n",
              "      height: 32px;\n",
              "      padding: 0 0 0 0;\n",
              "      width: 32px;\n",
              "    }\n",
              "\n",
              "    .colab-df-convert:hover {\n",
              "      background-color: #E2EBFA;\n",
              "      box-shadow: 0px 1px 2px rgba(60, 64, 67, 0.3), 0px 1px 3px 1px rgba(60, 64, 67, 0.15);\n",
              "      fill: #174EA6;\n",
              "    }\n",
              "\n",
              "    [theme=dark] .colab-df-convert {\n",
              "      background-color: #3B4455;\n",
              "      fill: #D2E3FC;\n",
              "    }\n",
              "\n",
              "    [theme=dark] .colab-df-convert:hover {\n",
              "      background-color: #434B5C;\n",
              "      box-shadow: 0px 1px 3px 1px rgba(0, 0, 0, 0.15);\n",
              "      filter: drop-shadow(0px 1px 2px rgba(0, 0, 0, 0.3));\n",
              "      fill: #FFFFFF;\n",
              "    }\n",
              "  </style>\n",
              "\n",
              "      <script>\n",
              "        const buttonEl =\n",
              "          document.querySelector('#df-788edacb-5e48-4837-af71-fc8c0af1f810 button.colab-df-convert');\n",
              "        buttonEl.style.display =\n",
              "          google.colab.kernel.accessAllowed ? 'block' : 'none';\n",
              "\n",
              "        async function convertToInteractive(key) {\n",
              "          const element = document.querySelector('#df-788edacb-5e48-4837-af71-fc8c0af1f810');\n",
              "          const dataTable =\n",
              "            await google.colab.kernel.invokeFunction('convertToInteractive',\n",
              "                                                     [key], {});\n",
              "          if (!dataTable) return;\n",
              "\n",
              "          const docLinkHtml = 'Like what you see? Visit the ' +\n",
              "            '<a target=\"_blank\" href=https://colab.research.google.com/notebooks/data_table.ipynb>data table notebook</a>'\n",
              "            + ' to learn more about interactive tables.';\n",
              "          element.innerHTML = '';\n",
              "          dataTable['output_type'] = 'display_data';\n",
              "          await google.colab.output.renderOutput(dataTable, element);\n",
              "          const docLink = document.createElement('div');\n",
              "          docLink.innerHTML = docLinkHtml;\n",
              "          element.appendChild(docLink);\n",
              "        }\n",
              "      </script>\n",
              "    </div>\n",
              "  </div>\n",
              "  "
            ]
          },
          "metadata": {},
          "execution_count": 9
        }
      ]
    },
    {
      "cell_type": "code",
      "source": [
        "#countplot의 파라미터 바꿔보기\n",
        "sns.countplot(data=df, x='sex')\n",
        "sns.countplot(data=df, x='sex', hue='alive')\n",
        "sns.countplot(data=df, y='class', hue='alive')\n",
        "\n",
        "#sns.countplot?"
      ],
      "metadata": {
        "colab": {
          "base_uri": "https://localhost:8080/",
          "height": 297
        },
        "id": "ewgTtDoix6aV",
        "outputId": "92583f29-60e2-438d-a95b-d9829c1f2614"
      },
      "execution_count": null,
      "outputs": [
        {
          "output_type": "execute_result",
          "data": {
            "text/plain": [
              "<matplotlib.axes._subplots.AxesSubplot at 0x7f37944a3040>"
            ]
          },
          "metadata": {},
          "execution_count": 14
        },
        {
          "output_type": "display_data",
          "data": {
            "text/plain": [
              "<Figure size 432x288 with 1 Axes>"
            ],
            "image/png": "[encoded data removed]"
          },
          "metadata": {
            "needs_background": "light"
          }
        }
      ]
    },
    {
      "cell_type": "markdown",
      "source": [
        "# **모듈**\n",
        "- sklearn"
      ],
      "metadata": {
        "id": "6k3FPwSjzL2Y"
      }
    },
    {
      "cell_type": "markdown",
      "source": [
        "sklearn 패키지: metrics, tree, model_selection\n",
        "\n",
        "\n",
        "*   metrics-> accuracy_score(): 머신러닝 모델 예측이 얼마나 정확한지 성능 평가\n"
      ],
      "metadata": {
        "id": "vJ_Zn94y1lAe"
      }
    },
    {
      "cell_type": "code",
      "source": [
        "import sklearn.metrics\n",
        "sklearn.metrics.accuracy_score()\n",
        "#함수에 입력안해서 에러 나옴\n",
        "\n",
        "from sklearn import metrics\n",
        "metrics.accuracy_score()\n",
        "\n",
        "from sklearn.metrics import accuracy_score\n",
        "accuracy_score()"
      ],
      "metadata": {
        "id": "IroC8HlB3Lvo"
      },
      "execution_count": null,
      "outputs": []
    },
    {
      "cell_type": "markdown",
      "source": [
        "# **PyDataset**"
      ],
      "metadata": {
        "id": "_HgzPwkY4Pr6"
      }
    },
    {
      "cell_type": "code",
      "source": [
        "pip install pydataset"
      ],
      "metadata": {
        "id": "-Z4VuYCO4XKt"
      },
      "execution_count": null,
      "outputs": []
    },
    {
      "cell_type": "code",
      "source": [
        "import pydataset\n",
        "\n",
        "pydataset.data()"
      ],
      "metadata": {
        "colab": {
          "base_uri": "https://localhost:8080/",
          "height": 423
        },
        "id": "nXY8-1YlzQ4n",
        "outputId": "37268a13-f99e-4eab-bb8b-a6244bddb410"
      },
      "execution_count": null,
      "outputs": [
        {
          "output_type": "execute_result",
          "data": {
            "text/plain": [
              "        dataset_id                                             title\n",
              "0    AirPassengers       Monthly Airline Passenger Numbers 1949-1960\n",
              "1          BJsales                 Sales Data with Leading Indicator\n",
              "2              BOD                         Biochemical Oxygen Demand\n",
              "3     Formaldehyde                     Determination of Formaldehyde\n",
              "4     HairEyeColor         Hair and Eye Color of Statistics Students\n",
              "..             ...                                               ...\n",
              "752        VerbAgg                  Verbal Aggression item responses\n",
              "753           cake                 Breakage Angle of Chocolate Cakes\n",
              "754           cbpp                 Contagious bovine pleuropneumonia\n",
              "755    grouseticks  Data on red grouse ticks from Elston et al. 2001\n",
              "756     sleepstudy       Reaction times in a sleep deprivation study\n",
              "\n",
              "[757 rows x 2 columns]"
            ],
            "text/html": [
              "\n",
              "  <div id=\"df-5c208003-062b-4ff1-8a2d-5d8c05f92852\">\n",
              "    <div class=\"colab-df-container\">\n",
              "      <div>\n",
              "<style scoped>\n",
              "    .dataframe tbody tr th:only-of-type {\n",
              "        vertical-align: middle;\n",
              "    }\n",
              "\n",
              "    .dataframe tbody tr th {\n",
              "        vertical-align: top;\n",
              "    }\n",
              "\n",
              "    .dataframe thead th {\n",
              "        text-align: right;\n",
              "    }\n",
              "</style>\n",
              "<table border=\"1\" class=\"dataframe\">\n",
              "  <thead>\n",
              "    <tr style=\"text-align: right;\">\n",
              "      <th></th>\n",
              "      <th>dataset_id</th>\n",
              "      <th>title</th>\n",
              "    </tr>\n",
              "  </thead>\n",
              "  <tbody>\n",
              "    <tr>\n",
              "      <th>0</th>\n",
              "      <td>AirPassengers</td>\n",
              "      <td>Monthly Airline Passenger Numbers 1949-1960</td>\n",
              "    </tr>\n",
              "    <tr>\n",
              "      <th>1</th>\n",
              "      <td>BJsales</td>\n",
              "      <td>Sales Data with Leading Indicator</td>\n",
              "    </tr>\n",
              "    <tr>\n",
              "      <th>2</th>\n",
              "      <td>BOD</td>\n",
              "      <td>Biochemical Oxygen Demand</td>\n",
              "    </tr>\n",
              "    <tr>\n",
              "      <th>3</th>\n",
              "      <td>Formaldehyde</td>\n",
              "      <td>Determination of Formaldehyde</td>\n",
              "    </tr>\n",
              "    <tr>\n",
              "      <th>4</th>\n",
              "      <td>HairEyeColor</td>\n",
              "      <td>Hair and Eye Color of Statistics Students</td>\n",
              "    </tr>\n",
              "    <tr>\n",
              "      <th>...</th>\n",
              "      <td>...</td>\n",
              "      <td>...</td>\n",
              "    </tr>\n",
              "    <tr>\n",
              "      <th>752</th>\n",
              "      <td>VerbAgg</td>\n",
              "      <td>Verbal Aggression item responses</td>\n",
              "    </tr>\n",
              "    <tr>\n",
              "      <th>753</th>\n",
              "      <td>cake</td>\n",
              "      <td>Breakage Angle of Chocolate Cakes</td>\n",
              "    </tr>\n",
              "    <tr>\n",
              "      <th>754</th>\n",
              "      <td>cbpp</td>\n",
              "      <td>Contagious bovine pleuropneumonia</td>\n",
              "    </tr>\n",
              "    <tr>\n",
              "      <th>755</th>\n",
              "      <td>grouseticks</td>\n",
              "      <td>Data on red grouse ticks from Elston et al. 2001</td>\n",
              "    </tr>\n",
              "    <tr>\n",
              "      <th>756</th>\n",
              "      <td>sleepstudy</td>\n",
              "      <td>Reaction times in a sleep deprivation study</td>\n",
              "    </tr>\n",
              "  </tbody>\n",
              "</table>\n",
              "<p>757 rows × 2 columns</p>\n",
              "</div>\n",
              "      <button class=\"colab-df-convert\" onclick=\"convertToInteractive('df-5c208003-062b-4ff1-8a2d-5d8c05f92852')\"\n",
              "              title=\"Convert this dataframe to an interactive table.\"\n",
              "              style=\"display:none;\">\n",
              "        \n",
              "  <svg xmlns=\"http://www.w3.org/2000/svg\" height=\"24px\"viewBox=\"0 0 24 24\"\n",
              "       width=\"24px\">\n",
              "    <path d=\"M0 0h24v24H0V0z\" fill=\"none\"/>\n",
              "    <path d=\"M18.56 5.44l.94 2.06.94-2.06 2.06-.94-2.06-.94-.94-2.06-.94 2.06-2.06.94zm-11 1L8.5 8.5l.94-2.06 2.06-.94-2.06-.94L8.5 2.5l-.94 2.06-2.06.94zm10 10l.94 2.06.94-2.06 2.06-.94-2.06-.94-.94-2.06-.94 2.06-2.06.94z\"/><path d=\"M17.41 7.96l-1.37-1.37c-.4-.4-.92-.59-1.43-.59-.52 0-1.04.2-1.43.59L10.3 9.45l-7.72 7.72c-.78.78-.78 2.05 0 2.83L4 21.41c.39.39.9.59 1.41.59.51 0 1.02-.2 1.41-.59l7.78-7.78 2.81-2.81c.8-.78.8-2.07 0-2.86zM5.41 20L4 18.59l7.72-7.72 1.47 1.35L5.41 20z\"/>\n",
              "  </svg>\n",
              "      </button>\n",
              "      \n",
              "  <style>\n",
              "    .colab-df-container {\n",
              "      display:flex;\n",
              "      flex-wrap:wrap;\n",
              "      gap: 12px;\n",
              "    }\n",
              "\n",
              "    .colab-df-convert {\n",
              "      background-color: #E8F0FE;\n",
              "      border: none;\n",
              "      border-radius: 50%;\n",
              "      cursor: pointer;\n",
              "      display: none;\n",
              "      fill: #1967D2;\n",
              "      height: 32px;\n",
              "      padding: 0 0 0 0;\n",
              "      width: 32px;\n",
              "    }\n",
              "\n",
              "    .colab-df-convert:hover {\n",
              "      background-color: #E2EBFA;\n",
              "      box-shadow: 0px 1px 2px rgba(60, 64, 67, 0.3), 0px 1px 3px 1px rgba(60, 64, 67, 0.15);\n",
              "      fill: #174EA6;\n",
              "    }\n",
              "\n",
              "    [theme=dark] .colab-df-convert {\n",
              "      background-color: #3B4455;\n",
              "      fill: #D2E3FC;\n",
              "    }\n",
              "\n",
              "    [theme=dark] .colab-df-convert:hover {\n",
              "      background-color: #434B5C;\n",
              "      box-shadow: 0px 1px 3px 1px rgba(0, 0, 0, 0.15);\n",
              "      filter: drop-shadow(0px 1px 2px rgba(0, 0, 0, 0.3));\n",
              "      fill: #FFFFFF;\n",
              "    }\n",
              "  </style>\n",
              "\n",
              "      <script>\n",
              "        const buttonEl =\n",
              "          document.querySelector('#df-5c208003-062b-4ff1-8a2d-5d8c05f92852 button.colab-df-convert');\n",
              "        buttonEl.style.display =\n",
              "          google.colab.kernel.accessAllowed ? 'block' : 'none';\n",
              "\n",
              "        async function convertToInteractive(key) {\n",
              "          const element = document.querySelector('#df-5c208003-062b-4ff1-8a2d-5d8c05f92852');\n",
              "          const dataTable =\n",
              "            await google.colab.kernel.invokeFunction('convertToInteractive',\n",
              "                                                     [key], {});\n",
              "          if (!dataTable) return;\n",
              "\n",
              "          const docLinkHtml = 'Like what you see? Visit the ' +\n",
              "            '<a target=\"_blank\" href=https://colab.research.google.com/notebooks/data_table.ipynb>data table notebook</a>'\n",
              "            + ' to learn more about interactive tables.';\n",
              "          element.innerHTML = '';\n",
              "          dataTable['output_type'] = 'display_data';\n",
              "          await google.colab.output.renderOutput(dataTable, element);\n",
              "          const docLink = document.createElement('div');\n",
              "          docLink.innerHTML = docLinkHtml;\n",
              "          element.appendChild(docLink);\n",
              "        }\n",
              "      </script>\n",
              "    </div>\n",
              "  </div>\n",
              "  "
            ]
          },
          "metadata": {},
          "execution_count": 19
        }
      ]
    },
    {
      "cell_type": "code",
      "source": [
        "df=pydataset.data('mtcars')\n",
        "df"
      ],
      "metadata": {
        "id": "lpawaigR4jFB"
      },
      "execution_count": null,
      "outputs": []
    },
    {
      "cell_type": "markdown",
      "source": [
        "# **데이터 프레임**"
      ],
      "metadata": {
        "id": "RdsHaT1Y5GBJ"
      }
    },
    {
      "cell_type": "markdown",
      "source": [
        "열: column(위아래), 행: row(옆으로)\n",
        "- 데이터 분석의 가치는 어떤 현상이 조건에 따라 달라진다는 사리을 발견할 때 생겨난다. 그래서 많은 양보다 다양한 데이터가 중요하다"
      ],
      "metadata": {
        "id": "dNbvnNdB6__X"
      }
    },
    {
      "cell_type": "markdown",
      "source": [
        "# **데이터 만들기, 불러오기(read), 저장하기(to)**"
      ],
      "metadata": {
        "id": "zUZ57upeB5Zw"
      }
    },
    {
      "cell_type": "code",
      "source": [
        "# 데이터프레임 만들기\n",
        "import pandas as pd\n",
        "\n",
        "df=pd.DataFrame(\n",
        "    {'name': ['김지훈', '이유진', '박동현', '김민지'],\n",
        "     'english': [90, 80, 60, 70],\n",
        "     'math': [50,60,100,20]}\n",
        ")\n",
        "print(df)\n",
        "print(df['english'])\n",
        "print(sum(df['english']), float(sum(df['math']/4)))"
      ],
      "metadata": {
        "id": "eZqzH_Xb6_r1"
      },
      "execution_count": null,
      "outputs": []
    },
    {
      "cell_type": "code",
      "source": [
        "# 엑셀 파일 불러오기\n",
        "df_exam=pd.read_excel('excel_exam.xlsx')\n",
        "print(df_exam)\n",
        "print(sum(df_exam['english'])/len(df_exam))\n",
        "\n",
        "# https://github.com/youngwoos/Doit_Python/blob/main/Data/excel_exam.xlsx"
      ],
      "metadata": {
        "id": "HbyWjr8d5FI8"
      },
      "execution_count": null,
      "outputs": []
    },
    {
      "cell_type": "code",
      "source": [
        "df_exam_novar=pd.read_excel('excel_exam_novar.xlsx', header=None)\n",
        "df_exam_novar\n",
        "\n",
        "# 첫번째 행을 변수명이 아닌 데이터로 인식\n",
        "# https://github.com/youngwoos/Doit_Python/blob/main/Data/excel_exam_novar.xlsx"
      ],
      "metadata": {
        "id": "2fT4Ni_5-x-g"
      },
      "execution_count": null,
      "outputs": []
    },
    {
      "cell_type": "code",
      "source": [
        "# csv 파일 불러오기\n",
        "df_csv_exam=pd.read_csv('exam.csv')\n",
        "df_csv_exam"
      ],
      "metadata": {
        "id": "dwNoR2_uATzA"
      },
      "execution_count": null,
      "outputs": []
    },
    {
      "cell_type": "code",
      "source": [
        "# csv 파일로 저장하기\n",
        "df_midterm=pd.DataFrame(\n",
        "    {'name': ['김지훈', '이유진', '박동현', '김민지'],\n",
        "     'english': [90, 80, 60, 70],\n",
        "     'math': [50,60,100,20]}\n",
        ")\n",
        "\n",
        "df_midterm.to_csv(\"output_newdata.csv\", index= False)\n",
        "#인덱스 번호 제외하고 저장"
      ],
      "metadata": {
        "id": "spNMNpX6Aw0I"
      },
      "execution_count": null,
      "outputs": []
    },
    {
      "cell_type": "markdown",
      "source": [
        "# **데이터 파악하기**\n",
        "- head, tail, count, max 등등"
      ],
      "metadata": {
        "id": "FX5X8zTe85TL"
      }
    },
    {
      "cell_type": "markdown",
      "source": [
        "- head(): 앞부분 출력\n",
        "- tail(): 뒷부분 출력\n",
        "- shape: 행, 열 개수 출력\n",
        "- info(): 변수 속성 출력\n",
        "- describe(): 요약 통계량 출력"
      ],
      "metadata": {
        "id": "-swIdm5KCHe4"
      }
    },
    {
      "cell_type": "code",
      "source": [
        "import pandas as pd\n",
        "\n",
        "exam=pd.read_csv('exam.csv')\n",
        "print(exam.head(10))\n",
        "print(exam.shape)\n",
        "print(exam.info)\n",
        "print(exam.describe())"
      ],
      "metadata": {
        "id": "itmrcMJWCB9Q"
      },
      "execution_count": null,
      "outputs": []
    },
    {
      "cell_type": "code",
      "source": [
        "import pandas as pd\n",
        "\n",
        "exam=pd.read_excel('excel_exam.xlsx')\n",
        "print(exam.head(10))\n",
        "print(\"exam.shape: \",exam.shape)\n",
        "print(\"exam.info \\n\",exam.info())\n",
        "print(\"exam.describe() \\n\",exam.describe())"
      ],
      "metadata": {
        "id": "Rv2-6ahVCzfL",
        "colab": {
          "base_uri": "https://localhost:8080/"
        },
        "outputId": "04eeca76-3874-46dc-add2-2c65e6f8d2da"
      },
      "execution_count": null,
      "outputs": [
        {
          "output_type": "stream",
          "name": "stdout",
          "text": [
            "   id  nclass  math  english  science\n",
            "0   1       1    50       98       50\n",
            "1   2       1    60       97       60\n",
            "2   3       1    45       86       78\n",
            "3   4       1    30       98       58\n",
            "4   5       2    25       80       65\n",
            "5   6       2    50       89       98\n",
            "6   7       2    80       90       45\n",
            "7   8       2    90       78       25\n",
            "8   9       3    20       98       15\n",
            "9  10       3    50       98       45\n",
            "exam.shape:  (20, 5)\n",
            "<class 'pandas.core.frame.DataFrame'>\n",
            "RangeIndex: 20 entries, 0 to 19\n",
            "Data columns (total 5 columns):\n",
            " #   Column   Non-Null Count  Dtype\n",
            "---  ------   --------------  -----\n",
            " 0   id       20 non-null     int64\n",
            " 1   nclass   20 non-null     int64\n",
            " 2   math     20 non-null     int64\n",
            " 3   english  20 non-null     int64\n",
            " 4   science  20 non-null     int64\n",
            "dtypes: int64(5)\n",
            "memory usage: 928.0 bytes\n",
            "exam.info \n",
            " None\n",
            "exam.describe() \n",
            "              id     nclass       math    english    science\n",
            "count  20.00000  20.000000  20.000000  20.000000  20.000000\n",
            "mean   10.50000   3.000000  57.450000  84.900000  59.450000\n",
            "std     5.91608   1.450953  20.299015  12.875517  25.292968\n",
            "min     1.00000   1.000000  20.000000  56.000000  12.000000\n",
            "25%     5.75000   2.000000  45.750000  78.000000  45.000000\n",
            "50%    10.50000   3.000000  54.000000  86.500000  62.500000\n",
            "75%    15.25000   4.000000  75.750000  98.000000  78.000000\n",
            "max    20.00000   5.000000  90.000000  98.000000  98.000000\n"
          ]
        }
      ]
    },
    {
      "cell_type": "code",
      "source": [
        "exam"
      ],
      "metadata": {
        "id": "0J0FjkXskU9J"
      },
      "execution_count": null,
      "outputs": []
    },
    {
      "cell_type": "markdown",
      "source": [
        "- count: 값의 개수\n",
        "- top: 최빈값\n",
        "- freq: 최빈값 빈도\n",
        "\n",
        "- mean: 평균\n",
        "- std: 표준편차, 평균에서 떨어진 정도\n",
        "- min: 최소값\n",
        "- max: 최대값\n",
        "- 25%: 1사분위수, 하위 25% 지점에 위치한 값\n",
        "- 50%: 중앙값"
      ],
      "metadata": {
        "id": "9gvV5gm3C1QS"
      }
    },
    {
      "cell_type": "code",
      "source": [
        "print(exam.math.count(), exam.math.max())"
      ],
      "metadata": {
        "colab": {
          "base_uri": "https://localhost:8080/"
        },
        "id": "skBF9bT_kIGS",
        "outputId": "10e6679c-8013-4bc4-ec54-4d7f41b8f62d"
      },
      "execution_count": null,
      "outputs": [
        {
          "output_type": "stream",
          "name": "stdout",
          "text": [
            "20 90\n"
          ]
        }
      ]
    },
    {
      "cell_type": "code",
      "source": [
        "exam.top() \n",
        "#...??"
      ],
      "metadata": {
        "id": "M6gGXs9Ok_v1"
      },
      "execution_count": null,
      "outputs": []
    },
    {
      "cell_type": "markdown",
      "source": [
        "# **함수와 메서드 차이**"
      ],
      "metadata": {
        "id": "NcF4tbkjmH3t"
      }
    },
    {
      "cell_type": "markdown",
      "source": [
        "- 내장함수: sum(), 별도로 패키지 부를 필요 없음\n",
        "- 패키지함수: 패키지를 불러야 쓸 수 있는 함수(pd.DataFrame, pd.read_csv)\n",
        "- 메서드: 변수가 지니고 있는 함수(변수,head, 변수.info)\n",
        "- 어트리뷰트: 변수가 지니고 있는 값\n",
        "\n",
        "---\n",
        "\n",
        ">  변수의 자료 구조에 따라 사용할 수 있는 메서드가 다르다!\n",
        "\n",
        "> 데이터프레임에서 head를 사용할 수 있지만(위에만 5개 출력), 리스트에서는 head를 쓸 수 없다\n",
        "\n",
        "\n",
        "> 변수의 자료구조는 type(변수)를 통해 알 수 있다\n",
        "\n",
        "---\n",
        "\n",
        "> 메서드는 괄호를 쓰고, 어트리뷰트는 괄호를 쓰지 않는다\n",
        "\n",
        "\n",
        "> 메서드: df.head(), df.info()\n",
        "\n",
        "> 어트리뷰트: df.shape\n",
        "\n",
        "\n",
        "\n",
        "\n",
        "\n",
        "\n",
        "\n",
        "\n"
      ],
      "metadata": {
        "id": "EBPR2o6DmPy3"
      }
    },
    {
      "cell_type": "markdown",
      "source": [],
      "metadata": {
        "id": "tyAGx0tQn8VA"
      }
    },
    {
      "cell_type": "markdown",
      "source": [],
      "metadata": {
        "id": "Pa2CxmSBpH8y"
      }
    },
    {
      "cell_type": "markdown",
      "source": [
        "# **데이터 변수명 바꾸기**\n",
        "- copy, rename"
      ],
      "metadata": {
        "id": "9sypkYbdpI-y"
      }
    },
    {
      "cell_type": "code",
      "source": [
        "df_raw=pd.DataFrame({\n",
        "    'var1':[1,2,1],\n",
        "    'var2':[2,3,2] \n",
        "})\n",
        "df_new=df_raw.copy()\n",
        "df_new=df_new.rename(columns={'var1':'v1','var2':'v2'})  #var1를 v1로, var2를 v2로 바꿈\n",
        "df_new"
      ],
      "metadata": {
        "colab": {
          "base_uri": "https://localhost:8080/",
          "height": 143
        },
        "id": "b_l7mGCppOE2",
        "outputId": "f54828f7-4ee0-4fe4-c62a-607b9d610a82"
      },
      "execution_count": null,
      "outputs": [
        {
          "output_type": "execute_result",
          "data": {
            "text/plain": [
              "   v1  v2\n",
              "0   1   2\n",
              "1   2   3\n",
              "2   1   2"
            ],
            "text/html": [
              "\n",
              "  <div id=\"df-66b88e2b-f8b1-4ae8-9502-4e1c0e004124\">\n",
              "    <div class=\"colab-df-container\">\n",
              "      <div>\n",
              "<style scoped>\n",
              "    .dataframe tbody tr th:only-of-type {\n",
              "        vertical-align: middle;\n",
              "    }\n",
              "\n",
              "    .dataframe tbody tr th {\n",
              "        vertical-align: top;\n",
              "    }\n",
              "\n",
              "    .dataframe thead th {\n",
              "        text-align: right;\n",
              "    }\n",
              "</style>\n",
              "<table border=\"1\" class=\"dataframe\">\n",
              "  <thead>\n",
              "    <tr style=\"text-align: right;\">\n",
              "      <th></th>\n",
              "      <th>v1</th>\n",
              "      <th>v2</th>\n",
              "    </tr>\n",
              "  </thead>\n",
              "  <tbody>\n",
              "    <tr>\n",
              "      <th>0</th>\n",
              "      <td>1</td>\n",
              "      <td>2</td>\n",
              "    </tr>\n",
              "    <tr>\n",
              "      <th>1</th>\n",
              "      <td>2</td>\n",
              "      <td>3</td>\n",
              "    </tr>\n",
              "    <tr>\n",
              "      <th>2</th>\n",
              "      <td>1</td>\n",
              "      <td>2</td>\n",
              "    </tr>\n",
              "  </tbody>\n",
              "</table>\n",
              "</div>\n",
              "      <button class=\"colab-df-convert\" onclick=\"convertToInteractive('df-66b88e2b-f8b1-4ae8-9502-4e1c0e004124')\"\n",
              "              title=\"Convert this dataframe to an interactive table.\"\n",
              "              style=\"display:none;\">\n",
              "        \n",
              "  <svg xmlns=\"http://www.w3.org/2000/svg\" height=\"24px\"viewBox=\"0 0 24 24\"\n",
              "       width=\"24px\">\n",
              "    <path d=\"M0 0h24v24H0V0z\" fill=\"none\"/>\n",
              "    <path d=\"M18.56 5.44l.94 2.06.94-2.06 2.06-.94-2.06-.94-.94-2.06-.94 2.06-2.06.94zm-11 1L8.5 8.5l.94-2.06 2.06-.94-2.06-.94L8.5 2.5l-.94 2.06-2.06.94zm10 10l.94 2.06.94-2.06 2.06-.94-2.06-.94-.94-2.06-.94 2.06-2.06.94z\"/><path d=\"M17.41 7.96l-1.37-1.37c-.4-.4-.92-.59-1.43-.59-.52 0-1.04.2-1.43.59L10.3 9.45l-7.72 7.72c-.78.78-.78 2.05 0 2.83L4 21.41c.39.39.9.59 1.41.59.51 0 1.02-.2 1.41-.59l7.78-7.78 2.81-2.81c.8-.78.8-2.07 0-2.86zM5.41 20L4 18.59l7.72-7.72 1.47 1.35L5.41 20z\"/>\n",
              "  </svg>\n",
              "      </button>\n",
              "      \n",
              "  <style>\n",
              "    .colab-df-container {\n",
              "      display:flex;\n",
              "      flex-wrap:wrap;\n",
              "      gap: 12px;\n",
              "    }\n",
              "\n",
              "    .colab-df-convert {\n",
              "      background-color: #E8F0FE;\n",
              "      border: none;\n",
              "      border-radius: 50%;\n",
              "      cursor: pointer;\n",
              "      display: none;\n",
              "      fill: #1967D2;\n",
              "      height: 32px;\n",
              "      padding: 0 0 0 0;\n",
              "      width: 32px;\n",
              "    }\n",
              "\n",
              "    .colab-df-convert:hover {\n",
              "      background-color: #E2EBFA;\n",
              "      box-shadow: 0px 1px 2px rgba(60, 64, 67, 0.3), 0px 1px 3px 1px rgba(60, 64, 67, 0.15);\n",
              "      fill: #174EA6;\n",
              "    }\n",
              "\n",
              "    [theme=dark] .colab-df-convert {\n",
              "      background-color: #3B4455;\n",
              "      fill: #D2E3FC;\n",
              "    }\n",
              "\n",
              "    [theme=dark] .colab-df-convert:hover {\n",
              "      background-color: #434B5C;\n",
              "      box-shadow: 0px 1px 3px 1px rgba(0, 0, 0, 0.15);\n",
              "      filter: drop-shadow(0px 1px 2px rgba(0, 0, 0, 0.3));\n",
              "      fill: #FFFFFF;\n",
              "    }\n",
              "  </style>\n",
              "\n",
              "      <script>\n",
              "        const buttonEl =\n",
              "          document.querySelector('#df-66b88e2b-f8b1-4ae8-9502-4e1c0e004124 button.colab-df-convert');\n",
              "        buttonEl.style.display =\n",
              "          google.colab.kernel.accessAllowed ? 'block' : 'none';\n",
              "\n",
              "        async function convertToInteractive(key) {\n",
              "          const element = document.querySelector('#df-66b88e2b-f8b1-4ae8-9502-4e1c0e004124');\n",
              "          const dataTable =\n",
              "            await google.colab.kernel.invokeFunction('convertToInteractive',\n",
              "                                                     [key], {});\n",
              "          if (!dataTable) return;\n",
              "\n",
              "          const docLinkHtml = 'Like what you see? Visit the ' +\n",
              "            '<a target=\"_blank\" href=https://colab.research.google.com/notebooks/data_table.ipynb>data table notebook</a>'\n",
              "            + ' to learn more about interactive tables.';\n",
              "          element.innerHTML = '';\n",
              "          dataTable['output_type'] = 'display_data';\n",
              "          await google.colab.output.renderOutput(dataTable, element);\n",
              "          const docLink = document.createElement('div');\n",
              "          docLink.innerHTML = docLinkHtml;\n",
              "          element.appendChild(docLink);\n",
              "        }\n",
              "      </script>\n",
              "    </div>\n",
              "  </div>\n",
              "  "
            ]
          },
          "metadata": {},
          "execution_count": 36
        }
      ]
    },
    {
      "cell_type": "code",
      "source": [
        "df_raw"
      ],
      "metadata": {
        "colab": {
          "base_uri": "https://localhost:8080/",
          "height": 143
        },
        "id": "Jd1988aVpwn7",
        "outputId": "c38b3b9e-5bfe-430f-f124-245ce43a457f"
      },
      "execution_count": null,
      "outputs": [
        {
          "output_type": "execute_result",
          "data": {
            "text/plain": [
              "   var1  var2\n",
              "0     1     2\n",
              "1     2     3\n",
              "2     1     2"
            ],
            "text/html": [
              "\n",
              "  <div id=\"df-7e3cc195-cf04-4954-9c1d-b4e185cf9edb\">\n",
              "    <div class=\"colab-df-container\">\n",
              "      <div>\n",
              "<style scoped>\n",
              "    .dataframe tbody tr th:only-of-type {\n",
              "        vertical-align: middle;\n",
              "    }\n",
              "\n",
              "    .dataframe tbody tr th {\n",
              "        vertical-align: top;\n",
              "    }\n",
              "\n",
              "    .dataframe thead th {\n",
              "        text-align: right;\n",
              "    }\n",
              "</style>\n",
              "<table border=\"1\" class=\"dataframe\">\n",
              "  <thead>\n",
              "    <tr style=\"text-align: right;\">\n",
              "      <th></th>\n",
              "      <th>var1</th>\n",
              "      <th>var2</th>\n",
              "    </tr>\n",
              "  </thead>\n",
              "  <tbody>\n",
              "    <tr>\n",
              "      <th>0</th>\n",
              "      <td>1</td>\n",
              "      <td>2</td>\n",
              "    </tr>\n",
              "    <tr>\n",
              "      <th>1</th>\n",
              "      <td>2</td>\n",
              "      <td>3</td>\n",
              "    </tr>\n",
              "    <tr>\n",
              "      <th>2</th>\n",
              "      <td>1</td>\n",
              "      <td>2</td>\n",
              "    </tr>\n",
              "  </tbody>\n",
              "</table>\n",
              "</div>\n",
              "      <button class=\"colab-df-convert\" onclick=\"convertToInteractive('df-7e3cc195-cf04-4954-9c1d-b4e185cf9edb')\"\n",
              "              title=\"Convert this dataframe to an interactive table.\"\n",
              "              style=\"display:none;\">\n",
              "        \n",
              "  <svg xmlns=\"http://www.w3.org/2000/svg\" height=\"24px\"viewBox=\"0 0 24 24\"\n",
              "       width=\"24px\">\n",
              "    <path d=\"M0 0h24v24H0V0z\" fill=\"none\"/>\n",
              "    <path d=\"M18.56 5.44l.94 2.06.94-2.06 2.06-.94-2.06-.94-.94-2.06-.94 2.06-2.06.94zm-11 1L8.5 8.5l.94-2.06 2.06-.94-2.06-.94L8.5 2.5l-.94 2.06-2.06.94zm10 10l.94 2.06.94-2.06 2.06-.94-2.06-.94-.94-2.06-.94 2.06-2.06.94z\"/><path d=\"M17.41 7.96l-1.37-1.37c-.4-.4-.92-.59-1.43-.59-.52 0-1.04.2-1.43.59L10.3 9.45l-7.72 7.72c-.78.78-.78 2.05 0 2.83L4 21.41c.39.39.9.59 1.41.59.51 0 1.02-.2 1.41-.59l7.78-7.78 2.81-2.81c.8-.78.8-2.07 0-2.86zM5.41 20L4 18.59l7.72-7.72 1.47 1.35L5.41 20z\"/>\n",
              "  </svg>\n",
              "      </button>\n",
              "      \n",
              "  <style>\n",
              "    .colab-df-container {\n",
              "      display:flex;\n",
              "      flex-wrap:wrap;\n",
              "      gap: 12px;\n",
              "    }\n",
              "\n",
              "    .colab-df-convert {\n",
              "      background-color: #E8F0FE;\n",
              "      border: none;\n",
              "      border-radius: 50%;\n",
              "      cursor: pointer;\n",
              "      display: none;\n",
              "      fill: #1967D2;\n",
              "      height: 32px;\n",
              "      padding: 0 0 0 0;\n",
              "      width: 32px;\n",
              "    }\n",
              "\n",
              "    .colab-df-convert:hover {\n",
              "      background-color: #E2EBFA;\n",
              "      box-shadow: 0px 1px 2px rgba(60, 64, 67, 0.3), 0px 1px 3px 1px rgba(60, 64, 67, 0.15);\n",
              "      fill: #174EA6;\n",
              "    }\n",
              "\n",
              "    [theme=dark] .colab-df-convert {\n",
              "      background-color: #3B4455;\n",
              "      fill: #D2E3FC;\n",
              "    }\n",
              "\n",
              "    [theme=dark] .colab-df-convert:hover {\n",
              "      background-color: #434B5C;\n",
              "      box-shadow: 0px 1px 3px 1px rgba(0, 0, 0, 0.15);\n",
              "      filter: drop-shadow(0px 1px 2px rgba(0, 0, 0, 0.3));\n",
              "      fill: #FFFFFF;\n",
              "    }\n",
              "  </style>\n",
              "\n",
              "      <script>\n",
              "        const buttonEl =\n",
              "          document.querySelector('#df-7e3cc195-cf04-4954-9c1d-b4e185cf9edb button.colab-df-convert');\n",
              "        buttonEl.style.display =\n",
              "          google.colab.kernel.accessAllowed ? 'block' : 'none';\n",
              "\n",
              "        async function convertToInteractive(key) {\n",
              "          const element = document.querySelector('#df-7e3cc195-cf04-4954-9c1d-b4e185cf9edb');\n",
              "          const dataTable =\n",
              "            await google.colab.kernel.invokeFunction('convertToInteractive',\n",
              "                                                     [key], {});\n",
              "          if (!dataTable) return;\n",
              "\n",
              "          const docLinkHtml = 'Like what you see? Visit the ' +\n",
              "            '<a target=\"_blank\" href=https://colab.research.google.com/notebooks/data_table.ipynb>data table notebook</a>'\n",
              "            + ' to learn more about interactive tables.';\n",
              "          element.innerHTML = '';\n",
              "          dataTable['output_type'] = 'display_data';\n",
              "          await google.colab.output.renderOutput(dataTable, element);\n",
              "          const docLink = document.createElement('div');\n",
              "          docLink.innerHTML = docLinkHtml;\n",
              "          element.appendChild(docLink);\n",
              "        }\n",
              "      </script>\n",
              "    </div>\n",
              "  </div>\n",
              "  "
            ]
          },
          "metadata": {},
          "execution_count": 37
        }
      ]
    },
    {
      "cell_type": "code",
      "source": [
        "dt = pd.read_csv('mpg.csv')\n",
        "dt_new=dt.copy()\n",
        "dt_new=dt_new.rename(columns={'cty':'city', 'hwy':'highway'})\n",
        "dt_new"
      ],
      "metadata": {
        "colab": {
          "base_uri": "https://localhost:8080/",
          "height": 424
        },
        "id": "kYHoBS1wqkcv",
        "outputId": "53f2673e-0a4d-41f1-ccf1-cce8871cf3aa"
      },
      "execution_count": null,
      "outputs": [
        {
          "output_type": "execute_result",
          "data": {
            "text/plain": [
              "    manufacturer   model  displ  year  cyl       trans drv  city  highway fl  \\\n",
              "0           audi      a4    1.8  1999    4    auto(l5)   f    18       29  p   \n",
              "1           audi      a4    1.8  1999    4  manual(m5)   f    21       29  p   \n",
              "2           audi      a4    2.0  2008    4  manual(m6)   f    20       31  p   \n",
              "3           audi      a4    2.0  2008    4    auto(av)   f    21       30  p   \n",
              "4           audi      a4    2.8  1999    6    auto(l5)   f    16       26  p   \n",
              "..           ...     ...    ...   ...  ...         ...  ..   ...      ... ..   \n",
              "229   volkswagen  passat    2.0  2008    4    auto(s6)   f    19       28  p   \n",
              "230   volkswagen  passat    2.0  2008    4  manual(m6)   f    21       29  p   \n",
              "231   volkswagen  passat    2.8  1999    6    auto(l5)   f    16       26  p   \n",
              "232   volkswagen  passat    2.8  1999    6  manual(m5)   f    18       26  p   \n",
              "233   volkswagen  passat    3.6  2008    6    auto(s6)   f    17       26  p   \n",
              "\n",
              "    category  \n",
              "0    compact  \n",
              "1    compact  \n",
              "2    compact  \n",
              "3    compact  \n",
              "4    compact  \n",
              "..       ...  \n",
              "229  midsize  \n",
              "230  midsize  \n",
              "231  midsize  \n",
              "232  midsize  \n",
              "233  midsize  \n",
              "\n",
              "[234 rows x 11 columns]"
            ],
            "text/html": [
              "\n",
              "  <div id=\"df-9ef819f7-c4ed-4165-a8f9-6525e37f8dec\">\n",
              "    <div class=\"colab-df-container\">\n",
              "      <div>\n",
              "<style scoped>\n",
              "    .dataframe tbody tr th:only-of-type {\n",
              "        vertical-align: middle;\n",
              "    }\n",
              "\n",
              "    .dataframe tbody tr th {\n",
              "        vertical-align: top;\n",
              "    }\n",
              "\n",
              "    .dataframe thead th {\n",
              "        text-align: right;\n",
              "    }\n",
              "</style>\n",
              "<table border=\"1\" class=\"dataframe\">\n",
              "  <thead>\n",
              "    <tr style=\"text-align: right;\">\n",
              "      <th></th>\n",
              "      <th>manufacturer</th>\n",
              "      <th>model</th>\n",
              "      <th>displ</th>\n",
              "      <th>year</th>\n",
              "      <th>cyl</th>\n",
              "      <th>trans</th>\n",
              "      <th>drv</th>\n",
              "      <th>city</th>\n",
              "      <th>highway</th>\n",
              "      <th>fl</th>\n",
              "      <th>category</th>\n",
              "    </tr>\n",
              "  </thead>\n",
              "  <tbody>\n",
              "    <tr>\n",
              "      <th>0</th>\n",
              "      <td>audi</td>\n",
              "      <td>a4</td>\n",
              "      <td>1.8</td>\n",
              "      <td>1999</td>\n",
              "      <td>4</td>\n",
              "      <td>auto(l5)</td>\n",
              "      <td>f</td>\n",
              "      <td>18</td>\n",
              "      <td>29</td>\n",
              "      <td>p</td>\n",
              "      <td>compact</td>\n",
              "    </tr>\n",
              "    <tr>\n",
              "      <th>1</th>\n",
              "      <td>audi</td>\n",
              "      <td>a4</td>\n",
              "      <td>1.8</td>\n",
              "      <td>1999</td>\n",
              "      <td>4</td>\n",
              "      <td>manual(m5)</td>\n",
              "      <td>f</td>\n",
              "      <td>21</td>\n",
              "      <td>29</td>\n",
              "      <td>p</td>\n",
              "      <td>compact</td>\n",
              "    </tr>\n",
              "    <tr>\n",
              "      <th>2</th>\n",
              "      <td>audi</td>\n",
              "      <td>a4</td>\n",
              "      <td>2.0</td>\n",
              "      <td>2008</td>\n",
              "      <td>4</td>\n",
              "      <td>manual(m6)</td>\n",
              "      <td>f</td>\n",
              "      <td>20</td>\n",
              "      <td>31</td>\n",
              "      <td>p</td>\n",
              "      <td>compact</td>\n",
              "    </tr>\n",
              "    <tr>\n",
              "      <th>3</th>\n",
              "      <td>audi</td>\n",
              "      <td>a4</td>\n",
              "      <td>2.0</td>\n",
              "      <td>2008</td>\n",
              "      <td>4</td>\n",
              "      <td>auto(av)</td>\n",
              "      <td>f</td>\n",
              "      <td>21</td>\n",
              "      <td>30</td>\n",
              "      <td>p</td>\n",
              "      <td>compact</td>\n",
              "    </tr>\n",
              "    <tr>\n",
              "      <th>4</th>\n",
              "      <td>audi</td>\n",
              "      <td>a4</td>\n",
              "      <td>2.8</td>\n",
              "      <td>1999</td>\n",
              "      <td>6</td>\n",
              "      <td>auto(l5)</td>\n",
              "      <td>f</td>\n",
              "      <td>16</td>\n",
              "      <td>26</td>\n",
              "      <td>p</td>\n",
              "      <td>compact</td>\n",
              "    </tr>\n",
              "    <tr>\n",
              "      <th>...</th>\n",
              "      <td>...</td>\n",
              "      <td>...</td>\n",
              "      <td>...</td>\n",
              "      <td>...</td>\n",
              "      <td>...</td>\n",
              "      <td>...</td>\n",
              "      <td>...</td>\n",
              "      <td>...</td>\n",
              "      <td>...</td>\n",
              "      <td>...</td>\n",
              "      <td>...</td>\n",
              "    </tr>\n",
              "    <tr>\n",
              "      <th>229</th>\n",
              "      <td>volkswagen</td>\n",
              "      <td>passat</td>\n",
              "      <td>2.0</td>\n",
              "      <td>2008</td>\n",
              "      <td>4</td>\n",
              "      <td>auto(s6)</td>\n",
              "      <td>f</td>\n",
              "      <td>19</td>\n",
              "      <td>28</td>\n",
              "      <td>p</td>\n",
              "      <td>midsize</td>\n",
              "    </tr>\n",
              "    <tr>\n",
              "      <th>230</th>\n",
              "      <td>volkswagen</td>\n",
              "      <td>passat</td>\n",
              "      <td>2.0</td>\n",
              "      <td>2008</td>\n",
              "      <td>4</td>\n",
              "      <td>manual(m6)</td>\n",
              "      <td>f</td>\n",
              "      <td>21</td>\n",
              "      <td>29</td>\n",
              "      <td>p</td>\n",
              "      <td>midsize</td>\n",
              "    </tr>\n",
              "    <tr>\n",
              "      <th>231</th>\n",
              "      <td>volkswagen</td>\n",
              "      <td>passat</td>\n",
              "      <td>2.8</td>\n",
              "      <td>1999</td>\n",
              "      <td>6</td>\n",
              "      <td>auto(l5)</td>\n",
              "      <td>f</td>\n",
              "      <td>16</td>\n",
              "      <td>26</td>\n",
              "      <td>p</td>\n",
              "      <td>midsize</td>\n",
              "    </tr>\n",
              "    <tr>\n",
              "      <th>232</th>\n",
              "      <td>volkswagen</td>\n",
              "      <td>passat</td>\n",
              "      <td>2.8</td>\n",
              "      <td>1999</td>\n",
              "      <td>6</td>\n",
              "      <td>manual(m5)</td>\n",
              "      <td>f</td>\n",
              "      <td>18</td>\n",
              "      <td>26</td>\n",
              "      <td>p</td>\n",
              "      <td>midsize</td>\n",
              "    </tr>\n",
              "    <tr>\n",
              "      <th>233</th>\n",
              "      <td>volkswagen</td>\n",
              "      <td>passat</td>\n",
              "      <td>3.6</td>\n",
              "      <td>2008</td>\n",
              "      <td>6</td>\n",
              "      <td>auto(s6)</td>\n",
              "      <td>f</td>\n",
              "      <td>17</td>\n",
              "      <td>26</td>\n",
              "      <td>p</td>\n",
              "      <td>midsize</td>\n",
              "    </tr>\n",
              "  </tbody>\n",
              "</table>\n",
              "<p>234 rows × 11 columns</p>\n",
              "</div>\n",
              "      <button class=\"colab-df-convert\" onclick=\"convertToInteractive('df-9ef819f7-c4ed-4165-a8f9-6525e37f8dec')\"\n",
              "              title=\"Convert this dataframe to an interactive table.\"\n",
              "              style=\"display:none;\">\n",
              "        \n",
              "  <svg xmlns=\"http://www.w3.org/2000/svg\" height=\"24px\"viewBox=\"0 0 24 24\"\n",
              "       width=\"24px\">\n",
              "    <path d=\"M0 0h24v24H0V0z\" fill=\"none\"/>\n",
              "    <path d=\"M18.56 5.44l.94 2.06.94-2.06 2.06-.94-2.06-.94-.94-2.06-.94 2.06-2.06.94zm-11 1L8.5 8.5l.94-2.06 2.06-.94-2.06-.94L8.5 2.5l-.94 2.06-2.06.94zm10 10l.94 2.06.94-2.06 2.06-.94-2.06-.94-.94-2.06-.94 2.06-2.06.94z\"/><path d=\"M17.41 7.96l-1.37-1.37c-.4-.4-.92-.59-1.43-.59-.52 0-1.04.2-1.43.59L10.3 9.45l-7.72 7.72c-.78.78-.78 2.05 0 2.83L4 21.41c.39.39.9.59 1.41.59.51 0 1.02-.2 1.41-.59l7.78-7.78 2.81-2.81c.8-.78.8-2.07 0-2.86zM5.41 20L4 18.59l7.72-7.72 1.47 1.35L5.41 20z\"/>\n",
              "  </svg>\n",
              "      </button>\n",
              "      \n",
              "  <style>\n",
              "    .colab-df-container {\n",
              "      display:flex;\n",
              "      flex-wrap:wrap;\n",
              "      gap: 12px;\n",
              "    }\n",
              "\n",
              "    .colab-df-convert {\n",
              "      background-color: #E8F0FE;\n",
              "      border: none;\n",
              "      border-radius: 50%;\n",
              "      cursor: pointer;\n",
              "      display: none;\n",
              "      fill: #1967D2;\n",
              "      height: 32px;\n",
              "      padding: 0 0 0 0;\n",
              "      width: 32px;\n",
              "    }\n",
              "\n",
              "    .colab-df-convert:hover {\n",
              "      background-color: #E2EBFA;\n",
              "      box-shadow: 0px 1px 2px rgba(60, 64, 67, 0.3), 0px 1px 3px 1px rgba(60, 64, 67, 0.15);\n",
              "      fill: #174EA6;\n",
              "    }\n",
              "\n",
              "    [theme=dark] .colab-df-convert {\n",
              "      background-color: #3B4455;\n",
              "      fill: #D2E3FC;\n",
              "    }\n",
              "\n",
              "    [theme=dark] .colab-df-convert:hover {\n",
              "      background-color: #434B5C;\n",
              "      box-shadow: 0px 1px 3px 1px rgba(0, 0, 0, 0.15);\n",
              "      filter: drop-shadow(0px 1px 2px rgba(0, 0, 0, 0.3));\n",
              "      fill: #FFFFFF;\n",
              "    }\n",
              "  </style>\n",
              "\n",
              "      <script>\n",
              "        const buttonEl =\n",
              "          document.querySelector('#df-9ef819f7-c4ed-4165-a8f9-6525e37f8dec button.colab-df-convert');\n",
              "        buttonEl.style.display =\n",
              "          google.colab.kernel.accessAllowed ? 'block' : 'none';\n",
              "\n",
              "        async function convertToInteractive(key) {\n",
              "          const element = document.querySelector('#df-9ef819f7-c4ed-4165-a8f9-6525e37f8dec');\n",
              "          const dataTable =\n",
              "            await google.colab.kernel.invokeFunction('convertToInteractive',\n",
              "                                                     [key], {});\n",
              "          if (!dataTable) return;\n",
              "\n",
              "          const docLinkHtml = 'Like what you see? Visit the ' +\n",
              "            '<a target=\"_blank\" href=https://colab.research.google.com/notebooks/data_table.ipynb>data table notebook</a>'\n",
              "            + ' to learn more about interactive tables.';\n",
              "          element.innerHTML = '';\n",
              "          dataTable['output_type'] = 'display_data';\n",
              "          await google.colab.output.renderOutput(dataTable, element);\n",
              "          const docLink = document.createElement('div');\n",
              "          docLink.innerHTML = docLinkHtml;\n",
              "          element.appendChild(docLink);\n",
              "        }\n",
              "      </script>\n",
              "    </div>\n",
              "  </div>\n",
              "  "
            ]
          },
          "metadata": {},
          "execution_count": 43
        }
      ]
    },
    {
      "cell_type": "markdown",
      "source": [
        "# **파생변수**\n",
        "- 변수추가\n"
      ],
      "metadata": {
        "id": "UKGv_2gYr8f3"
      }
    },
    {
      "cell_type": "code",
      "source": [
        "df=pd.DataFrame({\n",
        "    'var1':[4,3,8],\n",
        "    'var2':[2,6,1] \n",
        "})\n",
        "df['var_sum']=df['var1']+df['var2']\n",
        "df['var_mean']=df['var_sum']/2\n",
        "df"
      ],
      "metadata": {
        "colab": {
          "base_uri": "https://localhost:8080/",
          "height": 143
        },
        "id": "bHJFGG7Fr_4x",
        "outputId": "a0872e13-9a26-4de1-c2b8-d8611ac2f16c"
      },
      "execution_count": null,
      "outputs": [
        {
          "output_type": "execute_result",
          "data": {
            "text/plain": [
              "   var1  var2  var_sum  var_mean\n",
              "0     4     2        6       2.0\n",
              "1     3     6        9       3.0\n",
              "2     8     1        9       3.0"
            ],
            "text/html": [
              "\n",
              "  <div id=\"df-5147abf5-7569-45a3-8fe8-418c7e20ce2f\">\n",
              "    <div class=\"colab-df-container\">\n",
              "      <div>\n",
              "<style scoped>\n",
              "    .dataframe tbody tr th:only-of-type {\n",
              "        vertical-align: middle;\n",
              "    }\n",
              "\n",
              "    .dataframe tbody tr th {\n",
              "        vertical-align: top;\n",
              "    }\n",
              "\n",
              "    .dataframe thead th {\n",
              "        text-align: right;\n",
              "    }\n",
              "</style>\n",
              "<table border=\"1\" class=\"dataframe\">\n",
              "  <thead>\n",
              "    <tr style=\"text-align: right;\">\n",
              "      <th></th>\n",
              "      <th>var1</th>\n",
              "      <th>var2</th>\n",
              "      <th>var_sum</th>\n",
              "      <th>var_mean</th>\n",
              "    </tr>\n",
              "  </thead>\n",
              "  <tbody>\n",
              "    <tr>\n",
              "      <th>0</th>\n",
              "      <td>4</td>\n",
              "      <td>2</td>\n",
              "      <td>6</td>\n",
              "      <td>2.0</td>\n",
              "    </tr>\n",
              "    <tr>\n",
              "      <th>1</th>\n",
              "      <td>3</td>\n",
              "      <td>6</td>\n",
              "      <td>9</td>\n",
              "      <td>3.0</td>\n",
              "    </tr>\n",
              "    <tr>\n",
              "      <th>2</th>\n",
              "      <td>8</td>\n",
              "      <td>1</td>\n",
              "      <td>9</td>\n",
              "      <td>3.0</td>\n",
              "    </tr>\n",
              "  </tbody>\n",
              "</table>\n",
              "</div>\n",
              "      <button class=\"colab-df-convert\" onclick=\"convertToInteractive('df-5147abf5-7569-45a3-8fe8-418c7e20ce2f')\"\n",
              "              title=\"Convert this dataframe to an interactive table.\"\n",
              "              style=\"display:none;\">\n",
              "        \n",
              "  <svg xmlns=\"http://www.w3.org/2000/svg\" height=\"24px\"viewBox=\"0 0 24 24\"\n",
              "       width=\"24px\">\n",
              "    <path d=\"M0 0h24v24H0V0z\" fill=\"none\"/>\n",
              "    <path d=\"M18.56 5.44l.94 2.06.94-2.06 2.06-.94-2.06-.94-.94-2.06-.94 2.06-2.06.94zm-11 1L8.5 8.5l.94-2.06 2.06-.94-2.06-.94L8.5 2.5l-.94 2.06-2.06.94zm10 10l.94 2.06.94-2.06 2.06-.94-2.06-.94-.94-2.06-.94 2.06-2.06.94z\"/><path d=\"M17.41 7.96l-1.37-1.37c-.4-.4-.92-.59-1.43-.59-.52 0-1.04.2-1.43.59L10.3 9.45l-7.72 7.72c-.78.78-.78 2.05 0 2.83L4 21.41c.39.39.9.59 1.41.59.51 0 1.02-.2 1.41-.59l7.78-7.78 2.81-2.81c.8-.78.8-2.07 0-2.86zM5.41 20L4 18.59l7.72-7.72 1.47 1.35L5.41 20z\"/>\n",
              "  </svg>\n",
              "      </button>\n",
              "      \n",
              "  <style>\n",
              "    .colab-df-container {\n",
              "      display:flex;\n",
              "      flex-wrap:wrap;\n",
              "      gap: 12px;\n",
              "    }\n",
              "\n",
              "    .colab-df-convert {\n",
              "      background-color: #E8F0FE;\n",
              "      border: none;\n",
              "      border-radius: 50%;\n",
              "      cursor: pointer;\n",
              "      display: none;\n",
              "      fill: #1967D2;\n",
              "      height: 32px;\n",
              "      padding: 0 0 0 0;\n",
              "      width: 32px;\n",
              "    }\n",
              "\n",
              "    .colab-df-convert:hover {\n",
              "      background-color: #E2EBFA;\n",
              "      box-shadow: 0px 1px 2px rgba(60, 64, 67, 0.3), 0px 1px 3px 1px rgba(60, 64, 67, 0.15);\n",
              "      fill: #174EA6;\n",
              "    }\n",
              "\n",
              "    [theme=dark] .colab-df-convert {\n",
              "      background-color: #3B4455;\n",
              "      fill: #D2E3FC;\n",
              "    }\n",
              "\n",
              "    [theme=dark] .colab-df-convert:hover {\n",
              "      background-color: #434B5C;\n",
              "      box-shadow: 0px 1px 3px 1px rgba(0, 0, 0, 0.15);\n",
              "      filter: drop-shadow(0px 1px 2px rgba(0, 0, 0, 0.3));\n",
              "      fill: #FFFFFF;\n",
              "    }\n",
              "  </style>\n",
              "\n",
              "      <script>\n",
              "        const buttonEl =\n",
              "          document.querySelector('#df-5147abf5-7569-45a3-8fe8-418c7e20ce2f button.colab-df-convert');\n",
              "        buttonEl.style.display =\n",
              "          google.colab.kernel.accessAllowed ? 'block' : 'none';\n",
              "\n",
              "        async function convertToInteractive(key) {\n",
              "          const element = document.querySelector('#df-5147abf5-7569-45a3-8fe8-418c7e20ce2f');\n",
              "          const dataTable =\n",
              "            await google.colab.kernel.invokeFunction('convertToInteractive',\n",
              "                                                     [key], {});\n",
              "          if (!dataTable) return;\n",
              "\n",
              "          const docLinkHtml = 'Like what you see? Visit the ' +\n",
              "            '<a target=\"_blank\" href=https://colab.research.google.com/notebooks/data_table.ipynb>data table notebook</a>'\n",
              "            + ' to learn more about interactive tables.';\n",
              "          element.innerHTML = '';\n",
              "          dataTable['output_type'] = 'display_data';\n",
              "          await google.colab.output.renderOutput(dataTable, element);\n",
              "          const docLink = document.createElement('div');\n",
              "          docLink.innerHTML = docLinkHtml;\n",
              "          element.appendChild(docLink);\n",
              "        }\n",
              "      </script>\n",
              "    </div>\n",
              "  </div>\n",
              "  "
            ]
          },
          "metadata": {},
          "execution_count": 50
        }
      ]
    },
    {
      "cell_type": "code",
      "source": [
        "mpg=pd.read_csv('mpg.csv')\n",
        "mpg=mpg.rename(columns={'cty':'city'})\n",
        "mpg['total']=(mpg['city']+mpg['hwy'])/2\n",
        "mpg"
      ],
      "metadata": {
        "id": "7847NTbfxeCH"
      },
      "execution_count": null,
      "outputs": []
    },
    {
      "cell_type": "code",
      "source": [
        "print(sum(mpg['total'])/len(mpg),'\\n\\n', mpg['total'].mean(), '\\n\\n')\n",
        "print(mpg.mean())"
      ],
      "metadata": {
        "id": "61C2n8RQ0ERY"
      },
      "execution_count": null,
      "outputs": []
    },
    {
      "cell_type": "markdown",
      "source": [
        "# **데이터를 활용한 합격판정변수**\n",
        "- 히스토그램 (plot.hist), 막대(plot.bar)\n",
        "- 조건문 (numpy.where), 빈도표 (value_counts)\n",
        "- 메서드 체이닝: 메서드를 계속 이어서 작성\n",
        "- 순서대로 정렬: sort_index()"
      ],
      "metadata": {
        "id": "9TMeBMTw724l"
      }
    },
    {
      "cell_type": "code",
      "source": [
        "#히스토그램 만들기\n",
        "\n",
        "print(mpg['total'].describe())\n",
        "print(mpg.total.plot.hist())"
      ],
      "metadata": {
        "id": "8otlGE0P0g1p"
      },
      "execution_count": null,
      "outputs": []
    },
    {
      "cell_type": "code",
      "source": [
        "#조건문 활용한 합격판정변수 만들기 \n",
        "import numpy as np\n",
        "\n",
        "mpg['test']=np.where(mpg['total']>=20, 'pass', 'fail')\n",
        "mpg.tail(15)"
      ],
      "metadata": {
        "id": "xN-YuUJR18TC"
      },
      "execution_count": null,
      "outputs": []
    },
    {
      "cell_type": "code",
      "source": [
        "#빈도표 활용한 합격판정 살표보기\n",
        "\n",
        "count_test=mpg['test'].value_counts()\n",
        "count_test.plot.bar(rot=0)"
      ],
      "metadata": {
        "id": "mY2UI5cy2gFE"
      },
      "execution_count": null,
      "outputs": []
    },
    {
      "cell_type": "code",
      "source": [
        "#중첩조건문\n",
        "\n",
        "mpg['grade']=np.where(mpg['total']>=30, 'A', \n",
        "                      np.where(mpg['total']>=20, 'B', \n",
        "                               np.where(mpg['total']>=10, 'C', 'D')))\n",
        "\n",
        "count_grade=mpg['grade'].value_counts()\n",
        "count_grade.plot.bar(rot=0)"
      ],
      "metadata": {
        "id": "N_GrZtKY72HV"
      },
      "execution_count": null,
      "outputs": []
    },
    {
      "cell_type": "code",
      "source": [
        "#알파벳순으로 막대정렬\n",
        "\n",
        "count_grade=mpg['grade'].value_counts().sort_index()\n",
        "count_grade.plot.bar(rot=0)"
      ],
      "metadata": {
        "id": "MrN-sUEH8xuL"
      },
      "execution_count": null,
      "outputs": []
    },
    {
      "cell_type": "code",
      "source": [
        "mpg['category']"
      ],
      "metadata": {
        "colab": {
          "base_uri": "https://localhost:8080/"
        },
        "id": "vc9MQQXiCyRL",
        "outputId": "1fea63a7-90b3-4cef-9233-8ed9a1d9daef"
      },
      "execution_count": null,
      "outputs": [
        {
          "output_type": "execute_result",
          "data": {
            "text/plain": [
              "0      compact\n",
              "1      compact\n",
              "2      compact\n",
              "3      compact\n",
              "4      compact\n",
              "        ...   \n",
              "229    midsize\n",
              "230    midsize\n",
              "231    midsize\n",
              "232    midsize\n",
              "233    midsize\n",
              "Name: category, Length: 234, dtype: object"
            ]
          },
          "metadata": {},
          "execution_count": 81
        }
      ]
    },
    {
      "cell_type": "code",
      "source": [
        "#조건문 or : | 아니면 isin\n",
        "mpg['size']=np.where((mpg['category']=='compact')|(mpg['category']=='subcompact')|(mpg['category']=='2seater'), \n",
        "                     'small', 'large')\n",
        "mpg['size']=np.where(mpg['category'].isin(['compact','subcompact','2seater']), \n",
        "                     'small', 'large')\n",
        "\n",
        "mpg['size'].value_counts()"
      ],
      "metadata": {
        "colab": {
          "base_uri": "https://localhost:8080/"
        },
        "id": "B-IsAXjhC3S7",
        "outputId": "1ef9fe18-d102-4522-88f7-6f0b2d9c2257"
      },
      "execution_count": null,
      "outputs": [
        {
          "output_type": "execute_result",
          "data": {
            "text/plain": [
              "large    147\n",
              "small     87\n",
              "Name: size, dtype: int64"
            ]
          },
          "metadata": {},
          "execution_count": 86
        }
      ]
    },
    {
      "cell_type": "markdown",
      "source": [
        "# **도전문제**"
      ],
      "metadata": {
        "id": "aj8AnciTER6B"
      }
    },
    {
      "cell_type": "code",
      "source": [
        "mid=pd.read_csv('midwest.csv')\n",
        "mid.describe()"
      ],
      "metadata": {
        "colab": {
          "base_uri": "https://localhost:8080/",
          "height": 394
        },
        "id": "LYfqEa4ADxlC",
        "outputId": "7c8dac16-91f2-46a8-9347-2e6fdbc865eb"
      },
      "execution_count": null,
      "outputs": [
        {
          "output_type": "execute_result",
          "data": {
            "text/plain": [
              "               PID        area      poptotal    popdensity      popwhite  \\\n",
              "count   437.000000  437.000000  4.370000e+02    437.000000  4.370000e+02   \n",
              "mean   1437.338673    0.033169  9.613030e+04   3097.742985  8.183992e+04   \n",
              "std     876.390266    0.014679  2.981705e+05   7664.751786  2.001966e+05   \n",
              "min     561.000000    0.005000  1.701000e+03     85.050000  4.160000e+02   \n",
              "25%     670.000000    0.024000  1.884000e+04    622.407407  1.863000e+04   \n",
              "50%    1221.000000    0.030000  3.532400e+04   1156.208330  3.447100e+04   \n",
              "75%    2059.000000    0.038000  7.565100e+04   2330.000000  7.296800e+04   \n",
              "max    3052.000000    0.110000  5.105067e+06  88018.396600  3.204947e+06   \n",
              "\n",
              "           popblack  popamerindian       popasian       popother   percwhite  \\\n",
              "count  4.370000e+02     437.000000     437.000000     437.000000  437.000000   \n",
              "mean   1.102388e+04     343.109840    1310.464531    1612.931350   95.558441   \n",
              "std    7.895827e+04     868.926751    9518.394189   18526.540699    7.087358   \n",
              "min    0.000000e+00       4.000000       0.000000       0.000000   10.694087   \n",
              "25%    2.900000e+01      44.000000      35.000000      20.000000   94.886032   \n",
              "50%    2.010000e+02      94.000000     102.000000      66.000000   98.032742   \n",
              "75%    1.291000e+03     288.000000     401.000000     345.000000   99.074935   \n",
              "max    1.317147e+06   10289.000000  188565.000000  384119.000000   99.822821   \n",
              "\n",
              "       ...     perchsd  percollege    percprof  poppovertyknown  \\\n",
              "count  ...  437.000000  437.000000  437.000000     4.370000e+02   \n",
              "mean   ...   73.965546   18.272736    4.447259     9.364228e+04   \n",
              "std    ...    5.843177    6.261908    2.408427     2.932351e+05   \n",
              "min    ...   46.912261    7.336108    0.520291     1.696000e+03   \n",
              "25%    ...   71.325329   14.113725    2.997957     1.836400e+04   \n",
              "50%    ...   74.246891   16.797562    3.814239     3.378800e+04   \n",
              "75%    ...   77.195345   20.549893    4.949324     7.284000e+04   \n",
              "max    ...   88.898674   48.078510   20.791321     5.023523e+06   \n",
              "\n",
              "       percpovertyknown  percbelowpoverty  percchildbelowpovert  \\\n",
              "count        437.000000        437.000000            437.000000   \n",
              "mean          97.110267         12.510505             16.447464   \n",
              "std            2.749863          5.150155              7.228634   \n",
              "min           80.902441          2.180168              1.918955   \n",
              "25%           96.894572          9.198715             11.624088   \n",
              "50%           98.169562         11.822313             15.270164   \n",
              "75%           98.598636         15.133226             20.351878   \n",
              "max           99.860384         48.691099             64.308477   \n",
              "\n",
              "       percadultpoverty  percelderlypoverty     inmetro  \n",
              "count        437.000000          437.000000  437.000000  \n",
              "mean          10.918798           11.389043    0.343249  \n",
              "std            5.109166            3.661259    0.475338  \n",
              "min            1.938504            3.547067    0.000000  \n",
              "25%            7.668009            8.911763    0.000000  \n",
              "50%           10.007610           10.869119    0.000000  \n",
              "75%           13.182182           13.412162    1.000000  \n",
              "max           43.312464           31.161972    1.000000  \n",
              "\n",
              "[8 rows x 25 columns]"
            ],
            "text/html": [
              "\n",
              "  <div id=\"df-0d7871ac-9889-40cc-8726-5890d34dd9d6\">\n",
              "    <div class=\"colab-df-container\">\n",
              "      <div>\n",
              "<style scoped>\n",
              "    .dataframe tbody tr th:only-of-type {\n",
              "        vertical-align: middle;\n",
              "    }\n",
              "\n",
              "    .dataframe tbody tr th {\n",
              "        vertical-align: top;\n",
              "    }\n",
              "\n",
              "    .dataframe thead th {\n",
              "        text-align: right;\n",
              "    }\n",
              "</style>\n",
              "<table border=\"1\" class=\"dataframe\">\n",
              "  <thead>\n",
              "    <tr style=\"text-align: right;\">\n",
              "      <th></th>\n",
              "      <th>PID</th>\n",
              "      <th>area</th>\n",
              "      <th>poptotal</th>\n",
              "      <th>popdensity</th>\n",
              "      <th>popwhite</th>\n",
              "      <th>popblack</th>\n",
              "      <th>popamerindian</th>\n",
              "      <th>popasian</th>\n",
              "      <th>popother</th>\n",
              "      <th>percwhite</th>\n",
              "      <th>...</th>\n",
              "      <th>perchsd</th>\n",
              "      <th>percollege</th>\n",
              "      <th>percprof</th>\n",
              "      <th>poppovertyknown</th>\n",
              "      <th>percpovertyknown</th>\n",
              "      <th>percbelowpoverty</th>\n",
              "      <th>percchildbelowpovert</th>\n",
              "      <th>percadultpoverty</th>\n",
              "      <th>percelderlypoverty</th>\n",
              "      <th>inmetro</th>\n",
              "    </tr>\n",
              "  </thead>\n",
              "  <tbody>\n",
              "    <tr>\n",
              "      <th>count</th>\n",
              "      <td>437.000000</td>\n",
              "      <td>437.000000</td>\n",
              "      <td>4.370000e+02</td>\n",
              "      <td>437.000000</td>\n",
              "      <td>4.370000e+02</td>\n",
              "      <td>4.370000e+02</td>\n",
              "      <td>437.000000</td>\n",
              "      <td>437.000000</td>\n",
              "      <td>437.000000</td>\n",
              "      <td>437.000000</td>\n",
              "      <td>...</td>\n",
              "      <td>437.000000</td>\n",
              "      <td>437.000000</td>\n",
              "      <td>437.000000</td>\n",
              "      <td>4.370000e+02</td>\n",
              "      <td>437.000000</td>\n",
              "      <td>437.000000</td>\n",
              "      <td>437.000000</td>\n",
              "      <td>437.000000</td>\n",
              "      <td>437.000000</td>\n",
              "      <td>437.000000</td>\n",
              "    </tr>\n",
              "    <tr>\n",
              "      <th>mean</th>\n",
              "      <td>1437.338673</td>\n",
              "      <td>0.033169</td>\n",
              "      <td>9.613030e+04</td>\n",
              "      <td>3097.742985</td>\n",
              "      <td>8.183992e+04</td>\n",
              "      <td>1.102388e+04</td>\n",
              "      <td>343.109840</td>\n",
              "      <td>1310.464531</td>\n",
              "      <td>1612.931350</td>\n",
              "      <td>95.558441</td>\n",
              "      <td>...</td>\n",
              "      <td>73.965546</td>\n",
              "      <td>18.272736</td>\n",
              "      <td>4.447259</td>\n",
              "      <td>9.364228e+04</td>\n",
              "      <td>97.110267</td>\n",
              "      <td>12.510505</td>\n",
              "      <td>16.447464</td>\n",
              "      <td>10.918798</td>\n",
              "      <td>11.389043</td>\n",
              "      <td>0.343249</td>\n",
              "    </tr>\n",
              "    <tr>\n",
              "      <th>std</th>\n",
              "      <td>876.390266</td>\n",
              "      <td>0.014679</td>\n",
              "      <td>2.981705e+05</td>\n",
              "      <td>7664.751786</td>\n",
              "      <td>2.001966e+05</td>\n",
              "      <td>7.895827e+04</td>\n",
              "      <td>868.926751</td>\n",
              "      <td>9518.394189</td>\n",
              "      <td>18526.540699</td>\n",
              "      <td>7.087358</td>\n",
              "      <td>...</td>\n",
              "      <td>5.843177</td>\n",
              "      <td>6.261908</td>\n",
              "      <td>2.408427</td>\n",
              "      <td>2.932351e+05</td>\n",
              "      <td>2.749863</td>\n",
              "      <td>5.150155</td>\n",
              "      <td>7.228634</td>\n",
              "      <td>5.109166</td>\n",
              "      <td>3.661259</td>\n",
              "      <td>0.475338</td>\n",
              "    </tr>\n",
              "    <tr>\n",
              "      <th>min</th>\n",
              "      <td>561.000000</td>\n",
              "      <td>0.005000</td>\n",
              "      <td>1.701000e+03</td>\n",
              "      <td>85.050000</td>\n",
              "      <td>4.160000e+02</td>\n",
              "      <td>0.000000e+00</td>\n",
              "      <td>4.000000</td>\n",
              "      <td>0.000000</td>\n",
              "      <td>0.000000</td>\n",
              "      <td>10.694087</td>\n",
              "      <td>...</td>\n",
              "      <td>46.912261</td>\n",
              "      <td>7.336108</td>\n",
              "      <td>0.520291</td>\n",
              "      <td>1.696000e+03</td>\n",
              "      <td>80.902441</td>\n",
              "      <td>2.180168</td>\n",
              "      <td>1.918955</td>\n",
              "      <td>1.938504</td>\n",
              "      <td>3.547067</td>\n",
              "      <td>0.000000</td>\n",
              "    </tr>\n",
              "    <tr>\n",
              "      <th>25%</th>\n",
              "      <td>670.000000</td>\n",
              "      <td>0.024000</td>\n",
              "      <td>1.884000e+04</td>\n",
              "      <td>622.407407</td>\n",
              "      <td>1.863000e+04</td>\n",
              "      <td>2.900000e+01</td>\n",
              "      <td>44.000000</td>\n",
              "      <td>35.000000</td>\n",
              "      <td>20.000000</td>\n",
              "      <td>94.886032</td>\n",
              "      <td>...</td>\n",
              "      <td>71.325329</td>\n",
              "      <td>14.113725</td>\n",
              "      <td>2.997957</td>\n",
              "      <td>1.836400e+04</td>\n",
              "      <td>96.894572</td>\n",
              "      <td>9.198715</td>\n",
              "      <td>11.624088</td>\n",
              "      <td>7.668009</td>\n",
              "      <td>8.911763</td>\n",
              "      <td>0.000000</td>\n",
              "    </tr>\n",
              "    <tr>\n",
              "      <th>50%</th>\n",
              "      <td>1221.000000</td>\n",
              "      <td>0.030000</td>\n",
              "      <td>3.532400e+04</td>\n",
              "      <td>1156.208330</td>\n",
              "      <td>3.447100e+04</td>\n",
              "      <td>2.010000e+02</td>\n",
              "      <td>94.000000</td>\n",
              "      <td>102.000000</td>\n",
              "      <td>66.000000</td>\n",
              "      <td>98.032742</td>\n",
              "      <td>...</td>\n",
              "      <td>74.246891</td>\n",
              "      <td>16.797562</td>\n",
              "      <td>3.814239</td>\n",
              "      <td>3.378800e+04</td>\n",
              "      <td>98.169562</td>\n",
              "      <td>11.822313</td>\n",
              "      <td>15.270164</td>\n",
              "      <td>10.007610</td>\n",
              "      <td>10.869119</td>\n",
              "      <td>0.000000</td>\n",
              "    </tr>\n",
              "    <tr>\n",
              "      <th>75%</th>\n",
              "      <td>2059.000000</td>\n",
              "      <td>0.038000</td>\n",
              "      <td>7.565100e+04</td>\n",
              "      <td>2330.000000</td>\n",
              "      <td>7.296800e+04</td>\n",
              "      <td>1.291000e+03</td>\n",
              "      <td>288.000000</td>\n",
              "      <td>401.000000</td>\n",
              "      <td>345.000000</td>\n",
              "      <td>99.074935</td>\n",
              "      <td>...</td>\n",
              "      <td>77.195345</td>\n",
              "      <td>20.549893</td>\n",
              "      <td>4.949324</td>\n",
              "      <td>7.284000e+04</td>\n",
              "      <td>98.598636</td>\n",
              "      <td>15.133226</td>\n",
              "      <td>20.351878</td>\n",
              "      <td>13.182182</td>\n",
              "      <td>13.412162</td>\n",
              "      <td>1.000000</td>\n",
              "    </tr>\n",
              "    <tr>\n",
              "      <th>max</th>\n",
              "      <td>3052.000000</td>\n",
              "      <td>0.110000</td>\n",
              "      <td>5.105067e+06</td>\n",
              "      <td>88018.396600</td>\n",
              "      <td>3.204947e+06</td>\n",
              "      <td>1.317147e+06</td>\n",
              "      <td>10289.000000</td>\n",
              "      <td>188565.000000</td>\n",
              "      <td>384119.000000</td>\n",
              "      <td>99.822821</td>\n",
              "      <td>...</td>\n",
              "      <td>88.898674</td>\n",
              "      <td>48.078510</td>\n",
              "      <td>20.791321</td>\n",
              "      <td>5.023523e+06</td>\n",
              "      <td>99.860384</td>\n",
              "      <td>48.691099</td>\n",
              "      <td>64.308477</td>\n",
              "      <td>43.312464</td>\n",
              "      <td>31.161972</td>\n",
              "      <td>1.000000</td>\n",
              "    </tr>\n",
              "  </tbody>\n",
              "</table>\n",
              "<p>8 rows × 25 columns</p>\n",
              "</div>\n",
              "      <button class=\"colab-df-convert\" onclick=\"convertToInteractive('df-0d7871ac-9889-40cc-8726-5890d34dd9d6')\"\n",
              "              title=\"Convert this dataframe to an interactive table.\"\n",
              "              style=\"display:none;\">\n",
              "        \n",
              "  <svg xmlns=\"http://www.w3.org/2000/svg\" height=\"24px\"viewBox=\"0 0 24 24\"\n",
              "       width=\"24px\">\n",
              "    <path d=\"M0 0h24v24H0V0z\" fill=\"none\"/>\n",
              "    <path d=\"M18.56 5.44l.94 2.06.94-2.06 2.06-.94-2.06-.94-.94-2.06-.94 2.06-2.06.94zm-11 1L8.5 8.5l.94-2.06 2.06-.94-2.06-.94L8.5 2.5l-.94 2.06-2.06.94zm10 10l.94 2.06.94-2.06 2.06-.94-2.06-.94-.94-2.06-.94 2.06-2.06.94z\"/><path d=\"M17.41 7.96l-1.37-1.37c-.4-.4-.92-.59-1.43-.59-.52 0-1.04.2-1.43.59L10.3 9.45l-7.72 7.72c-.78.78-.78 2.05 0 2.83L4 21.41c.39.39.9.59 1.41.59.51 0 1.02-.2 1.41-.59l7.78-7.78 2.81-2.81c.8-.78.8-2.07 0-2.86zM5.41 20L4 18.59l7.72-7.72 1.47 1.35L5.41 20z\"/>\n",
              "  </svg>\n",
              "      </button>\n",
              "      \n",
              "  <style>\n",
              "    .colab-df-container {\n",
              "      display:flex;\n",
              "      flex-wrap:wrap;\n",
              "      gap: 12px;\n",
              "    }\n",
              "\n",
              "    .colab-df-convert {\n",
              "      background-color: #E8F0FE;\n",
              "      border: none;\n",
              "      border-radius: 50%;\n",
              "      cursor: pointer;\n",
              "      display: none;\n",
              "      fill: #1967D2;\n",
              "      height: 32px;\n",
              "      padding: 0 0 0 0;\n",
              "      width: 32px;\n",
              "    }\n",
              "\n",
              "    .colab-df-convert:hover {\n",
              "      background-color: #E2EBFA;\n",
              "      box-shadow: 0px 1px 2px rgba(60, 64, 67, 0.3), 0px 1px 3px 1px rgba(60, 64, 67, 0.15);\n",
              "      fill: #174EA6;\n",
              "    }\n",
              "\n",
              "    [theme=dark] .colab-df-convert {\n",
              "      background-color: #3B4455;\n",
              "      fill: #D2E3FC;\n",
              "    }\n",
              "\n",
              "    [theme=dark] .colab-df-convert:hover {\n",
              "      background-color: #434B5C;\n",
              "      box-shadow: 0px 1px 3px 1px rgba(0, 0, 0, 0.15);\n",
              "      filter: drop-shadow(0px 1px 2px rgba(0, 0, 0, 0.3));\n",
              "      fill: #FFFFFF;\n",
              "    }\n",
              "  </style>\n",
              "\n",
              "      <script>\n",
              "        const buttonEl =\n",
              "          document.querySelector('#df-0d7871ac-9889-40cc-8726-5890d34dd9d6 button.colab-df-convert');\n",
              "        buttonEl.style.display =\n",
              "          google.colab.kernel.accessAllowed ? 'block' : 'none';\n",
              "\n",
              "        async function convertToInteractive(key) {\n",
              "          const element = document.querySelector('#df-0d7871ac-9889-40cc-8726-5890d34dd9d6');\n",
              "          const dataTable =\n",
              "            await google.colab.kernel.invokeFunction('convertToInteractive',\n",
              "                                                     [key], {});\n",
              "          if (!dataTable) return;\n",
              "\n",
              "          const docLinkHtml = 'Like what you see? Visit the ' +\n",
              "            '<a target=\"_blank\" href=https://colab.research.google.com/notebooks/data_table.ipynb>data table notebook</a>'\n",
              "            + ' to learn more about interactive tables.';\n",
              "          element.innerHTML = '';\n",
              "          dataTable['output_type'] = 'display_data';\n",
              "          await google.colab.output.renderOutput(dataTable, element);\n",
              "          const docLink = document.createElement('div');\n",
              "          docLink.innerHTML = docLinkHtml;\n",
              "          element.appendChild(docLink);\n",
              "        }\n",
              "      </script>\n",
              "    </div>\n",
              "  </div>\n",
              "  "
            ]
          },
          "metadata": {},
          "execution_count": 90
        }
      ]
    },
    {
      "cell_type": "code",
      "source": [
        "mid=mid.rename(columns={'poptotal':'total','popasian':'asian'})\n",
        "mid['rate']=mid['asian']/mid['total']*100\n",
        "print(mid['rate'].plot.hist())\n",
        "mid.rate"
      ],
      "metadata": {
        "colab": {
          "base_uri": "https://localhost:8080/",
          "height": 504
        },
        "id": "bnVzTCiHEQ_A",
        "outputId": "73dc2b11-da40-49fd-ead0-d15f2887d2ed"
      },
      "execution_count": null,
      "outputs": [
        {
          "output_type": "stream",
          "name": "stdout",
          "text": [
            "AxesSubplot(0.125,0.125;0.775x0.755)\n"
          ]
        },
        {
          "output_type": "execute_result",
          "data": {
            "text/plain": [
              "0      0.376759\n",
              "1      0.451722\n",
              "2      0.106731\n",
              "3      0.486918\n",
              "4      0.085675\n",
              "         ...   \n",
              "432    0.885746\n",
              "433    0.199549\n",
              "434    0.221821\n",
              "435    1.231471\n",
              "436    0.980912\n",
              "Name: rate, Length: 437, dtype: float64"
            ]
          },
          "metadata": {},
          "execution_count": 113
        },
        {
          "output_type": "display_data",
          "data": {
            "text/plain": [
              "<Figure size 432x288 with 1 Axes>"
            ],
            "image/png": "[encoded data removed]"
          },
          "metadata": {
            "needs_background": "light"
          }
        }
      ]
    },
    {
      "cell_type": "code",
      "source": [
        "mid['size']=np.where(mid['rate']>mid['rate'].mean(),'large','small')\n",
        "print(mid.loc[:,['total','asian','rate','size']])\n",
        "\n",
        "count_mid=mid['size'].value_counts()\n",
        "print(count_mid.plot.bar(rot=0))"
      ],
      "metadata": {
        "colab": {
          "base_uri": "https://localhost:8080/",
          "height": 540
        },
        "id": "kv3wWqyFIYvq",
        "outputId": "18fd87fe-1b7f-4a69-fd73-7c4697601a80"
      },
      "execution_count": null,
      "outputs": [
        {
          "output_type": "stream",
          "name": "stdout",
          "text": [
            "      total  asian      rate   size\n",
            "0     66090    249  0.376759  small\n",
            "1     10626     48  0.451722  small\n",
            "2     14991     16  0.106731  small\n",
            "3     30806    150  0.486918  small\n",
            "4      5836      5  0.085675  small\n",
            "..      ...    ...       ...    ...\n",
            "432  304715   2699  0.885746  large\n",
            "433   46104     92  0.199549  small\n",
            "434   19385     43  0.221821  small\n",
            "435  140320   1728  1.231471  large\n",
            "436   73605    722  0.980912  large\n",
            "\n",
            "[437 rows x 4 columns]\n",
            "AxesSubplot(0.125,0.125;0.775x0.755)\n"
          ]
        },
        {
          "output_type": "display_data",
          "data": {
            "text/plain": [
              "<Figure size 432x288 with 1 Axes>"
            ],
            "image/png": "[encoded data removed]"
          },
          "metadata": {
            "needs_background": "light"
          }
        }
      ]
    },
    {
      "cell_type": "markdown",
      "source": [
        "# **데이터 전처리(추출)**"
      ],
      "metadata": {
        "id": "aBPOP9E5IuUC"
      }
    },
    {
      "cell_type": "markdown",
      "source": [
        "- query('조건하에'): 행추출\n",
        "- df[]: 열(변수)추출\n",
        "- sort_values(): 정렬\n",
        "- groupby(): 집단별로 나누기\n",
        "- assign(): 변수추가\n",
        "- agg(): 통계치 구하기\n",
        "- merge(): 데이터 합치기(열)\n",
        "- concat(): 데이터 합치기(행)"
      ],
      "metadata": {
        "id": "gAA9SetSWQVb"
      }
    },
    {
      "cell_type": "code",
      "source": [
        "import pandas as pd\n",
        "exam=pd.read_csv('exam.csv')\n",
        "exam"
      ],
      "metadata": {
        "id": "qX5DwbvvWm0L"
      },
      "execution_count": null,
      "outputs": []
    },
    {
      "cell_type": "code",
      "source": [
        "print(exam.query('(nclass!=1 & english>80 )| science>60'))\n",
        "print(exam.query('nclass in [1,3,5]'))"
      ],
      "metadata": {
        "id": "rRFmoDx5YJHX"
      },
      "execution_count": null,
      "outputs": []
    },
    {
      "cell_type": "code",
      "source": [
        "nclass1=exam.query('nclass==1')\n",
        "nclass2=exam.query('nclass==2')\n",
        "nclass1.mean()"
      ],
      "metadata": {
        "id": "NI01v63FYPFk"
      },
      "execution_count": null,
      "outputs": []
    },
    {
      "cell_type": "code",
      "source": [
        "df=pd.DataFrame({\n",
        "    'sex':['F','M','F','M'], \n",
        "    'country':['korea', 'china', 'japan', 'USA']\n",
        "})\n",
        "\n",
        "print(df.query('sex==\"F\" & country==\"korea\"'))\n",
        "#전체 조건에 작은따옴표, 추출할 문자에 큰따옴표\n",
        "\n",
        "var=[1,2]\n",
        "print(exam.query('nclass==@var'))\n",
        "#별도의 변수를 이용해서 행을 추출하려면 변수명 앞에 @ 붙여서 조건입력"
      ],
      "metadata": {
        "id": "EgBQsBWFYhWH"
      },
      "execution_count": null,
      "outputs": []
    },
    {
      "cell_type": "code",
      "source": [
        "#pg.144 문제\n",
        "mpg=pd.read_csv('mpg.csv')\n",
        "print(mpg.query('displ<=4').hwy.mean())\n",
        "print(mpg.query('displ>=5').hwy.mean())\n",
        "\n",
        "three=mpg.query('manufacturer in [\"chevrolet\",\"ford\",\"honda\"]')\n",
        "three['hwy'].mean()"
      ],
      "metadata": {
        "id": "X2gQ96f7Z1HU",
        "colab": {
          "base_uri": "https://localhost:8080/"
        },
        "outputId": "12714267-25bd-451f-a482-4e0dfdfdd1ce"
      },
      "execution_count": null,
      "outputs": [
        {
          "output_type": "stream",
          "name": "stdout",
          "text": [
            "25.96319018404908\n",
            "18.07894736842105\n"
          ]
        }
      ]
    },
    {
      "cell_type": "markdown",
      "source": [
        "exam['math']는 시리즈, exam[['math]]는 데이터프레임\n"
      ],
      "metadata": {
        "id": "eVg1_-8O6-Br"
      }
    },
    {
      "cell_type": "code",
      "source": [
        "#변수 제거하기\n",
        "exam.drop(columns='math')"
      ],
      "metadata": {
        "id": "36ZX9yZQ66hV"
      },
      "execution_count": null,
      "outputs": []
    },
    {
      "cell_type": "code",
      "source": [
        "exam.query('nclass==1')[['english', 'math']]\n",
        "exam.query('math>=50')\\\n",
        "  [['id','math']]\\\n",
        "  .head()"
      ],
      "metadata": {
        "colab": {
          "base_uri": "https://localhost:8080/",
          "height": 206
        },
        "id": "5v3_TO2G8A12",
        "outputId": "21a2a34a-c253-441d-86a9-d63c0192376a"
      },
      "execution_count": null,
      "outputs": [
        {
          "output_type": "execute_result",
          "data": {
            "text/plain": [
              "   id  math\n",
              "0   1    50\n",
              "1   2    60\n",
              "5   6    50\n",
              "6   7    80\n",
              "7   8    90"
            ],
            "text/html": [
              "\n",
              "  <div id=\"df-2a9fcd31-e38d-4af0-8e95-9a77de85967e\">\n",
              "    <div class=\"colab-df-container\">\n",
              "      <div>\n",
              "<style scoped>\n",
              "    .dataframe tbody tr th:only-of-type {\n",
              "        vertical-align: middle;\n",
              "    }\n",
              "\n",
              "    .dataframe tbody tr th {\n",
              "        vertical-align: top;\n",
              "    }\n",
              "\n",
              "    .dataframe thead th {\n",
              "        text-align: right;\n",
              "    }\n",
              "</style>\n",
              "<table border=\"1\" class=\"dataframe\">\n",
              "  <thead>\n",
              "    <tr style=\"text-align: right;\">\n",
              "      <th></th>\n",
              "      <th>id</th>\n",
              "      <th>math</th>\n",
              "    </tr>\n",
              "  </thead>\n",
              "  <tbody>\n",
              "    <tr>\n",
              "      <th>0</th>\n",
              "      <td>1</td>\n",
              "      <td>50</td>\n",
              "    </tr>\n",
              "    <tr>\n",
              "      <th>1</th>\n",
              "      <td>2</td>\n",
              "      <td>60</td>\n",
              "    </tr>\n",
              "    <tr>\n",
              "      <th>5</th>\n",
              "      <td>6</td>\n",
              "      <td>50</td>\n",
              "    </tr>\n",
              "    <tr>\n",
              "      <th>6</th>\n",
              "      <td>7</td>\n",
              "      <td>80</td>\n",
              "    </tr>\n",
              "    <tr>\n",
              "      <th>7</th>\n",
              "      <td>8</td>\n",
              "      <td>90</td>\n",
              "    </tr>\n",
              "  </tbody>\n",
              "</table>\n",
              "</div>\n",
              "      <button class=\"colab-df-convert\" onclick=\"convertToInteractive('df-2a9fcd31-e38d-4af0-8e95-9a77de85967e')\"\n",
              "              title=\"Convert this dataframe to an interactive table.\"\n",
              "              style=\"display:none;\">\n",
              "        \n",
              "  <svg xmlns=\"http://www.w3.org/2000/svg\" height=\"24px\"viewBox=\"0 0 24 24\"\n",
              "       width=\"24px\">\n",
              "    <path d=\"M0 0h24v24H0V0z\" fill=\"none\"/>\n",
              "    <path d=\"M18.56 5.44l.94 2.06.94-2.06 2.06-.94-2.06-.94-.94-2.06-.94 2.06-2.06.94zm-11 1L8.5 8.5l.94-2.06 2.06-.94-2.06-.94L8.5 2.5l-.94 2.06-2.06.94zm10 10l.94 2.06.94-2.06 2.06-.94-2.06-.94-.94-2.06-.94 2.06-2.06.94z\"/><path d=\"M17.41 7.96l-1.37-1.37c-.4-.4-.92-.59-1.43-.59-.52 0-1.04.2-1.43.59L10.3 9.45l-7.72 7.72c-.78.78-.78 2.05 0 2.83L4 21.41c.39.39.9.59 1.41.59.51 0 1.02-.2 1.41-.59l7.78-7.78 2.81-2.81c.8-.78.8-2.07 0-2.86zM5.41 20L4 18.59l7.72-7.72 1.47 1.35L5.41 20z\"/>\n",
              "  </svg>\n",
              "      </button>\n",
              "      \n",
              "  <style>\n",
              "    .colab-df-container {\n",
              "      display:flex;\n",
              "      flex-wrap:wrap;\n",
              "      gap: 12px;\n",
              "    }\n",
              "\n",
              "    .colab-df-convert {\n",
              "      background-color: #E8F0FE;\n",
              "      border: none;\n",
              "      border-radius: 50%;\n",
              "      cursor: pointer;\n",
              "      display: none;\n",
              "      fill: #1967D2;\n",
              "      height: 32px;\n",
              "      padding: 0 0 0 0;\n",
              "      width: 32px;\n",
              "    }\n",
              "\n",
              "    .colab-df-convert:hover {\n",
              "      background-color: #E2EBFA;\n",
              "      box-shadow: 0px 1px 2px rgba(60, 64, 67, 0.3), 0px 1px 3px 1px rgba(60, 64, 67, 0.15);\n",
              "      fill: #174EA6;\n",
              "    }\n",
              "\n",
              "    [theme=dark] .colab-df-convert {\n",
              "      background-color: #3B4455;\n",
              "      fill: #D2E3FC;\n",
              "    }\n",
              "\n",
              "    [theme=dark] .colab-df-convert:hover {\n",
              "      background-color: #434B5C;\n",
              "      box-shadow: 0px 1px 3px 1px rgba(0, 0, 0, 0.15);\n",
              "      filter: drop-shadow(0px 1px 2px rgba(0, 0, 0, 0.3));\n",
              "      fill: #FFFFFF;\n",
              "    }\n",
              "  </style>\n",
              "\n",
              "      <script>\n",
              "        const buttonEl =\n",
              "          document.querySelector('#df-2a9fcd31-e38d-4af0-8e95-9a77de85967e button.colab-df-convert');\n",
              "        buttonEl.style.display =\n",
              "          google.colab.kernel.accessAllowed ? 'block' : 'none';\n",
              "\n",
              "        async function convertToInteractive(key) {\n",
              "          const element = document.querySelector('#df-2a9fcd31-e38d-4af0-8e95-9a77de85967e');\n",
              "          const dataTable =\n",
              "            await google.colab.kernel.invokeFunction('convertToInteractive',\n",
              "                                                     [key], {});\n",
              "          if (!dataTable) return;\n",
              "\n",
              "          const docLinkHtml = 'Like what you see? Visit the ' +\n",
              "            '<a target=\"_blank\" href=https://colab.research.google.com/notebooks/data_table.ipynb>data table notebook</a>'\n",
              "            + ' to learn more about interactive tables.';\n",
              "          element.innerHTML = '';\n",
              "          dataTable['output_type'] = 'display_data';\n",
              "          await google.colab.output.renderOutput(dataTable, element);\n",
              "          const docLink = document.createElement('div');\n",
              "          docLink.innerHTML = docLinkHtml;\n",
              "          element.appendChild(docLink);\n",
              "        }\n",
              "      </script>\n",
              "    </div>\n",
              "  </div>\n",
              "  "
            ]
          },
          "metadata": {},
          "execution_count": 28
        }
      ]
    },
    {
      "cell_type": "code",
      "source": [
        "mpg_new=mpg[['category','cty']]\n",
        "mpg_new.query('category==\"suv\"')['cty'].mean()\n",
        "max(mpg_new.query('category==\"suv\"')['cty'].mean()\\\n",
        "    ,mpg_new.query('category==\"compact\"')['cty'].mean())\n"
      ],
      "metadata": {
        "colab": {
          "base_uri": "https://localhost:8080/"
        },
        "id": "r7XMJJ7b85ek",
        "outputId": "78abcc57-71f9-4465-dda7-1c7468b08777"
      },
      "execution_count": null,
      "outputs": [
        {
          "output_type": "execute_result",
          "data": {
            "text/plain": [
              "20.127659574468087"
            ]
          },
          "metadata": {},
          "execution_count": 41
        }
      ]
    },
    {
      "cell_type": "markdown",
      "source": [
        "# **데이터 순서대로 정렬**\n",
        "- sort_values()"
      ],
      "metadata": {
        "id": "KU3oF0OzWDZc"
      }
    },
    {
      "cell_type": "code",
      "source": [
        "exam.sort_values('math', ascending=False)\n",
        "exam.sort_values(['nclass', 'english'], ascending=[False, True]).head(20)\n",
        "#반을 기준으로 내림차순 정렬한 다음, 각반에서 영어점수를 기준으로 오름차순 정렬\n"
      ],
      "metadata": {
        "id": "DPes_tmP60Tp"
      },
      "execution_count": null,
      "outputs": []
    },
    {
      "cell_type": "code",
      "source": [
        "#153 문제\n",
        "mpg.query('manufacturer==\"audi\"').sort_values('hwy', ascending=False).head(5)"
      ],
      "metadata": {
        "id": "TylRr47mACMX"
      },
      "execution_count": null,
      "outputs": []
    },
    {
      "cell_type": "markdown",
      "source": [
        "# **파생변수 추가**\n",
        "- assign(새변수명=변수를만드는공식)\n",
        "- np.where, lambda 사용"
      ],
      "metadata": {
        "id": "Gf5oj3-9WIpl"
      }
    },
    {
      "cell_type": "code",
      "source": [
        "exam.assign(\n",
        "    total=exam['math']+exam['english']+exam['science'],\n",
        "    mean=(exam['math']+exam['english']+exam['science'])/3)\\\n",
        "    .sort_values('total')"
      ],
      "metadata": {
        "id": "rbMGF0fcA72k"
      },
      "execution_count": null,
      "outputs": []
    },
    {
      "cell_type": "code",
      "source": [
        "import numpy as np\n",
        "\n",
        "exam.assign(test= np.where(exam['science']>=60, 'pass', 'fail'))"
      ],
      "metadata": {
        "id": "b-tJY3PDBlDr"
      },
      "execution_count": null,
      "outputs": []
    },
    {
      "cell_type": "code",
      "source": [
        "#lambda 사용하기\n",
        "long_name=pd.read_csv('exam.csv')\n",
        "long_name.assign(total= lambda x: x['math'+exam['english']+exam['science'],\n",
        "                 mean= lambda x: x['total']/3)"
      ],
      "metadata": {
        "id": "_9IUwFslCUu9"
      },
      "execution_count": null,
      "outputs": []
    },
    {
      "cell_type": "code",
      "source": [
        "#158 문제"
      ],
      "metadata": {
        "id": "voP0rybuPo2x"
      },
      "execution_count": null,
      "outputs": []
    },
    {
      "cell_type": "markdown",
      "source": [
        "# **집단별로 요약**\n",
        "- groupby, agg, value_counts, query 같이쓰기"
      ],
      "metadata": {
        "id": "ODvdpfVrWAt4"
      }
    },
    {
      "cell_type": "code",
      "source": [
        "import pandas as pd\n",
        "exam=pd.read_csv('exam.csv')\n",
        "mpg=pd.read_csv('mpg.csv')"
      ],
      "metadata": {
        "id": "dom8cTNmSYMi"
      },
      "execution_count": null,
      "outputs": []
    },
    {
      "cell_type": "code",
      "source": [
        "# agg 요약 통계량, groupby\n",
        "\n",
        "exam.groupby('nclass').agg(mean_math=('math','mean'))\n",
        "#nclass별로 분리하고, math 평균 구하기"
      ],
      "metadata": {
        "id": "YvrS9ipbRUbx"
      },
      "execution_count": null,
      "outputs": []
    },
    {
      "cell_type": "code",
      "source": [
        "exam"
      ],
      "metadata": {
        "id": "JLk7J6S1S1BI"
      },
      "execution_count": null,
      "outputs": []
    },
    {
      "cell_type": "code",
      "source": [
        "exam.query('id>4').groupby(['nclass','math'])\\\n",
        "                          .agg(mean_math=('math','mean'),\n",
        "                           sum_math=('math','sum'),\n",
        "                           median_math=('math', 'median'),\n",
        "                           n=('nclass','count'))\n",
        "                          \n",
        "#groupby 2번 하면 집단 안에서 집단별로 나눔\n"
      ],
      "metadata": {
        "id": "34h94gIbR6IX"
      },
      "execution_count": null,
      "outputs": []
    },
    {
      "cell_type": "code",
      "source": [
        "mpg.groupby('manufacturer').value_counts()\n",
        "#얘는 에러남, value_counts는 groupby에서 지원안함\n",
        "#query는 데이터프레임에서만 사용할 수 있음\n",
        "\n",
        "mpg.groupby('manufacturer').mean()"
      ],
      "metadata": {
        "id": "Ql8QoFevU5Nv"
      },
      "execution_count": null,
      "outputs": []
    },
    {
      "cell_type": "code",
      "source": [
        "#에러 \n",
        "mpg['drv'].value_counts().query('n>100')"
      ],
      "metadata": {
        "id": "qMtDy_uWUN4b"
      },
      "execution_count": null,
      "outputs": []
    },
    {
      "cell_type": "code",
      "source": [
        "print(mpg.groupby(['manufacturer','drv'])\\\n",
        "      .agg(mean_cty=('cty','mean')),'\\n')\n",
        "\n",
        "print(mpg.query('manufacturer==\"audi\"')\\\n",
        "      .groupby(['drv']).agg(n=('drv','count')),'\\n')\n",
        "\n",
        "print(mpg.query('manufacturer==\"chevrolet\"')\\\n",
        "      .groupby(['drv']).agg(n=('drv','count')),'\\n')"
      ],
      "metadata": {
        "id": "OwKcWLlOTiwY"
      },
      "execution_count": null,
      "outputs": []
    },
    {
      "cell_type": "code",
      "source": [
        "#165 이거 뭐지...\n",
        "mpg['drv'].value_counts().to_frame('n')\\\n",
        "                        .rename_axis('drv')\\\n",
        "                        .query('n>100')"
      ],
      "metadata": {
        "colab": {
          "base_uri": "https://localhost:8080/",
          "height": 143
        },
        "id": "ER8KPdNhWolc",
        "outputId": "574bd366-4f3c-474a-f1ea-646037d648d6"
      },
      "execution_count": null,
      "outputs": [
        {
          "output_type": "execute_result",
          "data": {
            "text/plain": [
              "       n\n",
              "drv     \n",
              "f    106\n",
              "4    103"
            ],
            "text/html": [
              "\n",
              "  <div id=\"df-aaafd602-b86a-4c0a-b619-f85bd0ac91d3\">\n",
              "    <div class=\"colab-df-container\">\n",
              "      <div>\n",
              "<style scoped>\n",
              "    .dataframe tbody tr th:only-of-type {\n",
              "        vertical-align: middle;\n",
              "    }\n",
              "\n",
              "    .dataframe tbody tr th {\n",
              "        vertical-align: top;\n",
              "    }\n",
              "\n",
              "    .dataframe thead th {\n",
              "        text-align: right;\n",
              "    }\n",
              "</style>\n",
              "<table border=\"1\" class=\"dataframe\">\n",
              "  <thead>\n",
              "    <tr style=\"text-align: right;\">\n",
              "      <th></th>\n",
              "      <th>n</th>\n",
              "    </tr>\n",
              "    <tr>\n",
              "      <th>drv</th>\n",
              "      <th></th>\n",
              "    </tr>\n",
              "  </thead>\n",
              "  <tbody>\n",
              "    <tr>\n",
              "      <th>f</th>\n",
              "      <td>106</td>\n",
              "    </tr>\n",
              "    <tr>\n",
              "      <th>4</th>\n",
              "      <td>103</td>\n",
              "    </tr>\n",
              "  </tbody>\n",
              "</table>\n",
              "</div>\n",
              "      <button class=\"colab-df-convert\" onclick=\"convertToInteractive('df-aaafd602-b86a-4c0a-b619-f85bd0ac91d3')\"\n",
              "              title=\"Convert this dataframe to an interactive table.\"\n",
              "              style=\"display:none;\">\n",
              "        \n",
              "  <svg xmlns=\"http://www.w3.org/2000/svg\" height=\"24px\"viewBox=\"0 0 24 24\"\n",
              "       width=\"24px\">\n",
              "    <path d=\"M0 0h24v24H0V0z\" fill=\"none\"/>\n",
              "    <path d=\"M18.56 5.44l.94 2.06.94-2.06 2.06-.94-2.06-.94-.94-2.06-.94 2.06-2.06.94zm-11 1L8.5 8.5l.94-2.06 2.06-.94-2.06-.94L8.5 2.5l-.94 2.06-2.06.94zm10 10l.94 2.06.94-2.06 2.06-.94-2.06-.94-.94-2.06-.94 2.06-2.06.94z\"/><path d=\"M17.41 7.96l-1.37-1.37c-.4-.4-.92-.59-1.43-.59-.52 0-1.04.2-1.43.59L10.3 9.45l-7.72 7.72c-.78.78-.78 2.05 0 2.83L4 21.41c.39.39.9.59 1.41.59.51 0 1.02-.2 1.41-.59l7.78-7.78 2.81-2.81c.8-.78.8-2.07 0-2.86zM5.41 20L4 18.59l7.72-7.72 1.47 1.35L5.41 20z\"/>\n",
              "  </svg>\n",
              "      </button>\n",
              "      \n",
              "  <style>\n",
              "    .colab-df-container {\n",
              "      display:flex;\n",
              "      flex-wrap:wrap;\n",
              "      gap: 12px;\n",
              "    }\n",
              "\n",
              "    .colab-df-convert {\n",
              "      background-color: #E8F0FE;\n",
              "      border: none;\n",
              "      border-radius: 50%;\n",
              "      cursor: pointer;\n",
              "      display: none;\n",
              "      fill: #1967D2;\n",
              "      height: 32px;\n",
              "      padding: 0 0 0 0;\n",
              "      width: 32px;\n",
              "    }\n",
              "\n",
              "    .colab-df-convert:hover {\n",
              "      background-color: #E2EBFA;\n",
              "      box-shadow: 0px 1px 2px rgba(60, 64, 67, 0.3), 0px 1px 3px 1px rgba(60, 64, 67, 0.15);\n",
              "      fill: #174EA6;\n",
              "    }\n",
              "\n",
              "    [theme=dark] .colab-df-convert {\n",
              "      background-color: #3B4455;\n",
              "      fill: #D2E3FC;\n",
              "    }\n",
              "\n",
              "    [theme=dark] .colab-df-convert:hover {\n",
              "      background-color: #434B5C;\n",
              "      box-shadow: 0px 1px 3px 1px rgba(0, 0, 0, 0.15);\n",
              "      filter: drop-shadow(0px 1px 2px rgba(0, 0, 0, 0.3));\n",
              "      fill: #FFFFFF;\n",
              "    }\n",
              "  </style>\n",
              "\n",
              "      <script>\n",
              "        const buttonEl =\n",
              "          document.querySelector('#df-aaafd602-b86a-4c0a-b619-f85bd0ac91d3 button.colab-df-convert');\n",
              "        buttonEl.style.display =\n",
              "          google.colab.kernel.accessAllowed ? 'block' : 'none';\n",
              "\n",
              "        async function convertToInteractive(key) {\n",
              "          const element = document.querySelector('#df-aaafd602-b86a-4c0a-b619-f85bd0ac91d3');\n",
              "          const dataTable =\n",
              "            await google.colab.kernel.invokeFunction('convertToInteractive',\n",
              "                                                     [key], {});\n",
              "          if (!dataTable) return;\n",
              "\n",
              "          const docLinkHtml = 'Like what you see? Visit the ' +\n",
              "            '<a target=\"_blank\" href=https://colab.research.google.com/notebooks/data_table.ipynb>data table notebook</a>'\n",
              "            + ' to learn more about interactive tables.';\n",
              "          element.innerHTML = '';\n",
              "          dataTable['output_type'] = 'display_data';\n",
              "          await google.colab.output.renderOutput(dataTable, element);\n",
              "          const docLink = document.createElement('div');\n",
              "          docLink.innerHTML = docLinkHtml;\n",
              "          element.appendChild(docLink);\n",
              "        }\n",
              "      </script>\n",
              "    </div>\n",
              "  </div>\n",
              "  "
            ]
          },
          "metadata": {},
          "execution_count": 37
        }
      ]
    },
    {
      "cell_type": "code",
      "source": [
        "mpg.query('category==\"suv\"')\\\n",
        "    .assign(total=(mpg['hwy']+mpg['cty'])/2)\\\n",
        "    .groupby('manufacturer')\\\n",
        "    .agg(mean_not=('total','mean'))\\\n",
        "    .sort_values('mean_not',ascending=False)\\\n",
        "    .head()"
      ],
      "metadata": {
        "id": "_1FDlr-1XBhJ"
      },
      "execution_count": null,
      "outputs": []
    },
    {
      "cell_type": "code",
      "source": [
        "mpg"
      ],
      "metadata": {
        "id": "z9hvsenXGFRT"
      },
      "execution_count": null,
      "outputs": []
    },
    {
      "cell_type": "code",
      "source": [
        "#166문제\n",
        "\n",
        "#2\n",
        "mpg.groupby('category').agg(cty_mean=('cty','mean'))\\\n",
        "                      .sort_values('cty_mean',ascending=False)\n",
        "#3\n",
        "mpg.groupby('manufacturer').agg(hwy_mean=('hwy','mean'))\\\n",
        "                            .sort_values('hwy_mean',ascending=False).head(3)\n",
        "\n",
        "#4\n",
        "mpg.query('category==\"compact\"')\\\n",
        "    .groupby('manufacturer')\\\n",
        "    .count()['category'].sort_values(ascending=False)\n",
        "\n",
        "mpg.query('category==\"compact\"')\\\n",
        "    .value_counts('manufacturer').sort_values(ascending=False)\n",
        "\n",
        "mpg.query('category==\"compact\"').groupby('manufacturer')\\\n",
        "    .agg(category_count=('manufacturer','count'))\\\n",
        "    .sort_values('category_count',ascending=False)"
      ],
      "metadata": {
        "id": "0eHEc6FgW_v5",
        "colab": {
          "base_uri": "https://localhost:8080/",
          "height": 237
        },
        "outputId": "6e02d22a-7830-4b7b-ccf7-5e3326f27790"
      },
      "execution_count": null,
      "outputs": [
        {
          "output_type": "execute_result",
          "data": {
            "text/plain": [
              "              category_count\n",
              "manufacturer                \n",
              "audi                      15\n",
              "volkswagen                14\n",
              "toyota                    12\n",
              "subaru                     4\n",
              "nissan                     2"
            ],
            "text/html": [
              "\n",
              "  <div id=\"df-89df9172-e9bb-46e6-8d36-209e4e7ab69d\">\n",
              "    <div class=\"colab-df-container\">\n",
              "      <div>\n",
              "<style scoped>\n",
              "    .dataframe tbody tr th:only-of-type {\n",
              "        vertical-align: middle;\n",
              "    }\n",
              "\n",
              "    .dataframe tbody tr th {\n",
              "        vertical-align: top;\n",
              "    }\n",
              "\n",
              "    .dataframe thead th {\n",
              "        text-align: right;\n",
              "    }\n",
              "</style>\n",
              "<table border=\"1\" class=\"dataframe\">\n",
              "  <thead>\n",
              "    <tr style=\"text-align: right;\">\n",
              "      <th></th>\n",
              "      <th>category_count</th>\n",
              "    </tr>\n",
              "    <tr>\n",
              "      <th>manufacturer</th>\n",
              "      <th></th>\n",
              "    </tr>\n",
              "  </thead>\n",
              "  <tbody>\n",
              "    <tr>\n",
              "      <th>audi</th>\n",
              "      <td>15</td>\n",
              "    </tr>\n",
              "    <tr>\n",
              "      <th>volkswagen</th>\n",
              "      <td>14</td>\n",
              "    </tr>\n",
              "    <tr>\n",
              "      <th>toyota</th>\n",
              "      <td>12</td>\n",
              "    </tr>\n",
              "    <tr>\n",
              "      <th>subaru</th>\n",
              "      <td>4</td>\n",
              "    </tr>\n",
              "    <tr>\n",
              "      <th>nissan</th>\n",
              "      <td>2</td>\n",
              "    </tr>\n",
              "  </tbody>\n",
              "</table>\n",
              "</div>\n",
              "      <button class=\"colab-df-convert\" onclick=\"convertToInteractive('df-89df9172-e9bb-46e6-8d36-209e4e7ab69d')\"\n",
              "              title=\"Convert this dataframe to an interactive table.\"\n",
              "              style=\"display:none;\">\n",
              "        \n",
              "  <svg xmlns=\"http://www.w3.org/2000/svg\" height=\"24px\"viewBox=\"0 0 24 24\"\n",
              "       width=\"24px\">\n",
              "    <path d=\"M0 0h24v24H0V0z\" fill=\"none\"/>\n",
              "    <path d=\"M18.56 5.44l.94 2.06.94-2.06 2.06-.94-2.06-.94-.94-2.06-.94 2.06-2.06.94zm-11 1L8.5 8.5l.94-2.06 2.06-.94-2.06-.94L8.5 2.5l-.94 2.06-2.06.94zm10 10l.94 2.06.94-2.06 2.06-.94-2.06-.94-.94-2.06-.94 2.06-2.06.94z\"/><path d=\"M17.41 7.96l-1.37-1.37c-.4-.4-.92-.59-1.43-.59-.52 0-1.04.2-1.43.59L10.3 9.45l-7.72 7.72c-.78.78-.78 2.05 0 2.83L4 21.41c.39.39.9.59 1.41.59.51 0 1.02-.2 1.41-.59l7.78-7.78 2.81-2.81c.8-.78.8-2.07 0-2.86zM5.41 20L4 18.59l7.72-7.72 1.47 1.35L5.41 20z\"/>\n",
              "  </svg>\n",
              "      </button>\n",
              "      \n",
              "  <style>\n",
              "    .colab-df-container {\n",
              "      display:flex;\n",
              "      flex-wrap:wrap;\n",
              "      gap: 12px;\n",
              "    }\n",
              "\n",
              "    .colab-df-convert {\n",
              "      background-color: #E8F0FE;\n",
              "      border: none;\n",
              "      border-radius: 50%;\n",
              "      cursor: pointer;\n",
              "      display: none;\n",
              "      fill: #1967D2;\n",
              "      height: 32px;\n",
              "      padding: 0 0 0 0;\n",
              "      width: 32px;\n",
              "    }\n",
              "\n",
              "    .colab-df-convert:hover {\n",
              "      background-color: #E2EBFA;\n",
              "      box-shadow: 0px 1px 2px rgba(60, 64, 67, 0.3), 0px 1px 3px 1px rgba(60, 64, 67, 0.15);\n",
              "      fill: #174EA6;\n",
              "    }\n",
              "\n",
              "    [theme=dark] .colab-df-convert {\n",
              "      background-color: #3B4455;\n",
              "      fill: #D2E3FC;\n",
              "    }\n",
              "\n",
              "    [theme=dark] .colab-df-convert:hover {\n",
              "      background-color: #434B5C;\n",
              "      box-shadow: 0px 1px 3px 1px rgba(0, 0, 0, 0.15);\n",
              "      filter: drop-shadow(0px 1px 2px rgba(0, 0, 0, 0.3));\n",
              "      fill: #FFFFFF;\n",
              "    }\n",
              "  </style>\n",
              "\n",
              "      <script>\n",
              "        const buttonEl =\n",
              "          document.querySelector('#df-89df9172-e9bb-46e6-8d36-209e4e7ab69d button.colab-df-convert');\n",
              "        buttonEl.style.display =\n",
              "          google.colab.kernel.accessAllowed ? 'block' : 'none';\n",
              "\n",
              "        async function convertToInteractive(key) {\n",
              "          const element = document.querySelector('#df-89df9172-e9bb-46e6-8d36-209e4e7ab69d');\n",
              "          const dataTable =\n",
              "            await google.colab.kernel.invokeFunction('convertToInteractive',\n",
              "                                                     [key], {});\n",
              "          if (!dataTable) return;\n",
              "\n",
              "          const docLinkHtml = 'Like what you see? Visit the ' +\n",
              "            '<a target=\"_blank\" href=https://colab.research.google.com/notebooks/data_table.ipynb>data table notebook</a>'\n",
              "            + ' to learn more about interactive tables.';\n",
              "          element.innerHTML = '';\n",
              "          dataTable['output_type'] = 'display_data';\n",
              "          await google.colab.output.renderOutput(dataTable, element);\n",
              "          const docLink = document.createElement('div');\n",
              "          docLink.innerHTML = docLinkHtml;\n",
              "          element.appendChild(docLink);\n",
              "        }\n",
              "      </script>\n",
              "    </div>\n",
              "  </div>\n",
              "  "
            ]
          },
          "metadata": {},
          "execution_count": 6
        }
      ]
    },
    {
      "cell_type": "markdown",
      "source": [
        "# **데이터 합치기**\n",
        "- merge, concat"
      ],
      "metadata": {
        "id": "GBT2J_PrV-6C"
      }
    },
    {
      "cell_type": "code",
      "source": [
        "test1=pd.DataFrame({'id':[1,2,3,4,5],\n",
        "                    'midterm':[60,80,70,90,85]})\n",
        "\n",
        "test2=pd.DataFrame({'id':[1,2,3,4,5],\n",
        "                    'midterm':[70,83,65,95,80]})"
      ],
      "metadata": {
        "id": "zS6kI0s3I1B0"
      },
      "execution_count": null,
      "outputs": []
    },
    {
      "cell_type": "code",
      "source": [
        "#가로로 합치기: merge\n",
        "total=pd.merge(test1,test2,how='left',on='id')\n",
        "total"
      ],
      "metadata": {
        "id": "onjJqGmNVgJe"
      },
      "execution_count": null,
      "outputs": []
    },
    {
      "cell_type": "code",
      "source": [
        "#세로로 합치기: concat\n",
        "group_all=pd.concat([test1,test2])\n",
        "group_all"
      ],
      "metadata": {
        "id": "WQuKqNgYVidM"
      },
      "execution_count": null,
      "outputs": []
    },
    {
      "cell_type": "code",
      "source": [
        "#173 문제\n",
        "fuel=pd.DataFrame({'fl': ['c','d','e','p','r'],\n",
        "                   'price_fl':[2.35, 2.38, 2.11, 2.76, 2.22]})\n",
        "\n",
        "#1\n",
        "mpg=pd.merge(mpg,fuel,on='fl')\n",
        "\n",
        "#2\n",
        "mpg[['model','fl','price_fl']].head(5)"
      ],
      "metadata": {
        "id": "0vewT0rqVtV4",
        "colab": {
          "base_uri": "https://localhost:8080/",
          "height": 206
        },
        "outputId": "34a3797f-f2e2-40c5-bd74-8ccc564e38d2"
      },
      "execution_count": null,
      "outputs": [
        {
          "output_type": "execute_result",
          "data": {
            "text/plain": [
              "  model fl  price_fl\n",
              "0    a4  p      2.76\n",
              "1    a4  p      2.76\n",
              "2    a4  p      2.76\n",
              "3    a4  p      2.76\n",
              "4    a4  p      2.76"
            ],
            "text/html": [
              "\n",
              "  <div id=\"df-ab5c29e9-75a6-4591-acc5-61d421e159a2\">\n",
              "    <div class=\"colab-df-container\">\n",
              "      <div>\n",
              "<style scoped>\n",
              "    .dataframe tbody tr th:only-of-type {\n",
              "        vertical-align: middle;\n",
              "    }\n",
              "\n",
              "    .dataframe tbody tr th {\n",
              "        vertical-align: top;\n",
              "    }\n",
              "\n",
              "    .dataframe thead th {\n",
              "        text-align: right;\n",
              "    }\n",
              "</style>\n",
              "<table border=\"1\" class=\"dataframe\">\n",
              "  <thead>\n",
              "    <tr style=\"text-align: right;\">\n",
              "      <th></th>\n",
              "      <th>model</th>\n",
              "      <th>fl</th>\n",
              "      <th>price_fl</th>\n",
              "    </tr>\n",
              "  </thead>\n",
              "  <tbody>\n",
              "    <tr>\n",
              "      <th>0</th>\n",
              "      <td>a4</td>\n",
              "      <td>p</td>\n",
              "      <td>2.76</td>\n",
              "    </tr>\n",
              "    <tr>\n",
              "      <th>1</th>\n",
              "      <td>a4</td>\n",
              "      <td>p</td>\n",
              "      <td>2.76</td>\n",
              "    </tr>\n",
              "    <tr>\n",
              "      <th>2</th>\n",
              "      <td>a4</td>\n",
              "      <td>p</td>\n",
              "      <td>2.76</td>\n",
              "    </tr>\n",
              "    <tr>\n",
              "      <th>3</th>\n",
              "      <td>a4</td>\n",
              "      <td>p</td>\n",
              "      <td>2.76</td>\n",
              "    </tr>\n",
              "    <tr>\n",
              "      <th>4</th>\n",
              "      <td>a4</td>\n",
              "      <td>p</td>\n",
              "      <td>2.76</td>\n",
              "    </tr>\n",
              "  </tbody>\n",
              "</table>\n",
              "</div>\n",
              "      <button class=\"colab-df-convert\" onclick=\"convertToInteractive('df-ab5c29e9-75a6-4591-acc5-61d421e159a2')\"\n",
              "              title=\"Convert this dataframe to an interactive table.\"\n",
              "              style=\"display:none;\">\n",
              "        \n",
              "  <svg xmlns=\"http://www.w3.org/2000/svg\" height=\"24px\"viewBox=\"0 0 24 24\"\n",
              "       width=\"24px\">\n",
              "    <path d=\"M0 0h24v24H0V0z\" fill=\"none\"/>\n",
              "    <path d=\"M18.56 5.44l.94 2.06.94-2.06 2.06-.94-2.06-.94-.94-2.06-.94 2.06-2.06.94zm-11 1L8.5 8.5l.94-2.06 2.06-.94-2.06-.94L8.5 2.5l-.94 2.06-2.06.94zm10 10l.94 2.06.94-2.06 2.06-.94-2.06-.94-.94-2.06-.94 2.06-2.06.94z\"/><path d=\"M17.41 7.96l-1.37-1.37c-.4-.4-.92-.59-1.43-.59-.52 0-1.04.2-1.43.59L10.3 9.45l-7.72 7.72c-.78.78-.78 2.05 0 2.83L4 21.41c.39.39.9.59 1.41.59.51 0 1.02-.2 1.41-.59l7.78-7.78 2.81-2.81c.8-.78.8-2.07 0-2.86zM5.41 20L4 18.59l7.72-7.72 1.47 1.35L5.41 20z\"/>\n",
              "  </svg>\n",
              "      </button>\n",
              "      \n",
              "  <style>\n",
              "    .colab-df-container {\n",
              "      display:flex;\n",
              "      flex-wrap:wrap;\n",
              "      gap: 12px;\n",
              "    }\n",
              "\n",
              "    .colab-df-convert {\n",
              "      background-color: #E8F0FE;\n",
              "      border: none;\n",
              "      border-radius: 50%;\n",
              "      cursor: pointer;\n",
              "      display: none;\n",
              "      fill: #1967D2;\n",
              "      height: 32px;\n",
              "      padding: 0 0 0 0;\n",
              "      width: 32px;\n",
              "    }\n",
              "\n",
              "    .colab-df-convert:hover {\n",
              "      background-color: #E2EBFA;\n",
              "      box-shadow: 0px 1px 2px rgba(60, 64, 67, 0.3), 0px 1px 3px 1px rgba(60, 64, 67, 0.15);\n",
              "      fill: #174EA6;\n",
              "    }\n",
              "\n",
              "    [theme=dark] .colab-df-convert {\n",
              "      background-color: #3B4455;\n",
              "      fill: #D2E3FC;\n",
              "    }\n",
              "\n",
              "    [theme=dark] .colab-df-convert:hover {\n",
              "      background-color: #434B5C;\n",
              "      box-shadow: 0px 1px 3px 1px rgba(0, 0, 0, 0.15);\n",
              "      filter: drop-shadow(0px 1px 2px rgba(0, 0, 0, 0.3));\n",
              "      fill: #FFFFFF;\n",
              "    }\n",
              "  </style>\n",
              "\n",
              "      <script>\n",
              "        const buttonEl =\n",
              "          document.querySelector('#df-ab5c29e9-75a6-4591-acc5-61d421e159a2 button.colab-df-convert');\n",
              "        buttonEl.style.display =\n",
              "          google.colab.kernel.accessAllowed ? 'block' : 'none';\n",
              "\n",
              "        async function convertToInteractive(key) {\n",
              "          const element = document.querySelector('#df-ab5c29e9-75a6-4591-acc5-61d421e159a2');\n",
              "          const dataTable =\n",
              "            await google.colab.kernel.invokeFunction('convertToInteractive',\n",
              "                                                     [key], {});\n",
              "          if (!dataTable) return;\n",
              "\n",
              "          const docLinkHtml = 'Like what you see? Visit the ' +\n",
              "            '<a target=\"_blank\" href=https://colab.research.google.com/notebooks/data_table.ipynb>data table notebook</a>'\n",
              "            + ' to learn more about interactive tables.';\n",
              "          element.innerHTML = '';\n",
              "          dataTable['output_type'] = 'display_data';\n",
              "          await google.colab.output.renderOutput(dataTable, element);\n",
              "          const docLink = document.createElement('div');\n",
              "          docLink.innerHTML = docLinkHtml;\n",
              "          element.appendChild(docLink);\n",
              "        }\n",
              "      </script>\n",
              "    </div>\n",
              "  </div>\n",
              "  "
            ]
          },
          "metadata": {},
          "execution_count": 38
        }
      ]
    },
    {
      "cell_type": "code",
      "source": [
        "mpg"
      ],
      "metadata": {
        "id": "QJ9yY2kViQWF"
      },
      "execution_count": null,
      "outputs": []
    },
    {
      "cell_type": "code",
      "source": [
        "#174,175 정리"
      ],
      "metadata": {
        "id": "l6k6H5zSWFx7"
      },
      "execution_count": null,
      "outputs": []
    },
    {
      "cell_type": "code",
      "source": [
        "#176 문제\n",
        "midwest=pd.read_csv('midwest.csv')\n",
        "\n",
        "#1\n",
        "midwest=midwest.assign(percentage=midwest['popadults']/midwest['poptotal']*100)\n",
        "\n",
        "#2\n",
        "midwest.sort_values('percentage',ascending=False)[['county','percentage']].head(5)\n",
        "\n",
        "#3\n",
        "midwest.assign(range=np.where(midwest['percentage']>=40, 'large',\\\n",
        "                              (np.where(midwest['percentage']>=30, 'middle', 'small'))))\n",
        "#4\n",
        "midwest.assign(percentage_asian=midwest['popasian']/midwest['poptotal']*100)\\\n",
        "        .sort_values('percentage_asian')[['state','county','percentage_asian']].head(5)"
      ],
      "metadata": {
        "id": "KB5iIxqZWKDt",
        "colab": {
          "base_uri": "https://localhost:8080/",
          "height": 206
        },
        "outputId": "e72427f1-2945-4307-ff32-f6c79aae28c2"
      },
      "execution_count": null,
      "outputs": [
        {
          "output_type": "execute_result",
          "data": {
            "text/plain": [
              "    state     county  percentage_asian\n",
              "404    WI  MENOMINEE          0.000000\n",
              "105    IN     BENTON          0.010592\n",
              "109    IN    CARROLL          0.015950\n",
              "358    OH     VINTON          0.027032\n",
              "390    WI       IRON          0.032504"
            ],
            "text/html": [
              "\n",
              "  <div id=\"df-13979f94-6403-43dc-9003-3ead274b4b70\">\n",
              "    <div class=\"colab-df-container\">\n",
              "      <div>\n",
              "<style scoped>\n",
              "    .dataframe tbody tr th:only-of-type {\n",
              "        vertical-align: middle;\n",
              "    }\n",
              "\n",
              "    .dataframe tbody tr th {\n",
              "        vertical-align: top;\n",
              "    }\n",
              "\n",
              "    .dataframe thead th {\n",
              "        text-align: right;\n",
              "    }\n",
              "</style>\n",
              "<table border=\"1\" class=\"dataframe\">\n",
              "  <thead>\n",
              "    <tr style=\"text-align: right;\">\n",
              "      <th></th>\n",
              "      <th>state</th>\n",
              "      <th>county</th>\n",
              "      <th>percentage_asian</th>\n",
              "    </tr>\n",
              "  </thead>\n",
              "  <tbody>\n",
              "    <tr>\n",
              "      <th>404</th>\n",
              "      <td>WI</td>\n",
              "      <td>MENOMINEE</td>\n",
              "      <td>0.000000</td>\n",
              "    </tr>\n",
              "    <tr>\n",
              "      <th>105</th>\n",
              "      <td>IN</td>\n",
              "      <td>BENTON</td>\n",
              "      <td>0.010592</td>\n",
              "    </tr>\n",
              "    <tr>\n",
              "      <th>109</th>\n",
              "      <td>IN</td>\n",
              "      <td>CARROLL</td>\n",
              "      <td>0.015950</td>\n",
              "    </tr>\n",
              "    <tr>\n",
              "      <th>358</th>\n",
              "      <td>OH</td>\n",
              "      <td>VINTON</td>\n",
              "      <td>0.027032</td>\n",
              "    </tr>\n",
              "    <tr>\n",
              "      <th>390</th>\n",
              "      <td>WI</td>\n",
              "      <td>IRON</td>\n",
              "      <td>0.032504</td>\n",
              "    </tr>\n",
              "  </tbody>\n",
              "</table>\n",
              "</div>\n",
              "      <button class=\"colab-df-convert\" onclick=\"convertToInteractive('df-13979f94-6403-43dc-9003-3ead274b4b70')\"\n",
              "              title=\"Convert this dataframe to an interactive table.\"\n",
              "              style=\"display:none;\">\n",
              "        \n",
              "  <svg xmlns=\"http://www.w3.org/2000/svg\" height=\"24px\"viewBox=\"0 0 24 24\"\n",
              "       width=\"24px\">\n",
              "    <path d=\"M0 0h24v24H0V0z\" fill=\"none\"/>\n",
              "    <path d=\"M18.56 5.44l.94 2.06.94-2.06 2.06-.94-2.06-.94-.94-2.06-.94 2.06-2.06.94zm-11 1L8.5 8.5l.94-2.06 2.06-.94-2.06-.94L8.5 2.5l-.94 2.06-2.06.94zm10 10l.94 2.06.94-2.06 2.06-.94-2.06-.94-.94-2.06-.94 2.06-2.06.94z\"/><path d=\"M17.41 7.96l-1.37-1.37c-.4-.4-.92-.59-1.43-.59-.52 0-1.04.2-1.43.59L10.3 9.45l-7.72 7.72c-.78.78-.78 2.05 0 2.83L4 21.41c.39.39.9.59 1.41.59.51 0 1.02-.2 1.41-.59l7.78-7.78 2.81-2.81c.8-.78.8-2.07 0-2.86zM5.41 20L4 18.59l7.72-7.72 1.47 1.35L5.41 20z\"/>\n",
              "  </svg>\n",
              "      </button>\n",
              "      \n",
              "  <style>\n",
              "    .colab-df-container {\n",
              "      display:flex;\n",
              "      flex-wrap:wrap;\n",
              "      gap: 12px;\n",
              "    }\n",
              "\n",
              "    .colab-df-convert {\n",
              "      background-color: #E8F0FE;\n",
              "      border: none;\n",
              "      border-radius: 50%;\n",
              "      cursor: pointer;\n",
              "      display: none;\n",
              "      fill: #1967D2;\n",
              "      height: 32px;\n",
              "      padding: 0 0 0 0;\n",
              "      width: 32px;\n",
              "    }\n",
              "\n",
              "    .colab-df-convert:hover {\n",
              "      background-color: #E2EBFA;\n",
              "      box-shadow: 0px 1px 2px rgba(60, 64, 67, 0.3), 0px 1px 3px 1px rgba(60, 64, 67, 0.15);\n",
              "      fill: #174EA6;\n",
              "    }\n",
              "\n",
              "    [theme=dark] .colab-df-convert {\n",
              "      background-color: #3B4455;\n",
              "      fill: #D2E3FC;\n",
              "    }\n",
              "\n",
              "    [theme=dark] .colab-df-convert:hover {\n",
              "      background-color: #434B5C;\n",
              "      box-shadow: 0px 1px 3px 1px rgba(0, 0, 0, 0.15);\n",
              "      filter: drop-shadow(0px 1px 2px rgba(0, 0, 0, 0.3));\n",
              "      fill: #FFFFFF;\n",
              "    }\n",
              "  </style>\n",
              "\n",
              "      <script>\n",
              "        const buttonEl =\n",
              "          document.querySelector('#df-13979f94-6403-43dc-9003-3ead274b4b70 button.colab-df-convert');\n",
              "        buttonEl.style.display =\n",
              "          google.colab.kernel.accessAllowed ? 'block' : 'none';\n",
              "\n",
              "        async function convertToInteractive(key) {\n",
              "          const element = document.querySelector('#df-13979f94-6403-43dc-9003-3ead274b4b70');\n",
              "          const dataTable =\n",
              "            await google.colab.kernel.invokeFunction('convertToInteractive',\n",
              "                                                     [key], {});\n",
              "          if (!dataTable) return;\n",
              "\n",
              "          const docLinkHtml = 'Like what you see? Visit the ' +\n",
              "            '<a target=\"_blank\" href=https://colab.research.google.com/notebooks/data_table.ipynb>data table notebook</a>'\n",
              "            + ' to learn more about interactive tables.';\n",
              "          element.innerHTML = '';\n",
              "          dataTable['output_type'] = 'display_data';\n",
              "          await google.colab.output.renderOutput(dataTable, element);\n",
              "          const docLink = document.createElement('div');\n",
              "          docLink.innerHTML = docLinkHtml;\n",
              "          element.appendChild(docLink);\n",
              "        }\n",
              "      </script>\n",
              "    </div>\n",
              "  </div>\n",
              "  "
            ]
          },
          "metadata": {},
          "execution_count": 56
        }
      ]
    },
    {
      "cell_type": "markdown",
      "source": [
        "# **결측치**\n",
        "- isna(), dropna(subset=), fillna "
      ],
      "metadata": {
        "id": "eLIo35GwYQvE"
      }
    },
    {
      "cell_type": "code",
      "source": [
        "import pandas as pd\n",
        "import numpy as np\n",
        "\n",
        "df=pd.DataFrame({'sex':['M','F', np.nan, 'M', 'F'],\n",
        "                 'score':[5,4,3,4,np.nan]})\n",
        "\n",
        "pd.isna(df).sum()"
      ],
      "metadata": {
        "id": "Iwhtj0s8YUWc",
        "colab": {
          "base_uri": "https://localhost:8080/"
        },
        "outputId": "5f6adee3-d349-4c64-a1c6-f36ec176b366"
      },
      "execution_count": null,
      "outputs": [
        {
          "output_type": "execute_result",
          "data": {
            "text/plain": [
              "sex      1\n",
              "score    1\n",
              "dtype: int64"
            ]
          },
          "metadata": {},
          "execution_count": 60
        }
      ]
    },
    {
      "cell_type": "code",
      "source": [
        "#결측치 있는 행 제거 dropna\n",
        "\n",
        "df_nomiss=df.dropna(subset=['score'])\n",
        "#df.dropna(subset=['score','sex'])\n",
        "#df.dropna()하면 nan 다 삭제\n",
        "\n",
        "df_nomiss['score']+1"
      ],
      "metadata": {
        "id": "ccmapG3NYXLf",
        "colab": {
          "base_uri": "https://localhost:8080/"
        },
        "outputId": "5509f464-3aeb-4a06-ba71-896157dfa0ae"
      },
      "execution_count": null,
      "outputs": [
        {
          "output_type": "execute_result",
          "data": {
            "text/plain": [
              "0    6.0\n",
              "1    5.0\n",
              "2    4.0\n",
              "3    5.0\n",
              "Name: score, dtype: float64"
            ]
          },
          "metadata": {},
          "execution_count": 61
        }
      ]
    },
    {
      "cell_type": "code",
      "source": [
        "df.groupby('sex')\\\n",
        "  .agg(mean_score=('score','mean'),\n",
        "       sum_score=('score','sum'))"
      ],
      "metadata": {
        "colab": {
          "base_uri": "https://localhost:8080/",
          "height": 143
        },
        "id": "1twDsxjwqilQ",
        "outputId": "16839dfc-7b2d-4353-ea78-3ec26ce9e4c4"
      },
      "execution_count": null,
      "outputs": [
        {
          "output_type": "execute_result",
          "data": {
            "text/plain": [
              "     mean_score  sum_score\n",
              "sex                       \n",
              "F           4.0        4.0\n",
              "M           4.5        9.0"
            ],
            "text/html": [
              "\n",
              "  <div id=\"df-70f0a79f-c37f-46e0-b781-255d9c4982c9\">\n",
              "    <div class=\"colab-df-container\">\n",
              "      <div>\n",
              "<style scoped>\n",
              "    .dataframe tbody tr th:only-of-type {\n",
              "        vertical-align: middle;\n",
              "    }\n",
              "\n",
              "    .dataframe tbody tr th {\n",
              "        vertical-align: top;\n",
              "    }\n",
              "\n",
              "    .dataframe thead th {\n",
              "        text-align: right;\n",
              "    }\n",
              "</style>\n",
              "<table border=\"1\" class=\"dataframe\">\n",
              "  <thead>\n",
              "    <tr style=\"text-align: right;\">\n",
              "      <th></th>\n",
              "      <th>mean_score</th>\n",
              "      <th>sum_score</th>\n",
              "    </tr>\n",
              "    <tr>\n",
              "      <th>sex</th>\n",
              "      <th></th>\n",
              "      <th></th>\n",
              "    </tr>\n",
              "  </thead>\n",
              "  <tbody>\n",
              "    <tr>\n",
              "      <th>F</th>\n",
              "      <td>4.0</td>\n",
              "      <td>4.0</td>\n",
              "    </tr>\n",
              "    <tr>\n",
              "      <th>M</th>\n",
              "      <td>4.5</td>\n",
              "      <td>9.0</td>\n",
              "    </tr>\n",
              "  </tbody>\n",
              "</table>\n",
              "</div>\n",
              "      <button class=\"colab-df-convert\" onclick=\"convertToInteractive('df-70f0a79f-c37f-46e0-b781-255d9c4982c9')\"\n",
              "              title=\"Convert this dataframe to an interactive table.\"\n",
              "              style=\"display:none;\">\n",
              "        \n",
              "  <svg xmlns=\"http://www.w3.org/2000/svg\" height=\"24px\"viewBox=\"0 0 24 24\"\n",
              "       width=\"24px\">\n",
              "    <path d=\"M0 0h24v24H0V0z\" fill=\"none\"/>\n",
              "    <path d=\"M18.56 5.44l.94 2.06.94-2.06 2.06-.94-2.06-.94-.94-2.06-.94 2.06-2.06.94zm-11 1L8.5 8.5l.94-2.06 2.06-.94-2.06-.94L8.5 2.5l-.94 2.06-2.06.94zm10 10l.94 2.06.94-2.06 2.06-.94-2.06-.94-.94-2.06-.94 2.06-2.06.94z\"/><path d=\"M17.41 7.96l-1.37-1.37c-.4-.4-.92-.59-1.43-.59-.52 0-1.04.2-1.43.59L10.3 9.45l-7.72 7.72c-.78.78-.78 2.05 0 2.83L4 21.41c.39.39.9.59 1.41.59.51 0 1.02-.2 1.41-.59l7.78-7.78 2.81-2.81c.8-.78.8-2.07 0-2.86zM5.41 20L4 18.59l7.72-7.72 1.47 1.35L5.41 20z\"/>\n",
              "  </svg>\n",
              "      </button>\n",
              "      \n",
              "  <style>\n",
              "    .colab-df-container {\n",
              "      display:flex;\n",
              "      flex-wrap:wrap;\n",
              "      gap: 12px;\n",
              "    }\n",
              "\n",
              "    .colab-df-convert {\n",
              "      background-color: #E8F0FE;\n",
              "      border: none;\n",
              "      border-radius: 50%;\n",
              "      cursor: pointer;\n",
              "      display: none;\n",
              "      fill: #1967D2;\n",
              "      height: 32px;\n",
              "      padding: 0 0 0 0;\n",
              "      width: 32px;\n",
              "    }\n",
              "\n",
              "    .colab-df-convert:hover {\n",
              "      background-color: #E2EBFA;\n",
              "      box-shadow: 0px 1px 2px rgba(60, 64, 67, 0.3), 0px 1px 3px 1px rgba(60, 64, 67, 0.15);\n",
              "      fill: #174EA6;\n",
              "    }\n",
              "\n",
              "    [theme=dark] .colab-df-convert {\n",
              "      background-color: #3B4455;\n",
              "      fill: #D2E3FC;\n",
              "    }\n",
              "\n",
              "    [theme=dark] .colab-df-convert:hover {\n",
              "      background-color: #434B5C;\n",
              "      box-shadow: 0px 1px 3px 1px rgba(0, 0, 0, 0.15);\n",
              "      filter: drop-shadow(0px 1px 2px rgba(0, 0, 0, 0.3));\n",
              "      fill: #FFFFFF;\n",
              "    }\n",
              "  </style>\n",
              "\n",
              "      <script>\n",
              "        const buttonEl =\n",
              "          document.querySelector('#df-70f0a79f-c37f-46e0-b781-255d9c4982c9 button.colab-df-convert');\n",
              "        buttonEl.style.display =\n",
              "          google.colab.kernel.accessAllowed ? 'block' : 'none';\n",
              "\n",
              "        async function convertToInteractive(key) {\n",
              "          const element = document.querySelector('#df-70f0a79f-c37f-46e0-b781-255d9c4982c9');\n",
              "          const dataTable =\n",
              "            await google.colab.kernel.invokeFunction('convertToInteractive',\n",
              "                                                     [key], {});\n",
              "          if (!dataTable) return;\n",
              "\n",
              "          const docLinkHtml = 'Like what you see? Visit the ' +\n",
              "            '<a target=\"_blank\" href=https://colab.research.google.com/notebooks/data_table.ipynb>data table notebook</a>'\n",
              "            + ' to learn more about interactive tables.';\n",
              "          element.innerHTML = '';\n",
              "          dataTable['output_type'] = 'display_data';\n",
              "          await google.colab.output.renderOutput(dataTable, element);\n",
              "          const docLink = document.createElement('div');\n",
              "          docLink.innerHTML = docLinkHtml;\n",
              "          element.appendChild(docLink);\n",
              "        }\n",
              "      </script>\n",
              "    </div>\n",
              "  </div>\n",
              "  "
            ]
          },
          "metadata": {},
          "execution_count": 66
        }
      ]
    },
    {
      "cell_type": "code",
      "source": [
        "#결측치 대체하기 fillna\n",
        "\n",
        "exam=pd.read_csv('exam.csv')\n",
        "\n",
        "exam.loc[[2,7,14],['math']]=np.nan\n",
        "exam['math']=exam['math'].fillna(exam['math'].mean())\n",
        "\n",
        "exam['math'].isna().sum()\n",
        "exam"
      ],
      "metadata": {
        "id": "qgHphG3PYltc"
      },
      "execution_count": null,
      "outputs": []
    },
    {
      "cell_type": "code",
      "source": [
        "#185 문제\n",
        "mpg.loc[[64,123,130,152,211],\"hwy\"]=np.nan\n",
        "\n",
        "#1\n",
        "mpg[['drv','hwy']].isna().sum()\n",
        "\n",
        "#2\n",
        "mpg.dropna(subset='hwy')\\\n",
        "   .groupby('drv')['hwy'].mean()\n",
        "#mpg.dropna(subset='hwy'.groupby('drv').agg(mean_hwy=('hwy','mean'))"
      ],
      "metadata": {
        "id": "c3H8fnStY0eU"
      },
      "execution_count": null,
      "outputs": []
    },
    {
      "cell_type": "code",
      "source": [
        "#이상치(?)를 결측치(NaN)로 바꾸기\n",
        "\n",
        "df=pd.DataFrame({'sex':[1,2,1,3,2,1],\n",
        "                 'score':[5,4,3,4,2,6]})\n",
        "\n",
        "df['sex']=np.where(df['sex']>2, np.nan, df['sex'])\n",
        "df['score']=np.where(df['score']>5, np.nan, df['score'])\n",
        "\n",
        "df.dropna(subset=['sex','score']).groupby('sex')\\\n",
        "                                 .agg(mean_score=('score','mean'))   "
      ],
      "metadata": {
        "id": "1EYiW8ydZCxF",
        "colab": {
          "base_uri": "https://localhost:8080/",
          "height": 143
        },
        "outputId": "8a585144-b5dc-4b08-ac82-dee489449f3f"
      },
      "execution_count": null,
      "outputs": [
        {
          "output_type": "execute_result",
          "data": {
            "text/plain": [
              "     mean_score\n",
              "sex            \n",
              "1.0         4.0\n",
              "2.0         3.0"
            ],
            "text/html": [
              "\n",
              "  <div id=\"df-77db4030-378f-418b-8a81-dc3e5b7ffa3d\">\n",
              "    <div class=\"colab-df-container\">\n",
              "      <div>\n",
              "<style scoped>\n",
              "    .dataframe tbody tr th:only-of-type {\n",
              "        vertical-align: middle;\n",
              "    }\n",
              "\n",
              "    .dataframe tbody tr th {\n",
              "        vertical-align: top;\n",
              "    }\n",
              "\n",
              "    .dataframe thead th {\n",
              "        text-align: right;\n",
              "    }\n",
              "</style>\n",
              "<table border=\"1\" class=\"dataframe\">\n",
              "  <thead>\n",
              "    <tr style=\"text-align: right;\">\n",
              "      <th></th>\n",
              "      <th>mean_score</th>\n",
              "    </tr>\n",
              "    <tr>\n",
              "      <th>sex</th>\n",
              "      <th></th>\n",
              "    </tr>\n",
              "  </thead>\n",
              "  <tbody>\n",
              "    <tr>\n",
              "      <th>1.0</th>\n",
              "      <td>4.0</td>\n",
              "    </tr>\n",
              "    <tr>\n",
              "      <th>2.0</th>\n",
              "      <td>3.0</td>\n",
              "    </tr>\n",
              "  </tbody>\n",
              "</table>\n",
              "</div>\n",
              "      <button class=\"colab-df-convert\" onclick=\"convertToInteractive('df-77db4030-378f-418b-8a81-dc3e5b7ffa3d')\"\n",
              "              title=\"Convert this dataframe to an interactive table.\"\n",
              "              style=\"display:none;\">\n",
              "        \n",
              "  <svg xmlns=\"http://www.w3.org/2000/svg\" height=\"24px\"viewBox=\"0 0 24 24\"\n",
              "       width=\"24px\">\n",
              "    <path d=\"M0 0h24v24H0V0z\" fill=\"none\"/>\n",
              "    <path d=\"M18.56 5.44l.94 2.06.94-2.06 2.06-.94-2.06-.94-.94-2.06-.94 2.06-2.06.94zm-11 1L8.5 8.5l.94-2.06 2.06-.94-2.06-.94L8.5 2.5l-.94 2.06-2.06.94zm10 10l.94 2.06.94-2.06 2.06-.94-2.06-.94-.94-2.06-.94 2.06-2.06.94z\"/><path d=\"M17.41 7.96l-1.37-1.37c-.4-.4-.92-.59-1.43-.59-.52 0-1.04.2-1.43.59L10.3 9.45l-7.72 7.72c-.78.78-.78 2.05 0 2.83L4 21.41c.39.39.9.59 1.41.59.51 0 1.02-.2 1.41-.59l7.78-7.78 2.81-2.81c.8-.78.8-2.07 0-2.86zM5.41 20L4 18.59l7.72-7.72 1.47 1.35L5.41 20z\"/>\n",
              "  </svg>\n",
              "      </button>\n",
              "      \n",
              "  <style>\n",
              "    .colab-df-container {\n",
              "      display:flex;\n",
              "      flex-wrap:wrap;\n",
              "      gap: 12px;\n",
              "    }\n",
              "\n",
              "    .colab-df-convert {\n",
              "      background-color: #E8F0FE;\n",
              "      border: none;\n",
              "      border-radius: 50%;\n",
              "      cursor: pointer;\n",
              "      display: none;\n",
              "      fill: #1967D2;\n",
              "      height: 32px;\n",
              "      padding: 0 0 0 0;\n",
              "      width: 32px;\n",
              "    }\n",
              "\n",
              "    .colab-df-convert:hover {\n",
              "      background-color: #E2EBFA;\n",
              "      box-shadow: 0px 1px 2px rgba(60, 64, 67, 0.3), 0px 1px 3px 1px rgba(60, 64, 67, 0.15);\n",
              "      fill: #174EA6;\n",
              "    }\n",
              "\n",
              "    [theme=dark] .colab-df-convert {\n",
              "      background-color: #3B4455;\n",
              "      fill: #D2E3FC;\n",
              "    }\n",
              "\n",
              "    [theme=dark] .colab-df-convert:hover {\n",
              "      background-color: #434B5C;\n",
              "      box-shadow: 0px 1px 3px 1px rgba(0, 0, 0, 0.15);\n",
              "      filter: drop-shadow(0px 1px 2px rgba(0, 0, 0, 0.3));\n",
              "      fill: #FFFFFF;\n",
              "    }\n",
              "  </style>\n",
              "\n",
              "      <script>\n",
              "        const buttonEl =\n",
              "          document.querySelector('#df-77db4030-378f-418b-8a81-dc3e5b7ffa3d button.colab-df-convert');\n",
              "        buttonEl.style.display =\n",
              "          google.colab.kernel.accessAllowed ? 'block' : 'none';\n",
              "\n",
              "        async function convertToInteractive(key) {\n",
              "          const element = document.querySelector('#df-77db4030-378f-418b-8a81-dc3e5b7ffa3d');\n",
              "          const dataTable =\n",
              "            await google.colab.kernel.invokeFunction('convertToInteractive',\n",
              "                                                     [key], {});\n",
              "          if (!dataTable) return;\n",
              "\n",
              "          const docLinkHtml = 'Like what you see? Visit the ' +\n",
              "            '<a target=\"_blank\" href=https://colab.research.google.com/notebooks/data_table.ipynb>data table notebook</a>'\n",
              "            + ' to learn more about interactive tables.';\n",
              "          element.innerHTML = '';\n",
              "          dataTable['output_type'] = 'display_data';\n",
              "          await google.colab.output.renderOutput(dataTable, element);\n",
              "          const docLink = document.createElement('div');\n",
              "          docLink.innerHTML = docLinkHtml;\n",
              "          element.appendChild(docLink);\n",
              "        }\n",
              "      </script>\n",
              "    </div>\n",
              "  </div>\n",
              "  "
            ]
          },
          "metadata": {},
          "execution_count": 87
        }
      ]
    },
    {
      "cell_type": "code",
      "source": [
        "df=pd.DataFrame({'x1':[1,1,2,3]})\n",
        "df['x2']=np.where(df['x1']==2, 'etc', 'a')\n",
        "df['x2']=df['x2'].replace('etc',np.nan)\n",
        "df"
      ],
      "metadata": {
        "colab": {
          "base_uri": "https://localhost:8080/",
          "height": 175
        },
        "id": "ph9Gv8xVvYDg",
        "outputId": "08758b5d-9336-49ce-e608-93436fa84801"
      },
      "execution_count": null,
      "outputs": [
        {
          "output_type": "execute_result",
          "data": {
            "text/plain": [
              "   x1   x2\n",
              "0   1    a\n",
              "1   1    a\n",
              "2   2  NaN\n",
              "3   3    a"
            ],
            "text/html": [
              "\n",
              "  <div id=\"df-a1ece224-3156-4d8a-8a86-9a70631ce3e6\">\n",
              "    <div class=\"colab-df-container\">\n",
              "      <div>\n",
              "<style scoped>\n",
              "    .dataframe tbody tr th:only-of-type {\n",
              "        vertical-align: middle;\n",
              "    }\n",
              "\n",
              "    .dataframe tbody tr th {\n",
              "        vertical-align: top;\n",
              "    }\n",
              "\n",
              "    .dataframe thead th {\n",
              "        text-align: right;\n",
              "    }\n",
              "</style>\n",
              "<table border=\"1\" class=\"dataframe\">\n",
              "  <thead>\n",
              "    <tr style=\"text-align: right;\">\n",
              "      <th></th>\n",
              "      <th>x1</th>\n",
              "      <th>x2</th>\n",
              "    </tr>\n",
              "  </thead>\n",
              "  <tbody>\n",
              "    <tr>\n",
              "      <th>0</th>\n",
              "      <td>1</td>\n",
              "      <td>a</td>\n",
              "    </tr>\n",
              "    <tr>\n",
              "      <th>1</th>\n",
              "      <td>1</td>\n",
              "      <td>a</td>\n",
              "    </tr>\n",
              "    <tr>\n",
              "      <th>2</th>\n",
              "      <td>2</td>\n",
              "      <td>NaN</td>\n",
              "    </tr>\n",
              "    <tr>\n",
              "      <th>3</th>\n",
              "      <td>3</td>\n",
              "      <td>a</td>\n",
              "    </tr>\n",
              "  </tbody>\n",
              "</table>\n",
              "</div>\n",
              "      <button class=\"colab-df-convert\" onclick=\"convertToInteractive('df-a1ece224-3156-4d8a-8a86-9a70631ce3e6')\"\n",
              "              title=\"Convert this dataframe to an interactive table.\"\n",
              "              style=\"display:none;\">\n",
              "        \n",
              "  <svg xmlns=\"http://www.w3.org/2000/svg\" height=\"24px\"viewBox=\"0 0 24 24\"\n",
              "       width=\"24px\">\n",
              "    <path d=\"M0 0h24v24H0V0z\" fill=\"none\"/>\n",
              "    <path d=\"M18.56 5.44l.94 2.06.94-2.06 2.06-.94-2.06-.94-.94-2.06-.94 2.06-2.06.94zm-11 1L8.5 8.5l.94-2.06 2.06-.94-2.06-.94L8.5 2.5l-.94 2.06-2.06.94zm10 10l.94 2.06.94-2.06 2.06-.94-2.06-.94-.94-2.06-.94 2.06-2.06.94z\"/><path d=\"M17.41 7.96l-1.37-1.37c-.4-.4-.92-.59-1.43-.59-.52 0-1.04.2-1.43.59L10.3 9.45l-7.72 7.72c-.78.78-.78 2.05 0 2.83L4 21.41c.39.39.9.59 1.41.59.51 0 1.02-.2 1.41-.59l7.78-7.78 2.81-2.81c.8-.78.8-2.07 0-2.86zM5.41 20L4 18.59l7.72-7.72 1.47 1.35L5.41 20z\"/>\n",
              "  </svg>\n",
              "      </button>\n",
              "      \n",
              "  <style>\n",
              "    .colab-df-container {\n",
              "      display:flex;\n",
              "      flex-wrap:wrap;\n",
              "      gap: 12px;\n",
              "    }\n",
              "\n",
              "    .colab-df-convert {\n",
              "      background-color: #E8F0FE;\n",
              "      border: none;\n",
              "      border-radius: 50%;\n",
              "      cursor: pointer;\n",
              "      display: none;\n",
              "      fill: #1967D2;\n",
              "      height: 32px;\n",
              "      padding: 0 0 0 0;\n",
              "      width: 32px;\n",
              "    }\n",
              "\n",
              "    .colab-df-convert:hover {\n",
              "      background-color: #E2EBFA;\n",
              "      box-shadow: 0px 1px 2px rgba(60, 64, 67, 0.3), 0px 1px 3px 1px rgba(60, 64, 67, 0.15);\n",
              "      fill: #174EA6;\n",
              "    }\n",
              "\n",
              "    [theme=dark] .colab-df-convert {\n",
              "      background-color: #3B4455;\n",
              "      fill: #D2E3FC;\n",
              "    }\n",
              "\n",
              "    [theme=dark] .colab-df-convert:hover {\n",
              "      background-color: #434B5C;\n",
              "      box-shadow: 0px 1px 3px 1px rgba(0, 0, 0, 0.15);\n",
              "      filter: drop-shadow(0px 1px 2px rgba(0, 0, 0, 0.3));\n",
              "      fill: #FFFFFF;\n",
              "    }\n",
              "  </style>\n",
              "\n",
              "      <script>\n",
              "        const buttonEl =\n",
              "          document.querySelector('#df-a1ece224-3156-4d8a-8a86-9a70631ce3e6 button.colab-df-convert');\n",
              "        buttonEl.style.display =\n",
              "          google.colab.kernel.accessAllowed ? 'block' : 'none';\n",
              "\n",
              "        async function convertToInteractive(key) {\n",
              "          const element = document.querySelector('#df-a1ece224-3156-4d8a-8a86-9a70631ce3e6');\n",
              "          const dataTable =\n",
              "            await google.colab.kernel.invokeFunction('convertToInteractive',\n",
              "                                                     [key], {});\n",
              "          if (!dataTable) return;\n",
              "\n",
              "          const docLinkHtml = 'Like what you see? Visit the ' +\n",
              "            '<a target=\"_blank\" href=https://colab.research.google.com/notebooks/data_table.ipynb>data table notebook</a>'\n",
              "            + ' to learn more about interactive tables.';\n",
              "          element.innerHTML = '';\n",
              "          dataTable['output_type'] = 'display_data';\n",
              "          await google.colab.output.renderOutput(dataTable, element);\n",
              "          const docLink = document.createElement('div');\n",
              "          docLink.innerHTML = docLinkHtml;\n",
              "          element.appendChild(docLink);\n",
              "        }\n",
              "      </script>\n",
              "    </div>\n",
              "  </div>\n",
              "  "
            ]
          },
          "metadata": {},
          "execution_count": 95
        }
      ]
    },
    {
      "cell_type": "markdown",
      "source": [
        "## **이상치 제거하기**"
      ],
      "metadata": {
        "id": "o8ChK7vjcnpe"
      }
    },
    {
      "cell_type": "code",
      "source": [
        "#1. 상자그림, 사분위수, IQR(1사분위수와 3사분위수 거리), 하한과 상한으로 극단치 기준값 정하기\n",
        "import seaborn as sns\n",
        "mpg=pd.read_csv('mpg.csv')\n",
        "\n",
        "sns.boxplot(data=mpg, y='hwy')\n",
        "\n",
        "pct25=mpg['hwy'].quantile(.25)\n",
        "pct75=mpg['hwy'].quantile(.75)\n",
        "iqr=pct75-pct25\n",
        "\n",
        "print(pct25-1.5*iqr #하한\n",
        ",pct75+1.5*iqr) #상한"
      ],
      "metadata": {
        "id": "Le5VRKtlZpYH"
      },
      "execution_count": null,
      "outputs": []
    },
    {
      "cell_type": "code",
      "source": [
        "#2. 극단치를 결측처리하기\n",
        "mpg['hwy']=np.where((mpg['hwy']<4.5)|(mpg['hwy']>40.5),\n",
        "                    np.nan, mpg['hwy'])\n",
        "mpg['hwy'].isna().sum()"
      ],
      "metadata": {
        "id": "heSLWpBRcxtE",
        "colab": {
          "base_uri": "https://localhost:8080/"
        },
        "outputId": "c2acda83-034c-4f88-dadb-6b63a455f769"
      },
      "execution_count": null,
      "outputs": [
        {
          "output_type": "execute_result",
          "data": {
            "text/plain": [
              "3"
            ]
          },
          "metadata": {},
          "execution_count": 99
        }
      ]
    },
    {
      "cell_type": "code",
      "source": [
        "#3. 결측치를 제거하고 분석하기\n",
        "mpg.dropna(subset=['hwy'])\\\n",
        "    .groupby('drv')\\\n",
        "    .agg(mean_hwy=('hwy','mean'))"
      ],
      "metadata": {
        "id": "606dz1kicy2M",
        "colab": {
          "base_uri": "https://localhost:8080/",
          "height": 175
        },
        "outputId": "a924aa74-0078-4788-c129-b808927051b7"
      },
      "execution_count": null,
      "outputs": [
        {
          "output_type": "execute_result",
          "data": {
            "text/plain": [
              "      mean_hwy\n",
              "drv           \n",
              "4    19.174757\n",
              "f    27.728155\n",
              "r    21.000000"
            ],
            "text/html": [
              "\n",
              "  <div id=\"df-29f37cd1-6bb2-4e0b-93d5-07e403f1dfe2\">\n",
              "    <div class=\"colab-df-container\">\n",
              "      <div>\n",
              "<style scoped>\n",
              "    .dataframe tbody tr th:only-of-type {\n",
              "        vertical-align: middle;\n",
              "    }\n",
              "\n",
              "    .dataframe tbody tr th {\n",
              "        vertical-align: top;\n",
              "    }\n",
              "\n",
              "    .dataframe thead th {\n",
              "        text-align: right;\n",
              "    }\n",
              "</style>\n",
              "<table border=\"1\" class=\"dataframe\">\n",
              "  <thead>\n",
              "    <tr style=\"text-align: right;\">\n",
              "      <th></th>\n",
              "      <th>mean_hwy</th>\n",
              "    </tr>\n",
              "    <tr>\n",
              "      <th>drv</th>\n",
              "      <th></th>\n",
              "    </tr>\n",
              "  </thead>\n",
              "  <tbody>\n",
              "    <tr>\n",
              "      <th>4</th>\n",
              "      <td>19.174757</td>\n",
              "    </tr>\n",
              "    <tr>\n",
              "      <th>f</th>\n",
              "      <td>27.728155</td>\n",
              "    </tr>\n",
              "    <tr>\n",
              "      <th>r</th>\n",
              "      <td>21.000000</td>\n",
              "    </tr>\n",
              "  </tbody>\n",
              "</table>\n",
              "</div>\n",
              "      <button class=\"colab-df-convert\" onclick=\"convertToInteractive('df-29f37cd1-6bb2-4e0b-93d5-07e403f1dfe2')\"\n",
              "              title=\"Convert this dataframe to an interactive table.\"\n",
              "              style=\"display:none;\">\n",
              "        \n",
              "  <svg xmlns=\"http://www.w3.org/2000/svg\" height=\"24px\"viewBox=\"0 0 24 24\"\n",
              "       width=\"24px\">\n",
              "    <path d=\"M0 0h24v24H0V0z\" fill=\"none\"/>\n",
              "    <path d=\"M18.56 5.44l.94 2.06.94-2.06 2.06-.94-2.06-.94-.94-2.06-.94 2.06-2.06.94zm-11 1L8.5 8.5l.94-2.06 2.06-.94-2.06-.94L8.5 2.5l-.94 2.06-2.06.94zm10 10l.94 2.06.94-2.06 2.06-.94-2.06-.94-.94-2.06-.94 2.06-2.06.94z\"/><path d=\"M17.41 7.96l-1.37-1.37c-.4-.4-.92-.59-1.43-.59-.52 0-1.04.2-1.43.59L10.3 9.45l-7.72 7.72c-.78.78-.78 2.05 0 2.83L4 21.41c.39.39.9.59 1.41.59.51 0 1.02-.2 1.41-.59l7.78-7.78 2.81-2.81c.8-.78.8-2.07 0-2.86zM5.41 20L4 18.59l7.72-7.72 1.47 1.35L5.41 20z\"/>\n",
              "  </svg>\n",
              "      </button>\n",
              "      \n",
              "  <style>\n",
              "    .colab-df-container {\n",
              "      display:flex;\n",
              "      flex-wrap:wrap;\n",
              "      gap: 12px;\n",
              "    }\n",
              "\n",
              "    .colab-df-convert {\n",
              "      background-color: #E8F0FE;\n",
              "      border: none;\n",
              "      border-radius: 50%;\n",
              "      cursor: pointer;\n",
              "      display: none;\n",
              "      fill: #1967D2;\n",
              "      height: 32px;\n",
              "      padding: 0 0 0 0;\n",
              "      width: 32px;\n",
              "    }\n",
              "\n",
              "    .colab-df-convert:hover {\n",
              "      background-color: #E2EBFA;\n",
              "      box-shadow: 0px 1px 2px rgba(60, 64, 67, 0.3), 0px 1px 3px 1px rgba(60, 64, 67, 0.15);\n",
              "      fill: #174EA6;\n",
              "    }\n",
              "\n",
              "    [theme=dark] .colab-df-convert {\n",
              "      background-color: #3B4455;\n",
              "      fill: #D2E3FC;\n",
              "    }\n",
              "\n",
              "    [theme=dark] .colab-df-convert:hover {\n",
              "      background-color: #434B5C;\n",
              "      box-shadow: 0px 1px 3px 1px rgba(0, 0, 0, 0.15);\n",
              "      filter: drop-shadow(0px 1px 2px rgba(0, 0, 0, 0.3));\n",
              "      fill: #FFFFFF;\n",
              "    }\n",
              "  </style>\n",
              "\n",
              "      <script>\n",
              "        const buttonEl =\n",
              "          document.querySelector('#df-29f37cd1-6bb2-4e0b-93d5-07e403f1dfe2 button.colab-df-convert');\n",
              "        buttonEl.style.display =\n",
              "          google.colab.kernel.accessAllowed ? 'block' : 'none';\n",
              "\n",
              "        async function convertToInteractive(key) {\n",
              "          const element = document.querySelector('#df-29f37cd1-6bb2-4e0b-93d5-07e403f1dfe2');\n",
              "          const dataTable =\n",
              "            await google.colab.kernel.invokeFunction('convertToInteractive',\n",
              "                                                     [key], {});\n",
              "          if (!dataTable) return;\n",
              "\n",
              "          const docLinkHtml = 'Like what you see? Visit the ' +\n",
              "            '<a target=\"_blank\" href=https://colab.research.google.com/notebooks/data_table.ipynb>data table notebook</a>'\n",
              "            + ' to learn more about interactive tables.';\n",
              "          element.innerHTML = '';\n",
              "          dataTable['output_type'] = 'display_data';\n",
              "          await google.colab.output.renderOutput(dataTable, element);\n",
              "          const docLink = document.createElement('div');\n",
              "          docLink.innerHTML = docLinkHtml;\n",
              "          element.appendChild(docLink);\n",
              "        }\n",
              "      </script>\n",
              "    </div>\n",
              "  </div>\n",
              "  "
            ]
          },
          "metadata": {},
          "execution_count": 101
        }
      ]
    },
    {
      "cell_type": "code",
      "source": [
        "#194 문제\n",
        "mpg=pd.read_csv('mpg.csv')\n",
        "mpg.loc[[9,13,57,92], 'drv']='k'\n",
        "mpg.loc[[28,42,128,202],'cty']=[3,4,39,42]\n",
        "\n",
        "#1: 이상치 확인하고, 결측치가 됐는지도 확인\n",
        "mpg['drv'].value_counts()\n",
        "mpg['drv']=np.where(mpg['drv'].isin(['4','f','r']),mpg['drv'],np.nan)\n",
        "mpg['drv'].isna().sum()\n",
        "\n",
        "#2: 정상범위 벗어난값을 결측처리하고, 이상치 사라졌는지 확인\n",
        "sns.boxplot(data=mpg, y='cty')\n",
        "pct25=mpg['cty'].quantile(.25)\n",
        "pct75=mpg['cty'].quantile(.75)\n",
        "iqr=pct75-pct25\n",
        "pct25-1.5*iqr #하한\n",
        "pct75+1.5*iqr #상한\n",
        "\n",
        "mpg['cty']=np.where((mpg['cty']<6.5)|(mpg['cty']>26.5), \n",
        "                    mpg['cty'], np.nan)\n",
        "sns.boxplot(data=mpg, y='cty')\n",
        "\n",
        "#3: 결측처리된걸 분석, drv별로  cty평균\n",
        "mpg.dropna(subset=['drv','cty'])\\\n",
        "  .groupby('drv').agg(mean_cty=('cty','mean'))"
      ],
      "metadata": {
        "id": "09GO-IrP2txq"
      },
      "execution_count": null,
      "outputs": []
    },
    {
      "cell_type": "code",
      "source": [
        "#195 정리\n"
      ],
      "metadata": {
        "id": "O2g6k1rTc_He"
      },
      "execution_count": null,
      "outputs": []
    },
    {
      "cell_type": "markdown",
      "source": [
        "# **그래프만들기**\n",
        "- sns.scatterplot(data=, x=), sns.barplot, sns.countplot, sns.lineplot 시계열그래프\n",
        "- set(xlim=(), ylim()): 범위제한\n",
        "- order: 내마음대로 정렬\n",
        "- value_counts().index: 빈도수 정렬한 인덱스"
      ],
      "metadata": {
        "id": "uJt0ebCmdHpX"
      }
    },
    {
      "cell_type": "code",
      "source": [
        "#산점도 (sns.scatterplot)\n",
        "import pandas as pd\n",
        "import seaborn as sns\n",
        "\n",
        "mpg=pd.read_csv('mpg.csv')\n",
        "midwest=pd.read_csv('midwest.csv')\n",
        "\n",
        "#색깔바꾸기\n",
        "sns.scatterplot(data=mpg, x='displ', y='hwy', hue='drv')\n",
        "\n",
        "#축범위 제한하기\n",
        "sns.scatterplot(data=mpg, x='displ', y='hwy').set(xlim=(3,6),ylim=(10,30))\n"
      ],
      "metadata": {
        "id": "SlERmS_1dQ0c"
      },
      "execution_count": null,
      "outputs": []
    },
    {
      "cell_type": "code",
      "source": [
        "#204 문제 -1\n",
        "sns.scatterplot(data=mpg, x='cty', y='hwy')"
      ],
      "metadata": {
        "id": "b6RIwSRidjMu"
      },
      "execution_count": null,
      "outputs": []
    },
    {
      "cell_type": "code",
      "source": [
        "#204 문제 -2\n",
        "sns.scatterplot(data=midwest, x='poptotal', y='popasian').set(xlim=(0,500000), ylim=(0,10000))"
      ],
      "metadata": {
        "id": "0UqxsoTloc8Y"
      },
      "execution_count": null,
      "outputs": []
    },
    {
      "cell_type": "code",
      "source": [
        "#평균막대그래프 (sns.barplot)\n",
        "\n",
        "df_mpg=mpg.groupby('drv', as_index=False)\\\n",
        "          .agg(mean_hwy=('hwy','mean')).sort_values('mean_hwy',ascending=False)\n",
        "#seaborn으로 그래프 만들려면 값이 변수에 담겨있어야 하므로 \n",
        "#as_index=False 이용해서 변수를 인덱스로 바꾸지 않고 원래대로 유지하기!\n",
        "\n",
        "df_mpg\n",
        "sns.barplot(data=df_mpg, x='drv', y='mean_hwy')"
      ],
      "metadata": {
        "id": "iVrSgmBYdlQO"
      },
      "execution_count": null,
      "outputs": []
    },
    {
      "cell_type": "code",
      "source": [
        "#빈도막대그래프 (sns.countplot)\n",
        "\n",
        "sns.countplot(data=mpg, x='drv')\n",
        "\n",
        "#df_mpg=mpg.groupby('drv', as_index=False)\\\n",
        "#          .agg(n=('drv','count')).sort_values('n',ascending=False)\n",
        "#\n",
        "#sns.barplot(data=df_mpg, x='drv',y='n')"
      ],
      "metadata": {
        "id": "lS96TDkQeDK1"
      },
      "execution_count": null,
      "outputs": []
    },
    {
      "cell_type": "code",
      "source": [
        "mpg['drv'].unique()"
      ],
      "metadata": {
        "id": "tCAbNjy3salf"
      },
      "execution_count": null,
      "outputs": []
    },
    {
      "cell_type": "code",
      "source": [
        "sns.countplot(data=df_mpg, x='drv',order=['4','f','r'])\n",
        "#order 이용해서 내마음대로 막대정렬"
      ],
      "metadata": {
        "id": "McVeR5Y6sNJt"
      },
      "execution_count": null,
      "outputs": []
    },
    {
      "cell_type": "code",
      "source": [
        "mpg['drv'].value_counts().index\n",
        "#value_counts().index는 빈도 높은순으로 정렬"
      ],
      "metadata": {
        "colab": {
          "base_uri": "https://localhost:8080/"
        },
        "id": "DiHdDby0utsO",
        "outputId": "0241a440-da1e-4562-e3d9-8db3851264c8"
      },
      "execution_count": null,
      "outputs": [
        {
          "output_type": "execute_result",
          "data": {
            "text/plain": [
              "Index(['f', '4', 'r'], dtype='object')"
            ]
          },
          "metadata": {},
          "execution_count": 41
        }
      ]
    },
    {
      "cell_type": "code",
      "source": [
        "sns.countplot(data=mpg, x='drv',\n",
        "              order=mpg['drv'].value_counts().index)"
      ],
      "metadata": {
        "id": "g2A18_jtuYbu"
      },
      "execution_count": null,
      "outputs": []
    },
    {
      "cell_type": "code",
      "source": [
        "#211 문제\n",
        "\n",
        "#1\n",
        "df=mpg.query('category==\"suv\"')\\\n",
        "      .groupby('manufacturer',as_index=False)\\\n",
        "      .agg(mean_cty=('cty','mean'))\\\n",
        "      .sort_values('mean_cty', ascending=False).head(5)\n",
        "\n",
        "sns.barplot(data=df, x='manufacturer', y='mean_cty')\n",
        "\n",
        "#2\n",
        "df=mpg['category'].value_counts().index\n",
        "sns.countplot(data=mpg, x='category',order=mpg['category'].value_counts().index)"
      ],
      "metadata": {
        "id": "OoJfuaOCp3hu"
      },
      "execution_count": null,
      "outputs": []
    },
    {
      "cell_type": "code",
      "source": [
        "#시계열그래프 (sns.lineplot)\n",
        "economics=pd.read_csv('economics.csv')\n",
        "\n",
        "sns.lineplot(data=economics, x='date', y='unemploy')"
      ],
      "metadata": {
        "colab": {
          "base_uri": "https://localhost:8080/",
          "height": 297
        },
        "id": "fVgXeD4npY0x",
        "outputId": "829e5dfa-4777-4714-cf44-62ff4c147ac6"
      },
      "execution_count": null,
      "outputs": [
        {
          "output_type": "execute_result",
          "data": {
            "text/plain": [
              "<matplotlib.axes._subplots.AxesSubplot at 0x7fbc64a90700>"
            ]
          },
          "metadata": {},
          "execution_count": 117
        },
        {
          "output_type": "display_data",
          "data": {
            "text/plain": [
              "<Figure size 432x288 with 1 Axes>"
            ],
            "image/png": "[encoded data removed]"
          },
          "metadata": {
            "needs_background": "light"
          }
        }
      ]
    },
    {
      "cell_type": "code",
      "source": [
        "economics['date2']=pd.to_datetime(economics['date'])\n",
        "\n",
        "economics['year']=economics['date2'].dt.year\n",
        "economics['month']=economics['date2'].dt.month\n",
        "economics['day']=economics['date2'].dt.day\n",
        "\n",
        "sns.lineplot(data=economics, x='year', y='unemploy', ci=None)\n",
        "#신뢰구간 표시안함"
      ],
      "metadata": {
        "colab": {
          "base_uri": "https://localhost:8080/",
          "height": 297
        },
        "id": "GD9avvk34aIW",
        "outputId": "7efd3f59-168c-4e7e-8a95-6e341deb85ef"
      },
      "execution_count": null,
      "outputs": [
        {
          "output_type": "execute_result",
          "data": {
            "text/plain": [
              "<matplotlib.axes._subplots.AxesSubplot at 0x7fbc64af4280>"
            ]
          },
          "metadata": {},
          "execution_count": 118
        },
        {
          "output_type": "display_data",
          "data": {
            "text/plain": [
              "<Figure size 432x288 with 1 Axes>"
            ],
            "image/png": "[encoded data removed]"
          },
          "metadata": {
            "needs_background": "light"
          }
        }
      ]
    },
    {
      "cell_type": "code",
      "source": [
        "#217 문제\n",
        "\n",
        "#1\n",
        "economics['date2']=pd.to_datetime(economics['date'])\n",
        "economics['year']=economics['date2'].dt.year\n",
        "\n",
        "sns.lineplot(data=economics, x='year', y='psavert')\n",
        "\n",
        "#2\n",
        "economics_2014=economics.query('year==2014')\n",
        "economics['month']=economics['date2'].dt.month\n",
        "\n",
        "sns.lineplot(data=economics, x='month', y='psavert',ci=None)"
      ],
      "metadata": {
        "id": "AsTaj0CCpoMJ"
      },
      "execution_count": null,
      "outputs": []
    },
    {
      "cell_type": "code",
      "source": [
        "#상자그림 boxplot으로 집단간 분포차이 표현하기\n",
        "sns.boxplot(data=mpg, x='drv', y='hwy')"
      ],
      "metadata": {
        "id": "jhJHGIXvpewL"
      },
      "execution_count": null,
      "outputs": []
    },
    {
      "cell_type": "code",
      "source": [
        "#220 문제\n",
        "df_mpg=mpg.query('category==\"compact\"|category==\"subcompact\"|category==\"suv\"')\n",
        "sns.boxplot(data=df_mpg, x='category', y='cty')"
      ],
      "metadata": {
        "id": "VqgO4Tk8piZY"
      },
      "execution_count": null,
      "outputs": []
    },
    {
      "cell_type": "code",
      "source": [
        "#221분석"
      ],
      "metadata": {
        "id": "j9fcp5gXpkLr"
      },
      "execution_count": null,
      "outputs": []
    },
    {
      "cell_type": "markdown",
      "source": [
        "# **프로젝트**"
      ],
      "metadata": {
        "id": "_H4vuZzO9oAg"
      }
    },
    {
      "cell_type": "markdown",
      "source": [
        "## **1. 한국복지패널 데이터 준비**"
      ],
      "metadata": {
        "id": "tSjDJJL19vjH"
      }
    },
    {
      "cell_type": "code",
      "source": [
        "pip install pyreadstat"
      ],
      "metadata": {
        "id": "4ddhSQ4p-oBL",
        "outputId": "60f66386-0d30-4e1b-ba4b-d486aed31ead",
        "colab": {
          "base_uri": "https://localhost:8080/"
        }
      },
      "execution_count": null,
      "outputs": [
        {
          "output_type": "stream",
          "name": "stdout",
          "text": [
            "Looking in indexes: https://pypi.org/simple, https://us-python.pkg.dev/colab-wheels/public/simple/\n",
            "Collecting pyreadstat\n",
            "  Downloading pyreadstat-1.2.0-cp38-cp38-manylinux_2_17_x86_64.manylinux2014_x86_64.whl (2.7 MB)\n",
            "\u001b[2K     \u001b[90m━━━━━━━━━━━━━━━━━━━━━━━━━━━━━━━━━━━━━━━━\u001b[0m \u001b[32m2.7/2.7 MB\u001b[0m \u001b[31m28.4 MB/s\u001b[0m eta \u001b[36m0:00:00\u001b[0m\n",
            "\u001b[?25hRequirement already satisfied: pandas>=1.2.0 in /usr/local/lib/python3.8/dist-packages (from pyreadstat) (1.3.5)\n",
            "Requirement already satisfied: pytz>=2017.3 in /usr/local/lib/python3.8/dist-packages (from pandas>=1.2.0->pyreadstat) (2022.7.1)\n",
            "Requirement already satisfied: numpy>=1.17.3 in /usr/local/lib/python3.8/dist-packages (from pandas>=1.2.0->pyreadstat) (1.21.6)\n",
            "Requirement already satisfied: python-dateutil>=2.7.3 in /usr/local/lib/python3.8/dist-packages (from pandas>=1.2.0->pyreadstat) (2.8.2)\n",
            "Requirement already satisfied: six>=1.5 in /usr/local/lib/python3.8/dist-packages (from python-dateutil>=2.7.3->pandas>=1.2.0->pyreadstat) (1.15.0)\n",
            "Installing collected packages: pyreadstat\n",
            "Successfully installed pyreadstat-1.2.0\n"
          ]
        }
      ]
    },
    {
      "cell_type": "code",
      "source": [
        "import pandas as pd\n",
        "import numpy as np\n",
        "import seaborn as sns\n",
        "import pyreadstat"
      ],
      "metadata": {
        "id": "Vjz6jYXB_quu"
      },
      "execution_count": null,
      "outputs": []
    },
    {
      "cell_type": "code",
      "source": [
        "pd.read_spss('Koweps_hpwc14_2019_beta2.sav')"
      ],
      "metadata": {
        "id": "s_MLFFHKRQBl"
      },
      "execution_count": null,
      "outputs": []
    },
    {
      "cell_type": "code",
      "source": [
        "raw_welfare=pd.read_spss('Koweps_hpwc14_2019_beta2.sav')\n",
        "welfare=raw_welfare.copy\n",
        "\n",
        "welfare\n",
        "welfare.shape\n",
        "welfare.info()\n",
        "welfare.describe()\n",
        "\n",
        "welfare=welfare.rename(columns={\n",
        "    'h14_g3':'sex', 'h14_g4':'birth', 'h14_g10':'marriage_type', \n",
        "    'h14_g11':'religion', 'p1402_8aq1':'income',\n",
        "    'h14_eco9':'coe_job', 'h14_reg7':'code_region', \n",
        "})"
      ],
      "metadata": {
        "id": "QHrqe3BY-wkI"
      },
      "execution_count": null,
      "outputs": []
    },
    {
      "cell_type": "markdown",
      "source": [
        "## **2. 성별에 따른 월급 차이**\n",
        "- pg.229"
      ],
      "metadata": {
        "id": "LXLFIlC594m0"
      }
    },
    {
      "cell_type": "markdown",
      "source": [
        "## **3. 나이와 월급의 관계**\n",
        "- pg.235"
      ],
      "metadata": {
        "id": "l4EiJm7I9-l8"
      }
    },
    {
      "cell_type": "markdown",
      "source": [
        "## **4. 연령대에 따른 월급 차이**\n",
        "- pg.240"
      ],
      "metadata": {
        "id": "YXrbi0PK-C30"
      }
    },
    {
      "cell_type": "markdown",
      "source": [
        "## **5. 연령대 및 성별 월급 차이**\n",
        "- pg.244"
      ],
      "metadata": {
        "id": "GaYgVwrn-He2"
      }
    },
    {
      "cell_type": "markdown",
      "source": [
        "## **6. 직업별 월급 차이**\n",
        "- pg.248"
      ],
      "metadata": {
        "id": "wKvE95Xj-JqK"
      }
    },
    {
      "cell_type": "markdown",
      "source": [
        "## **7. 성별 직업 빈도**\n",
        "- pg.255"
      ],
      "metadata": {
        "id": "L3rrxmND-MMG"
      }
    },
    {
      "cell_type": "markdown",
      "source": [
        "## **8. 종교 유무에 따른 이혼율**\n",
        "- pg.259"
      ],
      "metadata": {
        "id": "BRWCFTtR-OOu"
      }
    },
    {
      "cell_type": "markdown",
      "source": [
        "## **9. 지역별 연령대 비율**\n",
        "- pg.269"
      ],
      "metadata": {
        "id": "ofX8PlwP-RpZ"
      }
    },
    {
      "cell_type": "markdown",
      "source": [
        "# **텍스트 마이닝 278**\n",
        "\n",
        "- 데이터 불러오기\n",
        "- 텍스트 전처리: re.sub('불필요문자', '바꿀문자', 변수)\n",
        "- 명사추출: konlpy.tag.Haananum().nouns(\"~~\"), hannanum.nouns()\n",
        "- 막대그래프 시각화\n",
        "- 워드클라우드 만들기\n",
        "-- 새로운 딕셔너리 추출: wc.generate_from_frequencies\n",
        "-- 딕셔너리로 바꾸기: 변수.set_index('word').to_dict()['count']\n",
        "- 워드클라우드 시각화, 모양바꾸기: wc=WordCloud(설정), plt.imshow(사진)\n",
        "\n",
        "\n",
        "- 질문!!\n"
      ],
      "metadata": {
        "id": "810OupKjBl6z"
      }
    },
    {
      "cell_type": "code",
      "source": [
        "pip install jpype1"
      ],
      "metadata": {
        "id": "thiqcgFMTyAy",
        "colab": {
          "base_uri": "https://localhost:8080/"
        },
        "outputId": "d0944fa7-86f1-4f62-a997-6a325242b506"
      },
      "execution_count": null,
      "outputs": [
        {
          "output_type": "stream",
          "name": "stdout",
          "text": [
            "Looking in indexes: https://pypi.org/simple, https://us-python.pkg.dev/colab-wheels/public/simple/\n",
            "Collecting jpype1\n",
            "  Downloading JPype1-1.4.1-cp38-cp38-manylinux_2_12_x86_64.manylinux2010_x86_64.whl (465 kB)\n",
            "\u001b[2K     \u001b[90m━━━━━━━━━━━━━━━━━━━━━━━━━━━━━━━━━━━━━━\u001b[0m \u001b[32m465.6/465.6 KB\u001b[0m \u001b[31m23.2 MB/s\u001b[0m eta \u001b[36m0:00:00\u001b[0m\n",
            "\u001b[?25hRequirement already satisfied: packaging in /usr/local/lib/python3.8/dist-packages (from jpype1) (23.0)\n",
            "Installing collected packages: jpype1\n",
            "Successfully installed jpype1-1.4.1\n"
          ]
        }
      ]
    },
    {
      "cell_type": "code",
      "source": [
        "pip install konlpy"
      ],
      "metadata": {
        "id": "AJoTP8h_T0aR"
      },
      "execution_count": null,
      "outputs": []
    },
    {
      "cell_type": "markdown",
      "source": [
        "knolpy: 파이썬 한국어"
      ],
      "metadata": {
        "id": "SuRrI1txtWpq"
      }
    },
    {
      "cell_type": "code",
      "source": [
        "moon=open('speech_moon.txt', encoding='UTF-8').read()\n",
        "moon"
      ],
      "metadata": {
        "id": "oMdu3IFpCGkB"
      },
      "execution_count": null,
      "outputs": []
    },
    {
      "cell_type": "code",
      "source": [
        "#불필요한 문자(특수문자, 한자, 공백)제거, 공백으로 바꾸기\n",
        "import re\n",
        "\n",
        "moon=re.sub('[^가-힣]', ' ', moon)\n",
        "\n",
        "#명사 추출하기\n",
        "import konlpy\n",
        "\n",
        "hannanum=konlpy.tag.Hannanum()\n",
        "hannanum.nouns(\"대한민국의 영토는 한반도와 그 부속도서로 한다\")"
      ],
      "metadata": {
        "id": "a14tA3zeUZvJ",
        "colab": {
          "base_uri": "https://localhost:8080/"
        },
        "outputId": "521e5bae-b9f6-42e5-dfaf-336bf7a05e90"
      },
      "execution_count": null,
      "outputs": [
        {
          "output_type": "execute_result",
          "data": {
            "text/plain": [
              "['대한민국', '영토', '한반도', '부속도서']"
            ]
          },
          "metadata": {},
          "execution_count": 7
        }
      ]
    },
    {
      "cell_type": "code",
      "source": [
        "konlpy.tag.Hannanum().nouns(\"대한민국의 영토는 한반도와\")"
      ],
      "metadata": {
        "id": "LHXp-YgTcEK7"
      },
      "execution_count": null,
      "outputs": []
    },
    {
      "cell_type": "code",
      "source": [
        "hannanum.nouns(moon)"
      ],
      "metadata": {
        "id": "u6nPS4hRZOFx"
      },
      "execution_count": null,
      "outputs": []
    },
    {
      "cell_type": "code",
      "source": [
        "import pandas as pd\n",
        "\n",
        "nouns=hannanum.nouns(moon)\n",
        "df_word=pd.DataFrame({'word':nouns})\n",
        "\n",
        "#단어 길이 나타내는 표 만들기\n",
        "df_word['len']=df_word['word'].str.len()\n",
        "\n",
        "#두글자 이상 단어만 남기기\n",
        "df_word=df_word.query('len >=2')\n",
        "\n",
        "#단어 빈도 구하기\n",
        "df_word=df_word.groupby('word', as_index=False)\\\n",
        "                .agg(count=('word','count'))\\\n",
        "                .sort_values('count', ascending=False)\n",
        "#???여기서 왜 len 행 사라져??\n",
        "\n",
        "df_word\n"
      ],
      "metadata": {
        "id": "OcHMaDDsZR4o"
      },
      "execution_count": null,
      "outputs": []
    },
    {
      "cell_type": "code",
      "source": [
        "#단어 빈도 막대그래프\n",
        "\n",
        "import seaborn as sns\n",
        "top20= df_word.head(20)\n",
        "sns.barplot(data=top20, y='word', x='count')\n"
      ],
      "metadata": {
        "id": "-msuEhBCbAY3"
      },
      "execution_count": null,
      "outputs": []
    },
    {
      "cell_type": "markdown",
      "source": [
        "## **워드클라우드**\n",
        "워드 클라우드는 단어의 빈도를 구름 모양으로 표현한 그래프이다. 워드 클라우드를 만들면 어떤 단어가 얼마나 많이 사용됐는지 한눈에 파악할 수 있다.\n",
        "\n",
        "\n",
        "---\n",
        "\n",
        "워드클라우드는 딕셔너리 자료구조를 이용해 만든다\n"
      ],
      "metadata": {
        "id": "k2-8jR-2LtOv"
      }
    },
    {
      "cell_type": "code",
      "source": [
        "pip install wordcloud"
      ],
      "metadata": {
        "id": "4R3-A7gMgz5C",
        "colab": {
          "base_uri": "https://localhost:8080/"
        },
        "outputId": "8ed8d867-387e-4fad-d7af-6bce9881c0ad"
      },
      "execution_count": null,
      "outputs": [
        {
          "metadata": {
            "tags": null
          },
          "name": "stdout",
          "output_type": "stream",
          "text": [
            "Looking in indexes: https://pypi.org/simple, https://us-python.pkg.dev/colab-wheels/public/simple/\n",
            "Requirement already satisfied: wordcloud in /usr/local/lib/python3.8/dist-packages (1.8.2.2)\n",
            "Requirement already satisfied: pillow in /usr/local/lib/python3.8/dist-packages (from wordcloud) (7.1.2)\n",
            "Requirement already satisfied: matplotlib in /usr/local/lib/python3.8/dist-packages (from wordcloud) (3.2.2)\n",
            "Requirement already satisfied: numpy>=1.6.1 in /usr/local/lib/python3.8/dist-packages (from wordcloud) (1.21.6)\n",
            "Requirement already satisfied: python-dateutil>=2.1 in /usr/local/lib/python3.8/dist-packages (from matplotlib->wordcloud) (2.8.2)\n",
            "Requirement already satisfied: kiwisolver>=1.0.1 in /usr/local/lib/python3.8/dist-packages (from matplotlib->wordcloud) (1.4.4)\n",
            "Requirement already satisfied: pyparsing!=2.0.4,!=2.1.2,!=2.1.6,>=2.0.1 in /usr/local/lib/python3.8/dist-packages (from matplotlib->wordcloud) (3.0.9)\n",
            "Requirement already satisfied: cycler>=0.10 in /usr/local/lib/python3.8/dist-packages (from matplotlib->wordcloud) (0.11.0)\n",
            "Requirement already satisfied: six>=1.5 in /usr/local/lib/python3.8/dist-packages (from python-dateutil>=2.1->matplotlib->wordcloud) (1.15.0)\n"
          ]
        }
      ]
    },
    {
      "cell_type": "code",
      "source": [
        "#워드 클라우드 설정\n",
        " \n",
        "font='DoHyeon-Regular.ttf'\n",
        "\n",
        "from wordcloud import WordCloud\n",
        "wc=WordCloud(random_state=1234,    #난수 고정\n",
        "             font_path=font,       #폰트 설정  \n",
        "             width=400,            #가로크기\n",
        "             height=400,           #세로크기 \n",
        "             background_color='white')   #배경색\n",
        "\n",
        "\n",
        "import matplotlib.pyplot as plt\n",
        "plt.rcParams.update({'font.family': 'Malgun Gothic',   #한글 폰트\n",
        "                     'figure.dpi': '120',              #해상도\n",
        "                     'figure.figsize': [6.5, 6]})      #가로 세로 크기             "
      ],
      "metadata": {
        "id": "BqoNDnTahJCT"
      },
      "execution_count": null,
      "outputs": []
    },
    {
      "cell_type": "code",
      "source": [
        "#워드 클라우드 만들기, 출력하기\n",
        "\n",
        "dic_word=df_word.set_index('word').to_dict()['count']\n",
        "\n",
        "img_wordcloud=wc.generate_from_frequencies(dic_word)   #워드클라우드 만들기\n",
        "\n",
        "plt.figure(figsize=(10,10))  #사진크기정하고\n",
        "plt.axis('off')             #축없애고\n",
        "plt.imshow(img_wordcloud)   #워드클라우드 출력하기"
      ],
      "metadata": {
        "id": "Q_05xu3JiJ30"
      },
      "execution_count": null,
      "outputs": []
    },
    {
      "cell_type": "markdown",
      "source": [
        "###위드 클라우드 모양 바꾸기\n"
      ],
      "metadata": {
        "id": "CP7CR8ZMjxD0"
      }
    },
    {
      "cell_type": "code",
      "source": [
        "#mask 만들기\n",
        "import PIL            #python image library\n",
        "import numpy as np\n",
        "\n",
        "icon=PIL.Image.open('cloud.png')\n",
        "img=PIL.Image.new('RGB', icon.size, (255,255,255))\n",
        "img.paste(icon, icon)\n",
        "img=np.array(img)"
      ],
      "metadata": {
        "id": "-2DVGQr6jojt"
      },
      "execution_count": null,
      "outputs": []
    },
    {
      "cell_type": "code",
      "source": [
        "from pyparsing.helpers import itemgetter\n",
        "#워드 클라우드 만들기\n",
        "wc= WordCloud(random_state=1234,\n",
        "              font_path=font,\n",
        "              width=400,\n",
        "              height=400,\n",
        "              background_color='white',\n",
        "              mask=img)\n",
        "\n",
        "img_wordcloud=wc.generate_from_frequencies(dic_word)\n",
        "\n",
        "plt.figure(figsize=(10,10))\n",
        "plt.asxis('off')\n",
        "plt.imshow(img_wordcloud)"
      ],
      "metadata": {
        "id": "D2TX_ANwjpC-"
      },
      "execution_count": null,
      "outputs": []
    },
    {
      "cell_type": "code",
      "source": [
        "#색깔 바꾸기\n",
        "wc= WordCloud(random_state=1234,\n",
        "              font_path=font,\n",
        "              width=400,\n",
        "              height=400,\n",
        "              background_color='white',\n",
        "              mask=img,\n",
        "              colormap='inferno')\n",
        "\n",
        "img_wordcloud=wc.generate_from_frequencies(dic_word)\n",
        "\n",
        "plt.figure(figsize=(10,10))\n",
        "plt.asxis('off')\n",
        "plt.imshow(img_wordcloud)"
      ],
      "metadata": {
        "id": "GczSAoN2knKY"
      },
      "execution_count": null,
      "outputs": []
    },
    {
      "cell_type": "markdown",
      "source": [
        "##**기사 댓글 텍스트 마이닝 293**"
      ],
      "metadata": {
        "id": "NblK1hSPk3pW"
      }
    },
    {
      "cell_type": "code",
      "source": [
        "import pandas as pd\n",
        "\n",
        "df=pd.read_csv('news_comment_BTS.csv', encoding='UTF-8')\n",
        "df.info()"
      ],
      "metadata": {
        "id": "BVK0kYyVGsqW"
      },
      "execution_count": null,
      "outputs": []
    },
    {
      "cell_type": "code",
      "source": [
        "#불필요한 문자 제거하기\n",
        "df['reply']=df['reply'].str.replace('[^가-힣]',' ', regex=True)\n",
        "    #replace 이용해서 문자열을 치환하는 경우, 검색 문자열과 완전히 일치하는 문자만 치환됨\n",
        "    #문자열 일부만 치환하고 싶으면 regex=True 설정\n",
        "\n",
        "#명사 추출하기\n",
        "import konlpy\n",
        "kkma=konlpy.tag.Kkma()\n",
        "    # kkma 꼬꼬마: 띄어쓰기 오류에 덜 민감해서 댓글분석에 많이 이용됨\n",
        "\n",
        "nouns=df['reply'].apply(kkma.nouns)\n",
        "    #moon은 문자타입으로 된 하나의 변수라서 konlpy.tag.Kkma().nouns() 바로 적용됨\n",
        "    #reply는 데이터프레임에 들어있는 변수라서 konlpy.tag.Kkma().nouns() 바로 적용안됨\n",
        "    #->apply()사용해서 함수가 각행의 값을 따로 처리하도록 해야함\n",
        "\n",
        "#단어 빈도표 만들기\n",
        "nouns=nouns.explode()\n",
        "    #explode(): 리스트 형태의 값을 여러 행으로 전개하는 방법"
      ],
      "metadata": {
        "id": "YrtLSUo0G1t6"
      },
      "execution_count": null,
      "outputs": []
    },
    {
      "cell_type": "code",
      "source": [
        "#데이터 프레임 만들기\n",
        "df_word=pd.DataFrame({'word':nouns})\n",
        "\n",
        "#글자수 추가\n",
        "df_word['count']=df_word['word'].str.len()\n",
        "\n",
        "#두글자 이상 단어만 남기기\n",
        "df_word=df_word.query('count>=2')\n",
        "\n",
        "#빈도표 만들기\n",
        "df_word=df_word.groupby('word', as_index=False)\\\n",
        "                .agg(n=('word','count'))\\\n",
        "                .sort_values('n',ascending=False)\n",
        "\n",
        "#빈도그래프 만들기\n",
        "top20=df_word.head(20)\n",
        "plt.rcParams.update({'figure.figsize'=[6.5,6]})\n",
        "sns.barplot(data=top20, y='word', x='n')"
      ],
      "metadata": {
        "id": "Roran3LFHn-M"
      },
      "execution_count": null,
      "outputs": []
    },
    {
      "cell_type": "code",
      "source": [
        "dic_word=df_word.set_index('word').to_dict()['n']\n",
        "\n",
        "wc=WordCloud(random_state=1234,\n",
        "             font_path=font,\n",
        "             width=400,\n",
        "             height=400,\n",
        "             background_color='white',\n",
        "             mask=img)\n",
        "\n",
        "#워드클라우드 만들기\n",
        "img_wordcloud=wc.generate_from_frequencies(dic_word)\n",
        "\n",
        "#워드클라우드 출력하기\n",
        "plt.figure(figsize=(10,10))\n",
        "plt.axis('off')\n",
        "plt.imshow(img_wordcloud)"
      ],
      "metadata": {
        "id": "UeGu1XgxIxuH"
      },
      "execution_count": null,
      "outputs": []
    },
    {
      "cell_type": "markdown",
      "source": [
        "# **지도 시각화 300**\n",
        "- json\n",
        "- folium: 데이터시각화의 마지막 과정으로 지도를 그릴때 유용한 라이브러리, 인터랙티브한 지도를 생성하고 마커를 추가해 여러 데이터의 위치를 한눈에 볼 수 있게 시각화하거나 원으로 표시\n",
        "- choropleth map 단계구분도 \n",
        "---\n",
        "- 배경지도: folium.map(location 지도중심좌표 , zoom_start 확대단계, tiles 지도종류)\n",
        "- 단계구분도: folium.Choropleth()\n",
        "-- 구라인추가: folium.Choropleth().add_to\n",
        "- 계급구간: bins=list(변수.quantile())\n",
        "\n"
      ],
      "metadata": {
        "id": "z0itNB_lBpni"
      }
    },
    {
      "cell_type": "markdown",
      "source": [
        "단계구분도: 지역별 통계치를 색깔 차이로 표현한 지도"
      ],
      "metadata": {
        "id": "mlX2d_EqJjIc"
      }
    },
    {
      "cell_type": "markdown",
      "source": [
        "### 시군구별 인구 단계 구분도 만들기 301"
      ],
      "metadata": {
        "id": "hPJj_lnrWkoH"
      }
    },
    {
      "cell_type": "code",
      "source": [
        "import json\n",
        "geo=json.load(open('SIG.geojseon', encoding='UTF-8'))\n",
        "\n",
        "#행정구역 코드 출력\n",
        "geo['features'][0]['properties']\n",
        "\n",
        "#위도, 경도 좌표 출력\n",
        "geo['features'][0]['geometry']"
      ],
      "metadata": {
        "id": "SwYTVDxwWys5"
      },
      "execution_count": null,
      "outputs": []
    },
    {
      "cell_type": "code",
      "source": [
        "import pandas as pd\n",
        "df_pop=pd.read_csv('Population_SIG.csv')\n",
        "df_pop.head()\n",
        "df_pop.info()\n",
        "\n",
        "df_pop['code']=df_pop['code'].astype(str)"
      ],
      "metadata": {
        "id": "C-o57I0AJ0Ix"
      },
      "execution_count": null,
      "outputs": []
    },
    {
      "cell_type": "code",
      "source": [
        "pip install folium"
      ],
      "metadata": {
        "id": "yLYxoBTGKC_M"
      },
      "execution_count": null,
      "outputs": []
    },
    {
      "cell_type": "code",
      "source": [
        "#배경지도 만들기\n",
        "import folium\n",
        "folium.Map(location=[35.95, 127.7],   #지도중심좌표\n",
        "           zoom_start=8 )             #확대단계\n",
        "\n",
        "map_sig=folium.Map(location=[35.95, 127.7],\n",
        "                   zoom_start=8,\n",
        "                   tiles='cartobdpositron')  #지도종류"
      ],
      "metadata": {
        "id": "lp675mqMKGcY"
      },
      "execution_count": null,
      "outputs": []
    },
    {
      "cell_type": "code",
      "source": [
        "#단계구분도 만들기\n",
        "folium.Choropleth(\n",
        "    geo_data=geo,  #지도데이터\n",
        "    data=df_pop,   #통계데이터\n",
        "    columns=('code','pop'),     #df_pop 행정구역코드, 인구\n",
        "    key_on='feature.properties.SIG_CD')\\\n",
        "    .add_to(map_sig)   #geo 행정구역코드\n",
        "\n"
      ],
      "metadata": {
        "id": "2_SM77aFKj5k"
      },
      "execution_count": null,
      "outputs": []
    },
    {
      "cell_type": "code",
      "source": [
        "#계급구간 정하기\n",
        "bins=list(df_pop['pop'].quantile([0,0.2,0.4,0.6,0.8,1]))\n",
        "bins"
      ],
      "metadata": {
        "id": "naJnHbP4L446"
      },
      "execution_count": null,
      "outputs": []
    },
    {
      "cell_type": "code",
      "source": [
        "#배경지도 만들기\n",
        "map_sig=folium.Map(location=[35.95, 127.7],   #지도중심좌표\n",
        "                   zoom_start=8,              #확대단계\n",
        "                   tiles='cartodbpositron')   #지도종류"
      ],
      "metadata": {
        "id": "Ld4Qumi0MEfo"
      },
      "execution_count": null,
      "outputs": []
    },
    {
      "cell_type": "code",
      "source": [
        "#단계구분도 만들기\n",
        "folim.Choropleth(\n",
        "    geo_data=geo,\n",
        "    data=df_pop,\n",
        "    columns=('code','pop'),\n",
        "    key_on='feature.properties.SIG_CD',\n",
        "    fill_color='Y1GnBu',\n",
        "    fill_opacity=1,\n",
        "    line_opacity=0.5,\n",
        "    bins=bins)\\\n",
        "    .add_to(map_sig)\n",
        ")"
      ],
      "metadata": {
        "id": "3dV-ClFfMXX_"
      },
      "execution_count": null,
      "outputs": []
    },
    {
      "cell_type": "markdown",
      "source": [
        "### 서울시 동별 외국인 인구 단계 구분도 만들기 308"
      ],
      "metadata": {
        "id": "Ca8x1rLPWpV4"
      }
    },
    {
      "cell_type": "code",
      "source": [
        "import json\n",
        "geo_seoul=json.load(open('EMD_Seoul.geojson',encoding='UTF-8'))\n",
        "\n",
        "#행정구역코드 출력\n",
        "geo_seoul['features'][0]['properties']\n",
        "\n",
        "#위도,경도 좌표 출력\n",
        "geo_seoul['features'][0]['geometry']"
      ],
      "metadata": {
        "id": "GZ935LVpWzMW"
      },
      "execution_count": null,
      "outputs": []
    },
    {
      "cell_type": "code",
      "source": [
        "foreigner=pd.read_csv('Foreigner_EMD_seoul.csv')\n",
        "foreigner.head()\n",
        "foreigner.info()\n",
        "\n",
        "foreigner['code']=foreigner['code'].astype(str)"
      ],
      "metadata": {
        "id": "q5hV_q5WNq7q"
      },
      "execution_count": null,
      "outputs": []
    },
    {
      "cell_type": "code",
      "source": [
        "#계급구간 만들기\n",
        "bins=list(foreigner[\"pop\"].quantile([0,0.2,0.4,0.5,0.6,0.7,0.8,0.9,1]))\n",
        "\n",
        "#배경지도 만들기\n",
        "map_seoul=folium.Map(location=[37.56, 127],\n",
        "                     zoom_start=12,\n",
        "                     tiles='coartodbpositron')\n",
        "\n",
        "#단계구분도 만들기\n",
        "folim.Choropleth(\n",
        "    geo_data=geo_seoul,\n",
        "    data=foreigner,\n",
        "    columns=('code','pop'),\n",
        "    key_on='feature.properties.ADM_DR_CD',\n",
        "    fill_color='Blues',\n",
        "    nan_fill_color='White'\n",
        "    fill_opacity=1,\n",
        "    line_opacity=0.5,\n",
        "    bins=bins)\\\n",
        "    .add_to(map_seoul)\n",
        ")\n",
        "\n",
        "#구경계선 추가하기\n",
        "geo_seoul_sig=json.load(open('SIG_Seoul.geojson', encoding='UTF-8'))\n",
        "\n",
        "#서울 구라인 추가\n",
        "folium.Choropleth(geo_data=geo_seoul_sig,\n",
        "                  fill_opacity=0,\n",
        "                  line_weight=4)\\\n",
        "      .add_to(map_seoul)\n",
        "\n",
        "map_seoul"
      ],
      "metadata": {
        "id": "3YeJSqd-N-Ju"
      },
      "execution_count": null,
      "outputs": []
    },
    {
      "cell_type": "markdown",
      "source": [
        "# **인터랙티브 그래프 314**\n",
        "- 산점도: plotly.express.scatter()\n",
        "- 막대그래프: plotly.express.bar()\n",
        "- 선그래프: plotly.express.line()\n",
        "- boxplot: plotly.express.box()"
      ],
      "metadata": {
        "id": "dPhxfVCABrp0"
      }
    },
    {
      "cell_type": "markdown",
      "source": [
        "인터랙티브 그래프: 마우스 움직임에 반응하며 실시간으로 모양이 변하는 그래:프\n",
        "\n",
        "\n",
        "---\n",
        "- pltly 그래프: 마우스의 움직임에 반응하는 그래프다\n",
        "-- html 파일을 열어보면 확인할 수 있다:\n",
        "-- 마우스를 드래그하면 x,y축의 범위를 조절할 수 있다\n",
        "-- 범례를 클릭하면 특정 범주의 표식을 켜거나 끌 수 있다\n"
      ],
      "metadata": {
        "id": "aMDE3Up7PAMc"
      }
    },
    {
      "cell_type": "code",
      "source": [
        "pip install plotly\n",
        "pip install jupyter-dash"
      ],
      "metadata": {
        "id": "ftS2YkqGbAHH"
      },
      "execution_count": null,
      "outputs": []
    },
    {
      "cell_type": "code",
      "source": [
        "import plotly.express as px\n",
        "\n",
        "#산점도\n",
        "px.scatter(data_frame=mpg, x='cty', y='hwy', color='drv')\n",
        "\n",
        "#자동차 종류별 빈도 구하기\n",
        "df=mpg.groupby('category',as_index=False)\\\n",
        "      .agg(n=('category', 'count'))\n",
        "\n",
        "#막대그래프\n",
        "px.bar(data_frame=df, x='category', y='n', color='category')\n",
        "\n",
        "#선그래프\n",
        "economics=pd.read_Csv('economics.csv')\n",
        "px.line(data_frame=economics, x='date', y='psavert')\n",
        "\n",
        "#상자그림\n",
        "px.box(data_frame=mpg, x='drv', y='hwy', color='drv')"
      ],
      "metadata": {
        "id": "PMLlg068bF6Y"
      },
      "execution_count": null,
      "outputs": []
    },
    {
      "cell_type": "code",
      "source": [
        "fig=px.scatter(data_frame=mpv, x='cty', y='hwy')\n",
        "fig.write_html('scatter_plot.html')"
      ],
      "metadata": {
        "id": "cGPYSn4ycFAb"
      },
      "execution_count": null,
      "outputs": []
    },
    {
      "cell_type": "code",
      "source": [
        "#321 plotly 활용하기"
      ],
      "metadata": {
        "id": "I8m22_SscUod"
      },
      "execution_count": null,
      "outputs": []
    },
    {
      "cell_type": "markdown",
      "source": [
        "# **마크다운으로 데이터 분석 보고서 만들기 322**"
      ],
      "metadata": {
        "id": "TH2xgqt4BuhB"
      }
    },
    {
      "cell_type": "markdown",
      "source": [
        "### 신뢰할 수 있는 데이터 분석 보고서 만들기 323"
      ],
      "metadata": {
        "id": "BRHgmB9lXGx6"
      }
    },
    {
      "cell_type": "code",
      "source": [
        "import pandas as pd\n",
        "df=pd.read_Csv('mpg.csv')\n",
        "df['drv'].value_counts()\n",
        "\n",
        "import seaborn as sns\n",
        "sns.countplot(data=df, x='drv')"
      ],
      "metadata": {
        "id": "rBWlhZpjdGBI"
      },
      "execution_count": null,
      "outputs": []
    },
    {
      "cell_type": "markdown",
      "source": [
        "### 마크다운 문서 만들기"
      ],
      "metadata": {
        "id": "Kt4L6RQmXKpu"
      }
    },
    {
      "cell_type": "code",
      "source": [],
      "metadata": {
        "id": "HzhHuPTtdRYq"
      },
      "execution_count": null,
      "outputs": []
    },
    {
      "cell_type": "markdown",
      "source": [
        "# **5. 데이터 과학 330** "
      ],
      "metadata": {
        "id": "Hplw-FCEXU-5"
      }
    },
    {
      "cell_type": "markdown",
      "source": [
        "## **통계분석 기법을 이용한 가설설정 332**\n",
        "\n",
        "- t검정: stats.ttes_ind(변수,변수, equal_var=집단간분산)\n",
        "- 유의확률: stats.pearsonr(변수['항목'].변수['항목']) -> 상관계수와 유의확률 출력\n",
        "- 상관행렬: 변수[['항목','항목']].corr() -> 상관계수들 출력\n",
        "- 상관행렬 히트맵: sns.heatmap(상관행렬,          annot=True 상관계수 표시, cmap= 'RdBu' 컬러맵)\n",
        "\n",
        "\n",
        "---\n",
        "\n",
        "*   ※ 우연확률 클수록, 우연이고, 유의하지않다=연관성 없다\n",
        "\n",
        "*  ※ 상관계수는 0~1사이의 값을 지니고, 1에 가까울수록 관련성이 큼(양수면 정비례, 음수면 반비례)\n",
        "\n",
        "\n"
      ],
      "metadata": {
        "id": "Br6tVThbXZ7k"
      }
    },
    {
      "cell_type": "markdown",
      "source": [
        "### **가설검정이란?**"
      ],
      "metadata": {
        "id": "XyFMVtNXXhcX"
      }
    },
    {
      "cell_type": "markdown",
      "source": [
        "- **기술통계**: 데이터를 요약해 설명하는 통계분석 \n",
        "-- 사람들이 받는 월급 평균\n",
        "- **추론통계**: 단순히 요약을 넘어서 어떤 값이 발생할 확률을 계산하는 통계분석 \n",
        "-- 성별에 따라 월급 차이가 있을 때, 이런 차이가 우연히 발생할 확률 -> 차이가 우연히 나타날 확률이 작으면 통계적으로 유의하다)\n",
        "- **통계분석을 수행했다**: 추론통계를 이용해 가설 검정을 했다. \n",
        "\n",
        "---\n",
        "- **통계적 가설검정**: 유의확률을 이용해 가설을 검정한다, \n",
        "-- 유의확률: 실제로는 집단간차이가 없는데 우연히 차이가 있는 데이터가 나타날 확률\n",
        "-- 유의확률이 크게 나타나면 '집단 간 차이가 통계적으로 유의하지 않다' 즉 우연으로 관찰될 가능성이 크다\n",
        "-- ※ 우연확률 클수록, 우연이고, 유의하지않다=연관성 없다"
      ],
      "metadata": {
        "id": "AxDBznJY51Jq"
      }
    },
    {
      "cell_type": "markdown",
      "source": [
        "### **t검정- 두 집단의 평균 비교**"
      ],
      "metadata": {
        "id": "DwvLL6w1Xjgp"
      }
    },
    {
      "cell_type": "markdown",
      "source": [
        "compact자동차와 suv자동차의 도시연비 t검정\n"
      ],
      "metadata": {
        "id": "6Itn9XtK-WXK"
      }
    },
    {
      "cell_type": "code",
      "source": [
        "import pandas as pd\n",
        "mpg=pd.read_csv('mpg.csv')\n",
        "\n",
        "mpg.query('category in [\"compact\", \"suv\"]')\\\n",
        "    .groupby('category', as_index=False)\\\n",
        "    .agg(n=('category','count'),\n",
        "        mean=('cty','mean'))\n",
        "    \n",
        "compact=mpg.query('category == \"compact\"')['cty']\n",
        "suv=mpg.query('category == \"suv\"')['cty']"
      ],
      "metadata": {
        "id": "kx5asv0O69jN"
      },
      "execution_count": 2,
      "outputs": []
    },
    {
      "cell_type": "code",
      "source": [
        "# t검정\n",
        "from scipy import stats\n",
        "stats.ttest_ind(compact, suv, equal_var=True)\n",
        "    # 집단간분산이 같다고 가정\n",
        "    # t검젇은 비교하는 집단의 분산이 같은지 여부에 다라 적용하는 공식이 다름\n",
        "    # pvalue는 유의확률이고 일반적으로 5%를 판단기준으로 삼음\n",
        "    \n",
        "    # 결과: 10의 -21승, 유의확률이 0.05보다 작으므로 통계적으로 유의하다"
      ],
      "metadata": {
        "id": "VEvGzA71-Fjd",
        "outputId": "1380c447-20c3-40c2-bad4-8e94f20064b6",
        "colab": {
          "base_uri": "https://localhost:8080/"
        }
      },
      "execution_count": 3,
      "outputs": [
        {
          "output_type": "execute_result",
          "data": {
            "text/plain": [
              "Ttest_indResult(statistic=11.917282584324107, pvalue=2.3909550904711282e-21)"
            ]
          },
          "metadata": {},
          "execution_count": 3
        }
      ]
    },
    {
      "cell_type": "markdown",
      "source": [
        "일반휘발유와 고급휘발유의 도시연비 t검정"
      ],
      "metadata": {
        "id": "U81f3Y38-Z_q"
      }
    },
    {
      "cell_type": "code",
      "source": [
        "mpg.query('fl in [\"r\", \"p\"]')\\\n",
        "    .groupby('fl', as_index=False)\\\n",
        "    .agg(n=('fl','count'),\n",
        "         mean=('cty','mean'))"
      ],
      "metadata": {
        "id": "t7DnVq1HAM_O",
        "outputId": "b84b2c68-21da-4c47-da48-806d4e1d7951",
        "colab": {
          "base_uri": "https://localhost:8080/",
          "height": 112
        }
      },
      "execution_count": 4,
      "outputs": [
        {
          "output_type": "execute_result",
          "data": {
            "text/plain": [
              "  fl    n       mean\n",
              "0  p   52  17.365385\n",
              "1  r  168  16.738095"
            ],
            "text/html": [
              "\n",
              "  <div id=\"df-2510b1b4-665e-46ca-bb1e-eea8fb6beb81\">\n",
              "    <div class=\"colab-df-container\">\n",
              "      <div>\n",
              "<style scoped>\n",
              "    .dataframe tbody tr th:only-of-type {\n",
              "        vertical-align: middle;\n",
              "    }\n",
              "\n",
              "    .dataframe tbody tr th {\n",
              "        vertical-align: top;\n",
              "    }\n",
              "\n",
              "    .dataframe thead th {\n",
              "        text-align: right;\n",
              "    }\n",
              "</style>\n",
              "<table border=\"1\" class=\"dataframe\">\n",
              "  <thead>\n",
              "    <tr style=\"text-align: right;\">\n",
              "      <th></th>\n",
              "      <th>fl</th>\n",
              "      <th>n</th>\n",
              "      <th>mean</th>\n",
              "    </tr>\n",
              "  </thead>\n",
              "  <tbody>\n",
              "    <tr>\n",
              "      <th>0</th>\n",
              "      <td>p</td>\n",
              "      <td>52</td>\n",
              "      <td>17.365385</td>\n",
              "    </tr>\n",
              "    <tr>\n",
              "      <th>1</th>\n",
              "      <td>r</td>\n",
              "      <td>168</td>\n",
              "      <td>16.738095</td>\n",
              "    </tr>\n",
              "  </tbody>\n",
              "</table>\n",
              "</div>\n",
              "      <button class=\"colab-df-convert\" onclick=\"convertToInteractive('df-2510b1b4-665e-46ca-bb1e-eea8fb6beb81')\"\n",
              "              title=\"Convert this dataframe to an interactive table.\"\n",
              "              style=\"display:none;\">\n",
              "        \n",
              "  <svg xmlns=\"http://www.w3.org/2000/svg\" height=\"24px\"viewBox=\"0 0 24 24\"\n",
              "       width=\"24px\">\n",
              "    <path d=\"M0 0h24v24H0V0z\" fill=\"none\"/>\n",
              "    <path d=\"M18.56 5.44l.94 2.06.94-2.06 2.06-.94-2.06-.94-.94-2.06-.94 2.06-2.06.94zm-11 1L8.5 8.5l.94-2.06 2.06-.94-2.06-.94L8.5 2.5l-.94 2.06-2.06.94zm10 10l.94 2.06.94-2.06 2.06-.94-2.06-.94-.94-2.06-.94 2.06-2.06.94z\"/><path d=\"M17.41 7.96l-1.37-1.37c-.4-.4-.92-.59-1.43-.59-.52 0-1.04.2-1.43.59L10.3 9.45l-7.72 7.72c-.78.78-.78 2.05 0 2.83L4 21.41c.39.39.9.59 1.41.59.51 0 1.02-.2 1.41-.59l7.78-7.78 2.81-2.81c.8-.78.8-2.07 0-2.86zM5.41 20L4 18.59l7.72-7.72 1.47 1.35L5.41 20z\"/>\n",
              "  </svg>\n",
              "      </button>\n",
              "      \n",
              "  <style>\n",
              "    .colab-df-container {\n",
              "      display:flex;\n",
              "      flex-wrap:wrap;\n",
              "      gap: 12px;\n",
              "    }\n",
              "\n",
              "    .colab-df-convert {\n",
              "      background-color: #E8F0FE;\n",
              "      border: none;\n",
              "      border-radius: 50%;\n",
              "      cursor: pointer;\n",
              "      display: none;\n",
              "      fill: #1967D2;\n",
              "      height: 32px;\n",
              "      padding: 0 0 0 0;\n",
              "      width: 32px;\n",
              "    }\n",
              "\n",
              "    .colab-df-convert:hover {\n",
              "      background-color: #E2EBFA;\n",
              "      box-shadow: 0px 1px 2px rgba(60, 64, 67, 0.3), 0px 1px 3px 1px rgba(60, 64, 67, 0.15);\n",
              "      fill: #174EA6;\n",
              "    }\n",
              "\n",
              "    [theme=dark] .colab-df-convert {\n",
              "      background-color: #3B4455;\n",
              "      fill: #D2E3FC;\n",
              "    }\n",
              "\n",
              "    [theme=dark] .colab-df-convert:hover {\n",
              "      background-color: #434B5C;\n",
              "      box-shadow: 0px 1px 3px 1px rgba(0, 0, 0, 0.15);\n",
              "      filter: drop-shadow(0px 1px 2px rgba(0, 0, 0, 0.3));\n",
              "      fill: #FFFFFF;\n",
              "    }\n",
              "  </style>\n",
              "\n",
              "      <script>\n",
              "        const buttonEl =\n",
              "          document.querySelector('#df-2510b1b4-665e-46ca-bb1e-eea8fb6beb81 button.colab-df-convert');\n",
              "        buttonEl.style.display =\n",
              "          google.colab.kernel.accessAllowed ? 'block' : 'none';\n",
              "\n",
              "        async function convertToInteractive(key) {\n",
              "          const element = document.querySelector('#df-2510b1b4-665e-46ca-bb1e-eea8fb6beb81');\n",
              "          const dataTable =\n",
              "            await google.colab.kernel.invokeFunction('convertToInteractive',\n",
              "                                                     [key], {});\n",
              "          if (!dataTable) return;\n",
              "\n",
              "          const docLinkHtml = 'Like what you see? Visit the ' +\n",
              "            '<a target=\"_blank\" href=https://colab.research.google.com/notebooks/data_table.ipynb>data table notebook</a>'\n",
              "            + ' to learn more about interactive tables.';\n",
              "          element.innerHTML = '';\n",
              "          dataTable['output_type'] = 'display_data';\n",
              "          await google.colab.output.renderOutput(dataTable, element);\n",
              "          const docLink = document.createElement('div');\n",
              "          docLink.innerHTML = docLinkHtml;\n",
              "          element.appendChild(docLink);\n",
              "        }\n",
              "      </script>\n",
              "    </div>\n",
              "  </div>\n",
              "  "
            ]
          },
          "metadata": {},
          "execution_count": 4
        }
      ]
    },
    {
      "cell_type": "code",
      "source": [
        "regular=mpg.query('fl==\"r\"')['cty']\n",
        "premium=mpg.query('fl==\"p\"')['cty']\n",
        "\n",
        "stats.ttest_ind(regular, premium, equal_var=True)\n",
        "    # 결과: 10의 -21승, 유의확률이 0.05보다 크므로 통계적으로 우연이다"
      ],
      "metadata": {
        "id": "OxqfW8xZCwaK",
        "outputId": "b2bf07a8-b10f-4221-e8e6-e4d6ea80efc6",
        "colab": {
          "base_uri": "https://localhost:8080/"
        }
      },
      "execution_count": 5,
      "outputs": [
        {
          "output_type": "execute_result",
          "data": {
            "text/plain": [
              "Ttest_indResult(statistic=-1.066182514588919, pvalue=0.28752051088667036)"
            ]
          },
          "metadata": {},
          "execution_count": 5
        }
      ]
    },
    {
      "cell_type": "markdown",
      "source": [
        "### **상관분석- 두 변수의 관계 분석**"
      ],
      "metadata": {
        "id": "le0Cwi-2Xn4A"
      }
    },
    {
      "cell_type": "markdown",
      "source": [
        "- 상관계수는 0~1사이의 값을 지니고, 1에 가까울수록 관련성이 큼\n",
        "- 양수면 정비례, 음수면 반비례"
      ],
      "metadata": {
        "id": "LvA_A9NF_ebQ"
      }
    },
    {
      "cell_type": "code",
      "source": [
        "economics=pd.read_csv('economics.csv')\n",
        "economics"
      ],
      "metadata": {
        "id": "ei5-dl8X-2OY",
        "outputId": "0078ee23-d5ab-44c2-ccff-c962f7885ef0",
        "colab": {
          "base_uri": "https://localhost:8080/",
          "height": 424
        }
      },
      "execution_count": 17,
      "outputs": [
        {
          "output_type": "execute_result",
          "data": {
            "text/plain": [
              "           date      pce         pop  psavert  uempmed  unemploy\n",
              "0    1967-07-01    506.7  198712.000     12.6      4.5      2944\n",
              "1    1967-08-01    509.8  198911.000     12.6      4.7      2945\n",
              "2    1967-09-01    515.6  199113.000     11.9      4.6      2958\n",
              "3    1967-10-01    512.2  199311.000     12.9      4.9      3143\n",
              "4    1967-11-01    517.4  199498.000     12.8      4.7      3066\n",
              "..          ...      ...         ...      ...      ...       ...\n",
              "569  2014-12-01  12062.0  319746.157      7.6     12.9      8717\n",
              "570  2015-01-01  12046.0  319928.646      7.7     13.2      8903\n",
              "571  2015-02-01  12082.4  320074.511      7.9     12.9      8610\n",
              "572  2015-03-01  12158.3  320230.786      7.4     12.0      8504\n",
              "573  2015-04-01  12193.8  320402.295      7.6     11.5      8526\n",
              "\n",
              "[574 rows x 6 columns]"
            ],
            "text/html": [
              "\n",
              "  <div id=\"df-2815e1da-9511-4e68-8d8f-40b081c03ab5\">\n",
              "    <div class=\"colab-df-container\">\n",
              "      <div>\n",
              "<style scoped>\n",
              "    .dataframe tbody tr th:only-of-type {\n",
              "        vertical-align: middle;\n",
              "    }\n",
              "\n",
              "    .dataframe tbody tr th {\n",
              "        vertical-align: top;\n",
              "    }\n",
              "\n",
              "    .dataframe thead th {\n",
              "        text-align: right;\n",
              "    }\n",
              "</style>\n",
              "<table border=\"1\" class=\"dataframe\">\n",
              "  <thead>\n",
              "    <tr style=\"text-align: right;\">\n",
              "      <th></th>\n",
              "      <th>date</th>\n",
              "      <th>pce</th>\n",
              "      <th>pop</th>\n",
              "      <th>psavert</th>\n",
              "      <th>uempmed</th>\n",
              "      <th>unemploy</th>\n",
              "    </tr>\n",
              "  </thead>\n",
              "  <tbody>\n",
              "    <tr>\n",
              "      <th>0</th>\n",
              "      <td>1967-07-01</td>\n",
              "      <td>506.7</td>\n",
              "      <td>198712.000</td>\n",
              "      <td>12.6</td>\n",
              "      <td>4.5</td>\n",
              "      <td>2944</td>\n",
              "    </tr>\n",
              "    <tr>\n",
              "      <th>1</th>\n",
              "      <td>1967-08-01</td>\n",
              "      <td>509.8</td>\n",
              "      <td>198911.000</td>\n",
              "      <td>12.6</td>\n",
              "      <td>4.7</td>\n",
              "      <td>2945</td>\n",
              "    </tr>\n",
              "    <tr>\n",
              "      <th>2</th>\n",
              "      <td>1967-09-01</td>\n",
              "      <td>515.6</td>\n",
              "      <td>199113.000</td>\n",
              "      <td>11.9</td>\n",
              "      <td>4.6</td>\n",
              "      <td>2958</td>\n",
              "    </tr>\n",
              "    <tr>\n",
              "      <th>3</th>\n",
              "      <td>1967-10-01</td>\n",
              "      <td>512.2</td>\n",
              "      <td>199311.000</td>\n",
              "      <td>12.9</td>\n",
              "      <td>4.9</td>\n",
              "      <td>3143</td>\n",
              "    </tr>\n",
              "    <tr>\n",
              "      <th>4</th>\n",
              "      <td>1967-11-01</td>\n",
              "      <td>517.4</td>\n",
              "      <td>199498.000</td>\n",
              "      <td>12.8</td>\n",
              "      <td>4.7</td>\n",
              "      <td>3066</td>\n",
              "    </tr>\n",
              "    <tr>\n",
              "      <th>...</th>\n",
              "      <td>...</td>\n",
              "      <td>...</td>\n",
              "      <td>...</td>\n",
              "      <td>...</td>\n",
              "      <td>...</td>\n",
              "      <td>...</td>\n",
              "    </tr>\n",
              "    <tr>\n",
              "      <th>569</th>\n",
              "      <td>2014-12-01</td>\n",
              "      <td>12062.0</td>\n",
              "      <td>319746.157</td>\n",
              "      <td>7.6</td>\n",
              "      <td>12.9</td>\n",
              "      <td>8717</td>\n",
              "    </tr>\n",
              "    <tr>\n",
              "      <th>570</th>\n",
              "      <td>2015-01-01</td>\n",
              "      <td>12046.0</td>\n",
              "      <td>319928.646</td>\n",
              "      <td>7.7</td>\n",
              "      <td>13.2</td>\n",
              "      <td>8903</td>\n",
              "    </tr>\n",
              "    <tr>\n",
              "      <th>571</th>\n",
              "      <td>2015-02-01</td>\n",
              "      <td>12082.4</td>\n",
              "      <td>320074.511</td>\n",
              "      <td>7.9</td>\n",
              "      <td>12.9</td>\n",
              "      <td>8610</td>\n",
              "    </tr>\n",
              "    <tr>\n",
              "      <th>572</th>\n",
              "      <td>2015-03-01</td>\n",
              "      <td>12158.3</td>\n",
              "      <td>320230.786</td>\n",
              "      <td>7.4</td>\n",
              "      <td>12.0</td>\n",
              "      <td>8504</td>\n",
              "    </tr>\n",
              "    <tr>\n",
              "      <th>573</th>\n",
              "      <td>2015-04-01</td>\n",
              "      <td>12193.8</td>\n",
              "      <td>320402.295</td>\n",
              "      <td>7.6</td>\n",
              "      <td>11.5</td>\n",
              "      <td>8526</td>\n",
              "    </tr>\n",
              "  </tbody>\n",
              "</table>\n",
              "<p>574 rows × 6 columns</p>\n",
              "</div>\n",
              "      <button class=\"colab-df-convert\" onclick=\"convertToInteractive('df-2815e1da-9511-4e68-8d8f-40b081c03ab5')\"\n",
              "              title=\"Convert this dataframe to an interactive table.\"\n",
              "              style=\"display:none;\">\n",
              "        \n",
              "  <svg xmlns=\"http://www.w3.org/2000/svg\" height=\"24px\"viewBox=\"0 0 24 24\"\n",
              "       width=\"24px\">\n",
              "    <path d=\"M0 0h24v24H0V0z\" fill=\"none\"/>\n",
              "    <path d=\"M18.56 5.44l.94 2.06.94-2.06 2.06-.94-2.06-.94-.94-2.06-.94 2.06-2.06.94zm-11 1L8.5 8.5l.94-2.06 2.06-.94-2.06-.94L8.5 2.5l-.94 2.06-2.06.94zm10 10l.94 2.06.94-2.06 2.06-.94-2.06-.94-.94-2.06-.94 2.06-2.06.94z\"/><path d=\"M17.41 7.96l-1.37-1.37c-.4-.4-.92-.59-1.43-.59-.52 0-1.04.2-1.43.59L10.3 9.45l-7.72 7.72c-.78.78-.78 2.05 0 2.83L4 21.41c.39.39.9.59 1.41.59.51 0 1.02-.2 1.41-.59l7.78-7.78 2.81-2.81c.8-.78.8-2.07 0-2.86zM5.41 20L4 18.59l7.72-7.72 1.47 1.35L5.41 20z\"/>\n",
              "  </svg>\n",
              "      </button>\n",
              "      \n",
              "  <style>\n",
              "    .colab-df-container {\n",
              "      display:flex;\n",
              "      flex-wrap:wrap;\n",
              "      gap: 12px;\n",
              "    }\n",
              "\n",
              "    .colab-df-convert {\n",
              "      background-color: #E8F0FE;\n",
              "      border: none;\n",
              "      border-radius: 50%;\n",
              "      cursor: pointer;\n",
              "      display: none;\n",
              "      fill: #1967D2;\n",
              "      height: 32px;\n",
              "      padding: 0 0 0 0;\n",
              "      width: 32px;\n",
              "    }\n",
              "\n",
              "    .colab-df-convert:hover {\n",
              "      background-color: #E2EBFA;\n",
              "      box-shadow: 0px 1px 2px rgba(60, 64, 67, 0.3), 0px 1px 3px 1px rgba(60, 64, 67, 0.15);\n",
              "      fill: #174EA6;\n",
              "    }\n",
              "\n",
              "    [theme=dark] .colab-df-convert {\n",
              "      background-color: #3B4455;\n",
              "      fill: #D2E3FC;\n",
              "    }\n",
              "\n",
              "    [theme=dark] .colab-df-convert:hover {\n",
              "      background-color: #434B5C;\n",
              "      box-shadow: 0px 1px 3px 1px rgba(0, 0, 0, 0.15);\n",
              "      filter: drop-shadow(0px 1px 2px rgba(0, 0, 0, 0.3));\n",
              "      fill: #FFFFFF;\n",
              "    }\n",
              "  </style>\n",
              "\n",
              "      <script>\n",
              "        const buttonEl =\n",
              "          document.querySelector('#df-2815e1da-9511-4e68-8d8f-40b081c03ab5 button.colab-df-convert');\n",
              "        buttonEl.style.display =\n",
              "          google.colab.kernel.accessAllowed ? 'block' : 'none';\n",
              "\n",
              "        async function convertToInteractive(key) {\n",
              "          const element = document.querySelector('#df-2815e1da-9511-4e68-8d8f-40b081c03ab5');\n",
              "          const dataTable =\n",
              "            await google.colab.kernel.invokeFunction('convertToInteractive',\n",
              "                                                     [key], {});\n",
              "          if (!dataTable) return;\n",
              "\n",
              "          const docLinkHtml = 'Like what you see? Visit the ' +\n",
              "            '<a target=\"_blank\" href=https://colab.research.google.com/notebooks/data_table.ipynb>data table notebook</a>'\n",
              "            + ' to learn more about interactive tables.';\n",
              "          element.innerHTML = '';\n",
              "          dataTable['output_type'] = 'display_data';\n",
              "          await google.colab.output.renderOutput(dataTable, element);\n",
              "          const docLink = document.createElement('div');\n",
              "          docLink.innerHTML = docLinkHtml;\n",
              "          element.appendChild(docLink);\n",
              "        }\n",
              "      </script>\n",
              "    </div>\n",
              "  </div>\n",
              "  "
            ]
          },
          "metadata": {},
          "execution_count": 17
        }
      ]
    },
    {
      "cell_type": "code",
      "source": [
        "#상관행렬\n",
        "economics[['unemploy','pce']].corr()"
      ],
      "metadata": {
        "id": "4bJBvXfi_SsI",
        "outputId": "b8da788c-4218-4682-abbe-af35a1cbe32c",
        "colab": {
          "base_uri": "https://localhost:8080/",
          "height": 112
        }
      },
      "execution_count": 18,
      "outputs": [
        {
          "output_type": "execute_result",
          "data": {
            "text/plain": [
              "          unemploy       pce\n",
              "unemploy  1.000000  0.614518\n",
              "pce       0.614518  1.000000"
            ],
            "text/html": [
              "\n",
              "  <div id=\"df-5316495f-cfaf-4657-95b0-45fa9e32ce16\">\n",
              "    <div class=\"colab-df-container\">\n",
              "      <div>\n",
              "<style scoped>\n",
              "    .dataframe tbody tr th:only-of-type {\n",
              "        vertical-align: middle;\n",
              "    }\n",
              "\n",
              "    .dataframe tbody tr th {\n",
              "        vertical-align: top;\n",
              "    }\n",
              "\n",
              "    .dataframe thead th {\n",
              "        text-align: right;\n",
              "    }\n",
              "</style>\n",
              "<table border=\"1\" class=\"dataframe\">\n",
              "  <thead>\n",
              "    <tr style=\"text-align: right;\">\n",
              "      <th></th>\n",
              "      <th>unemploy</th>\n",
              "      <th>pce</th>\n",
              "    </tr>\n",
              "  </thead>\n",
              "  <tbody>\n",
              "    <tr>\n",
              "      <th>unemploy</th>\n",
              "      <td>1.000000</td>\n",
              "      <td>0.614518</td>\n",
              "    </tr>\n",
              "    <tr>\n",
              "      <th>pce</th>\n",
              "      <td>0.614518</td>\n",
              "      <td>1.000000</td>\n",
              "    </tr>\n",
              "  </tbody>\n",
              "</table>\n",
              "</div>\n",
              "      <button class=\"colab-df-convert\" onclick=\"convertToInteractive('df-5316495f-cfaf-4657-95b0-45fa9e32ce16')\"\n",
              "              title=\"Convert this dataframe to an interactive table.\"\n",
              "              style=\"display:none;\">\n",
              "        \n",
              "  <svg xmlns=\"http://www.w3.org/2000/svg\" height=\"24px\"viewBox=\"0 0 24 24\"\n",
              "       width=\"24px\">\n",
              "    <path d=\"M0 0h24v24H0V0z\" fill=\"none\"/>\n",
              "    <path d=\"M18.56 5.44l.94 2.06.94-2.06 2.06-.94-2.06-.94-.94-2.06-.94 2.06-2.06.94zm-11 1L8.5 8.5l.94-2.06 2.06-.94-2.06-.94L8.5 2.5l-.94 2.06-2.06.94zm10 10l.94 2.06.94-2.06 2.06-.94-2.06-.94-.94-2.06-.94 2.06-2.06.94z\"/><path d=\"M17.41 7.96l-1.37-1.37c-.4-.4-.92-.59-1.43-.59-.52 0-1.04.2-1.43.59L10.3 9.45l-7.72 7.72c-.78.78-.78 2.05 0 2.83L4 21.41c.39.39.9.59 1.41.59.51 0 1.02-.2 1.41-.59l7.78-7.78 2.81-2.81c.8-.78.8-2.07 0-2.86zM5.41 20L4 18.59l7.72-7.72 1.47 1.35L5.41 20z\"/>\n",
              "  </svg>\n",
              "      </button>\n",
              "      \n",
              "  <style>\n",
              "    .colab-df-container {\n",
              "      display:flex;\n",
              "      flex-wrap:wrap;\n",
              "      gap: 12px;\n",
              "    }\n",
              "\n",
              "    .colab-df-convert {\n",
              "      background-color: #E8F0FE;\n",
              "      border: none;\n",
              "      border-radius: 50%;\n",
              "      cursor: pointer;\n",
              "      display: none;\n",
              "      fill: #1967D2;\n",
              "      height: 32px;\n",
              "      padding: 0 0 0 0;\n",
              "      width: 32px;\n",
              "    }\n",
              "\n",
              "    .colab-df-convert:hover {\n",
              "      background-color: #E2EBFA;\n",
              "      box-shadow: 0px 1px 2px rgba(60, 64, 67, 0.3), 0px 1px 3px 1px rgba(60, 64, 67, 0.15);\n",
              "      fill: #174EA6;\n",
              "    }\n",
              "\n",
              "    [theme=dark] .colab-df-convert {\n",
              "      background-color: #3B4455;\n",
              "      fill: #D2E3FC;\n",
              "    }\n",
              "\n",
              "    [theme=dark] .colab-df-convert:hover {\n",
              "      background-color: #434B5C;\n",
              "      box-shadow: 0px 1px 3px 1px rgba(0, 0, 0, 0.15);\n",
              "      filter: drop-shadow(0px 1px 2px rgba(0, 0, 0, 0.3));\n",
              "      fill: #FFFFFF;\n",
              "    }\n",
              "  </style>\n",
              "\n",
              "      <script>\n",
              "        const buttonEl =\n",
              "          document.querySelector('#df-5316495f-cfaf-4657-95b0-45fa9e32ce16 button.colab-df-convert');\n",
              "        buttonEl.style.display =\n",
              "          google.colab.kernel.accessAllowed ? 'block' : 'none';\n",
              "\n",
              "        async function convertToInteractive(key) {\n",
              "          const element = document.querySelector('#df-5316495f-cfaf-4657-95b0-45fa9e32ce16');\n",
              "          const dataTable =\n",
              "            await google.colab.kernel.invokeFunction('convertToInteractive',\n",
              "                                                     [key], {});\n",
              "          if (!dataTable) return;\n",
              "\n",
              "          const docLinkHtml = 'Like what you see? Visit the ' +\n",
              "            '<a target=\"_blank\" href=https://colab.research.google.com/notebooks/data_table.ipynb>data table notebook</a>'\n",
              "            + ' to learn more about interactive tables.';\n",
              "          element.innerHTML = '';\n",
              "          dataTable['output_type'] = 'display_data';\n",
              "          await google.colab.output.renderOutput(dataTable, element);\n",
              "          const docLink = document.createElement('div');\n",
              "          docLink.innerHTML = docLinkHtml;\n",
              "          element.appendChild(docLink);\n",
              "        }\n",
              "      </script>\n",
              "    </div>\n",
              "  </div>\n",
              "  "
            ]
          },
          "metadata": {},
          "execution_count": 18
        }
      ]
    },
    {
      "cell_type": "code",
      "source": [
        "#유의확률\n",
        "stats.pearsonr(economics['unemploy'], economics['pce'])"
      ],
      "metadata": {
        "id": "FlIzBWugA9cp",
        "outputId": "d2852b41-917f-47cf-be5e-e15318c54c2d",
        "colab": {
          "base_uri": "https://localhost:8080/"
        }
      },
      "execution_count": 20,
      "outputs": [
        {
          "output_type": "execute_result",
          "data": {
            "text/plain": [
              "(0.614517614193208, 6.773527303291701e-61)"
            ]
          },
          "metadata": {},
          "execution_count": 20
        }
      ]
    },
    {
      "cell_type": "code",
      "source": [
        "mtcars=pd.read_csv('mtcars.csv')\n",
        "\n",
        "car_cor=mtcars.corr()        #상관행렬 만들기\n",
        "car_cor=round(car_cor, 2)    #반올림\n",
        "car_cor\n",
        "\n",
        "#결과해석: mbl(연비)&cyl(실린더수)에서 상관계수가 -0.85이므로, 연비가 높을수록 실린더 수가 적은 경향이 있다\n",
        "        # cyl(실린더수)&wt(무게)에서 상관계수가 0.78이므로, 실린더수가 많을수록 자동차가 무거운 경향이 있다\n",
        "# 관련성: mbl(연비)&cyl(실린더수) > cyl(실린더수)&wt(무게)"
      ],
      "metadata": {
        "id": "aOWWqL3z_S1n",
        "outputId": "1e636a9d-25cf-45cc-b8cf-802c87f594b8",
        "colab": {
          "base_uri": "https://localhost:8080/",
          "height": 394
        }
      },
      "execution_count": 21,
      "outputs": [
        {
          "output_type": "execute_result",
          "data": {
            "text/plain": [
              "       mpg   cyl  disp    hp  drat    wt  qsec    vs    am  gear  carb\n",
              "mpg   1.00 -0.85 -0.85 -0.78  0.68 -0.87  0.42  0.66  0.60  0.48 -0.55\n",
              "cyl  -0.85  1.00  0.90  0.83 -0.70  0.78 -0.59 -0.81 -0.52 -0.49  0.53\n",
              "disp -0.85  0.90  1.00  0.79 -0.71  0.89 -0.43 -0.71 -0.59 -0.56  0.39\n",
              "hp   -0.78  0.83  0.79  1.00 -0.45  0.66 -0.71 -0.72 -0.24 -0.13  0.75\n",
              "drat  0.68 -0.70 -0.71 -0.45  1.00 -0.71  0.09  0.44  0.71  0.70 -0.09\n",
              "wt   -0.87  0.78  0.89  0.66 -0.71  1.00 -0.17 -0.55 -0.69 -0.58  0.43\n",
              "qsec  0.42 -0.59 -0.43 -0.71  0.09 -0.17  1.00  0.74 -0.23 -0.21 -0.66\n",
              "vs    0.66 -0.81 -0.71 -0.72  0.44 -0.55  0.74  1.00  0.17  0.21 -0.57\n",
              "am    0.60 -0.52 -0.59 -0.24  0.71 -0.69 -0.23  0.17  1.00  0.79  0.06\n",
              "gear  0.48 -0.49 -0.56 -0.13  0.70 -0.58 -0.21  0.21  0.79  1.00  0.27\n",
              "carb -0.55  0.53  0.39  0.75 -0.09  0.43 -0.66 -0.57  0.06  0.27  1.00"
            ],
            "text/html": [
              "\n",
              "  <div id=\"df-98aa9413-d8d6-4efb-991d-b97773661399\">\n",
              "    <div class=\"colab-df-container\">\n",
              "      <div>\n",
              "<style scoped>\n",
              "    .dataframe tbody tr th:only-of-type {\n",
              "        vertical-align: middle;\n",
              "    }\n",
              "\n",
              "    .dataframe tbody tr th {\n",
              "        vertical-align: top;\n",
              "    }\n",
              "\n",
              "    .dataframe thead th {\n",
              "        text-align: right;\n",
              "    }\n",
              "</style>\n",
              "<table border=\"1\" class=\"dataframe\">\n",
              "  <thead>\n",
              "    <tr style=\"text-align: right;\">\n",
              "      <th></th>\n",
              "      <th>mpg</th>\n",
              "      <th>cyl</th>\n",
              "      <th>disp</th>\n",
              "      <th>hp</th>\n",
              "      <th>drat</th>\n",
              "      <th>wt</th>\n",
              "      <th>qsec</th>\n",
              "      <th>vs</th>\n",
              "      <th>am</th>\n",
              "      <th>gear</th>\n",
              "      <th>carb</th>\n",
              "    </tr>\n",
              "  </thead>\n",
              "  <tbody>\n",
              "    <tr>\n",
              "      <th>mpg</th>\n",
              "      <td>1.00</td>\n",
              "      <td>-0.85</td>\n",
              "      <td>-0.85</td>\n",
              "      <td>-0.78</td>\n",
              "      <td>0.68</td>\n",
              "      <td>-0.87</td>\n",
              "      <td>0.42</td>\n",
              "      <td>0.66</td>\n",
              "      <td>0.60</td>\n",
              "      <td>0.48</td>\n",
              "      <td>-0.55</td>\n",
              "    </tr>\n",
              "    <tr>\n",
              "      <th>cyl</th>\n",
              "      <td>-0.85</td>\n",
              "      <td>1.00</td>\n",
              "      <td>0.90</td>\n",
              "      <td>0.83</td>\n",
              "      <td>-0.70</td>\n",
              "      <td>0.78</td>\n",
              "      <td>-0.59</td>\n",
              "      <td>-0.81</td>\n",
              "      <td>-0.52</td>\n",
              "      <td>-0.49</td>\n",
              "      <td>0.53</td>\n",
              "    </tr>\n",
              "    <tr>\n",
              "      <th>disp</th>\n",
              "      <td>-0.85</td>\n",
              "      <td>0.90</td>\n",
              "      <td>1.00</td>\n",
              "      <td>0.79</td>\n",
              "      <td>-0.71</td>\n",
              "      <td>0.89</td>\n",
              "      <td>-0.43</td>\n",
              "      <td>-0.71</td>\n",
              "      <td>-0.59</td>\n",
              "      <td>-0.56</td>\n",
              "      <td>0.39</td>\n",
              "    </tr>\n",
              "    <tr>\n",
              "      <th>hp</th>\n",
              "      <td>-0.78</td>\n",
              "      <td>0.83</td>\n",
              "      <td>0.79</td>\n",
              "      <td>1.00</td>\n",
              "      <td>-0.45</td>\n",
              "      <td>0.66</td>\n",
              "      <td>-0.71</td>\n",
              "      <td>-0.72</td>\n",
              "      <td>-0.24</td>\n",
              "      <td>-0.13</td>\n",
              "      <td>0.75</td>\n",
              "    </tr>\n",
              "    <tr>\n",
              "      <th>drat</th>\n",
              "      <td>0.68</td>\n",
              "      <td>-0.70</td>\n",
              "      <td>-0.71</td>\n",
              "      <td>-0.45</td>\n",
              "      <td>1.00</td>\n",
              "      <td>-0.71</td>\n",
              "      <td>0.09</td>\n",
              "      <td>0.44</td>\n",
              "      <td>0.71</td>\n",
              "      <td>0.70</td>\n",
              "      <td>-0.09</td>\n",
              "    </tr>\n",
              "    <tr>\n",
              "      <th>wt</th>\n",
              "      <td>-0.87</td>\n",
              "      <td>0.78</td>\n",
              "      <td>0.89</td>\n",
              "      <td>0.66</td>\n",
              "      <td>-0.71</td>\n",
              "      <td>1.00</td>\n",
              "      <td>-0.17</td>\n",
              "      <td>-0.55</td>\n",
              "      <td>-0.69</td>\n",
              "      <td>-0.58</td>\n",
              "      <td>0.43</td>\n",
              "    </tr>\n",
              "    <tr>\n",
              "      <th>qsec</th>\n",
              "      <td>0.42</td>\n",
              "      <td>-0.59</td>\n",
              "      <td>-0.43</td>\n",
              "      <td>-0.71</td>\n",
              "      <td>0.09</td>\n",
              "      <td>-0.17</td>\n",
              "      <td>1.00</td>\n",
              "      <td>0.74</td>\n",
              "      <td>-0.23</td>\n",
              "      <td>-0.21</td>\n",
              "      <td>-0.66</td>\n",
              "    </tr>\n",
              "    <tr>\n",
              "      <th>vs</th>\n",
              "      <td>0.66</td>\n",
              "      <td>-0.81</td>\n",
              "      <td>-0.71</td>\n",
              "      <td>-0.72</td>\n",
              "      <td>0.44</td>\n",
              "      <td>-0.55</td>\n",
              "      <td>0.74</td>\n",
              "      <td>1.00</td>\n",
              "      <td>0.17</td>\n",
              "      <td>0.21</td>\n",
              "      <td>-0.57</td>\n",
              "    </tr>\n",
              "    <tr>\n",
              "      <th>am</th>\n",
              "      <td>0.60</td>\n",
              "      <td>-0.52</td>\n",
              "      <td>-0.59</td>\n",
              "      <td>-0.24</td>\n",
              "      <td>0.71</td>\n",
              "      <td>-0.69</td>\n",
              "      <td>-0.23</td>\n",
              "      <td>0.17</td>\n",
              "      <td>1.00</td>\n",
              "      <td>0.79</td>\n",
              "      <td>0.06</td>\n",
              "    </tr>\n",
              "    <tr>\n",
              "      <th>gear</th>\n",
              "      <td>0.48</td>\n",
              "      <td>-0.49</td>\n",
              "      <td>-0.56</td>\n",
              "      <td>-0.13</td>\n",
              "      <td>0.70</td>\n",
              "      <td>-0.58</td>\n",
              "      <td>-0.21</td>\n",
              "      <td>0.21</td>\n",
              "      <td>0.79</td>\n",
              "      <td>1.00</td>\n",
              "      <td>0.27</td>\n",
              "    </tr>\n",
              "    <tr>\n",
              "      <th>carb</th>\n",
              "      <td>-0.55</td>\n",
              "      <td>0.53</td>\n",
              "      <td>0.39</td>\n",
              "      <td>0.75</td>\n",
              "      <td>-0.09</td>\n",
              "      <td>0.43</td>\n",
              "      <td>-0.66</td>\n",
              "      <td>-0.57</td>\n",
              "      <td>0.06</td>\n",
              "      <td>0.27</td>\n",
              "      <td>1.00</td>\n",
              "    </tr>\n",
              "  </tbody>\n",
              "</table>\n",
              "</div>\n",
              "      <button class=\"colab-df-convert\" onclick=\"convertToInteractive('df-98aa9413-d8d6-4efb-991d-b97773661399')\"\n",
              "              title=\"Convert this dataframe to an interactive table.\"\n",
              "              style=\"display:none;\">\n",
              "        \n",
              "  <svg xmlns=\"http://www.w3.org/2000/svg\" height=\"24px\"viewBox=\"0 0 24 24\"\n",
              "       width=\"24px\">\n",
              "    <path d=\"M0 0h24v24H0V0z\" fill=\"none\"/>\n",
              "    <path d=\"M18.56 5.44l.94 2.06.94-2.06 2.06-.94-2.06-.94-.94-2.06-.94 2.06-2.06.94zm-11 1L8.5 8.5l.94-2.06 2.06-.94-2.06-.94L8.5 2.5l-.94 2.06-2.06.94zm10 10l.94 2.06.94-2.06 2.06-.94-2.06-.94-.94-2.06-.94 2.06-2.06.94z\"/><path d=\"M17.41 7.96l-1.37-1.37c-.4-.4-.92-.59-1.43-.59-.52 0-1.04.2-1.43.59L10.3 9.45l-7.72 7.72c-.78.78-.78 2.05 0 2.83L4 21.41c.39.39.9.59 1.41.59.51 0 1.02-.2 1.41-.59l7.78-7.78 2.81-2.81c.8-.78.8-2.07 0-2.86zM5.41 20L4 18.59l7.72-7.72 1.47 1.35L5.41 20z\"/>\n",
              "  </svg>\n",
              "      </button>\n",
              "      \n",
              "  <style>\n",
              "    .colab-df-container {\n",
              "      display:flex;\n",
              "      flex-wrap:wrap;\n",
              "      gap: 12px;\n",
              "    }\n",
              "\n",
              "    .colab-df-convert {\n",
              "      background-color: #E8F0FE;\n",
              "      border: none;\n",
              "      border-radius: 50%;\n",
              "      cursor: pointer;\n",
              "      display: none;\n",
              "      fill: #1967D2;\n",
              "      height: 32px;\n",
              "      padding: 0 0 0 0;\n",
              "      width: 32px;\n",
              "    }\n",
              "\n",
              "    .colab-df-convert:hover {\n",
              "      background-color: #E2EBFA;\n",
              "      box-shadow: 0px 1px 2px rgba(60, 64, 67, 0.3), 0px 1px 3px 1px rgba(60, 64, 67, 0.15);\n",
              "      fill: #174EA6;\n",
              "    }\n",
              "\n",
              "    [theme=dark] .colab-df-convert {\n",
              "      background-color: #3B4455;\n",
              "      fill: #D2E3FC;\n",
              "    }\n",
              "\n",
              "    [theme=dark] .colab-df-convert:hover {\n",
              "      background-color: #434B5C;\n",
              "      box-shadow: 0px 1px 3px 1px rgba(0, 0, 0, 0.15);\n",
              "      filter: drop-shadow(0px 1px 2px rgba(0, 0, 0, 0.3));\n",
              "      fill: #FFFFFF;\n",
              "    }\n",
              "  </style>\n",
              "\n",
              "      <script>\n",
              "        const buttonEl =\n",
              "          document.querySelector('#df-98aa9413-d8d6-4efb-991d-b97773661399 button.colab-df-convert');\n",
              "        buttonEl.style.display =\n",
              "          google.colab.kernel.accessAllowed ? 'block' : 'none';\n",
              "\n",
              "        async function convertToInteractive(key) {\n",
              "          const element = document.querySelector('#df-98aa9413-d8d6-4efb-991d-b97773661399');\n",
              "          const dataTable =\n",
              "            await google.colab.kernel.invokeFunction('convertToInteractive',\n",
              "                                                     [key], {});\n",
              "          if (!dataTable) return;\n",
              "\n",
              "          const docLinkHtml = 'Like what you see? Visit the ' +\n",
              "            '<a target=\"_blank\" href=https://colab.research.google.com/notebooks/data_table.ipynb>data table notebook</a>'\n",
              "            + ' to learn more about interactive tables.';\n",
              "          element.innerHTML = '';\n",
              "          dataTable['output_type'] = 'display_data';\n",
              "          await google.colab.output.renderOutput(dataTable, element);\n",
              "          const docLink = document.createElement('div');\n",
              "          docLink.innerHTML = docLinkHtml;\n",
              "          element.appendChild(docLink);\n",
              "        }\n",
              "      </script>\n",
              "    </div>\n",
              "  </div>\n",
              "  "
            ]
          },
          "metadata": {},
          "execution_count": 21
        }
      ]
    },
    {
      "cell_type": "code",
      "source": [
        "#상관행렬 히트맵: 여러 변수의 관련성을 한꺼번에 알아보고 싶을때, 모든 변수의 상관관계를 나타냄\n",
        "\n",
        "import matplotlib.pyplot as plt\n",
        "import seaborn as sns\n",
        "\n",
        "\n",
        "plt.rcParams.update({'figure.dpi':'120',            #해상도 설정\n",
        "                     'figure.figsize':[7.5, 5.5]})   #가로 세로 크기 설정\n",
        "\n",
        "sns.heatmap(car_cor, \n",
        "            annot=True,     #상관계수 표시\n",
        "            cmap= 'RdBu')   #컬러맵"
      ],
      "metadata": {
        "id": "v1Ga1fl4G2OC",
        "outputId": "9d88dfd3-5cb5-4520-bfc3-3998a3a80217",
        "colab": {
          "base_uri": "https://localhost:8080/",
          "height": 593
        }
      },
      "execution_count": 24,
      "outputs": [
        {
          "output_type": "execute_result",
          "data": {
            "text/plain": [
              "<matplotlib.axes._subplots.AxesSubplot at 0x7f44edc91580>"
            ]
          },
          "metadata": {},
          "execution_count": 24
        },
        {
          "output_type": "display_data",
          "data": {
            "text/plain": [
              "<Figure size 900x660 with 2 Axes>"
            ],
            "image/png": "[encoded data removed]"
          },
          "metadata": {
            "needs_background": "light"
          }
        }
      ]
    },
    {
      "cell_type": "code",
      "source": [
        "#대각행렬 제거하기: 상관행렬은 행과 열에 같은 변수가 나열되므로 중복된 부분을 제거함\n",
        "\n",
        "#mask 만들기\n",
        "import numpy as np\n",
        "mask=np.zeros_like(car_cor)\n",
        "\n",
        "#오른쪽 위 대각행렬을 1로 바꾸기\n",
        "mask[np.triu_indices_from(mask)]=1\n",
        "\n",
        "#히트맵에 mask 적용하기\n",
        "sns.heatmap(data=car_cor,\n",
        "            annot=True,\n",
        "            cmap='RdBu',\n",
        "            mask=mask)\n",
        "\n",
        "#빈 행과 열 제거하기\n",
        "mask_new=mask[1:, :-1]          #mask 첫번째 행, 마지막 열 제거\n",
        "cor_new=car_cor.iloc[1:, :-1]   #상관행렬 첫번째 행, 마지막 열 제거\n",
        "\n",
        "sns.heatmap(data=cor_new,\n",
        "            annot=True,\n",
        "            cmap='RdBu',\n",
        "            mask=mask_new)"
      ],
      "metadata": {
        "id": "8BnQBA_mKAAr"
      },
      "execution_count": 27,
      "outputs": []
    },
    {
      "cell_type": "code",
      "source": [
        "#히트맵 보기좋게 수정\n",
        "sns.heatmap(data=cor_new,\n",
        "            annot=True,\n",
        "            cmap='RdBu',\n",
        "            mask=mask_new,\n",
        "            linewidths=.5,            #경계 구분선 추가\n",
        "            vmax=1,                   #가장 진한 파란색으로 표현할 최대값\n",
        "            vmin=-1,                  #가장 진한 빨간색으로 표현할 최소값\n",
        "            cbar_kws={\"shrink: .5\"})  #범례 크기 줄이기"
      ],
      "metadata": {
        "id": "pRv-rSwoLUa6"
      },
      "execution_count": null,
      "outputs": []
    },
    {
      "cell_type": "markdown",
      "source": [
        "## **머신러닝을 이용한 예측 분석 345**"
      ],
      "metadata": {
        "id": "4qN6UB0jXdrT"
      }
    },
    {
      "cell_type": "markdown",
      "source": [
        "### **머신러닝 모델 알아보기**"
      ],
      "metadata": {
        "id": "AHkXWngXYDF6"
      }
    },
    {
      "cell_type": "markdown",
      "source": [
        "### **소득 예측 모델 만들기**"
      ],
      "metadata": {
        "id": "09U_R71cYGOr"
      }
    },
    {
      "cell_type": "markdown",
      "source": [
        "# **6. 데이터 다루기 380**"
      ],
      "metadata": {
        "id": "72jX-a-mVubZ"
      }
    },
    {
      "cell_type": "markdown",
      "source": [
        "## **데이터 추출 382**"
      ],
      "metadata": {
        "id": "ofcp-jTCV5XM"
      }
    },
    {
      "cell_type": "markdown",
      "source": [
        "### **[ ] 이용하기**"
      ],
      "metadata": {
        "id": "VChDPhUdWOw2"
      }
    },
    {
      "cell_type": "markdown",
      "source": [
        "### **df.loc[ ] 이용하기**"
      ],
      "metadata": {
        "id": "ZOjU-WB3WUWX"
      }
    },
    {
      "cell_type": "markdown",
      "source": [
        "### **df.iloc[ ] 이용하기**"
      ],
      "metadata": {
        "id": "kkoSHvuxWYug"
      }
    },
    {
      "cell_type": "markdown",
      "source": [
        "## **자료구조 다루기 406**"
      ],
      "metadata": {
        "id": "p931xuIdV8Cl"
      }
    },
    {
      "cell_type": "markdown",
      "source": [
        "### **자료구조란**"
      ],
      "metadata": {
        "id": "DSD9D7MLWp0R"
      }
    },
    {
      "cell_type": "markdown",
      "source": [
        "### **스칼라**"
      ],
      "metadata": {
        "id": "pq4Iza7MWur1"
      }
    },
    {
      "cell_type": "markdown",
      "source": [
        "### **리스트**"
      ],
      "metadata": {
        "id": "pK8dfLxTWweE"
      }
    },
    {
      "cell_type": "markdown",
      "source": [
        "### **튜플**"
      ],
      "metadata": {
        "id": "or0o4ennWzOD"
      }
    },
    {
      "cell_type": "markdown",
      "source": [
        "### **딕셔너리**"
      ],
      "metadata": {
        "id": "MSuyLiWZW32W"
      }
    },
    {
      "cell_type": "markdown",
      "source": [
        "### **시리즈**"
      ],
      "metadata": {
        "id": "We1X56crW5RW"
      }
    },
    {
      "cell_type": "markdown",
      "source": [
        "### **데이터 프레임**"
      ],
      "metadata": {
        "id": "zaEw-LqdW6n_"
      }
    },
    {
      "cell_type": "markdown",
      "source": [
        "## **데이터 분석 기술 효율적으로 익히기 434**"
      ],
      "metadata": {
        "id": "LUPltp6yV9Nz"
      }
    },
    {
      "cell_type": "markdown",
      "source": [
        "### **집중할 방향 정하기**"
      ],
      "metadata": {
        "id": "iESWpi-BXIdp"
      }
    },
    {
      "cell_type": "markdown",
      "source": [
        "### **데이터 분석기술을 효율적으로 익히는 방법**"
      ],
      "metadata": {
        "id": "9khcPtwpXL5L"
      }
    },
    {
      "cell_type": "markdown",
      "source": [
        "### **오픈 소스 생태계에서 어울리기**"
      ],
      "metadata": {
        "id": "-mMQHM-gXJgm"
      }
    }
  ]
}