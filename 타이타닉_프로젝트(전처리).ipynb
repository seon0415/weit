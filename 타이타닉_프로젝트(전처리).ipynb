{
  "nbformat": 4,
  "nbformat_minor": 0,
  "metadata": {
    "colab": {
      "provenance": [],
      "authorship_tag": "ABX9TyMuuBk/cXIrINjn9VJGxbzA",
      "include_colab_link": true
    },
    "kernelspec": {
      "name": "python3",
      "display_name": "Python 3"
    },
    "language_info": {
      "name": "python"
    }
  },
  "cells": [
    {
      "cell_type": "markdown",
      "metadata": {
        "id": "view-in-github",
        "colab_type": "text"
      },
      "source": [
        "<a href=\"https://colab.research.google.com/github/seon0415/weit/blob/main/%ED%83%80%EC%9D%B4%ED%83%80%EB%8B%89_%ED%94%84%EB%A1%9C%EC%A0%9D%ED%8A%B8(%EC%A0%84%EC%B2%98%EB%A6%AC).ipynb\" target=\"_parent\"><img src=\"https://colab.research.google.com/assets/colab-badge.svg\" alt=\"Open In Colab\"/></a>"
      ]
    },
    {
      "cell_type": "code",
      "execution_count": 2,
      "metadata": {
        "id": "R7RtqtBDfNVx"
      },
      "outputs": [],
      "source": [
        "import pandas as pd\n",
        "import numpy as np\n",
        "import matplotlib.pyplot as plot\n",
        "import seaborn as sns\n",
        "from sklearn.model_selection import train_test_split"
      ]
    },
    {
      "cell_type": "code",
      "source": [
        "train=pd.read_csv('train.csv')\n",
        "train2=train.copy()\n",
        "test=pd.read_csv('test.csv')\n",
        "submission=pd.read_csv('submission.csv')"
      ],
      "metadata": {
        "id": "GllPmOkrm2ec"
      },
      "execution_count": 5,
      "outputs": []
    },
    {
      "cell_type": "markdown",
      "source": [
        "# **1. 변수 검토 or  추출**\n",
        "- 데이터 검토하기 dtypes, value_counts(), shape, info, describe\n",
        "\n",
        "# **2. 전처리하기**\n",
        "- 이상치 결측처리, 결측치확인\n",
        "- 변수명 바꾸기 rename(columns={:})\n",
        "- 파생변수 만들기 \n",
        "\n",
        "# **3. 변수 간 관계 분석**\n",
        "- 결측치제거, groupby, 평균구하기\n",
        "- 그래프 만들기 countplot barplot"
      ],
      "metadata": {
        "id": "C2hiovHogMZc"
      }
    },
    {
      "cell_type": "code",
      "source": [
        "test.describe()"
      ],
      "metadata": {
        "id": "Kjo0t7yGgMO6"
      },
      "execution_count": null,
      "outputs": []
    },
    {
      "cell_type": "code",
      "source": [
        "train.describe()"
      ],
      "metadata": {
        "id": "6tFaex8ByX1m"
      },
      "execution_count": null,
      "outputs": []
    },
    {
      "cell_type": "code",
      "source": [
        "submission.describe()"
      ],
      "metadata": {
        "id": "GXut4gx-ybWM"
      },
      "execution_count": null,
      "outputs": []
    },
    {
      "cell_type": "markdown",
      "source": [
        "- PassengerId : 탑승객의 고유 아이디\n",
        "- Survival : 생존여부(0: 사망, 1: 생존)\n",
        "- Pclass : 등실의 등급(1: 1등급, 2: 2등급, 3: 3등급)\n",
        "- Name : 이름\n",
        "- Sex : 성별\n",
        "- Age : 나이\n",
        "- Sibsp : 함께 탑승한 형제자매, 아내 남편의 수\n",
        "- Parch: 함께 탑승한 부모, 자식의 수\n",
        "- Ticket: 티켓번호\n",
        "- Fare: 티켓의 요금\n",
        "- Cabin: 객실번호\n",
        "- Embarked: 배에 탑승한 위치(C = Cherbourg, Q = Queenstown, S = Southampton)\n"
      ],
      "metadata": {
        "id": "G3DiN9f6yNus"
      }
    },
    {
      "cell_type": "code",
      "source": [
        "print('train data shape: ', train.shape)\n",
        "print('test data shape: ', test.shape)\n",
        "print('----------[train infomation]----------')\n",
        "print(train.info())\n",
        "print('----------[test infomation]----------')\n",
        "print(test.info())"
      ],
      "metadata": {
        "id": "f9khCyhVw6Qc"
      },
      "execution_count": null,
      "outputs": []
    },
    {
      "cell_type": "code",
      "source": [
        "train['Sex'].value_counts()"
      ],
      "metadata": {
        "id": "BhXN_FbCmZOv"
      },
      "execution_count": null,
      "outputs": []
    },
    {
      "cell_type": "code",
      "source": [
        "train['Sex'] = train['Sex'].replace('male',0)\n",
        "test['Sex'] = test['Sex'].replace('male',0)\n",
        "\n",
        "train['Sex'] = train['Sex'].replace('female',1)\n",
        "test['Sex'] = test['Sex'].replace('female',1)"
      ],
      "metadata": {
        "id": "5maKwoASkdz7"
      },
      "execution_count": null,
      "outputs": []
    },
    {
      "cell_type": "code",
      "source": [
        "train.isnull().sum()"
      ],
      "metadata": {
        "colab": {
          "base_uri": "https://localhost:8080/"
        },
        "id": "kmXfEB4P2zww",
        "outputId": "9e608dc0-5ded-4a54-bfdc-dd107cc198ef"
      },
      "execution_count": null,
      "outputs": [
        {
          "output_type": "execute_result",
          "data": {
            "text/plain": [
              "PassengerId      0\n",
              "Survived         0\n",
              "Pclass           0\n",
              "Name             0\n",
              "Sex              0\n",
              "Age            177\n",
              "SibSp            0\n",
              "Parch            0\n",
              "Ticket           0\n",
              "Fare             0\n",
              "Cabin          687\n",
              "Embarked         2\n",
              "dtype: int64"
            ]
          },
          "metadata": {},
          "execution_count": 4
        }
      ]
    },
    {
      "cell_type": "code",
      "source": [
        "train.corr()"
      ],
      "metadata": {
        "id": "OQsC2mkx15dC"
      },
      "execution_count": null,
      "outputs": []
    },
    {
      "cell_type": "code",
      "source": [
        "# 특정 컬럼과 나머지 컬럼간의 상관계수 계산\n",
        "train2.corrwith(train2['Embarked'])\n",
        "\n",
        "  #결과: Fare와 가장 연관성이 뛰어납니다. 따라서 Fare를 살펴보고 Embarked를 채워보겠습니다."
      ],
      "metadata": {
        "colab": {
          "base_uri": "https://localhost:8080/"
        },
        "id": "Jkyf4H3269O0",
        "outputId": "6d9e98ba-7196-43ce-cf6b-8acd0d96b23f"
      },
      "execution_count": null,
      "outputs": [
        {
          "output_type": "execute_result",
          "data": {
            "text/plain": [
              "PassengerId    0.013166\n",
              "Survived      -0.169718\n",
              "Pclass         0.164681\n",
              "Sex           -0.110320\n",
              "Age            0.081471\n",
              "SibSp          0.068900\n",
              "Parch          0.040449\n",
              "Fare          -0.226311\n",
              "Embarked       1.000000\n",
              "dtype: float64"
            ]
          },
          "metadata": {},
          "execution_count": 65
        }
      ]
    },
    {
      "cell_type": "code",
      "source": [
        "#train['Embarked'] 살펴보기\n",
        "print(train[train['Embarked'].isnull()])\n",
        "print(train[train['Fare'] == 80.0])\n",
        "    #print(train.query('Fare == 80.0'))\n",
        "print('--'*50)\n",
        "\n",
        "print('Pclass가 1일때 \\n',train[train['Pclass']==1]['Embarked'].value_counts())\n",
        "print('Survived가 1일때 \\n',train[train['Survived']==1]['Embarked'].value_counts())\n",
        "print('총\\n',train['Embarked'].value_counts())"
      ],
      "metadata": {
        "colab": {
          "base_uri": "https://localhost:8080/"
        },
        "id": "925FmeDJ8NWV",
        "outputId": "38bd6d4f-98fb-4a4c-c089-a3c8fc9c6a01"
      },
      "execution_count": null,
      "outputs": [
        {
          "output_type": "stream",
          "name": "stdout",
          "text": [
            "     PassengerId  Survived  Pclass                                       Name  \\\n",
            "61            62         1       1                        Icard, Miss. Amelie   \n",
            "829          830         1       1  Stone, Mrs. George Nelson (Martha Evelyn)   \n",
            "\n",
            "     Sex   Age  SibSp  Parch  Ticket  Fare Cabin Embarked  \n",
            "61     1  38.0      0      0  113572  80.0   B28      NaN  \n",
            "829    1  62.0      0      0  113572  80.0   B28      NaN  \n",
            "     PassengerId  Survived  Pclass                                       Name  \\\n",
            "61            62         1       1                        Icard, Miss. Amelie   \n",
            "829          830         1       1  Stone, Mrs. George Nelson (Martha Evelyn)   \n",
            "\n",
            "     Sex   Age  SibSp  Parch  Ticket  Fare Cabin Embarked  \n",
            "61     1  38.0      0      0  113572  80.0   B28      NaN  \n",
            "829    1  62.0      0      0  113572  80.0   B28      NaN  \n",
            "----------------------------------------------------------------------------------------------------\n",
            "Pclass가 1일때 \n",
            " S    127\n",
            "C     85\n",
            "Q      2\n",
            "Name: Embarked, dtype: int64\n",
            "Survived가 1일때 \n",
            " S    217\n",
            "C     93\n",
            "Q     30\n",
            "Name: Embarked, dtype: int64\n",
            "총\n",
            " S    644\n",
            "C    168\n",
            "Q     77\n",
            "Name: Embarked, dtype: int64\n"
          ]
        }
      ]
    },
    {
      "cell_type": "markdown",
      "source": [
        "![image.png](data:image/png;base64,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)"
      ],
      "metadata": {
        "id": "AB3tPg9b-c8T"
      }
    },
    {
      "cell_type": "code",
      "source": [
        "#train['Embarked'] 결측치를 제일많은 S로 채우기\n",
        "train['Embarked'] = train['Embarked'].fillna(\"S\")\n",
        "train.isnull().sum()"
      ],
      "metadata": {
        "colab": {
          "base_uri": "https://localhost:8080/"
        },
        "id": "rbyDNQOT-0Ef",
        "outputId": "9f027864-2ee4-4543-b517-003d50fe7f45"
      },
      "execution_count": null,
      "outputs": [
        {
          "output_type": "execute_result",
          "data": {
            "text/plain": [
              "PassengerId      0\n",
              "Survived         0\n",
              "Pclass           0\n",
              "Name             0\n",
              "Sex              0\n",
              "Age            177\n",
              "SibSp            0\n",
              "Parch            0\n",
              "Ticket           0\n",
              "Fare             0\n",
              "Cabin          687\n",
              "Embarked         0\n",
              "dtype: int64"
            ]
          },
          "metadata": {},
          "execution_count": 36
        }
      ]
    },
    {
      "cell_type": "code",
      "source": [
        "#Fare열과 Pcalss열의 상관관계가 높으므로 Pclass가 3인 행들의 Fare열의 분포를 살펴보겠습니다.\n",
        "Fare = pd.DataFrame(test[test['Pclass']==3]['Fare'].value_counts().nlargest(12))\n",
        "      #nlargest(): 가장 많은 비중을 차지하고 있는 장르를 추출하겠다는 의미\n",
        "      #sort_values(ascending=False).head(12)\n",
        "Fare = Fare.reset_index()\n",
        "Fare\n"
      ],
      "metadata": {
        "colab": {
          "base_uri": "https://localhost:8080/",
          "height": 426
        },
        "id": "j2gbCTQZAzjU",
        "outputId": "b47f8e49-6abb-45cc-fa70-c8c19ef5ef3d"
      },
      "execution_count": null,
      "outputs": [
        {
          "output_type": "execute_result",
          "data": {
            "text/plain": [
              "      index  Fare\n",
              "0    7.7500    21\n",
              "1    8.0500    17\n",
              "2    7.8958    11\n",
              "3    7.7750    10\n",
              "4    7.2292     9\n",
              "5    7.2250     9\n",
              "6    8.6625     8\n",
              "7    7.8542     8\n",
              "8    7.8792     6\n",
              "9    7.2500     5\n",
              "10   7.9250     5\n",
              "11  15.2458     4"
            ],
            "text/html": [
              "\n",
              "  <div id=\"df-889e8a7e-9897-4c9f-bf56-f4ae679d5e9e\">\n",
              "    <div class=\"colab-df-container\">\n",
              "      <div>\n",
              "<style scoped>\n",
              "    .dataframe tbody tr th:only-of-type {\n",
              "        vertical-align: middle;\n",
              "    }\n",
              "\n",
              "    .dataframe tbody tr th {\n",
              "        vertical-align: top;\n",
              "    }\n",
              "\n",
              "    .dataframe thead th {\n",
              "        text-align: right;\n",
              "    }\n",
              "</style>\n",
              "<table border=\"1\" class=\"dataframe\">\n",
              "  <thead>\n",
              "    <tr style=\"text-align: right;\">\n",
              "      <th></th>\n",
              "      <th>index</th>\n",
              "      <th>Fare</th>\n",
              "    </tr>\n",
              "  </thead>\n",
              "  <tbody>\n",
              "    <tr>\n",
              "      <th>0</th>\n",
              "      <td>7.7500</td>\n",
              "      <td>21</td>\n",
              "    </tr>\n",
              "    <tr>\n",
              "      <th>1</th>\n",
              "      <td>8.0500</td>\n",
              "      <td>17</td>\n",
              "    </tr>\n",
              "    <tr>\n",
              "      <th>2</th>\n",
              "      <td>7.8958</td>\n",
              "      <td>11</td>\n",
              "    </tr>\n",
              "    <tr>\n",
              "      <th>3</th>\n",
              "      <td>7.7750</td>\n",
              "      <td>10</td>\n",
              "    </tr>\n",
              "    <tr>\n",
              "      <th>4</th>\n",
              "      <td>7.2292</td>\n",
              "      <td>9</td>\n",
              "    </tr>\n",
              "    <tr>\n",
              "      <th>5</th>\n",
              "      <td>7.2250</td>\n",
              "      <td>9</td>\n",
              "    </tr>\n",
              "    <tr>\n",
              "      <th>6</th>\n",
              "      <td>8.6625</td>\n",
              "      <td>8</td>\n",
              "    </tr>\n",
              "    <tr>\n",
              "      <th>7</th>\n",
              "      <td>7.8542</td>\n",
              "      <td>8</td>\n",
              "    </tr>\n",
              "    <tr>\n",
              "      <th>8</th>\n",
              "      <td>7.8792</td>\n",
              "      <td>6</td>\n",
              "    </tr>\n",
              "    <tr>\n",
              "      <th>9</th>\n",
              "      <td>7.2500</td>\n",
              "      <td>5</td>\n",
              "    </tr>\n",
              "    <tr>\n",
              "      <th>10</th>\n",
              "      <td>7.9250</td>\n",
              "      <td>5</td>\n",
              "    </tr>\n",
              "    <tr>\n",
              "      <th>11</th>\n",
              "      <td>15.2458</td>\n",
              "      <td>4</td>\n",
              "    </tr>\n",
              "  </tbody>\n",
              "</table>\n",
              "</div>\n",
              "      <button class=\"colab-df-convert\" onclick=\"convertToInteractive('df-889e8a7e-9897-4c9f-bf56-f4ae679d5e9e')\"\n",
              "              title=\"Convert this dataframe to an interactive table.\"\n",
              "              style=\"display:none;\">\n",
              "        \n",
              "  <svg xmlns=\"http://www.w3.org/2000/svg\" height=\"24px\"viewBox=\"0 0 24 24\"\n",
              "       width=\"24px\">\n",
              "    <path d=\"M0 0h24v24H0V0z\" fill=\"none\"/>\n",
              "    <path d=\"M18.56 5.44l.94 2.06.94-2.06 2.06-.94-2.06-.94-.94-2.06-.94 2.06-2.06.94zm-11 1L8.5 8.5l.94-2.06 2.06-.94-2.06-.94L8.5 2.5l-.94 2.06-2.06.94zm10 10l.94 2.06.94-2.06 2.06-.94-2.06-.94-.94-2.06-.94 2.06-2.06.94z\"/><path d=\"M17.41 7.96l-1.37-1.37c-.4-.4-.92-.59-1.43-.59-.52 0-1.04.2-1.43.59L10.3 9.45l-7.72 7.72c-.78.78-.78 2.05 0 2.83L4 21.41c.39.39.9.59 1.41.59.51 0 1.02-.2 1.41-.59l7.78-7.78 2.81-2.81c.8-.78.8-2.07 0-2.86zM5.41 20L4 18.59l7.72-7.72 1.47 1.35L5.41 20z\"/>\n",
              "  </svg>\n",
              "      </button>\n",
              "      \n",
              "  <style>\n",
              "    .colab-df-container {\n",
              "      display:flex;\n",
              "      flex-wrap:wrap;\n",
              "      gap: 12px;\n",
              "    }\n",
              "\n",
              "    .colab-df-convert {\n",
              "      background-color: #E8F0FE;\n",
              "      border: none;\n",
              "      border-radius: 50%;\n",
              "      cursor: pointer;\n",
              "      display: none;\n",
              "      fill: #1967D2;\n",
              "      height: 32px;\n",
              "      padding: 0 0 0 0;\n",
              "      width: 32px;\n",
              "    }\n",
              "\n",
              "    .colab-df-convert:hover {\n",
              "      background-color: #E2EBFA;\n",
              "      box-shadow: 0px 1px 2px rgba(60, 64, 67, 0.3), 0px 1px 3px 1px rgba(60, 64, 67, 0.15);\n",
              "      fill: #174EA6;\n",
              "    }\n",
              "\n",
              "    [theme=dark] .colab-df-convert {\n",
              "      background-color: #3B4455;\n",
              "      fill: #D2E3FC;\n",
              "    }\n",
              "\n",
              "    [theme=dark] .colab-df-convert:hover {\n",
              "      background-color: #434B5C;\n",
              "      box-shadow: 0px 1px 3px 1px rgba(0, 0, 0, 0.15);\n",
              "      filter: drop-shadow(0px 1px 2px rgba(0, 0, 0, 0.3));\n",
              "      fill: #FFFFFF;\n",
              "    }\n",
              "  </style>\n",
              "\n",
              "      <script>\n",
              "        const buttonEl =\n",
              "          document.querySelector('#df-889e8a7e-9897-4c9f-bf56-f4ae679d5e9e button.colab-df-convert');\n",
              "        buttonEl.style.display =\n",
              "          google.colab.kernel.accessAllowed ? 'block' : 'none';\n",
              "\n",
              "        async function convertToInteractive(key) {\n",
              "          const element = document.querySelector('#df-889e8a7e-9897-4c9f-bf56-f4ae679d5e9e');\n",
              "          const dataTable =\n",
              "            await google.colab.kernel.invokeFunction('convertToInteractive',\n",
              "                                                     [key], {});\n",
              "          if (!dataTable) return;\n",
              "\n",
              "          const docLinkHtml = 'Like what you see? Visit the ' +\n",
              "            '<a target=\"_blank\" href=https://colab.research.google.com/notebooks/data_table.ipynb>data table notebook</a>'\n",
              "            + ' to learn more about interactive tables.';\n",
              "          element.innerHTML = '';\n",
              "          dataTable['output_type'] = 'display_data';\n",
              "          await google.colab.output.renderOutput(dataTable, element);\n",
              "          const docLink = document.createElement('div');\n",
              "          docLink.innerHTML = docLinkHtml;\n",
              "          element.appendChild(docLink);\n",
              "        }\n",
              "      </script>\n",
              "    </div>\n",
              "  </div>\n",
              "  "
            ]
          },
          "metadata": {},
          "execution_count": 33
        }
      ]
    },
    {
      "cell_type": "code",
      "source": [
        "test=pd.read_csv('test.csv')\n",
        "test.isna().sum()"
      ],
      "metadata": {
        "id": "qM6QbIeGaKm3",
        "outputId": "039b13e5-efb0-4627-c30f-5c23fc61c681",
        "colab": {
          "base_uri": "https://localhost:8080/"
        }
      },
      "execution_count": null,
      "outputs": [
        {
          "output_type": "execute_result",
          "data": {
            "text/plain": [
              "PassengerId      0\n",
              "Pclass           0\n",
              "Name             0\n",
              "Sex              0\n",
              "Age             86\n",
              "SibSp            0\n",
              "Parch            0\n",
              "Ticket           0\n",
              "Fare             1\n",
              "Cabin          327\n",
              "Embarked         0\n",
              "dtype: int64"
            ]
          },
          "metadata": {},
          "execution_count": 45
        }
      ]
    },
    {
      "cell_type": "code",
      "source": [
        "test[test['Fare'].isnull()]"
      ],
      "metadata": {
        "colab": {
          "base_uri": "https://localhost:8080/",
          "height": 81
        },
        "id": "LjyCH9BWAW9k",
        "outputId": "8e759ff2-fb40-41c5-e079-ccddea55977a"
      },
      "execution_count": null,
      "outputs": [
        {
          "output_type": "execute_result",
          "data": {
            "text/plain": [
              "     PassengerId  Pclass                Name   Sex   Age  SibSp  Parch Ticket  \\\n",
              "152         1044       3  Storey, Mr. Thomas  male  60.5      0      0   3701   \n",
              "\n",
              "     Fare Cabin Embarked  \n",
              "152   NaN   NaN        S  "
            ],
            "text/html": [
              "\n",
              "  <div id=\"df-5a5e92f0-ce66-4cb4-bf4b-c4edc7534b38\">\n",
              "    <div class=\"colab-df-container\">\n",
              "      <div>\n",
              "<style scoped>\n",
              "    .dataframe tbody tr th:only-of-type {\n",
              "        vertical-align: middle;\n",
              "    }\n",
              "\n",
              "    .dataframe tbody tr th {\n",
              "        vertical-align: top;\n",
              "    }\n",
              "\n",
              "    .dataframe thead th {\n",
              "        text-align: right;\n",
              "    }\n",
              "</style>\n",
              "<table border=\"1\" class=\"dataframe\">\n",
              "  <thead>\n",
              "    <tr style=\"text-align: right;\">\n",
              "      <th></th>\n",
              "      <th>PassengerId</th>\n",
              "      <th>Pclass</th>\n",
              "      <th>Name</th>\n",
              "      <th>Sex</th>\n",
              "      <th>Age</th>\n",
              "      <th>SibSp</th>\n",
              "      <th>Parch</th>\n",
              "      <th>Ticket</th>\n",
              "      <th>Fare</th>\n",
              "      <th>Cabin</th>\n",
              "      <th>Embarked</th>\n",
              "    </tr>\n",
              "  </thead>\n",
              "  <tbody>\n",
              "    <tr>\n",
              "      <th>152</th>\n",
              "      <td>1044</td>\n",
              "      <td>3</td>\n",
              "      <td>Storey, Mr. Thomas</td>\n",
              "      <td>male</td>\n",
              "      <td>60.5</td>\n",
              "      <td>0</td>\n",
              "      <td>0</td>\n",
              "      <td>3701</td>\n",
              "      <td>NaN</td>\n",
              "      <td>NaN</td>\n",
              "      <td>S</td>\n",
              "    </tr>\n",
              "  </tbody>\n",
              "</table>\n",
              "</div>\n",
              "      <button class=\"colab-df-convert\" onclick=\"convertToInteractive('df-5a5e92f0-ce66-4cb4-bf4b-c4edc7534b38')\"\n",
              "              title=\"Convert this dataframe to an interactive table.\"\n",
              "              style=\"display:none;\">\n",
              "        \n",
              "  <svg xmlns=\"http://www.w3.org/2000/svg\" height=\"24px\"viewBox=\"0 0 24 24\"\n",
              "       width=\"24px\">\n",
              "    <path d=\"M0 0h24v24H0V0z\" fill=\"none\"/>\n",
              "    <path d=\"M18.56 5.44l.94 2.06.94-2.06 2.06-.94-2.06-.94-.94-2.06-.94 2.06-2.06.94zm-11 1L8.5 8.5l.94-2.06 2.06-.94-2.06-.94L8.5 2.5l-.94 2.06-2.06.94zm10 10l.94 2.06.94-2.06 2.06-.94-2.06-.94-.94-2.06-.94 2.06-2.06.94z\"/><path d=\"M17.41 7.96l-1.37-1.37c-.4-.4-.92-.59-1.43-.59-.52 0-1.04.2-1.43.59L10.3 9.45l-7.72 7.72c-.78.78-.78 2.05 0 2.83L4 21.41c.39.39.9.59 1.41.59.51 0 1.02-.2 1.41-.59l7.78-7.78 2.81-2.81c.8-.78.8-2.07 0-2.86zM5.41 20L4 18.59l7.72-7.72 1.47 1.35L5.41 20z\"/>\n",
              "  </svg>\n",
              "      </button>\n",
              "      \n",
              "  <style>\n",
              "    .colab-df-container {\n",
              "      display:flex;\n",
              "      flex-wrap:wrap;\n",
              "      gap: 12px;\n",
              "    }\n",
              "\n",
              "    .colab-df-convert {\n",
              "      background-color: #E8F0FE;\n",
              "      border: none;\n",
              "      border-radius: 50%;\n",
              "      cursor: pointer;\n",
              "      display: none;\n",
              "      fill: #1967D2;\n",
              "      height: 32px;\n",
              "      padding: 0 0 0 0;\n",
              "      width: 32px;\n",
              "    }\n",
              "\n",
              "    .colab-df-convert:hover {\n",
              "      background-color: #E2EBFA;\n",
              "      box-shadow: 0px 1px 2px rgba(60, 64, 67, 0.3), 0px 1px 3px 1px rgba(60, 64, 67, 0.15);\n",
              "      fill: #174EA6;\n",
              "    }\n",
              "\n",
              "    [theme=dark] .colab-df-convert {\n",
              "      background-color: #3B4455;\n",
              "      fill: #D2E3FC;\n",
              "    }\n",
              "\n",
              "    [theme=dark] .colab-df-convert:hover {\n",
              "      background-color: #434B5C;\n",
              "      box-shadow: 0px 1px 3px 1px rgba(0, 0, 0, 0.15);\n",
              "      filter: drop-shadow(0px 1px 2px rgba(0, 0, 0, 0.3));\n",
              "      fill: #FFFFFF;\n",
              "    }\n",
              "  </style>\n",
              "\n",
              "      <script>\n",
              "        const buttonEl =\n",
              "          document.querySelector('#df-5a5e92f0-ce66-4cb4-bf4b-c4edc7534b38 button.colab-df-convert');\n",
              "        buttonEl.style.display =\n",
              "          google.colab.kernel.accessAllowed ? 'block' : 'none';\n",
              "\n",
              "        async function convertToInteractive(key) {\n",
              "          const element = document.querySelector('#df-5a5e92f0-ce66-4cb4-bf4b-c4edc7534b38');\n",
              "          const dataTable =\n",
              "            await google.colab.kernel.invokeFunction('convertToInteractive',\n",
              "                                                     [key], {});\n",
              "          if (!dataTable) return;\n",
              "\n",
              "          const docLinkHtml = 'Like what you see? Visit the ' +\n",
              "            '<a target=\"_blank\" href=https://colab.research.google.com/notebooks/data_table.ipynb>data table notebook</a>'\n",
              "            + ' to learn more about interactive tables.';\n",
              "          element.innerHTML = '';\n",
              "          dataTable['output_type'] = 'display_data';\n",
              "          await google.colab.output.renderOutput(dataTable, element);\n",
              "          const docLink = document.createElement('div');\n",
              "          docLink.innerHTML = docLinkHtml;\n",
              "          element.appendChild(docLink);\n",
              "        }\n",
              "      </script>\n",
              "    </div>\n",
              "  </div>\n",
              "  "
            ]
          },
          "metadata": {},
          "execution_count": 46
        }
      ]
    },
    {
      "cell_type": "code",
      "source": [
        "#조건에 맞은 Fare 값들이 특출난 값이 없기 때문에 평균값을 채워 넣어줍니다.\n",
        "test['Fare'] = test['Fare'].fillna(\"7.753825\")\n",
        "test.isnull().sum()"
      ],
      "metadata": {
        "colab": {
          "base_uri": "https://localhost:8080/"
        },
        "id": "42sk3Un-Cs1W",
        "outputId": "3d287c6d-c6c2-4e8a-da91-063850b4878a"
      },
      "execution_count": null,
      "outputs": [
        {
          "output_type": "execute_result",
          "data": {
            "text/plain": [
              "PassengerId      0\n",
              "Pclass           0\n",
              "Name             0\n",
              "Sex              0\n",
              "Age             86\n",
              "SibSp            0\n",
              "Parch            0\n",
              "Ticket           0\n",
              "Fare             0\n",
              "Cabin          327\n",
              "Embarked         0\n",
              "dtype: int64"
            ]
          },
          "metadata": {},
          "execution_count": 41
        }
      ]
    },
    {
      "cell_type": "code",
      "source": [
        "#Age는 없는 컬럼을 삭제해줍니다.\n",
        "train2['Age'] = train['Age'].replace(np.nan,0)\n",
        "\n",
        "#Cabin은 독립 변수로 안 쓸 거라서 별다른 전처리를 하지 않을 것입니다.\n",
        "\n",
        "#Embarked는 S,C,Q를 범주형으로 변환하려고 합니다\n",
        "train2 = train.dropna(subset=['Embarked'])\n",
        "train2['Embarked']=np.where(train2['Embarked']=='C', 0, \\\n",
        "                           np.where(train2['Embarked']=='Q', 1, 2))\n",
        "\n",
        "\n",
        "train2['Embarked']=train2['Embarked'].astype(int)\n",
        "train2.info()\n",
        "train2['Embarked'].value_counts()"
      ],
      "metadata": {
        "id": "K2ZCv51i235U",
        "outputId": "ed6e717f-3b5e-46cc-8ec5-3584aee0edf9",
        "colab": {
          "base_uri": "https://localhost:8080/"
        }
      },
      "execution_count": null,
      "outputs": [
        {
          "output_type": "stream",
          "name": "stdout",
          "text": [
            "<class 'pandas.core.frame.DataFrame'>\n",
            "Int64Index: 891 entries, 0 to 890\n",
            "Data columns (total 12 columns):\n",
            " #   Column       Non-Null Count  Dtype  \n",
            "---  ------       --------------  -----  \n",
            " 0   PassengerId  891 non-null    int64  \n",
            " 1   Survived     891 non-null    int64  \n",
            " 2   Pclass       891 non-null    int64  \n",
            " 3   Name         891 non-null    object \n",
            " 4   Sex          891 non-null    int64  \n",
            " 5   Age          714 non-null    float64\n",
            " 6   SibSp        891 non-null    int64  \n",
            " 7   Parch        891 non-null    int64  \n",
            " 8   Ticket       891 non-null    object \n",
            " 9   Fare         891 non-null    float64\n",
            " 10  Cabin        204 non-null    object \n",
            " 11  Embarked     891 non-null    int64  \n",
            "dtypes: float64(2), int64(7), object(3)\n",
            "memory usage: 90.5+ KB\n"
          ]
        },
        {
          "output_type": "execute_result",
          "data": {
            "text/plain": [
              "2    646\n",
              "0    168\n",
              "1     77\n",
              "Name: Embarked, dtype: int64"
            ]
          },
          "metadata": {},
          "execution_count": 42
        }
      ]
    },
    {
      "cell_type": "code",
      "source": [
        "train2.isna().sum()"
      ],
      "metadata": {
        "id": "4uMmVhfxYGjR",
        "outputId": "1f4871fa-5bde-4ca6-c53f-ca45ebb80d95",
        "colab": {
          "base_uri": "https://localhost:8080/"
        }
      },
      "execution_count": null,
      "outputs": [
        {
          "output_type": "execute_result",
          "data": {
            "text/plain": [
              "PassengerId      0\n",
              "Survived         0\n",
              "Pclass           0\n",
              "Name             0\n",
              "Sex              0\n",
              "Age            177\n",
              "SibSp            0\n",
              "Parch            0\n",
              "Ticket           0\n",
              "Fare             0\n",
              "Cabin          687\n",
              "Embarked         0\n",
              "dtype: int64"
            ]
          },
          "metadata": {},
          "execution_count": 44
        }
      ]
    },
    {
      "cell_type": "markdown",
      "source": [
        "# **정규화와 표준화**\n",
        "- 정규화 : -1 ~ 1 사이의 값으로 변환\n",
        "- 표준화 : 평균이 0이고 표준편차가 1인 값으로 변환"
      ],
      "metadata": {
        "id": "IdzTRlcFbq17"
      }
    },
    {
      "cell_type": "code",
      "source": [
        "#정규화\n",
        "def normalize(x):\n",
        "  return (x-x.min())/(x.max()-x.min())"
      ],
      "metadata": {
        "id": "-YqHZ6nYbxBj"
      },
      "execution_count": null,
      "outputs": []
    },
    {
      "cell_type": "code",
      "source": [
        "#표준화\n",
        "def standardscaler(x):\n",
        "  return (x-x.mean())/x.std()\n",
        "\n",
        "  #정규화와 표준화 같은 경우 패키지로도 잘 나와있기 때문에 위처럼 정의를 해도 되고, 패키지를 써도 됩니다. \n",
        "  #따라서 패키지를 이용하여 바꾸어주겠습니다."
      ],
      "metadata": {
        "id": "9o-_zRU1bzNP"
      },
      "execution_count": null,
      "outputs": []
    },
    {
      "cell_type": "markdown",
      "source": [
        "< sklearn StandardScaler method >\n",
        "\n",
        "- StandardScaler.fit()                 :  평균 𝜇과  표준편차 𝜎를 계산\n",
        "- StandardScaler.transform()    : 정규화/표준화, Standardization, z = (𝑥-𝜇)/𝜎\n",
        "- StandardScaler.fit_trasform() : fit() + transform()\n"
      ],
      "metadata": {
        "id": "aQvFILns1krU"
      }
    },
    {
      "cell_type": "code",
      "source": [
        "from sklearn.preprocessing import StandardScaler\n",
        "\n",
        "ss = StandardScaler()\n",
        "ss.fit(train[['Fare']])\n",
        "    # StandardScaler.fit(train[['Fare']]) :   평균과 표준편차"
      ],
      "metadata": {
        "id": "YY5-v1LDcfau",
        "outputId": "4376769e-a1a8-4e2c-a902-ace0a911013b",
        "colab": {
          "base_uri": "https://localhost:8080/",
          "height": 75
        }
      },
      "execution_count": 10,
      "outputs": [
        {
          "output_type": "execute_result",
          "data": {
            "text/plain": [
              "StandardScaler()"
            ],
            "text/html": [
              "<style>#sk-container-id-2 {color: black;background-color: white;}#sk-container-id-2 pre{padding: 0;}#sk-container-id-2 div.sk-toggleable {background-color: white;}#sk-container-id-2 label.sk-toggleable__label {cursor: pointer;display: block;width: 100%;margin-bottom: 0;padding: 0.3em;box-sizing: border-box;text-align: center;}#sk-container-id-2 label.sk-toggleable__label-arrow:before {content: \"▸\";float: left;margin-right: 0.25em;color: #696969;}#sk-container-id-2 label.sk-toggleable__label-arrow:hover:before {color: black;}#sk-container-id-2 div.sk-estimator:hover label.sk-toggleable__label-arrow:before {color: black;}#sk-container-id-2 div.sk-toggleable__content {max-height: 0;max-width: 0;overflow: hidden;text-align: left;background-color: #f0f8ff;}#sk-container-id-2 div.sk-toggleable__content pre {margin: 0.2em;color: black;border-radius: 0.25em;background-color: #f0f8ff;}#sk-container-id-2 input.sk-toggleable__control:checked~div.sk-toggleable__content {max-height: 200px;max-width: 100%;overflow: auto;}#sk-container-id-2 input.sk-toggleable__control:checked~label.sk-toggleable__label-arrow:before {content: \"▾\";}#sk-container-id-2 div.sk-estimator input.sk-toggleable__control:checked~label.sk-toggleable__label {background-color: #d4ebff;}#sk-container-id-2 div.sk-label input.sk-toggleable__control:checked~label.sk-toggleable__label {background-color: #d4ebff;}#sk-container-id-2 input.sk-hidden--visually {border: 0;clip: rect(1px 1px 1px 1px);clip: rect(1px, 1px, 1px, 1px);height: 1px;margin: -1px;overflow: hidden;padding: 0;position: absolute;width: 1px;}#sk-container-id-2 div.sk-estimator {font-family: monospace;background-color: #f0f8ff;border: 1px dotted black;border-radius: 0.25em;box-sizing: border-box;margin-bottom: 0.5em;}#sk-container-id-2 div.sk-estimator:hover {background-color: #d4ebff;}#sk-container-id-2 div.sk-parallel-item::after {content: \"\";width: 100%;border-bottom: 1px solid gray;flex-grow: 1;}#sk-container-id-2 div.sk-label:hover label.sk-toggleable__label {background-color: #d4ebff;}#sk-container-id-2 div.sk-serial::before {content: \"\";position: absolute;border-left: 1px solid gray;box-sizing: border-box;top: 0;bottom: 0;left: 50%;z-index: 0;}#sk-container-id-2 div.sk-serial {display: flex;flex-direction: column;align-items: center;background-color: white;padding-right: 0.2em;padding-left: 0.2em;position: relative;}#sk-container-id-2 div.sk-item {position: relative;z-index: 1;}#sk-container-id-2 div.sk-parallel {display: flex;align-items: stretch;justify-content: center;background-color: white;position: relative;}#sk-container-id-2 div.sk-item::before, #sk-container-id-2 div.sk-parallel-item::before {content: \"\";position: absolute;border-left: 1px solid gray;box-sizing: border-box;top: 0;bottom: 0;left: 50%;z-index: -1;}#sk-container-id-2 div.sk-parallel-item {display: flex;flex-direction: column;z-index: 1;position: relative;background-color: white;}#sk-container-id-2 div.sk-parallel-item:first-child::after {align-self: flex-end;width: 50%;}#sk-container-id-2 div.sk-parallel-item:last-child::after {align-self: flex-start;width: 50%;}#sk-container-id-2 div.sk-parallel-item:only-child::after {width: 0;}#sk-container-id-2 div.sk-dashed-wrapped {border: 1px dashed gray;margin: 0 0.4em 0.5em 0.4em;box-sizing: border-box;padding-bottom: 0.4em;background-color: white;}#sk-container-id-2 div.sk-label label {font-family: monospace;font-weight: bold;display: inline-block;line-height: 1.2em;}#sk-container-id-2 div.sk-label-container {text-align: center;}#sk-container-id-2 div.sk-container {/* jupyter's `normalize.less` sets `[hidden] { display: none; }` but bootstrap.min.css set `[hidden] { display: none !important; }` so we also need the `!important` here to be able to override the default hidden behavior on the sphinx rendered scikit-learn.org. See: https://github.com/scikit-learn/scikit-learn/issues/21755 */display: inline-block !important;position: relative;}#sk-container-id-2 div.sk-text-repr-fallback {display: none;}</style><div id=\"sk-container-id-2\" class=\"sk-top-container\"><div class=\"sk-text-repr-fallback\"><pre>StandardScaler()</pre><b>In a Jupyter environment, please rerun this cell to show the HTML representation or trust the notebook. <br />On GitHub, the HTML representation is unable to render, please try loading this page with nbviewer.org.</b></div><div class=\"sk-container\" hidden><div class=\"sk-item\"><div class=\"sk-estimator sk-toggleable\"><input class=\"sk-toggleable__control sk-hidden--visually\" id=\"sk-estimator-id-2\" type=\"checkbox\" checked><label for=\"sk-estimator-id-2\" class=\"sk-toggleable__label sk-toggleable__label-arrow\">StandardScaler</label><div class=\"sk-toggleable__content\"><pre>StandardScaler()</pre></div></div></div></div></div>"
            ]
          },
          "metadata": {},
          "execution_count": 10
        }
      ]
    },
    {
      "cell_type": "code",
      "source": [
        "train_fare = ss.transform(train[['Fare']])\n",
        "test_fare = ss.transform(test[['Fare']])\n",
        "    # StandardScaler.transform(test[['Fare']]) :  정규와 표준화"
      ],
      "metadata": {
        "id": "J3ALwtNA7OAb"
      },
      "execution_count": 8,
      "outputs": []
    },
    {
      "cell_type": "code",
      "source": [
        "train['Fare2'] = train_fare\n",
        "test['Fare2'] = test_fare"
      ],
      "metadata": {
        "id": "AODVnlOdchRR"
      },
      "execution_count": 9,
      "outputs": []
    },
    {
      "cell_type": "code",
      "source": [
        "train.head(3)"
      ],
      "metadata": {
        "id": "r_DITb6Nc3Al"
      },
      "execution_count": null,
      "outputs": []
    },
    {
      "cell_type": "code",
      "source": [
        "#독립변수\n",
        "data = train[['Pclass','Sex','SibSp','Parch','Embarked','Fare2','Survived']]"
      ],
      "metadata": {
        "id": "WxKCuX7tf39m"
      },
      "execution_count": null,
      "outputs": []
    },
    {
      "cell_type": "markdown",
      "source": [
        "- 독립 변수 : 'Pclass', 'Sex',' SibSp', 'Parch', 'Embarked', 'Fare2'\n",
        "- 종속 변수 : 'Survived\n",
        "\n",
        " 영향을 받는 변수를 **종속변수**라 하고, 반대로 영향을 주는 변수를 **독립변수** 또는 설명변수라고 한다. 상품의 가격과 수요의 관계에서 상품가격이 수요에 영향을 미치는 것이라 본다면 상품의 가격은 독립변수가 되며, 상품의 수요는 종속변수가 된다."
      ],
      "metadata": {
        "id": "QmJse6vcy88w"
      }
    }
  ]
}